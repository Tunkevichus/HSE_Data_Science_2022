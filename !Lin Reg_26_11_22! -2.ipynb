{
 "cells": [
  {
   "cell_type": "markdown",
   "id": "98eee5c0",
   "metadata": {},
   "source": [
    "# Линейная регрессия"
   ]
  },
  {
   "cell_type": "code",
   "execution_count": 1,
   "id": "346ce9ed",
   "metadata": {},
   "outputs": [],
   "source": [
    "import numpy as np"
   ]
  },
  {
   "cell_type": "markdown",
   "id": "8a83ab9d",
   "metadata": {},
   "source": [
    "X - площадь дома, Y - цена"
   ]
  },
  {
   "cell_type": "code",
   "execution_count": 2,
   "id": "b972d8f4",
   "metadata": {},
   "outputs": [
    {
     "data": {
      "text/plain": [
       "array([ 50,  60,  70, 100])"
      ]
     },
     "execution_count": 2,
     "metadata": {},
     "output_type": "execute_result"
    }
   ],
   "source": [
    "X = np.array([50, 60,70, 100])\n",
    "X"
   ]
  },
  {
   "cell_type": "code",
   "execution_count": 3,
   "id": "bd1de1e1",
   "metadata": {},
   "outputs": [
    {
     "data": {
      "text/plain": [
       "array([10, 30, 40, 50])"
      ]
     },
     "execution_count": 3,
     "metadata": {},
     "output_type": "execute_result"
    }
   ],
   "source": [
    "Y = np.array([10, 30, 40, 50])\n",
    "Y"
   ]
  },
  {
   "cell_type": "code",
   "execution_count": 4,
   "id": "46d79ffb",
   "metadata": {},
   "outputs": [],
   "source": [
    "from matplotlib import pyplot as plt\n"
   ]
  },
  {
   "cell_type": "code",
   "execution_count": 5,
   "id": "bbeb0e3c",
   "metadata": {
    "scrolled": true
   },
   "outputs": [
    {
     "data": {
      "text/plain": [
       "<matplotlib.collections.PathCollection at 0x207270f0eb0>"
      ]
     },
     "execution_count": 5,
     "metadata": {},
     "output_type": "execute_result"
    },
    {
     "data": {
      "image/png": "[encoded data removed]",
      "text/plain": [
       "<Figure size 432x288 with 1 Axes>"
      ]
     },
     "metadata": {
      "needs_background": "light"
     },
     "output_type": "display_data"
    }
   ],
   "source": [
    "plt.scatter(X, Y, 40,'g', 'x', alpha = 0.8)"
   ]
  },
  {
   "cell_type": "markdown",
   "id": "4ed6663f",
   "metadata": {},
   "source": [
    "y = 0.714x - 17.5"
   ]
  },
  {
   "cell_type": "code",
   "execution_count": 6,
   "id": "103da5d4",
   "metadata": {},
   "outputs": [],
   "source": [
    "from scipy import stats\n",
    "import statsmodels.api as sm"
   ]
  },
  {
   "cell_type": "code",
   "execution_count": 7,
   "id": "56b16cb4",
   "metadata": {
    "scrolled": false
   },
   "outputs": [
    {
     "name": "stdout",
     "output_type": "stream",
     "text": [
      "                            OLS Regression Results                            \n",
      "==============================================================================\n",
      "Dep. Variable:                      y   R-squared:                       0.816\n",
      "Model:                            OLS   Adj. R-squared:                  0.724\n",
      "Method:                 Least Squares   F-statistic:                     8.889\n",
      "Date:                Fri, 25 Nov 2022   Prob (F-statistic):             0.0965\n",
      "Time:                        14:40:04   Log-Likelihood:                -13.062\n",
      "No. Observations:                   4   AIC:                             30.12\n",
      "Df Residuals:                       2   BIC:                             28.90\n",
      "Df Model:                           1                                         \n",
      "Covariance Type:            nonrobust                                         \n",
      "==============================================================================\n",
      "                 coef    std err          t      P>|t|      [0.025      0.975]\n",
      "------------------------------------------------------------------------------\n",
      "const        -17.5000     17.359     -1.008      0.420     -92.190      57.190\n",
      "x1             0.7143      0.240      2.981      0.096      -0.317       1.745\n",
      "==============================================================================\n",
      "Omnibus:                          nan   Durbin-Watson:                   1.892\n",
      "Prob(Omnibus):                    nan   Jarque-Bera (JB):                0.485\n",
      "Skew:                          -0.091   Prob(JB):                        0.785\n",
      "Kurtosis:                       1.304   Cond. No.                         281.\n",
      "==============================================================================\n",
      "\n",
      "Notes:\n",
      "[1] Standard Errors assume that the covariance matrix of the errors is correctly specified.\n"
     ]
    },
    {
     "name": "stderr",
     "output_type": "stream",
     "text": [
      "C:\\ProgramData\\Anaconda3\\lib\\site-packages\\statsmodels\\stats\\stattools.py:74: ValueWarning: omni_normtest is not valid with less than 8 observations; 4 samples were given.\n",
      "  warn(\"omni_normtest is not valid with less than 8 observations; %i \"\n"
     ]
    }
   ],
   "source": [
    "X_constant = sm.add_constant(X) #тривиальная переменная (для расчета intercept)\n",
    "mod = sm.OLS(Y, X_constant).fit()\n",
    "print(mod.summary())"
   ]
  },
  {
   "cell_type": "code",
   "execution_count": 8,
   "id": "e768852b",
   "metadata": {},
   "outputs": [],
   "source": [
    "from matplotlib import pyplot as plt\n",
    "import numpy as np"
   ]
  },
  {
   "cell_type": "code",
   "execution_count": 9,
   "id": "7747de2d",
   "metadata": {},
   "outputs": [
    {
     "data": {
      "text/plain": [
       "array([-17.5       ,   0.71428571])"
      ]
     },
     "execution_count": 9,
     "metadata": {},
     "output_type": "execute_result"
    }
   ],
   "source": [
    "mod.params"
   ]
  },
  {
   "cell_type": "code",
   "execution_count": 10,
   "id": "1e2d2b1d",
   "metadata": {},
   "outputs": [
    {
     "data": {
      "text/plain": [
       "[<matplotlib.lines.Line2D at 0x2072b336d00>]"
      ]
     },
     "execution_count": 10,
     "metadata": {},
     "output_type": "execute_result"
    },
    {
     "data": {
      "image/png": "[encoded data removed]",
      "text/plain": [
       "<Figure size 432x288 with 1 Axes>"
      ]
     },
     "metadata": {
      "needs_background": "light"
     },
     "output_type": "display_data"
    }
   ],
   "source": [
    "# задаем границы координатных осей\n",
    "margin = 10\n",
    "X_min = X.min() - margin\n",
    "X_max = X.max() + margin\n",
    "\n",
    "X_support = np.linspace(X_min, X_max, num = 10)\n",
    "\n",
    "# Предсказания модели\n",
    "Y_model = mod.params[1] * X_support + mod.params[0]\n",
    "# настройка графика\n",
    "plt.xlim(X_min, X_max)\n",
    "plt.ylim(0, Y.max() + margin)\n",
    "\n",
    "# рисуем исходные точки\n",
    "plt.scatter(X, Y, 40, 'g', 'o', alpha = 0.8)\n",
    "\n",
    "# предсказания модели\n",
    "plt.plot(X_support, Y_model)"
   ]
  },
  {
   "cell_type": "markdown",
   "id": "ca356bdd",
   "metadata": {},
   "source": [
    "# Задание_1\n",
    "Посчитайте предсказание и визуализируйте наборы точек \\\n",
    "х_task = [50, 60, 70, 100]\\\n",
    "y_task = [10, 15, 40, 45]"
   ]
  },
  {
   "cell_type": "markdown",
   "id": "4b395579",
   "metadata": {},
   "source": [
    "### Многомерный случай линейной регрессии"
   ]
  },
  {
   "cell_type": "markdown",
   "id": "15811f9b",
   "metadata": {},
   "source": [
    "Как понять, что модель хорошо обучилась?\\\n",
    "Надо ввести метрику качества модели. Модель обучается, когда растет метрика качества. \\\n",
    "Чем меньше значение функции потерь, тем выше качество модели.\n"
   ]
  },
  {
   "cell_type": "code",
   "execution_count": 11,
   "id": "stretch-synthetic",
   "metadata": {},
   "outputs": [],
   "source": [
    "import pandas as pd"
   ]
  },
  {
   "cell_type": "code",
   "execution_count": 12,
   "id": "55c97c37",
   "metadata": {},
   "outputs": [
    {
     "name": "stderr",
     "output_type": "stream",
     "text": [
      "C:\\ProgramData\\Anaconda3\\lib\\site-packages\\sklearn\\utils\\deprecation.py:87: FutureWarning: Function load_boston is deprecated; `load_boston` is deprecated in 1.0 and will be removed in 1.2.\n",
      "\n",
      "    The Boston housing prices dataset has an ethical problem. You can refer to\n",
      "    the documentation of this function for further details.\n",
      "\n",
      "    The scikit-learn maintainers therefore strongly discourage the use of this\n",
      "    dataset unless the purpose of the code is to study and educate about\n",
      "    ethical issues in data science and machine learning.\n",
      "\n",
      "    In this special case, you can fetch the dataset from the original\n",
      "    source::\n",
      "\n",
      "        import pandas as pd\n",
      "        import numpy as np\n",
      "\n",
      "\n",
      "        data_url = \"http://lib.stat.cmu.edu/datasets/boston\"\n",
      "        raw_df = pd.read_csv(data_url, sep=\"\\s+\", skiprows=22, header=None)\n",
      "        data = np.hstack([raw_df.values[::2, :], raw_df.values[1::2, :2]])\n",
      "        target = raw_df.values[1::2, 2]\n",
      "\n",
      "    Alternative datasets include the California housing dataset (i.e.\n",
      "    :func:`~sklearn.datasets.fetch_california_housing`) and the Ames housing\n",
      "    dataset. You can load the datasets as follows::\n",
      "\n",
      "        from sklearn.datasets import fetch_california_housing\n",
      "        housing = fetch_california_housing()\n",
      "\n",
      "    for the California housing dataset and::\n",
      "\n",
      "        from sklearn.datasets import fetch_openml\n",
      "        housing = fetch_openml(name=\"house_prices\", as_frame=True)\n",
      "\n",
      "    for the Ames housing dataset.\n",
      "    \n",
      "  warnings.warn(msg, category=FutureWarning)\n"
     ]
    },
    {
     "data": {
      "text/html": [
       "<div>\n",
       "<style scoped>\n",
       "    .dataframe tbody tr th:only-of-type {\n",
       "        vertical-align: middle;\n",
       "    }\n",
       "\n",
       "    .dataframe tbody tr th {\n",
       "        vertical-align: top;\n",
       "    }\n",
       "\n",
       "    .dataframe thead th {\n",
       "        text-align: right;\n",
       "    }\n",
       "</style>\n",
       "<table border=\"1\" class=\"dataframe\">\n",
       "  <thead>\n",
       "    <tr style=\"text-align: right;\">\n",
       "      <th></th>\n",
       "      <th>0</th>\n",
       "      <th>1</th>\n",
       "      <th>2</th>\n",
       "      <th>3</th>\n",
       "      <th>4</th>\n",
       "      <th>5</th>\n",
       "      <th>6</th>\n",
       "      <th>7</th>\n",
       "      <th>8</th>\n",
       "      <th>9</th>\n",
       "      <th>10</th>\n",
       "      <th>11</th>\n",
       "      <th>12</th>\n",
       "    </tr>\n",
       "  </thead>\n",
       "  <tbody>\n",
       "    <tr>\n",
       "      <th>0</th>\n",
       "      <td>0.00632</td>\n",
       "      <td>18.0</td>\n",
       "      <td>2.31</td>\n",
       "      <td>0.0</td>\n",
       "      <td>0.538</td>\n",
       "      <td>6.575</td>\n",
       "      <td>65.2</td>\n",
       "      <td>4.0900</td>\n",
       "      <td>1.0</td>\n",
       "      <td>296.0</td>\n",
       "      <td>15.3</td>\n",
       "      <td>396.90</td>\n",
       "      <td>4.98</td>\n",
       "    </tr>\n",
       "    <tr>\n",
       "      <th>1</th>\n",
       "      <td>0.02731</td>\n",
       "      <td>0.0</td>\n",
       "      <td>7.07</td>\n",
       "      <td>0.0</td>\n",
       "      <td>0.469</td>\n",
       "      <td>6.421</td>\n",
       "      <td>78.9</td>\n",
       "      <td>4.9671</td>\n",
       "      <td>2.0</td>\n",
       "      <td>242.0</td>\n",
       "      <td>17.8</td>\n",
       "      <td>396.90</td>\n",
       "      <td>9.14</td>\n",
       "    </tr>\n",
       "    <tr>\n",
       "      <th>2</th>\n",
       "      <td>0.02729</td>\n",
       "      <td>0.0</td>\n",
       "      <td>7.07</td>\n",
       "      <td>0.0</td>\n",
       "      <td>0.469</td>\n",
       "      <td>7.185</td>\n",
       "      <td>61.1</td>\n",
       "      <td>4.9671</td>\n",
       "      <td>2.0</td>\n",
       "      <td>242.0</td>\n",
       "      <td>17.8</td>\n",
       "      <td>392.83</td>\n",
       "      <td>4.03</td>\n",
       "    </tr>\n",
       "    <tr>\n",
       "      <th>3</th>\n",
       "      <td>0.03237</td>\n",
       "      <td>0.0</td>\n",
       "      <td>2.18</td>\n",
       "      <td>0.0</td>\n",
       "      <td>0.458</td>\n",
       "      <td>6.998</td>\n",
       "      <td>45.8</td>\n",
       "      <td>6.0622</td>\n",
       "      <td>3.0</td>\n",
       "      <td>222.0</td>\n",
       "      <td>18.7</td>\n",
       "      <td>394.63</td>\n",
       "      <td>2.94</td>\n",
       "    </tr>\n",
       "    <tr>\n",
       "      <th>4</th>\n",
       "      <td>0.06905</td>\n",
       "      <td>0.0</td>\n",
       "      <td>2.18</td>\n",
       "      <td>0.0</td>\n",
       "      <td>0.458</td>\n",
       "      <td>7.147</td>\n",
       "      <td>54.2</td>\n",
       "      <td>6.0622</td>\n",
       "      <td>3.0</td>\n",
       "      <td>222.0</td>\n",
       "      <td>18.7</td>\n",
       "      <td>396.90</td>\n",
       "      <td>5.33</td>\n",
       "    </tr>\n",
       "  </tbody>\n",
       "</table>\n",
       "</div>"
      ],
      "text/plain": [
       "        0     1     2    3      4      5     6       7    8      9     10  \\\n",
       "0  0.00632  18.0  2.31  0.0  0.538  6.575  65.2  4.0900  1.0  296.0  15.3   \n",
       "1  0.02731   0.0  7.07  0.0  0.469  6.421  78.9  4.9671  2.0  242.0  17.8   \n",
       "2  0.02729   0.0  7.07  0.0  0.469  7.185  61.1  4.9671  2.0  242.0  17.8   \n",
       "3  0.03237   0.0  2.18  0.0  0.458  6.998  45.8  6.0622  3.0  222.0  18.7   \n",
       "4  0.06905   0.0  2.18  0.0  0.458  7.147  54.2  6.0622  3.0  222.0  18.7   \n",
       "\n",
       "       11    12  \n",
       "0  396.90  4.98  \n",
       "1  396.90  9.14  \n",
       "2  392.83  4.03  \n",
       "3  394.63  2.94  \n",
       "4  396.90  5.33  "
      ]
     },
     "execution_count": 12,
     "metadata": {},
     "output_type": "execute_result"
    }
   ],
   "source": [
    "from sklearn.datasets import load_boston\n",
    "boston = load_boston()\n",
    "df_boston = pd.DataFrame(boston.data)\n",
    "df_boston.head()\n"
   ]
  },
  {
   "cell_type": "code",
   "execution_count": 13,
   "id": "123d9c02",
   "metadata": {},
   "outputs": [
    {
     "data": {
      "text/html": [
       "<div>\n",
       "<style scoped>\n",
       "    .dataframe tbody tr th:only-of-type {\n",
       "        vertical-align: middle;\n",
       "    }\n",
       "\n",
       "    .dataframe tbody tr th {\n",
       "        vertical-align: top;\n",
       "    }\n",
       "\n",
       "    .dataframe thead th {\n",
       "        text-align: right;\n",
       "    }\n",
       "</style>\n",
       "<table border=\"1\" class=\"dataframe\">\n",
       "  <thead>\n",
       "    <tr style=\"text-align: right;\">\n",
       "      <th></th>\n",
       "      <th>CRIM</th>\n",
       "      <th>ZN</th>\n",
       "      <th>INDUS</th>\n",
       "      <th>CHAS</th>\n",
       "      <th>NOX</th>\n",
       "      <th>RM</th>\n",
       "      <th>AGE</th>\n",
       "      <th>DIS</th>\n",
       "      <th>RAD</th>\n",
       "      <th>TAX</th>\n",
       "      <th>PTRATIO</th>\n",
       "      <th>B</th>\n",
       "      <th>LSTAT</th>\n",
       "      <th>PRICE</th>\n",
       "    </tr>\n",
       "  </thead>\n",
       "  <tbody>\n",
       "    <tr>\n",
       "      <th>0</th>\n",
       "      <td>0.00632</td>\n",
       "      <td>18.0</td>\n",
       "      <td>2.31</td>\n",
       "      <td>0.0</td>\n",
       "      <td>0.538</td>\n",
       "      <td>6.575</td>\n",
       "      <td>65.2</td>\n",
       "      <td>4.0900</td>\n",
       "      <td>1.0</td>\n",
       "      <td>296.0</td>\n",
       "      <td>15.3</td>\n",
       "      <td>396.90</td>\n",
       "      <td>4.98</td>\n",
       "      <td>24.0</td>\n",
       "    </tr>\n",
       "    <tr>\n",
       "      <th>1</th>\n",
       "      <td>0.02731</td>\n",
       "      <td>0.0</td>\n",
       "      <td>7.07</td>\n",
       "      <td>0.0</td>\n",
       "      <td>0.469</td>\n",
       "      <td>6.421</td>\n",
       "      <td>78.9</td>\n",
       "      <td>4.9671</td>\n",
       "      <td>2.0</td>\n",
       "      <td>242.0</td>\n",
       "      <td>17.8</td>\n",
       "      <td>396.90</td>\n",
       "      <td>9.14</td>\n",
       "      <td>21.6</td>\n",
       "    </tr>\n",
       "    <tr>\n",
       "      <th>2</th>\n",
       "      <td>0.02729</td>\n",
       "      <td>0.0</td>\n",
       "      <td>7.07</td>\n",
       "      <td>0.0</td>\n",
       "      <td>0.469</td>\n",
       "      <td>7.185</td>\n",
       "      <td>61.1</td>\n",
       "      <td>4.9671</td>\n",
       "      <td>2.0</td>\n",
       "      <td>242.0</td>\n",
       "      <td>17.8</td>\n",
       "      <td>392.83</td>\n",
       "      <td>4.03</td>\n",
       "      <td>34.7</td>\n",
       "    </tr>\n",
       "    <tr>\n",
       "      <th>3</th>\n",
       "      <td>0.03237</td>\n",
       "      <td>0.0</td>\n",
       "      <td>2.18</td>\n",
       "      <td>0.0</td>\n",
       "      <td>0.458</td>\n",
       "      <td>6.998</td>\n",
       "      <td>45.8</td>\n",
       "      <td>6.0622</td>\n",
       "      <td>3.0</td>\n",
       "      <td>222.0</td>\n",
       "      <td>18.7</td>\n",
       "      <td>394.63</td>\n",
       "      <td>2.94</td>\n",
       "      <td>33.4</td>\n",
       "    </tr>\n",
       "    <tr>\n",
       "      <th>4</th>\n",
       "      <td>0.06905</td>\n",
       "      <td>0.0</td>\n",
       "      <td>2.18</td>\n",
       "      <td>0.0</td>\n",
       "      <td>0.458</td>\n",
       "      <td>7.147</td>\n",
       "      <td>54.2</td>\n",
       "      <td>6.0622</td>\n",
       "      <td>3.0</td>\n",
       "      <td>222.0</td>\n",
       "      <td>18.7</td>\n",
       "      <td>396.90</td>\n",
       "      <td>5.33</td>\n",
       "      <td>36.2</td>\n",
       "    </tr>\n",
       "  </tbody>\n",
       "</table>\n",
       "</div>"
      ],
      "text/plain": [
       "      CRIM    ZN  INDUS  CHAS    NOX     RM   AGE     DIS  RAD    TAX  \\\n",
       "0  0.00632  18.0   2.31   0.0  0.538  6.575  65.2  4.0900  1.0  296.0   \n",
       "1  0.02731   0.0   7.07   0.0  0.469  6.421  78.9  4.9671  2.0  242.0   \n",
       "2  0.02729   0.0   7.07   0.0  0.469  7.185  61.1  4.9671  2.0  242.0   \n",
       "3  0.03237   0.0   2.18   0.0  0.458  6.998  45.8  6.0622  3.0  222.0   \n",
       "4  0.06905   0.0   2.18   0.0  0.458  7.147  54.2  6.0622  3.0  222.0   \n",
       "\n",
       "   PTRATIO       B  LSTAT  PRICE  \n",
       "0     15.3  396.90   4.98   24.0  \n",
       "1     17.8  396.90   9.14   21.6  \n",
       "2     17.8  392.83   4.03   34.7  \n",
       "3     18.7  394.63   2.94   33.4  \n",
       "4     18.7  396.90   5.33   36.2  "
      ]
     },
     "execution_count": 13,
     "metadata": {},
     "output_type": "execute_result"
    }
   ],
   "source": [
    "df_boston = pd.DataFrame(boston.data, columns = boston.feature_names)\n",
    "df_boston['PRICE'] = boston.target\n",
    "features = boston.data\n",
    "y = boston.target\n",
    "df_boston.head()"
   ]
  },
  {
   "cell_type": "code",
   "execution_count": 14,
   "id": "8fc3feff",
   "metadata": {
    "scrolled": true
   },
   "outputs": [
    {
     "name": "stdout",
     "output_type": "stream",
     "text": [
      "(13,)\n",
      "(506,)\n"
     ]
    }
   ],
   "source": [
    "print(boston.feature_names.shape) \n",
    "print(y.shape)"
   ]
  },
  {
   "cell_type": "code",
   "execution_count": 15,
   "id": "2e429087",
   "metadata": {},
   "outputs": [
    {
     "data": {
      "text/plain": [
       "CRIM       0\n",
       "ZN         0\n",
       "INDUS      0\n",
       "CHAS       0\n",
       "NOX        0\n",
       "RM         0\n",
       "AGE        0\n",
       "DIS        0\n",
       "RAD        0\n",
       "TAX        0\n",
       "PTRATIO    0\n",
       "B          0\n",
       "LSTAT      0\n",
       "PRICE      0\n",
       "dtype: int64"
      ]
     },
     "execution_count": 15,
     "metadata": {},
     "output_type": "execute_result"
    }
   ],
   "source": [
    "df_boston.isnull().sum()"
   ]
  },
  {
   "cell_type": "code",
   "execution_count": 16,
   "id": "6b4bf044",
   "metadata": {
    "scrolled": false
   },
   "outputs": [
    {
     "data": {
      "text/plain": [
       "array([[6.3200e-03, 1.8000e+01, 2.3100e+00, ..., 1.5300e+01, 3.9690e+02,\n",
       "        4.9800e+00],\n",
       "       [2.7310e-02, 0.0000e+00, 7.0700e+00, ..., 1.7800e+01, 3.9690e+02,\n",
       "        9.1400e+00],\n",
       "       [2.7290e-02, 0.0000e+00, 7.0700e+00, ..., 1.7800e+01, 3.9283e+02,\n",
       "        4.0300e+00],\n",
       "       ...,\n",
       "       [6.0760e-02, 0.0000e+00, 1.1930e+01, ..., 2.1000e+01, 3.9690e+02,\n",
       "        5.6400e+00],\n",
       "       [1.0959e-01, 0.0000e+00, 1.1930e+01, ..., 2.1000e+01, 3.9345e+02,\n",
       "        6.4800e+00],\n",
       "       [4.7410e-02, 0.0000e+00, 1.1930e+01, ..., 2.1000e+01, 3.9690e+02,\n",
       "        7.8800e+00]])"
      ]
     },
     "execution_count": 16,
     "metadata": {},
     "output_type": "execute_result"
    }
   ],
   "source": [
    "features\n"
   ]
  },
  {
   "cell_type": "code",
   "execution_count": 17,
   "id": "65bf91d8",
   "metadata": {},
   "outputs": [],
   "source": [
    "import seaborn as sns"
   ]
  },
  {
   "cell_type": "code",
   "execution_count": 18,
   "id": "699624b6",
   "metadata": {},
   "outputs": [
    {
     "data": {
      "text/html": [
       "<div>\n",
       "<style scoped>\n",
       "    .dataframe tbody tr th:only-of-type {\n",
       "        vertical-align: middle;\n",
       "    }\n",
       "\n",
       "    .dataframe tbody tr th {\n",
       "        vertical-align: top;\n",
       "    }\n",
       "\n",
       "    .dataframe thead th {\n",
       "        text-align: right;\n",
       "    }\n",
       "</style>\n",
       "<table border=\"1\" class=\"dataframe\">\n",
       "  <thead>\n",
       "    <tr style=\"text-align: right;\">\n",
       "      <th></th>\n",
       "      <th>CRIM</th>\n",
       "      <th>ZN</th>\n",
       "      <th>INDUS</th>\n",
       "      <th>CHAS</th>\n",
       "      <th>NOX</th>\n",
       "      <th>RM</th>\n",
       "      <th>AGE</th>\n",
       "      <th>DIS</th>\n",
       "      <th>RAD</th>\n",
       "      <th>TAX</th>\n",
       "      <th>PTRATIO</th>\n",
       "      <th>B</th>\n",
       "      <th>LSTAT</th>\n",
       "      <th>PRICE</th>\n",
       "    </tr>\n",
       "  </thead>\n",
       "  <tbody>\n",
       "    <tr>\n",
       "      <th>0</th>\n",
       "      <td>0.00632</td>\n",
       "      <td>18.0</td>\n",
       "      <td>2.31</td>\n",
       "      <td>0.0</td>\n",
       "      <td>0.538</td>\n",
       "      <td>6.575</td>\n",
       "      <td>65.2</td>\n",
       "      <td>4.0900</td>\n",
       "      <td>1.0</td>\n",
       "      <td>296.0</td>\n",
       "      <td>15.3</td>\n",
       "      <td>396.90</td>\n",
       "      <td>4.98</td>\n",
       "      <td>24.0</td>\n",
       "    </tr>\n",
       "    <tr>\n",
       "      <th>1</th>\n",
       "      <td>0.02731</td>\n",
       "      <td>0.0</td>\n",
       "      <td>7.07</td>\n",
       "      <td>0.0</td>\n",
       "      <td>0.469</td>\n",
       "      <td>6.421</td>\n",
       "      <td>78.9</td>\n",
       "      <td>4.9671</td>\n",
       "      <td>2.0</td>\n",
       "      <td>242.0</td>\n",
       "      <td>17.8</td>\n",
       "      <td>396.90</td>\n",
       "      <td>9.14</td>\n",
       "      <td>21.6</td>\n",
       "    </tr>\n",
       "    <tr>\n",
       "      <th>2</th>\n",
       "      <td>0.02729</td>\n",
       "      <td>0.0</td>\n",
       "      <td>7.07</td>\n",
       "      <td>0.0</td>\n",
       "      <td>0.469</td>\n",
       "      <td>7.185</td>\n",
       "      <td>61.1</td>\n",
       "      <td>4.9671</td>\n",
       "      <td>2.0</td>\n",
       "      <td>242.0</td>\n",
       "      <td>17.8</td>\n",
       "      <td>392.83</td>\n",
       "      <td>4.03</td>\n",
       "      <td>34.7</td>\n",
       "    </tr>\n",
       "    <tr>\n",
       "      <th>3</th>\n",
       "      <td>0.03237</td>\n",
       "      <td>0.0</td>\n",
       "      <td>2.18</td>\n",
       "      <td>0.0</td>\n",
       "      <td>0.458</td>\n",
       "      <td>6.998</td>\n",
       "      <td>45.8</td>\n",
       "      <td>6.0622</td>\n",
       "      <td>3.0</td>\n",
       "      <td>222.0</td>\n",
       "      <td>18.7</td>\n",
       "      <td>394.63</td>\n",
       "      <td>2.94</td>\n",
       "      <td>33.4</td>\n",
       "    </tr>\n",
       "    <tr>\n",
       "      <th>4</th>\n",
       "      <td>0.06905</td>\n",
       "      <td>0.0</td>\n",
       "      <td>2.18</td>\n",
       "      <td>0.0</td>\n",
       "      <td>0.458</td>\n",
       "      <td>7.147</td>\n",
       "      <td>54.2</td>\n",
       "      <td>6.0622</td>\n",
       "      <td>3.0</td>\n",
       "      <td>222.0</td>\n",
       "      <td>18.7</td>\n",
       "      <td>396.90</td>\n",
       "      <td>5.33</td>\n",
       "      <td>36.2</td>\n",
       "    </tr>\n",
       "    <tr>\n",
       "      <th>...</th>\n",
       "      <td>...</td>\n",
       "      <td>...</td>\n",
       "      <td>...</td>\n",
       "      <td>...</td>\n",
       "      <td>...</td>\n",
       "      <td>...</td>\n",
       "      <td>...</td>\n",
       "      <td>...</td>\n",
       "      <td>...</td>\n",
       "      <td>...</td>\n",
       "      <td>...</td>\n",
       "      <td>...</td>\n",
       "      <td>...</td>\n",
       "      <td>...</td>\n",
       "    </tr>\n",
       "    <tr>\n",
       "      <th>501</th>\n",
       "      <td>0.06263</td>\n",
       "      <td>0.0</td>\n",
       "      <td>11.93</td>\n",
       "      <td>0.0</td>\n",
       "      <td>0.573</td>\n",
       "      <td>6.593</td>\n",
       "      <td>69.1</td>\n",
       "      <td>2.4786</td>\n",
       "      <td>1.0</td>\n",
       "      <td>273.0</td>\n",
       "      <td>21.0</td>\n",
       "      <td>391.99</td>\n",
       "      <td>9.67</td>\n",
       "      <td>22.4</td>\n",
       "    </tr>\n",
       "    <tr>\n",
       "      <th>502</th>\n",
       "      <td>0.04527</td>\n",
       "      <td>0.0</td>\n",
       "      <td>11.93</td>\n",
       "      <td>0.0</td>\n",
       "      <td>0.573</td>\n",
       "      <td>6.120</td>\n",
       "      <td>76.7</td>\n",
       "      <td>2.2875</td>\n",
       "      <td>1.0</td>\n",
       "      <td>273.0</td>\n",
       "      <td>21.0</td>\n",
       "      <td>396.90</td>\n",
       "      <td>9.08</td>\n",
       "      <td>20.6</td>\n",
       "    </tr>\n",
       "    <tr>\n",
       "      <th>503</th>\n",
       "      <td>0.06076</td>\n",
       "      <td>0.0</td>\n",
       "      <td>11.93</td>\n",
       "      <td>0.0</td>\n",
       "      <td>0.573</td>\n",
       "      <td>6.976</td>\n",
       "      <td>91.0</td>\n",
       "      <td>2.1675</td>\n",
       "      <td>1.0</td>\n",
       "      <td>273.0</td>\n",
       "      <td>21.0</td>\n",
       "      <td>396.90</td>\n",
       "      <td>5.64</td>\n",
       "      <td>23.9</td>\n",
       "    </tr>\n",
       "    <tr>\n",
       "      <th>504</th>\n",
       "      <td>0.10959</td>\n",
       "      <td>0.0</td>\n",
       "      <td>11.93</td>\n",
       "      <td>0.0</td>\n",
       "      <td>0.573</td>\n",
       "      <td>6.794</td>\n",
       "      <td>89.3</td>\n",
       "      <td>2.3889</td>\n",
       "      <td>1.0</td>\n",
       "      <td>273.0</td>\n",
       "      <td>21.0</td>\n",
       "      <td>393.45</td>\n",
       "      <td>6.48</td>\n",
       "      <td>22.0</td>\n",
       "    </tr>\n",
       "    <tr>\n",
       "      <th>505</th>\n",
       "      <td>0.04741</td>\n",
       "      <td>0.0</td>\n",
       "      <td>11.93</td>\n",
       "      <td>0.0</td>\n",
       "      <td>0.573</td>\n",
       "      <td>6.030</td>\n",
       "      <td>80.8</td>\n",
       "      <td>2.5050</td>\n",
       "      <td>1.0</td>\n",
       "      <td>273.0</td>\n",
       "      <td>21.0</td>\n",
       "      <td>396.90</td>\n",
       "      <td>7.88</td>\n",
       "      <td>11.9</td>\n",
       "    </tr>\n",
       "  </tbody>\n",
       "</table>\n",
       "<p>506 rows × 14 columns</p>\n",
       "</div>"
      ],
      "text/plain": [
       "        CRIM    ZN  INDUS  CHAS    NOX     RM   AGE     DIS  RAD    TAX  \\\n",
       "0    0.00632  18.0   2.31   0.0  0.538  6.575  65.2  4.0900  1.0  296.0   \n",
       "1    0.02731   0.0   7.07   0.0  0.469  6.421  78.9  4.9671  2.0  242.0   \n",
       "2    0.02729   0.0   7.07   0.0  0.469  7.185  61.1  4.9671  2.0  242.0   \n",
       "3    0.03237   0.0   2.18   0.0  0.458  6.998  45.8  6.0622  3.0  222.0   \n",
       "4    0.06905   0.0   2.18   0.0  0.458  7.147  54.2  6.0622  3.0  222.0   \n",
       "..       ...   ...    ...   ...    ...    ...   ...     ...  ...    ...   \n",
       "501  0.06263   0.0  11.93   0.0  0.573  6.593  69.1  2.4786  1.0  273.0   \n",
       "502  0.04527   0.0  11.93   0.0  0.573  6.120  76.7  2.2875  1.0  273.0   \n",
       "503  0.06076   0.0  11.93   0.0  0.573  6.976  91.0  2.1675  1.0  273.0   \n",
       "504  0.10959   0.0  11.93   0.0  0.573  6.794  89.3  2.3889  1.0  273.0   \n",
       "505  0.04741   0.0  11.93   0.0  0.573  6.030  80.8  2.5050  1.0  273.0   \n",
       "\n",
       "     PTRATIO       B  LSTAT  PRICE  \n",
       "0       15.3  396.90   4.98   24.0  \n",
       "1       17.8  396.90   9.14   21.6  \n",
       "2       17.8  392.83   4.03   34.7  \n",
       "3       18.7  394.63   2.94   33.4  \n",
       "4       18.7  396.90   5.33   36.2  \n",
       "..       ...     ...    ...    ...  \n",
       "501     21.0  391.99   9.67   22.4  \n",
       "502     21.0  396.90   9.08   20.6  \n",
       "503     21.0  396.90   5.64   23.9  \n",
       "504     21.0  393.45   6.48   22.0  \n",
       "505     21.0  396.90   7.88   11.9  \n",
       "\n",
       "[506 rows x 14 columns]"
      ]
     },
     "execution_count": 18,
     "metadata": {},
     "output_type": "execute_result"
    }
   ],
   "source": [
    "df_boston"
   ]
  },
  {
   "cell_type": "code",
   "execution_count": 19,
   "id": "838b3c3d",
   "metadata": {},
   "outputs": [
    {
     "data": {
      "image/png": "[encoded data removed]",
      "text/plain": [
       "<Figure size 1152x432 with 2 Axes>"
      ]
     },
     "metadata": {
      "needs_background": "light"
     },
     "output_type": "display_data"
    }
   ],
   "source": [
    "# Проверка на мультиколлинеарность\n",
    "plt.figure(figsize = (16,6))\n",
    "h_m = sns.heatmap(df_boston.corr(), vmin = -1, vmax = 1, annot = True, cmap = 'Greens')"
   ]
  },
  {
   "cell_type": "markdown",
   "id": "8f29cb23",
   "metadata": {},
   "source": [
    "####  Библиотечная реализация вычисляет коэффициенты не с помощью перемножения матриц, а с помощью приближенных методов для численного решения. "
   ]
  },
  {
   "cell_type": "markdown",
   "id": "90b6656b",
   "metadata": {},
   "source": [
    "Меньше задействуются ресурсы памяти"
   ]
  },
  {
   "cell_type": "code",
   "execution_count": 20,
   "id": "4e913674",
   "metadata": {
    "scrolled": true
   },
   "outputs": [
    {
     "name": "stdout",
     "output_type": "stream",
     "text": [
      "[-1.08011358e-01  4.64204584e-02  2.05586264e-02  2.68673382e+00\n",
      " -1.77666112e+01  3.80986521e+00  6.92224640e-04 -1.47556685e+00\n",
      "  3.06049479e-01 -1.23345939e-02 -9.52747232e-01  9.31168327e-03\n",
      " -5.24758378e-01]\n",
      "36.45948838509025\n",
      "0.7406426641094095\n"
     ]
    }
   ],
   "source": [
    "from sklearn.linear_model import LinearRegression\n",
    "# Обучаем модель из коробки\n",
    "reg = LinearRegression().fit(features, y) # метод fit отвечает за обучение\n",
    "print(reg.coef_)\n",
    "print(reg.intercept_)\n",
    "print(reg.score(features, y))"
   ]
  },
  {
   "cell_type": "code",
   "execution_count": 21,
   "id": "8336b538",
   "metadata": {},
   "outputs": [],
   "source": [
    "y_pred = reg.predict(features)"
   ]
  },
  {
   "cell_type": "code",
   "execution_count": 22,
   "id": "cf78d196",
   "metadata": {},
   "outputs": [
    {
     "data": {
      "text/plain": [
       "(506,)"
      ]
     },
     "execution_count": 22,
     "metadata": {},
     "output_type": "execute_result"
    }
   ],
   "source": [
    "y_pred.shape"
   ]
  },
  {
   "cell_type": "code",
   "execution_count": 23,
   "id": "d2a1f17a",
   "metadata": {},
   "outputs": [
    {
     "data": {
      "text/plain": [
       "Text(0, 0.5, 'Predicted values')"
      ]
     },
     "execution_count": 23,
     "metadata": {},
     "output_type": "execute_result"
    },
    {
     "data": {
      "image/png": "[encoded data removed]",
      "text/plain": [
       "<Figure size 432x288 with 1 Axes>"
      ]
     },
     "metadata": {
      "needs_background": "light"
     },
     "output_type": "display_data"
    }
   ],
   "source": [
    "plt.scatter(y, y_pred, color = 'b')\n",
    "plt.xlabel('Actual values')\n",
    "plt.ylabel('Predicted values')\n"
   ]
  },
  {
   "cell_type": "code",
   "execution_count": 24,
   "id": "2365e391",
   "metadata": {
    "scrolled": true
   },
   "outputs": [
    {
     "data": {
      "text/plain": [
       "0.7406426641094095"
      ]
     },
     "execution_count": 24,
     "metadata": {},
     "output_type": "execute_result"
    }
   ],
   "source": [
    "from sklearn.metrics import r2_score\n",
    "r2_score(y, y_pred)"
   ]
  },
  {
   "cell_type": "markdown",
   "id": "52afd0b5",
   "metadata": {},
   "source": [
    "#### На 'чистых' данных"
   ]
  },
  {
   "cell_type": "code",
   "execution_count": 25,
   "id": "2394ea24",
   "metadata": {},
   "outputs": [],
   "source": [
    "df_boston_short = df_boston.drop(columns = ['TAX', 'RAD', 'CHAS', 'PRICE'], axis = 1)"
   ]
  },
  {
   "cell_type": "code",
   "execution_count": 26,
   "id": "a13b742d",
   "metadata": {},
   "outputs": [
    {
     "data": {
      "image/png": "[encoded data removed]",
      "text/plain": [
       "<Figure size 1152x432 with 2 Axes>"
      ]
     },
     "metadata": {
      "needs_background": "light"
     },
     "output_type": "display_data"
    }
   ],
   "source": [
    "plt.figure(figsize = (16,6))\n",
    "h_m = sns.heatmap(df_boston_short.corr(), vmin = -1, vmax = 1, annot = True, cmap = 'Blues')"
   ]
  },
  {
   "cell_type": "code",
   "execution_count": 27,
   "id": "28800369",
   "metadata": {},
   "outputs": [
    {
     "name": "stdout",
     "output_type": "stream",
     "text": [
      "[-1.08011358e-01  4.64204584e-02  2.05586264e-02  2.68673382e+00\n",
      " -1.77666112e+01  3.80986521e+00  6.92224640e-04 -1.47556685e+00\n",
      "  3.06049479e-01 -1.23345939e-02 -9.52747232e-01  9.31168327e-03\n",
      " -5.24758378e-01]\n",
      "36.45948838509025\n",
      "0.7406426641094095\n"
     ]
    }
   ],
   "source": [
    "from sklearn.linear_model import LinearRegression\n",
    "# Обучаем модель из коробки\n",
    "reg = LinearRegression().fit(features, y) # метод fit отвечает за обучение\n",
    "print(reg.coef_)\n",
    "print(reg.intercept_)\n",
    "print(reg.score(features, y))"
   ]
  },
  {
   "cell_type": "code",
   "execution_count": 28,
   "id": "f2fab33b",
   "metadata": {},
   "outputs": [],
   "source": [
    "features_short = np.array(df_boston.drop(columns = ['TAX', 'RAD', 'CHAS','PRICE'], axis = 1))"
   ]
  },
  {
   "cell_type": "code",
   "execution_count": 29,
   "id": "69cc2e41",
   "metadata": {},
   "outputs": [
    {
     "data": {
      "text/html": [
       "<div>\n",
       "<style scoped>\n",
       "    .dataframe tbody tr th:only-of-type {\n",
       "        vertical-align: middle;\n",
       "    }\n",
       "\n",
       "    .dataframe tbody tr th {\n",
       "        vertical-align: top;\n",
       "    }\n",
       "\n",
       "    .dataframe thead th {\n",
       "        text-align: right;\n",
       "    }\n",
       "</style>\n",
       "<table border=\"1\" class=\"dataframe\">\n",
       "  <thead>\n",
       "    <tr style=\"text-align: right;\">\n",
       "      <th></th>\n",
       "      <th>CRIM</th>\n",
       "      <th>ZN</th>\n",
       "      <th>INDUS</th>\n",
       "      <th>NOX</th>\n",
       "      <th>RM</th>\n",
       "      <th>AGE</th>\n",
       "      <th>DIS</th>\n",
       "      <th>PTRATIO</th>\n",
       "      <th>B</th>\n",
       "      <th>LSTAT</th>\n",
       "    </tr>\n",
       "  </thead>\n",
       "  <tbody>\n",
       "    <tr>\n",
       "      <th>0</th>\n",
       "      <td>0.00632</td>\n",
       "      <td>18.0</td>\n",
       "      <td>2.31</td>\n",
       "      <td>0.538</td>\n",
       "      <td>6.575</td>\n",
       "      <td>65.2</td>\n",
       "      <td>4.0900</td>\n",
       "      <td>15.3</td>\n",
       "      <td>396.90</td>\n",
       "      <td>4.98</td>\n",
       "    </tr>\n",
       "    <tr>\n",
       "      <th>1</th>\n",
       "      <td>0.02731</td>\n",
       "      <td>0.0</td>\n",
       "      <td>7.07</td>\n",
       "      <td>0.469</td>\n",
       "      <td>6.421</td>\n",
       "      <td>78.9</td>\n",
       "      <td>4.9671</td>\n",
       "      <td>17.8</td>\n",
       "      <td>396.90</td>\n",
       "      <td>9.14</td>\n",
       "    </tr>\n",
       "    <tr>\n",
       "      <th>2</th>\n",
       "      <td>0.02729</td>\n",
       "      <td>0.0</td>\n",
       "      <td>7.07</td>\n",
       "      <td>0.469</td>\n",
       "      <td>7.185</td>\n",
       "      <td>61.1</td>\n",
       "      <td>4.9671</td>\n",
       "      <td>17.8</td>\n",
       "      <td>392.83</td>\n",
       "      <td>4.03</td>\n",
       "    </tr>\n",
       "  </tbody>\n",
       "</table>\n",
       "</div>"
      ],
      "text/plain": [
       "      CRIM    ZN  INDUS    NOX     RM   AGE     DIS  PTRATIO       B  LSTAT\n",
       "0  0.00632  18.0   2.31  0.538  6.575  65.2  4.0900     15.3  396.90   4.98\n",
       "1  0.02731   0.0   7.07  0.469  6.421  78.9  4.9671     17.8  396.90   9.14\n",
       "2  0.02729   0.0   7.07  0.469  7.185  61.1  4.9671     17.8  392.83   4.03"
      ]
     },
     "execution_count": 29,
     "metadata": {},
     "output_type": "execute_result"
    }
   ],
   "source": [
    "df_boston_short[:3]"
   ]
  },
  {
   "cell_type": "code",
   "execution_count": 30,
   "id": "0b9b30ca",
   "metadata": {},
   "outputs": [
    {
     "data": {
      "text/plain": [
       "array([[6.3200e-03, 1.8000e+01, 2.3100e+00, ..., 1.5300e+01, 3.9690e+02,\n",
       "        4.9800e+00],\n",
       "       [2.7310e-02, 0.0000e+00, 7.0700e+00, ..., 1.7800e+01, 3.9690e+02,\n",
       "        9.1400e+00],\n",
       "       [2.7290e-02, 0.0000e+00, 7.0700e+00, ..., 1.7800e+01, 3.9283e+02,\n",
       "        4.0300e+00],\n",
       "       ...,\n",
       "       [6.0760e-02, 0.0000e+00, 1.1930e+01, ..., 2.1000e+01, 3.9690e+02,\n",
       "        5.6400e+00],\n",
       "       [1.0959e-01, 0.0000e+00, 1.1930e+01, ..., 2.1000e+01, 3.9345e+02,\n",
       "        6.4800e+00],\n",
       "       [4.7410e-02, 0.0000e+00, 1.1930e+01, ..., 2.1000e+01, 3.9690e+02,\n",
       "        7.8800e+00]])"
      ]
     },
     "execution_count": 30,
     "metadata": {},
     "output_type": "execute_result"
    }
   ],
   "source": [
    "features_short"
   ]
  },
  {
   "cell_type": "code",
   "execution_count": 31,
   "id": "e69b8871",
   "metadata": {},
   "outputs": [
    {
     "name": "stdout",
     "output_type": "stream",
     "text": [
      "[-6.62592235e-02  4.10143003e-02 -3.41929097e-02 -1.41653558e+01\n",
      "  4.20014112e+00 -2.11088316e-03 -1.50200735e+00 -8.56397636e-01\n",
      "  8.70821599e-03 -5.26288565e-01]\n",
      "29.351443331902793\n",
      "0.7223884754863276\n"
     ]
    }
   ],
   "source": [
    "from sklearn.linear_model import LinearRegression\n",
    "# Обучаем модель из коробки\n",
    "reg = LinearRegression().fit(features_short, y) # метод fit отвечает за обучение\n",
    "print(reg.coef_)\n",
    "print(reg.intercept_)\n",
    "print(reg.score(features_short, y))"
   ]
  },
  {
   "cell_type": "code",
   "execution_count": 32,
   "id": "c3617952",
   "metadata": {},
   "outputs": [],
   "source": [
    "y_pred_short = reg.predict(features_short)"
   ]
  },
  {
   "cell_type": "code",
   "execution_count": 33,
   "id": "8b1d8b1d",
   "metadata": {},
   "outputs": [
    {
     "data": {
      "text/plain": [
       "Text(0, 0.5, 'Predicted values')"
      ]
     },
     "execution_count": 33,
     "metadata": {},
     "output_type": "execute_result"
    },
    {
     "data": {
      "image/png": "[encoded data removed]",
      "text/plain": [
       "<Figure size 432x288 with 1 Axes>"
      ]
     },
     "metadata": {
      "needs_background": "light"
     },
     "output_type": "display_data"
    }
   ],
   "source": [
    "plt.scatter(y, y_pred_short, color = 'g')\n",
    "plt.xlabel('Actual values')\n",
    "plt.ylabel('Predicted values')"
   ]
  },
  {
   "cell_type": "code",
   "execution_count": 34,
   "id": "99b0d788",
   "metadata": {},
   "outputs": [],
   "source": [
    "err = y - y_pred_short\n",
    "\n",
    "err_d = pd.DataFrame(data = err)"
   ]
  },
  {
   "cell_type": "code",
   "execution_count": 35,
   "id": "9a5195a7",
   "metadata": {},
   "outputs": [
    {
     "data": {
      "text/plain": [
       "array([[<AxesSubplot:title={'center':'0'}>]], dtype=object)"
      ]
     },
     "execution_count": 35,
     "metadata": {},
     "output_type": "execute_result"
    },
    {
     "data": {
      "image/png": "[encoded data removed]",
      "text/plain": [
       "<Figure size 432x288 with 1 Axes>"
      ]
     },
     "metadata": {
      "needs_background": "light"
     },
     "output_type": "display_data"
    }
   ],
   "source": [
    "err_d.hist()"
   ]
  },
  {
   "cell_type": "code",
   "execution_count": 36,
   "id": "81648cf7",
   "metadata": {},
   "outputs": [],
   "source": [
    "from scipy import stats\n"
   ]
  },
  {
   "cell_type": "code",
   "execution_count": 37,
   "id": "40364c80",
   "metadata": {},
   "outputs": [
    {
     "data": {
      "text/plain": [
       "<Figure size 432x288 with 0 Axes>"
      ]
     },
     "execution_count": 37,
     "metadata": {},
     "output_type": "execute_result"
    },
    {
     "data": {
      "image/png": "[encoded data removed]",
      "text/plain": [
       "<Figure size 432x288 with 1 Axes>"
      ]
     },
     "metadata": {
      "needs_background": "light"
     },
     "output_type": "display_data"
    },
    {
     "data": {
      "text/plain": [
       "<Figure size 432x288 with 0 Axes>"
      ]
     },
     "metadata": {},
     "output_type": "display_data"
    }
   ],
   "source": [
    "stats.probplot(err, plot = plt)\n",
    "plt.figure()"
   ]
  },
  {
   "cell_type": "code",
   "execution_count": 38,
   "id": "23f967ba",
   "metadata": {},
   "outputs": [
    {
     "name": "stdout",
     "output_type": "stream",
     "text": [
      "p-value 5.552051781092407e-19\n"
     ]
    }
   ],
   "source": [
    "shapiro = stats.shapiro(err)\n",
    "print('p-value', shapiro[1])"
   ]
  },
  {
   "cell_type": "code",
   "execution_count": 39,
   "id": "ce3a884e",
   "metadata": {},
   "outputs": [],
   "source": [
    "from scipy.stats import kurtosis\n",
    "from scipy.stats import skew"
   ]
  },
  {
   "cell_type": "code",
   "execution_count": 40,
   "id": "d9fad945",
   "metadata": {},
   "outputs": [
    {
     "name": "stdout",
     "output_type": "stream",
     "text": [
      "Эксцесс 6.3249583404128735\n",
      "Асимметрия 1.7348291308401393\n"
     ]
    }
   ],
   "source": [
    "print('Эксцесс', kurtosis(err))\n",
    "print('Асимметрия', skew(err))"
   ]
  },
  {
   "cell_type": "markdown",
   "id": "fda3d4e0",
   "metadata": {},
   "source": [
    "# Метрики качества линейной регрессии"
   ]
  },
  {
   "cell_type": "markdown",
   "id": "a3742802",
   "metadata": {},
   "source": [
    "Решение о том, какая модель хорошая, а какая плохая надо принимать не интуитивно, а на основе 1 или нескольких метрик машинного обучения"
   ]
  },
  {
   "cell_type": "markdown",
   "id": "09501855",
   "metadata": {},
   "source": [
    "метрики принимают на вход 2 вектора: предсказания модели и истинные значения"
   ]
  },
  {
   "cell_type": "code",
   "execution_count": 41,
   "id": "ef110420",
   "metadata": {},
   "outputs": [],
   "source": [
    "reg = LinearRegression().fit(features, y) "
   ]
  },
  {
   "cell_type": "code",
   "execution_count": 42,
   "id": "a7d7c2ec",
   "metadata": {},
   "outputs": [],
   "source": [
    "y_pred = reg.predict(features)\n",
    "y_true = y"
   ]
  },
  {
   "cell_type": "code",
   "execution_count": 43,
   "id": "15ef7574",
   "metadata": {},
   "outputs": [],
   "source": [
    "# Средняя абсолютная ошибка - Mean Absolut Error (MAE)"
   ]
  },
  {
   "cell_type": "code",
   "execution_count": 44,
   "id": "2e30767e",
   "metadata": {},
   "outputs": [
    {
     "name": "stdout",
     "output_type": "stream",
     "text": [
      "MAE = 3.2708628109003177\n"
     ]
    }
   ],
   "source": [
    "from sklearn.metrics import mean_absolute_error\n",
    "print('MAE = %s' % mean_absolute_error(reg.predict(features),y))"
   ]
  },
  {
   "cell_type": "code",
   "execution_count": 45,
   "id": "a887153c",
   "metadata": {},
   "outputs": [
    {
     "name": "stderr",
     "output_type": "stream",
     "text": [
      "C:\\ProgramData\\Anaconda3\\lib\\site-packages\\sklearn\\utils\\deprecation.py:87: FutureWarning: Function load_boston is deprecated; `load_boston` is deprecated in 1.0 and will be removed in 1.2.\n",
      "\n",
      "    The Boston housing prices dataset has an ethical problem. You can refer to\n",
      "    the documentation of this function for further details.\n",
      "\n",
      "    The scikit-learn maintainers therefore strongly discourage the use of this\n",
      "    dataset unless the purpose of the code is to study and educate about\n",
      "    ethical issues in data science and machine learning.\n",
      "\n",
      "    In this special case, you can fetch the dataset from the original\n",
      "    source::\n",
      "\n",
      "        import pandas as pd\n",
      "        import numpy as np\n",
      "\n",
      "\n",
      "        data_url = \"http://lib.stat.cmu.edu/datasets/boston\"\n",
      "        raw_df = pd.read_csv(data_url, sep=\"\\s+\", skiprows=22, header=None)\n",
      "        data = np.hstack([raw_df.values[::2, :], raw_df.values[1::2, :2]])\n",
      "        target = raw_df.values[1::2, 2]\n",
      "\n",
      "    Alternative datasets include the California housing dataset (i.e.\n",
      "    :func:`~sklearn.datasets.fetch_california_housing`) and the Ames housing\n",
      "    dataset. You can load the datasets as follows::\n",
      "\n",
      "        from sklearn.datasets import fetch_california_housing\n",
      "        housing = fetch_california_housing()\n",
      "\n",
      "    for the California housing dataset and::\n",
      "\n",
      "        from sklearn.datasets import fetch_openml\n",
      "        housing = fetch_openml(name=\"house_prices\", as_frame=True)\n",
      "\n",
      "    for the Ames housing dataset.\n",
      "    \n",
      "  warnings.warn(msg, category=FutureWarning)\n"
     ]
    }
   ],
   "source": [
    "from sklearn.datasets import load_boston\n",
    "df_boston = load_boston()\n",
    "\n",
    "y = boston.target\n",
    "features = boston.data\n",
    "\n",
    "from sklearn.linear_model import LinearRegression\n",
    "reg = LinearRegression()\n",
    "reg.fit(features, y)\n",
    "\n",
    "y_true = y\n",
    "y_pred = reg.predict(features)"
   ]
  },
  {
   "cell_type": "code",
   "execution_count": 46,
   "id": "47705900",
   "metadata": {},
   "outputs": [],
   "source": [
    "# MSE"
   ]
  },
  {
   "cell_type": "code",
   "execution_count": 47,
   "id": "11b16de4",
   "metadata": {},
   "outputs": [],
   "source": [
    "from sklearn.metrics import mean_squared_error"
   ]
  },
  {
   "cell_type": "code",
   "execution_count": 48,
   "id": "6af25668",
   "metadata": {},
   "outputs": [
    {
     "data": {
      "text/plain": [
       "21.8948311817292"
      ]
     },
     "execution_count": 48,
     "metadata": {},
     "output_type": "execute_result"
    }
   ],
   "source": [
    "mean_squared_error(y_true, y_pred)"
   ]
  },
  {
   "cell_type": "code",
   "execution_count": 49,
   "id": "be63a086",
   "metadata": {},
   "outputs": [],
   "source": [
    "#RMSE - Root mean square error - базовая метрика для определения качества линейной регрессии"
   ]
  },
  {
   "cell_type": "code",
   "execution_count": 50,
   "id": "fd1617b0",
   "metadata": {},
   "outputs": [
    {
     "name": "stdout",
     "output_type": "stream",
     "text": [
      "RMSE = 21.8948311817292\n"
     ]
    }
   ],
   "source": [
    "print('RMSE = %s' % mean_squared_error(reg.predict(features),y))\n",
    "# метрика принимает только положительные знаения,  чем ближе к 0, тем лучше модель"
   ]
  },
  {
   "cell_type": "markdown",
   "id": "fbc0664e",
   "metadata": {},
   "source": [
    "RMSE сильнее штрафует за большие ошибки, чем MAE "
   ]
  },
  {
   "cell_type": "markdown",
   "id": "74e42676",
   "metadata": {},
   "source": [
    "Если в выборке есть выбросы, то RMSE может принимать огромные значения и может сложиться впечатление, что модель плохо обучилась. "
   ]
  },
  {
   "cell_type": "markdown",
   "id": "2f33d3c4",
   "metadata": {},
   "source": [
    "НО! Если убрать все выбросы, метрика может очень сильно улучшиться. "
   ]
  },
  {
   "cell_type": "markdown",
   "id": "f104cca1",
   "metadata": {},
   "source": [
    "### Задание 2_ На понимание RMSE"
   ]
  },
  {
   "cell_type": "markdown",
   "id": "06de8f90",
   "metadata": {},
   "source": [
    "y_pred; y_true \\\n",
    "Для каждой точки y_true постройте величину ошибки (еще называется остатки регрессии).\\\n",
    "Возведите ошибки в квадрат \\ Постройте график ошибок (зависимоть квадрата ошибок от величины ошибки)."
   ]
  },
  {
   "cell_type": "markdown",
   "id": "23cfc65f",
   "metadata": {},
   "source": [
    "### R2 Коэффициент детерминации"
   ]
  },
  {
   "cell_type": "markdown",
   "id": "f1099a7f",
   "metadata": {},
   "source": [
    "Идеальное значение 1 - условная дисперсия модели относительно истинных значений очень мала"
   ]
  },
  {
   "cell_type": "markdown",
   "id": "bc8c5cd6",
   "metadata": {},
   "source": [
    "Всегда нормализован по верхней границе \"1\", RMSE и MAE могут становиться сколь угодно большими"
   ]
  },
  {
   "cell_type": "code",
   "execution_count": 51,
   "id": "45f8b61d",
   "metadata": {},
   "outputs": [
    {
     "name": "stdout",
     "output_type": "stream",
     "text": [
      "R2 = 0.7406426641094095\n"
     ]
    }
   ],
   "source": [
    "from sklearn.metrics import r2_score\n",
    "print('R2 = %s' % r2_score(y_true,y_pred))"
   ]
  },
  {
   "cell_type": "markdown",
   "id": "6f75a2fd",
   "metadata": {},
   "source": [
    "### Трансформация входных данных"
   ]
  },
  {
   "cell_type": "markdown",
   "id": "80c97511",
   "metadata": {},
   "source": [
    "В алгоритмах машинного обучения и анализа данных часто встречаются требования по входным данным. "
   ]
  },
  {
   "cell_type": "markdown",
   "id": "2dbc1b45",
   "metadata": {},
   "source": [
    "Основной принцип ML: Garbage in - garbage out"
   ]
  },
  {
   "cell_type": "markdown",
   "id": "208bea51",
   "metadata": {},
   "source": [
    "Чтобы линейная регрессия хорошо работала, должны выполняться условия:\\\n",
    "    * ошибки регрессии должны иметь нормальное распределение \\\n",
    "    * все фичи должны быть в одном масштабе (метры, сантиметры)"
   ]
  },
  {
   "cell_type": "markdown",
   "id": "a4fc9a98",
   "metadata": {},
   "source": [
    "При подготовке данных для задачи обучения линейной регрессии применяются приемы масштабирования и нормализации"
   ]
  },
  {
   "cell_type": "markdown",
   "id": "939edd56",
   "metadata": {},
   "source": [
    "Как преобразование входных данных может повлиять на метрики линейной регрессии?"
   ]
  },
  {
   "cell_type": "code",
   "execution_count": 52,
   "id": "5b474aaf",
   "metadata": {},
   "outputs": [
    {
     "data": {
      "text/plain": [
       "<matplotlib.collections.PathCollection at 0x2072d18cf70>"
      ]
     },
     "execution_count": 52,
     "metadata": {},
     "output_type": "execute_result"
    },
    {
     "data": {
      "image/png": "[encoded data removed]",
      "text/plain": [
       "<Figure size 432x288 with 1 Axes>"
      ]
     },
     "metadata": {
      "needs_background": "light"
     },
     "output_type": "display_data"
    }
   ],
   "source": [
    "x = np.linspace(1,10,num = 10).reshape(-1,1)\n",
    "y = np.array([1.5, 2.5, 3, 4.5, 12, 6.7, 7, 8.5, 14, 7]).reshape(-1,1)\n",
    "plt.scatter(x, y)\n",
    "# Данные вроде бы линейные, но есть выбросы"
   ]
  },
  {
   "cell_type": "code",
   "execution_count": 53,
   "id": "a22d7dbf",
   "metadata": {},
   "outputs": [],
   "source": [
    "from sklearn.metrics import r2_score"
   ]
  },
  {
   "cell_type": "code",
   "execution_count": 54,
   "id": "1815ff6d",
   "metadata": {},
   "outputs": [
    {
     "name": "stdout",
     "output_type": "stream",
     "text": [
      "0.5221932366140851\n"
     ]
    }
   ],
   "source": [
    "reg = LinearRegression().fit(x,y) # на нетрансформируемых данных\n",
    "y_pred = reg.predict(x)\n",
    "\n",
    "print(r2_score(y, y_pred))"
   ]
  },
  {
   "cell_type": "markdown",
   "id": "53fc4cde",
   "metadata": {},
   "source": [
    "Трансформируем точки с помощью функции логарифмирования"
   ]
  },
  {
   "cell_type": "code",
   "execution_count": 55,
   "id": "264bd8e7",
   "metadata": {},
   "outputs": [
    {
     "data": {
      "text/plain": [
       "<matplotlib.collections.PathCollection at 0x2072d218490>"
      ]
     },
     "execution_count": 55,
     "metadata": {},
     "output_type": "execute_result"
    },
    {
     "data": {
      "image/png": "[encoded data removed]",
      "text/plain": [
       "<Figure size 432x288 with 1 Axes>"
      ]
     },
     "metadata": {
      "needs_background": "light"
     },
     "output_type": "display_data"
    }
   ],
   "source": [
    "y_transformed = np.log(y)\n",
    "\n",
    "plt.scatter(x, y_transformed) # Точки поджались, выбросы стали не такими сильными\n"
   ]
  },
  {
   "cell_type": "code",
   "execution_count": 56,
   "id": "70c25424",
   "metadata": {},
   "outputs": [
    {
     "name": "stdout",
     "output_type": "stream",
     "text": [
      "0.6775796066529154\n"
     ]
    }
   ],
   "source": [
    "reg = LinearRegression().fit(x,y_transformed) # на трансформируемых данных\n",
    "y_pred = reg.predict(x)\n",
    "\n",
    "print(r2_score(y_transformed, y_pred))\n",
    "# Новая модель лучше предыдущей"
   ]
  },
  {
   "cell_type": "markdown",
   "id": "3a656524",
   "metadata": {},
   "source": [
    "#### 1) Инженерные приемы улучшения метрики:\\\n",
    "    * np.log \\\n",
    "    * np.sqrt ..."
   ]
  },
  {
   "cell_type": "markdown",
   "id": "f267c1d8",
   "metadata": {},
   "source": [
    "Оба приема - монотонные: меняются величины, но порядок сохраняется"
   ]
  },
  {
   "cell_type": "markdown",
   "id": "978c159a",
   "metadata": {},
   "source": [
    "#### 2) Z-score normalization\n",
    "    Преобразование, которое позволяет сгладить данные и избавить их от выбросов (есть реализация в sklearn - StandardScaler)"
   ]
  },
  {
   "cell_type": "code",
   "execution_count": 57,
   "id": "ea420272",
   "metadata": {},
   "outputs": [
    {
     "name": "stdout",
     "output_type": "stream",
     "text": [
      "Сырой датасет: [[ 1.5  2.5  3.   4.5 12.   6.7  7.   8.5 14.   7. ]]\n",
      "z_transformed_dataset: [[-1.34387297 -1.08393622 -0.95396785 -0.56406274  1.38546285  0.0077981\n",
      "   0.08577913  0.47568424  1.90533634  0.08577913]]\n"
     ]
    }
   ],
   "source": [
    "from sklearn.preprocessing import StandardScaler\n",
    "raw_data = y\n",
    "print('Сырой датасет: %s' % raw_data.reshape(1, -1))\n",
    "\n",
    "z_transformed_data = StandardScaler().fit_transform(raw_data).reshape(1, -1)\n",
    "print('z_transformed_dataset: %s' % z_transformed_data)"
   ]
  },
  {
   "cell_type": "markdown",
   "id": "097a576e",
   "metadata": {},
   "source": [
    "#### 3) Min/Max normalization \n",
    "(MinMax Scaling)"
   ]
  },
  {
   "cell_type": "markdown",
   "id": "2f46647d",
   "metadata": {},
   "source": [
    "Этот метод переносит все точки в диапазон [0, 1] # внутренние расстояния сохраняются"
   ]
  },
  {
   "cell_type": "markdown",
   "id": "3286a4e4",
   "metadata": {},
   "source": [
    "X_scaled = (X - X_min) / (X_max - X_min)"
   ]
  },
  {
   "cell_type": "code",
   "execution_count": 58,
   "id": "41231970",
   "metadata": {},
   "outputs": [
    {
     "name": "stdout",
     "output_type": "stream",
     "text": [
      "Сырой датасет: [[ 1.5  2.5  3.   4.5 12.   6.7  7.   8.5 14.   7. ]]\n",
      "transformed_dataset: [[0.    0.08  0.12  0.24  0.84  0.416 0.44  0.56  1.    0.44 ]]\n"
     ]
    }
   ],
   "source": [
    "from sklearn.preprocessing import MinMaxScaler\n",
    "raw_data = y\n",
    "print('Сырой датасет: %s' % raw_data.reshape(1, -1))\n",
    "\n",
    "transformed_data = MinMaxScaler().fit_transform(raw_data).reshape(1, -1)\n",
    "print('transformed_dataset: %s' % transformed_data)"
   ]
  },
  {
   "cell_type": "markdown",
   "id": "f01bf4ae",
   "metadata": {},
   "source": [
    "#### Трансформацию данных надо применять в том случае, когда она улучшает ваши метрики!"
   ]
  },
  {
   "cell_type": "markdown",
   "id": "3c5b2018",
   "metadata": {},
   "source": [
    "* построить модель\\\n",
    "* вычислить метрику качества \\\n",
    "* выполнить преобразования \\ \n",
    "* снова вычислить метрику качества \\\n",
    "* если метрика качества выросла, применить трансформацию и т.д"
   ]
  },
  {
   "cell_type": "markdown",
   "id": "bb2c4996",
   "metadata": {},
   "source": [
    "### Задание \n",
    "Дан массив независимой переменной от 1 до 10, у = [1, 3, 4, 2, 10, 5, 5, 2, 5, 10]\\\n",
    "Нормализуйте данные различными способами и постройте графики нормализованных значений. В каком случае предсказаельная модель ведет себя лучше?"
   ]
  },
  {
   "cell_type": "markdown",
   "id": "8cd12901",
   "metadata": {},
   "source": [
    "### Полиномиальная регрессия"
   ]
  },
  {
   "cell_type": "markdown",
   "id": "d5b8178d",
   "metadata": {},
   "source": [
    "Внутри данных очень сложная структура. Они многомерные, что затрудняет анализ. А если данные еще и нелинейны?.."
   ]
  },
  {
   "cell_type": "markdown",
   "id": "49459a19",
   "metadata": {},
   "source": [
    "Модель линейной регрессии можно сделать более гибкой, если использовать нелинейные функции от исходных переменных - подход полиномиальной регрессии."
   ]
  },
  {
   "cell_type": "markdown",
   "id": "a6d36699",
   "metadata": {},
   "source": [
    "Чаще всего под нелинейными функциями подразумеваются степенные. вместо х вычисляются новые фичи - х**2, х**3... \\\n",
    "До того момента, пока качество решения нас не устроит"
   ]
  },
  {
   "cell_type": "code",
   "execution_count": 59,
   "id": "000736de",
   "metadata": {},
   "outputs": [
    {
     "data": {
      "text/plain": [
       "[<matplotlib.lines.Line2D at 0x2072d4be4f0>]"
      ]
     },
     "execution_count": 59,
     "metadata": {},
     "output_type": "execute_result"
    },
    {
     "data": {
      "image/png": "[encoded data removed]",
      "text/plain": [
       "<Figure size 432x288 with 1 Axes>"
      ]
     },
     "metadata": {
      "needs_background": "light"
     },
     "output_type": "display_data"
    }
   ],
   "source": [
    "import numpy as np\n",
    "import matplotlib.pyplot as plt\n",
    "\n",
    "x = np.linspace(-10, 10, num = 100)\n",
    "y = x # хотим отобразить эту функцию на графике\n",
    "\n",
    "plt.plot(x, y)"
   ]
  },
  {
   "cell_type": "code",
   "execution_count": 60,
   "id": "71582aac",
   "metadata": {},
   "outputs": [
    {
     "data": {
      "text/plain": [
       "[<matplotlib.lines.Line2D at 0x2072cd05df0>]"
      ]
     },
     "execution_count": 60,
     "metadata": {},
     "output_type": "execute_result"
    },
    {
     "data": {
      "image/png": "[encoded data removed]",
      "text/plain": [
       "<Figure size 432x288 with 1 Axes>"
      ]
     },
     "metadata": {
      "needs_background": "light"
     },
     "output_type": "display_data"
    }
   ],
   "source": [
    "plt.plot(x, x*x)"
   ]
  },
  {
   "cell_type": "code",
   "execution_count": 61,
   "id": "f49c4113",
   "metadata": {},
   "outputs": [
    {
     "data": {
      "text/plain": [
       "[<matplotlib.lines.Line2D at 0x2072c9a7b20>]"
      ]
     },
     "execution_count": 61,
     "metadata": {},
     "output_type": "execute_result"
    },
    {
     "data": {
      "image/png": "[encoded data removed]",
      "text/plain": [
       "<Figure size 432x288 with 1 Axes>"
      ]
     },
     "metadata": {
      "needs_background": "light"
     },
     "output_type": "display_data"
    }
   ],
   "source": [
    "plt.plot(x, x*x*x)"
   ]
  },
  {
   "cell_type": "markdown",
   "id": "cfe32af4",
   "metadata": {},
   "source": [
    "#### сумма трех функций с разными коэффициентами"
   ]
  },
  {
   "cell_type": "code",
   "execution_count": 62,
   "id": "81e3bb2f",
   "metadata": {},
   "outputs": [
    {
     "data": {
      "text/plain": [
       "[<matplotlib.lines.Line2D at 0x2072c93c640>]"
      ]
     },
     "execution_count": 62,
     "metadata": {},
     "output_type": "execute_result"
    },
    {
     "data": {
      "image/png": "[encoded data removed]",
      "text/plain": [
       "<Figure size 432x288 with 1 Axes>"
      ]
     },
     "metadata": {
      "needs_background": "light"
     },
     "output_type": "display_data"
    }
   ],
   "source": [
    "plt.plot(x, (0.5 * x*x*x + 2.5 * x*x + 0.1 * x))"
   ]
  },
  {
   "cell_type": "markdown",
   "id": "b242abe1",
   "metadata": {},
   "source": [
    "В этом суть полиномиальной регрессии - мы можем сгенерировать несколько признаков из одного."
   ]
  },
  {
   "cell_type": "code",
   "execution_count": 63,
   "id": "0048e3b9",
   "metadata": {},
   "outputs": [],
   "source": [
    "import pandas as pd"
   ]
  },
  {
   "cell_type": "code",
   "execution_count": 64,
   "id": "d5c2ff8a",
   "metadata": {},
   "outputs": [],
   "source": [
    "df = pd.read_csv('C:/Users/student/Desktop/non_linear.csv')"
   ]
  },
  {
   "cell_type": "code",
   "execution_count": 65,
   "id": "95f40593",
   "metadata": {},
   "outputs": [
    {
     "data": {
      "text/html": [
       "<div>\n",
       "<style scoped>\n",
       "    .dataframe tbody tr th:only-of-type {\n",
       "        vertical-align: middle;\n",
       "    }\n",
       "\n",
       "    .dataframe tbody tr th {\n",
       "        vertical-align: top;\n",
       "    }\n",
       "\n",
       "    .dataframe thead th {\n",
       "        text-align: right;\n",
       "    }\n",
       "</style>\n",
       "<table border=\"1\" class=\"dataframe\">\n",
       "  <thead>\n",
       "    <tr style=\"text-align: right;\">\n",
       "      <th></th>\n",
       "      <th>x_train</th>\n",
       "      <th>y_train</th>\n",
       "    </tr>\n",
       "  </thead>\n",
       "  <tbody>\n",
       "    <tr>\n",
       "      <th>0</th>\n",
       "      <td>0.138368</td>\n",
       "      <td>0.838812</td>\n",
       "    </tr>\n",
       "    <tr>\n",
       "      <th>1</th>\n",
       "      <td>0.157237</td>\n",
       "      <td>0.889313</td>\n",
       "    </tr>\n",
       "  </tbody>\n",
       "</table>\n",
       "</div>"
      ],
      "text/plain": [
       "    x_train   y_train\n",
       "0  0.138368  0.838812\n",
       "1  0.157237  0.889313"
      ]
     },
     "execution_count": 65,
     "metadata": {},
     "output_type": "execute_result"
    }
   ],
   "source": [
    "df[:2]"
   ]
  },
  {
   "cell_type": "code",
   "execution_count": 66,
   "id": "49deac24",
   "metadata": {},
   "outputs": [
    {
     "data": {
      "text/plain": [
       "<matplotlib.collections.PathCollection at 0x2072cbcc6d0>"
      ]
     },
     "execution_count": 66,
     "metadata": {},
     "output_type": "execute_result"
    },
    {
     "data": {
      "image/png": "[encoded data removed]",
      "text/plain": [
       "<Figure size 432x288 with 1 Axes>"
      ]
     },
     "metadata": {
      "needs_background": "light"
     },
     "output_type": "display_data"
    }
   ],
   "source": [
    "plt.scatter(df.x_train, df.y_train, 40, 'g', 'o', alpha = 0.8)\n",
    "# зависимость нелинейная"
   ]
  },
  {
   "cell_type": "markdown",
   "id": "ccdd01b8",
   "metadata": {},
   "source": [
    "Обучим модель"
   ]
  },
  {
   "cell_type": "code",
   "execution_count": 67,
   "id": "65baaa94",
   "metadata": {},
   "outputs": [],
   "source": [
    "from sklearn.linear_model import LinearRegression\n",
    "\n",
    "reg = LinearRegression().fit(df[['x_train']], df.y_train)\n",
    "\n",
    "y_hat = reg.predict(df[['x_train']])"
   ]
  },
  {
   "cell_type": "code",
   "execution_count": 68,
   "id": "852c4e29",
   "metadata": {},
   "outputs": [
    {
     "data": {
      "text/plain": [
       "[<matplotlib.lines.Line2D at 0x2072cc0f8b0>]"
      ]
     },
     "execution_count": 68,
     "metadata": {},
     "output_type": "execute_result"
    },
    {
     "data": {
      "image/png": "[encoded data removed]",
      "text/plain": [
       "<Figure size 432x288 with 1 Axes>"
      ]
     },
     "metadata": {
      "needs_background": "light"
     },
     "output_type": "display_data"
    }
   ],
   "source": [
    "plt.scatter(df.x_train, df.y_train, 40, 'g', 'o', alpha = 0.8)\n",
    "plt.plot(df.x_train, y_hat, 'r', alpha = 0.8)\n",
    "# Прямая не в полной мере отображает то, как на самом деле ведут себя точки\n",
    "\n"
   ]
  },
  {
   "cell_type": "markdown",
   "id": "5998aefd",
   "metadata": {},
   "source": [
    "### Задание"
   ]
  },
  {
   "cell_type": "markdown",
   "id": "a0e0f9a9",
   "metadata": {},
   "source": [
    "#### Посчитайте метрики ошибок"
   ]
  },
  {
   "cell_type": "code",
   "execution_count": null,
   "id": "nominated-apple",
   "metadata": {},
   "outputs": [],
   "source": []
  },
  {
   "cell_type": "code",
   "execution_count": 69,
   "id": "f59d84d3",
   "metadata": {},
   "outputs": [],
   "source": [
    "# Создадим функцию, которая принимает на вход одномерный массив, а возвращает n-мерный \n",
    "# (для каждой степени от 1 до degree)\n",
    "\n",
    "def generate_degrees(source_data: list, degree: int):\n",
    "    return np.array([source_data ** n for n in range (1, degree + 1)]).T"
   ]
  },
  {
   "cell_type": "code",
   "execution_count": 70,
   "id": "d125d6eb",
   "metadata": {},
   "outputs": [
    {
     "data": {
      "text/plain": [
       "(50, 5)"
      ]
     },
     "execution_count": 70,
     "metadata": {},
     "output_type": "execute_result"
    }
   ],
   "source": [
    "degree = 5\n",
    "X_5 = (generate_degrees(df.x_train, degree))\n",
    "X_5.shape"
   ]
  },
  {
   "cell_type": "markdown",
   "id": "e705f4f7",
   "metadata": {},
   "source": [
    "#### Как выглядит линейная регресия, обученная на полиномах различных степеней?"
   ]
  },
  {
   "cell_type": "code",
   "execution_count": 71,
   "id": "1e31f574",
   "metadata": {},
   "outputs": [],
   "source": [
    "def train_polynomial (degree, df):\n",
    "    X = generate_degrees(df.x_train, degree) # генерим данные\n",
    "    model = LinearRegression().fit(X, df.y_train) # тренируем модель\n",
    "    y_pred = model.predict(X)\n",
    "    error = mean_squared_error(df.y_train, y_pred)\n",
    "    print('Степень полинома  = %d; RMSE = %.3f' % (degree, error))\n",
    "    plt.scatter(df.x_train, df.y_train, 40, 'g', '^', alpha = 0.8, label = 'data') # рисуем график\n",
    "    plt.plot(df.x_train, y_pred)"
   ]
  },
  {
   "cell_type": "markdown",
   "id": "c349c63e",
   "metadata": {},
   "source": [
    "Хотим подобрать ту степень полинома, которая будет уменьшать размер ошибки"
   ]
  },
  {
   "cell_type": "code",
   "execution_count": 72,
   "id": "c154fe0f",
   "metadata": {},
   "outputs": [
    {
     "name": "stdout",
     "output_type": "stream",
     "text": [
      "Степень полинома  = 18; RMSE = 0.057\n"
     ]
    },
    {
     "data": {
      "image/png": "[encoded data removed]",
      "text/plain": [
       "<Figure size 432x288 with 1 Axes>"
      ]
     },
     "metadata": {
      "needs_background": "light"
     },
     "output_type": "display_data"
    }
   ],
   "source": [
    "degree = 18\n",
    "\n",
    "train_polynomial(degree, df)\n",
    "# Большая степень дает нашей кривой больше свободы\n",
    "# Но! С ростом степени полинома ошибка сначала уменьшается, потом опять начинает расти\\\n",
    "# снижается обобщающая способность (критично при появлении новых данных)"
   ]
  },
  {
   "cell_type": "markdown",
   "id": "6355efb3",
   "metadata": {},
   "source": [
    "### Задание"
   ]
  },
  {
   "cell_type": "markdown",
   "id": "2b052162",
   "metadata": {},
   "source": [
    "Реализуйте код для выбора лучшей степени полиному:\n",
    "\n",
    "* возьмите все степени от 1 до 10 по порядку, без пропусков.\n",
    "* найдите степень полинома, где будет лучший r2-score\n",
    "* напишите код, который выводит самую подходящую степень полинома и соответствующий ей скор\n",
    "\n",
    "Эта процедура называется Grid Search и помогает найти лучшие параметры для модели.\n",
    "\n",
    "Обучите лучшую модель и сделайте predict"
   ]
  },
  {
   "cell_type": "code",
   "execution_count": 73,
   "id": "ef18f48f",
   "metadata": {},
   "outputs": [
    {
     "name": "stdout",
     "output_type": "stream",
     "text": [
      "При степени полинома = 1 , r2_score = 0.51947\n",
      "При степени полинома = 2 , r2_score = 0.53347\n",
      "При степени полинома = 3 , r2_score = 0.88840\n",
      "При степени полинома = 4 , r2_score = 0.89549\n",
      "При степени полинома = 5 , r2_score = 0.89556\n",
      "При степени полинома = 6 , r2_score = 0.89934\n",
      "При степени полинома = 7 , r2_score = 0.90046\n",
      "При степени полинома = 8 , r2_score = 0.90866\n",
      "При степени полинома = 9 , r2_score = 0.90881\n",
      "При степени полинома = 10 , r2_score = 0.90911\n",
      "При степени полинома = 11 , r2_score = 0.90939\n",
      "При степени полинома = 12 , r2_score = 0.91096\n",
      "При степени полинома = 13 , r2_score = 0.91365\n",
      "При степени полинома = 14 , r2_score = 0.91639\n",
      "При степени полинома = 15 , r2_score = 0.91607\n",
      "При степени полинома = 16 , r2_score = 0.91183\n",
      "При степени полинома = 17 , r2_score = 0.90864\n",
      "При степени полинома = 18 , r2_score = 0.91048\n",
      "При степени полинома = 19 , r2_score = 0.90060\n",
      "При степени полинома = 20 , r2_score = 0.89470\n"
     ]
    }
   ],
   "source": [
    "degree = 20\n",
    "X = generate_degrees(df.x_train, degree)\n",
    "\n",
    "def grid_search_polynom(degree, df):\n",
    "    X = generate_degrees(df.x_train, degree)\n",
    "    model = LinearRegression().fit(X, df.y_train)\n",
    "    y_pred = model.predict(X)\n",
    "    r2_sq = r2_score(df.y_train, y_pred)\n",
    "    print('При степени полинома = %d , r2_score = %.5f' % (degree, r2_sq))\n",
    "\n",
    "for i in range(1, degree + 1):\n",
    "    grid_search_polynom(i, df)\n",
    "    \n",
    "   \n"
   ]
  },
  {
   "cell_type": "markdown",
   "id": "15b8cdc1",
   "metadata": {},
   "source": [
    "### Регуляризация"
   ]
  },
  {
   "cell_type": "markdown",
   "id": "46d512be",
   "metadata": {},
   "source": [
    "Специальная модификация модели линейной регрессии - Способ борьбы с переобучением (оверфиттинг)"
   ]
  },
  {
   "cell_type": "markdown",
   "id": "7684c1d5",
   "metadata": {},
   "source": [
    "Почему происходит переобучение? \\\n",
    "Все дело в механизме, с помощью которого мы подбираем параметры моделей \\\n",
    "Мы выбираем модель, которая дает лучший скор на обучающих данных"
   ]
  },
  {
   "cell_type": "markdown",
   "id": "f78b7ff6",
   "metadata": {},
   "source": [
    "Как же детектировать переобучение?"
   ]
  },
  {
   "cell_type": "markdown",
   "id": "0ad84f25",
   "metadata": {},
   "source": [
    "#### Контроль на отложенной (валидационной) выборке (алгоритм)"
   ]
  },
  {
   "cell_type": "markdown",
   "id": "5df1c4f9",
   "metadata": {},
   "source": [
    "1) разбиваем обучающую выборку на 2 части: по 80% (train_set) и 20% (validation_set) обучающих примеров \\\n",
    "2) выбираем метрику качества модели \\\n",
    "3) обучаем модель на тренировочном наборе данных \\\n",
    "4) делаем предсказание на валидационном наборе данных и вычисляем метрику качества"
   ]
  },
  {
   "cell_type": "markdown",
   "id": "8de21bdc",
   "metadata": {},
   "source": [
    "#### Если качество на валидации сильно хуже, чем на обучающем сете - модель переобучилась. "
   ]
  },
  {
   "cell_type": "markdown",
   "id": "a4c05576",
   "metadata": {},
   "source": [
    "Переобученную модель использовать нельзя, надо исправлять"
   ]
  },
  {
   "cell_type": "markdown",
   "id": "3ce5ba3b",
   "metadata": {},
   "source": [
    "В стандартной библиотеке sklearn есть два класса, в которых реализована регуляризация:\\\n",
    "* sklearn.linear_model.Ridge;\n",
    "* sklearn.linear_model.Lasso."
   ]
  },
  {
   "cell_type": "markdown",
   "id": "68c3cbb8",
   "metadata": {},
   "source": [
    "Ridge и Lasso принимают на вход т.н. параметр регуляризации alpha, который принимает значения от 0 до 1. Чем ближе к 1, тем регуляризация сильнее (тем сильнее мы 'наказываем' модель за сильную подгонку под обучающие данные)."
   ]
  },
  {
   "cell_type": "code",
   "execution_count": 74,
   "id": "f6c74690",
   "metadata": {},
   "outputs": [],
   "source": [
    "from sklearn.model_selection import train_test_split\n",
    "from sklearn.linear_model import Ridge, Lasso\n",
    "from sklearn.metrics import mean_squared_error\n",
    "\n",
    "def generate_degrees(source_data: list, degree: int):\n",
    "    return np.array([source_data ** n for n in range (1, degree + 1)]).T"
   ]
  },
  {
   "cell_type": "code",
   "execution_count": 75,
   "id": "f163e981",
   "metadata": {},
   "outputs": [
    {
     "data": {
      "text/plain": [
       "(50, 8)"
      ]
     },
     "execution_count": 75,
     "metadata": {},
     "output_type": "execute_result"
    }
   ],
   "source": [
    "# сгенерируем данные для степени полинома degree = 8\n",
    "degree = 8\n",
    "X = generate_degrees(df.x_train, degree)\n",
    "X.shape"
   ]
  },
  {
   "cell_type": "code",
   "execution_count": 76,
   "id": "85ae7183",
   "metadata": {},
   "outputs": [
    {
     "data": {
      "text/plain": [
       "(50,)"
      ]
     },
     "execution_count": 76,
     "metadata": {},
     "output_type": "execute_result"
    }
   ],
   "source": [
    "y = df.y_train.values # чтобы получить не объект из данных, а массив np.array\n",
    "y.shape"
   ]
  },
  {
   "cell_type": "code",
   "execution_count": 77,
   "id": "e09399e5",
   "metadata": {},
   "outputs": [],
   "source": [
    "# Сгенерируем разбиение данных на тренировочную и валидационную выборки\n",
    "X_train, X_valid, y_train, y_valid = train_test_split(X, y, test_size = 0.2, random_state=10)\n",
    "# random_state - разбиение не случайно\n",
    "# test_size (20% - валидационная, 80% - обучающая)\n",
    "# train_test_split возвращает 4 типа переменных"
   ]
  },
  {
   "cell_type": "code",
   "execution_count": 78,
   "id": "cfc7c453",
   "metadata": {},
   "outputs": [
    {
     "data": {
      "text/plain": [
       "(40, 8)"
      ]
     },
     "execution_count": 78,
     "metadata": {},
     "output_type": "execute_result"
    }
   ],
   "source": [
    "X_train.shape"
   ]
  },
  {
   "cell_type": "code",
   "execution_count": 79,
   "id": "632b27c5",
   "metadata": {},
   "outputs": [
    {
     "data": {
      "text/plain": [
       "(10,)"
      ]
     },
     "execution_count": 79,
     "metadata": {},
     "output_type": "execute_result"
    }
   ],
   "source": [
    "y_valid.shape"
   ]
  },
  {
   "cell_type": "code",
   "execution_count": 80,
   "id": "70d2bd6d",
   "metadata": {},
   "outputs": [
    {
     "name": "stderr",
     "output_type": "stream",
     "text": [
      "C:\\ProgramData\\Anaconda3\\lib\\site-packages\\sklearn\\linear_model\\_ridge.py:157: LinAlgWarning: Ill-conditioned matrix (rcond=7.97781e-18): result may not be accurate.\n",
      "  return linalg.solve(A, Xy, sym_pos=True, overwrite_a=True).T\n"
     ]
    }
   ],
   "source": [
    "# Обучим модель Ridge регрессии на тестовых данных\n",
    "# формируем класс Ridge и передаем ему параметр регуляризации \n",
    "# alpha = 0 (означает, что никакой регуляризации нет)\n",
    "model = Ridge(alpha = 0).fit(X_train, y_train) # модель на тренировочных данных обучена"
   ]
  },
  {
   "cell_type": "code",
   "execution_count": 81,
   "id": "2ed102ce",
   "metadata": {},
   "outputs": [],
   "source": [
    "# Получим предсказания модели\n",
    "# Обучились на одних данных, а значение хотим предсказать на валидационной выборке\n",
    "y_pred = model.predict(X_valid) # Получили предсказание на данных, которых наша модель никогда раньше не видела"
   ]
  },
  {
   "cell_type": "code",
   "execution_count": 82,
   "id": "d1ffabdb",
   "metadata": {},
   "outputs": [],
   "source": [
    "# Получим еще предсказание на той выборке, на которой обучали нашу модель\n",
    "y_pred_train = model.predict(X_train)"
   ]
  },
  {
   "cell_type": "code",
   "execution_count": 83,
   "id": "555793ef",
   "metadata": {},
   "outputs": [
    {
     "name": "stdout",
     "output_type": "stream",
     "text": [
      "Качество валидации = 0.119\n",
      "Качество обучения = 0.052\n"
     ]
    }
   ],
   "source": [
    "# Оценим качество нашей модели\n",
    "print('Качество валидации = %.3f' % mean_squared_error(y_valid, y_pred))\n",
    "print('Качество обучения = %.3f' % mean_squared_error(y_train, y_pred_train))"
   ]
  },
  {
   "cell_type": "markdown",
   "id": "surprising-admission",
   "metadata": {},
   "source": [
    "### Задание \n",
    "обучите модель для степени полинома = 12"
   ]
  },
  {
   "cell_type": "markdown",
   "id": "b38e0b6b",
   "metadata": {},
   "source": [
    "#### Задание \n",
    "победите переобучение самостоятельно. \\\n",
    "Обучите Ridge регрессию с параметром регуляризации, подберите лучшийю \\\n",
    "Удалось ли победить переобучение?\n",
    "\n",
    "\n",
    "\n",
    "\n",
    "= 0.01 для 12-й степени полинома, как изменилась ошибка?"
   ]
  },
  {
   "cell_type": "markdown",
   "id": "a71461c5",
   "metadata": {},
   "source": [
    "### Как найти степень, в которой недообученная модель становится переобученной? И как найти золотую середину?"
   ]
  },
  {
   "cell_type": "markdown",
   "id": "545166e0",
   "metadata": {},
   "source": [
    "Обучим полиномиальную регрессию для 3-х различных степеней "
   ]
  },
  {
   "cell_type": "markdown",
   "id": "52ff45e7",
   "metadata": {},
   "source": [
    "Норма вектора - корень из суммы квадратов коэффициентов линейной регрессии. Чтобы избавиться от корня, возводим в квадрат - сумма квадратов коэффициентов регрессии. \\\n",
    "Готовая функция norm из numpy"
   ]
  },
  {
   "cell_type": "markdown",
   "id": "316a5d69",
   "metadata": {},
   "source": [
    "#### Реализуем функцию для обучения линейной регрессии"
   ]
  },
  {
   "cell_type": "code",
   "execution_count": 84,
   "id": "f4fd2830",
   "metadata": {},
   "outputs": [],
   "source": [
    "import pandas as pd\n",
    "import numpy as np\n",
    "data = pd.read_csv('C:/Users/student/Desktop/non_linear.csv')"
   ]
  },
  {
   "cell_type": "code",
   "execution_count": 85,
   "id": "f909a907",
   "metadata": {
    "scrolled": true
   },
   "outputs": [
    {
     "data": {
      "text/html": [
       "<div>\n",
       "<style scoped>\n",
       "    .dataframe tbody tr th:only-of-type {\n",
       "        vertical-align: middle;\n",
       "    }\n",
       "\n",
       "    .dataframe tbody tr th {\n",
       "        vertical-align: top;\n",
       "    }\n",
       "\n",
       "    .dataframe thead th {\n",
       "        text-align: right;\n",
       "    }\n",
       "</style>\n",
       "<table border=\"1\" class=\"dataframe\">\n",
       "  <thead>\n",
       "    <tr style=\"text-align: right;\">\n",
       "      <th></th>\n",
       "      <th>x_train</th>\n",
       "      <th>y_train</th>\n",
       "    </tr>\n",
       "  </thead>\n",
       "  <tbody>\n",
       "    <tr>\n",
       "      <th>0</th>\n",
       "      <td>0.138368</td>\n",
       "      <td>0.838812</td>\n",
       "    </tr>\n",
       "    <tr>\n",
       "      <th>1</th>\n",
       "      <td>0.157237</td>\n",
       "      <td>0.889313</td>\n",
       "    </tr>\n",
       "  </tbody>\n",
       "</table>\n",
       "</div>"
      ],
      "text/plain": [
       "    x_train   y_train\n",
       "0  0.138368  0.838812\n",
       "1  0.157237  0.889313"
      ]
     },
     "execution_count": 85,
     "metadata": {},
     "output_type": "execute_result"
    }
   ],
   "source": [
    "data[:2]"
   ]
  },
  {
   "cell_type": "code",
   "execution_count": 86,
   "id": "1f2f7f18",
   "metadata": {},
   "outputs": [],
   "source": [
    "from sklearn.linear_model import LinearRegression\n",
    "from numpy.linalg import norm # модуль нормы вектора\n",
    "from sklearn.metrics import mean_squared_error\n",
    "from sklearn.model_selection import train_test_split\n"
   ]
  },
  {
   "cell_type": "code",
   "execution_count": 87,
   "id": "81f79cac",
   "metadata": {},
   "outputs": [],
   "source": [
    "degree = 12"
   ]
  },
  {
   "cell_type": "code",
   "execution_count": 88,
   "id": "79aadf6f",
   "metadata": {},
   "outputs": [],
   "source": [
    "def generate_degrees(source_data: list, degree: int):\n",
    "    \"\"\"Функция, которая принимает на вход одномерный массив, а возвращает n-мерный\n",
    "    Для каждой степени от 1 до  degree возводим x в эту степень\n",
    "    \"\"\"\n",
    "    return np.array([\n",
    "          source_data**n for n in range(1, degree + 1)  \n",
    "    ]).T"
   ]
  },
  {
   "cell_type": "code",
   "execution_count": 89,
   "id": "9ca71244",
   "metadata": {},
   "outputs": [
    {
     "name": "stdout",
     "output_type": "stream",
     "text": [
      "Степень полинома 12\n",
      "Ошибка на валидации 0.125\n",
      "Ошибка на обучении 0.051\n",
      "Норма вектора весов \t||w|| = 225.51\n"
     ]
    },
    {
     "data": {
      "text/plain": [
       "[<matplotlib.lines.Line2D at 0x2072d83f250>]"
      ]
     },
     "execution_count": 89,
     "metadata": {},
     "output_type": "execute_result"
    },
    {
     "data": {
      "image/png": "[encoded data removed]",
      "text/plain": [
       "<Figure size 432x288 with 1 Axes>"
      ]
     },
     "metadata": {
      "needs_background": "light"
     },
     "output_type": "display_data"
    }
   ],
   "source": [
    "X = generate_degrees(data['x_train'], degree)\n",
    "y = data.y_train.values # выделяем целевую переменную у\n",
    "X_train, X_valid, y_train, y_valid = train_test_split(X, y, test_size=0.2, random_state=10)\n",
    "model = LinearRegression().fit(X_train, y_train)\n",
    "y_pred = model.predict(X_valid)\n",
    "y_pred_train = model.predict(X_train)\n",
    "error_valid = mean_squared_error(y_valid, y_pred)\n",
    "error_train = mean_squared_error(y_train, y_pred_train)\n",
    "print(\n",
    "        \"Степень полинома %d\\nОшибка на валидации %.3f\\nОшибка на обучении %.3f\" %\n",
    "        (degree, error_valid, error_train)\n",
    "    )\n",
    "order_test = np.argsort(X_valid[:,0])\n",
    "#train_test_split перемешивает данные, но чтобы проще было их визуализировать, можно ввести order_test (порядок на тестовых данных)\n",
    "#argsort - сортирует массив от меньшего значения к большему и возвращает индексы элементов в отсортированном массиве\n",
    "\n",
    "plt.scatter(X_valid[:,0][order_test], y_valid[order_test], 40, 'r', 'o', alpha=0.8)\n",
    "print(\"Норма вектора весов \\t||w|| = %.2f\" % (norm(model.coef_)))\n",
    "# визуализируем решение\n",
    "# linspace - функция, которая генерирует все точки в заданном диапазоне\n",
    "x_linspace = np.linspace(data['x_train'].min(), data['x_train'].max(), num=100)\n",
    "# Надо посчитать предсказание модели во всех этих точках, чтобы график функции был непрерывным\n",
    "# вызываем метод predict и мередаем в него метод linspace\n",
    "y_linspace = model.predict(generate_degrees(x_linspace, degree))\n",
    "plt.plot(x_linspace, y_linspace)"
   ]
  },
  {
   "cell_type": "code",
   "execution_count": 90,
   "id": "5423f5b7",
   "metadata": {},
   "outputs": [],
   "source": [
    "degrees = []\n",
    "valid_errors = []\n",
    "train_errors = []\n",
    "w_norm = []"
   ]
  },
  {
   "cell_type": "code",
   "execution_count": 91,
   "id": "e8cfcf27",
   "metadata": {},
   "outputs": [],
   "source": [
    "def generate_degrees(source_data: list, degree: int):\n",
    "    \"\"\"Функция, которая принимает на вход одномерный массив, а возвращает n-мерный\n",
    "    Для каждой степени от 1 до  degree возводим x в эту степень\n",
    "    \"\"\"\n",
    "    return np.array([\n",
    "          source_data**n for n in range(1, degree + 1)  \n",
    "    ]).T\n",
    "\n",
    "def train_polynomial(degree, data):\n",
    "    \"\"\"Генерим данные, тренируем модель  \n",
    "    дополнительно рисуем график\n",
    "    \"\"\"\n",
    "    X = generate_degrees(data['x_train'], degree)\n",
    "    y = data.y_train.values\n",
    "    X_train, X_valid, y_train, y_valid = train_test_split(X, y, test_size=0.2, random_state=10)\n",
    "    model = LinearRegression().fit(X_train, y_train)\n",
    "    y_pred = model.predict(X_valid)\n",
    "    y_pred_train = model.predict(X_train)\n",
    "    error_valid = mean_squared_error(y_valid, y_pred)\n",
    "    error_train = mean_squared_error(y_train, y_pred_train)\n",
    "    print(\n",
    "        \"Степень полинома %d\\nОшибка на валидации %.3f\\nОшибка на обучении %.3f\" %\n",
    "        (degree, error_valid, error_train)\n",
    "    )\n",
    "    order_test = np.argsort(X_valid[:,0])\n",
    "    plt.scatter(X_valid[:,0][order_test], y_valid[order_test], 40, 'r', 'o', alpha=0.8)\n",
    "    print(\"Норма вектора весов \\t||w|| = %.2f\" % (norm(model.coef_)))\n",
    "    # визуализируем решение\n",
    "    x_linspace = np.linspace(data['x_train'].min(), data['x_train'].max(), num=100)\n",
    "    y_linspace = model.predict(generate_degrees(x_linspace, degree))\n",
    "    plt.plot(x_linspace, y_linspace)\n",
    "    return error_valid, error_train, norm(model.coef_)\n",
    "\n",
    "degrees = []\n",
    "valid_errors = []\n",
    "train_errors = []\n",
    "w_norm = []"
   ]
  },
  {
   "cell_type": "code",
   "execution_count": 92,
   "id": "eb9fd087",
   "metadata": {},
   "outputs": [
    {
     "name": "stdout",
     "output_type": "stream",
     "text": [
      "Степень полинома 3\n",
      "Ошибка на валидации 0.051\n",
      "Ошибка на обучении 0.077\n",
      "Норма вектора весов \t||w|| = 2.19\n"
     ]
    },
    {
     "data": {
      "image/png": "[encoded data removed]",
      "text/plain": [
       "<Figure size 432x288 with 1 Axes>"
      ]
     },
     "metadata": {
      "needs_background": "light"
     },
     "output_type": "display_data"
    }
   ],
   "source": [
    "degree = 3\n",
    "\n",
    "error_valid, error_train, coef_norm = train_polynomial(degree, data)\n",
    "# Сохраним наши полученные результаты\n",
    "degrees.append(degree)\n",
    "valid_errors.append(error_valid)\n",
    "train_errors.append(error_train)\n",
    "w_norm.append(coef_norm)"
   ]
  },
  {
   "cell_type": "code",
   "execution_count": 93,
   "id": "97a00e70",
   "metadata": {},
   "outputs": [
    {
     "name": "stdout",
     "output_type": "stream",
     "text": [
      "Степень полинома 5\n",
      "Ошибка на валидации 0.063\n",
      "Ошибка на обучении 0.069\n",
      "Норма вектора весов \t||w|| = 3.31\n"
     ]
    },
    {
     "data": {
      "image/png": "[encoded data removed]",
      "text/plain": [
       "<Figure size 432x288 with 1 Axes>"
      ]
     },
     "metadata": {
      "needs_background": "light"
     },
     "output_type": "display_data"
    }
   ],
   "source": [
    "degree = 5\n",
    "\n",
    "error_valid, error_train, coef_norm = train_polynomial(degree, data)\n",
    "\n",
    "degrees.append(degree)\n",
    "valid_errors.append(error_valid)\n",
    "train_errors.append(error_train)\n",
    "w_norm.append(coef_norm)"
   ]
  },
  {
   "cell_type": "code",
   "execution_count": 94,
   "id": "d63ee13e",
   "metadata": {},
   "outputs": [
    {
     "name": "stdout",
     "output_type": "stream",
     "text": [
      "Степень полинома 10\n",
      "Ошибка на валидации 0.122\n",
      "Ошибка на обучении 0.052\n",
      "Норма вектора весов \t||w|| = 120.14\n"
     ]
    },
    {
     "data": {
      "image/png": "[encoded data removed]",
      "text/plain": [
       "<Figure size 432x288 with 1 Axes>"
      ]
     },
     "metadata": {
      "needs_background": "light"
     },
     "output_type": "display_data"
    }
   ],
   "source": [
    "degree = 10\n",
    "\n",
    "error_valid, error_train, coef_norm = train_polynomial(degree, data)\n",
    "\n",
    "degrees.append(degree)\n",
    "valid_errors.append(error_valid)\n",
    "train_errors.append(error_train)\n",
    "w_norm.append(coef_norm)"
   ]
  },
  {
   "cell_type": "markdown",
   "id": "34efcb21",
   "metadata": {},
   "source": [
    "#### Выводы"
   ]
  },
  {
   "cell_type": "markdown",
   "id": "b767f83a",
   "metadata": {},
   "source": [
    "1) При росте степени полинома ошибка на тренировочных данных падает \\\n",
    "2) С ростом степени полинома ошибка на валидации растет \\\n",
    "3) Если растет степень полинома, то норма вектора коэффициентов линейной регрессии тоже начинает расти"
   ]
  },
  {
   "cell_type": "code",
   "execution_count": 95,
   "id": "76e9af0c",
   "metadata": {},
   "outputs": [
    {
     "data": {
      "image/png": "[encoded data removed]",
      "text/plain": [
       "<Figure size 432x288 with 1 Axes>"
      ]
     },
     "metadata": {
      "needs_background": "light"
     },
     "output_type": "display_data"
    }
   ],
   "source": [
    "from matplotlib import pyplot\n",
    "%matplotlib inline\n",
    "\n",
    "fig, ax = plt.subplots()\n",
    "ax.plot(degrees, valid_errors, 'k--', label='Validation error')\n",
    "ax.plot(degrees, train_errors, 'k:', label='Train error')\n",
    "\n",
    "legend = ax.legend(loc='upper center', shadow=True, fontsize='x-large')\n",
    "\n",
    "plt.show()"
   ]
  },
  {
   "cell_type": "code",
   "execution_count": null,
   "id": "4741372d",
   "metadata": {},
   "outputs": [],
   "source": []
  },
  {
   "cell_type": "code",
   "execution_count": null,
   "id": "57a908a3",
   "metadata": {},
   "outputs": [],
   "source": []
  },
  {
   "cell_type": "code",
   "execution_count": null,
   "id": "037b76c7",
   "metadata": {},
   "outputs": [],
   "source": []
  },
  {
   "cell_type": "code",
   "execution_count": null,
   "id": "7ee7a36f",
   "metadata": {},
   "outputs": [],
   "source": []
  },
  {
   "cell_type": "code",
   "execution_count": null,
   "id": "eabc4afc",
   "metadata": {},
   "outputs": [],
   "source": []
  },
  {
   "cell_type": "code",
   "execution_count": null,
   "id": "c58f1be2",
   "metadata": {},
   "outputs": [],
   "source": []
  },
  {
   "cell_type": "code",
   "execution_count": null,
   "id": "5ccc8818",
   "metadata": {},
   "outputs": [],
   "source": []
  }
 ],
 "metadata": {
  "kernelspec": {
   "display_name": "Python 3 (ipykernel)",
   "language": "python",
   "name": "python3"
  },
  "language_info": {
   "codemirror_mode": {
    "name": "ipython",
    "version": 3
   },
   "file_extension": ".py",
   "mimetype": "text/x-python",
   "name": "python",
   "nbconvert_exporter": "python",
   "pygments_lexer": "ipython3",
   "version": "3.9.12"
  }
 },
 "nbformat": 4,
 "nbformat_minor": 5
}
