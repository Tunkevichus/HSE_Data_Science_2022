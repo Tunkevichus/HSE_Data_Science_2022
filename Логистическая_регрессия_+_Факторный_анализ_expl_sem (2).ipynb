{
 "cells": [
  {
   "cell_type": "markdown",
   "id": "ce0445fa",
   "metadata": {},
   "source": [
    "# Логистическая регрессия"
   ]
  },
  {
   "cell_type": "markdown",
   "id": "281852c7",
   "metadata": {},
   "source": [
    "В основе - 2 класса объектов - задачей бинарной классификации (вероятность принадлежности к тому или иному классу).\\\n",
    "Целевая переменная ограничена дискретным набором значений"
   ]
  },
  {
   "cell_type": "code",
   "execution_count": 1,
   "id": "9c2f8943",
   "metadata": {},
   "outputs": [],
   "source": [
    "import pandas as pd\n",
    "import numpy as np\n",
    "import matplotlib.pyplot as plt"
   ]
  },
  {
   "cell_type": "code",
   "execution_count": 2,
   "id": "675d9247",
   "metadata": {},
   "outputs": [],
   "source": [
    "df = pd.read_csv('C:/Users/Inga/Market_test/Логистическая регрессия/tips_extended.csv')"
   ]
  },
  {
   "cell_type": "code",
   "execution_count": 3,
   "id": "494ec456",
   "metadata": {
    "scrolled": true
   },
   "outputs": [
    {
     "data": {
      "text/html": [
       "<div>\n",
       "<style scoped>\n",
       "    .dataframe tbody tr th:only-of-type {\n",
       "        vertical-align: middle;\n",
       "    }\n",
       "\n",
       "    .dataframe tbody tr th {\n",
       "        vertical-align: top;\n",
       "    }\n",
       "\n",
       "    .dataframe thead th {\n",
       "        text-align: right;\n",
       "    }\n",
       "</style>\n",
       "<table border=\"1\" class=\"dataframe\">\n",
       "  <thead>\n",
       "    <tr style=\"text-align: right;\">\n",
       "      <th></th>\n",
       "      <th>Bill</th>\n",
       "      <th>Number_of_People</th>\n",
       "      <th>Arrived_in</th>\n",
       "      <th>Time_of_visit</th>\n",
       "      <th>Tips</th>\n",
       "    </tr>\n",
       "  </thead>\n",
       "  <tbody>\n",
       "    <tr>\n",
       "      <th>0</th>\n",
       "      <td>16</td>\n",
       "      <td>1</td>\n",
       "      <td>bike</td>\n",
       "      <td>morning</td>\n",
       "      <td>0</td>\n",
       "    </tr>\n",
       "    <tr>\n",
       "      <th>1</th>\n",
       "      <td>23</td>\n",
       "      <td>2</td>\n",
       "      <td>bike</td>\n",
       "      <td>morning</td>\n",
       "      <td>0</td>\n",
       "    </tr>\n",
       "  </tbody>\n",
       "</table>\n",
       "</div>"
      ],
      "text/plain": [
       "   Bill  Number_of_People Arrived_in Time_of_visit  Tips\n",
       "0    16                 1       bike       morning     0\n",
       "1    23                 2       bike       morning     0"
      ]
     },
     "execution_count": 3,
     "metadata": {},
     "output_type": "execute_result"
    }
   ],
   "source": [
    "df[:2]"
   ]
  },
  {
   "cell_type": "code",
   "execution_count": 4,
   "id": "cb8413c2",
   "metadata": {},
   "outputs": [
    {
     "name": "stdout",
     "output_type": "stream",
     "text": [
      "<class 'pandas.core.frame.DataFrame'>\n",
      "RangeIndex: 50 entries, 0 to 49\n",
      "Data columns (total 5 columns):\n",
      " #   Column            Non-Null Count  Dtype \n",
      "---  ------            --------------  ----- \n",
      " 0   Bill              50 non-null     int64 \n",
      " 1   Number_of_People  50 non-null     int64 \n",
      " 2   Arrived_in        46 non-null     object\n",
      " 3   Time_of_visit     48 non-null     object\n",
      " 4   Tips              50 non-null     int64 \n",
      "dtypes: int64(3), object(2)\n",
      "memory usage: 2.1+ KB\n"
     ]
    }
   ],
   "source": [
    "df.info()"
   ]
  },
  {
   "cell_type": "code",
   "execution_count": 5,
   "id": "d1781dce",
   "metadata": {},
   "outputs": [
    {
     "data": {
      "text/plain": [
       "0     28\n",
       "5      8\n",
       "8      2\n",
       "10     2\n",
       "20     2\n",
       "4      2\n",
       "9      1\n",
       "2      1\n",
       "3      1\n",
       "6      1\n",
       "7      1\n",
       "15     1\n",
       "Name: Tips, dtype: int64"
      ]
     },
     "execution_count": 5,
     "metadata": {},
     "output_type": "execute_result"
    }
   ],
   "source": [
    "df.Tips.value_counts()"
   ]
  },
  {
   "cell_type": "code",
   "execution_count": 6,
   "id": "3b6563a9",
   "metadata": {},
   "outputs": [
    {
     "data": {
      "text/plain": [
       "bike    24\n",
       "car     22\n",
       "Name: Arrived_in, dtype: int64"
      ]
     },
     "execution_count": 6,
     "metadata": {},
     "output_type": "execute_result"
    }
   ],
   "source": [
    "df.Arrived_in.value_counts()"
   ]
  },
  {
   "cell_type": "code",
   "execution_count": 7,
   "id": "b0e04475",
   "metadata": {},
   "outputs": [
    {
     "data": {
      "text/plain": [
       "1    15\n",
       "2    13\n",
       "3     6\n",
       "5     6\n",
       "4     4\n",
       "6     2\n",
       "7     2\n",
       "0     1\n",
       "8     1\n",
       "Name: Number_of_People, dtype: int64"
      ]
     },
     "execution_count": 7,
     "metadata": {},
     "output_type": "execute_result"
    }
   ],
   "source": [
    "df.Number_of_People.value_counts()"
   ]
  },
  {
   "cell_type": "code",
   "execution_count": 8,
   "id": "eb0048d8",
   "metadata": {},
   "outputs": [
    {
     "data": {
      "text/plain": [
       "27     3\n",
       "17     3\n",
       "16     2\n",
       "10     2\n",
       "7      2\n",
       "22     2\n",
       "19     2\n",
       "90     2\n",
       "8      2\n",
       "83     1\n",
       "67     1\n",
       "86     1\n",
       "36     1\n",
       "165    1\n",
       "55     1\n",
       "100    1\n",
       "135    1\n",
       "278    1\n",
       "94     1\n",
       "93     1\n",
       "112    1\n",
       "120    1\n",
       "53     1\n",
       "48     1\n",
       "11     1\n",
       "129    1\n",
       "23     1\n",
       "25     1\n",
       "35     1\n",
       "0      1\n",
       "37     1\n",
       "41     1\n",
       "45     1\n",
       "12     1\n",
       "15     1\n",
       "52     1\n",
       "56     1\n",
       "13     1\n",
       "150    1\n",
       "Name: Bill, dtype: int64"
      ]
     },
     "execution_count": 8,
     "metadata": {},
     "output_type": "execute_result"
    }
   ],
   "source": [
    "df.Bill.value_counts()"
   ]
  },
  {
   "cell_type": "code",
   "execution_count": 9,
   "id": "796ee223",
   "metadata": {
    "scrolled": true
   },
   "outputs": [
    {
     "data": {
      "text/plain": [
       "morning      17\n",
       "evening      16\n",
       "afternoon    14\n",
       "mor           1\n",
       "Name: Time_of_visit, dtype: int64"
      ]
     },
     "execution_count": 9,
     "metadata": {},
     "output_type": "execute_result"
    }
   ],
   "source": [
    "df.Time_of_visit.value_counts()"
   ]
  },
  {
   "cell_type": "markdown",
   "id": "630a469d",
   "metadata": {},
   "source": [
    "__Как заменить mor?__"
   ]
  },
  {
   "cell_type": "code",
   "execution_count": null,
   "id": "d0e36635",
   "metadata": {},
   "outputs": [],
   "source": []
  },
  {
   "cell_type": "code",
   "execution_count": null,
   "id": "f3527957",
   "metadata": {},
   "outputs": [],
   "source": []
  },
  {
   "cell_type": "code",
   "execution_count": null,
   "id": "aa568c67",
   "metadata": {},
   "outputs": [],
   "source": []
  },
  {
   "cell_type": "code",
   "execution_count": null,
   "id": "ff3fcdad",
   "metadata": {},
   "outputs": [],
   "source": []
  },
  {
   "cell_type": "code",
   "execution_count": null,
   "id": "31ad0df5",
   "metadata": {},
   "outputs": [],
   "source": []
  },
  {
   "cell_type": "code",
   "execution_count": 10,
   "id": "c2644c2c",
   "metadata": {
    "scrolled": true
   },
   "outputs": [
    {
     "data": {
      "text/plain": [
       "21    mor\n",
       "Name: Time_of_visit, dtype: object"
      ]
     },
     "execution_count": 10,
     "metadata": {},
     "output_type": "execute_result"
    }
   ],
   "source": [
    "df.Time_of_visit.loc[df.Time_of_visit == 'mor']"
   ]
  },
  {
   "cell_type": "code",
   "execution_count": 11,
   "id": "7373d752",
   "metadata": {},
   "outputs": [
    {
     "name": "stderr",
     "output_type": "stream",
     "text": [
      "C:\\Users\\Inga\\AppData\\Local\\Temp\\ipykernel_2416\\63678034.py:1: SettingWithCopyWarning: \n",
      "A value is trying to be set on a copy of a slice from a DataFrame\n",
      "\n",
      "See the caveats in the documentation: https://pandas.pydata.org/pandas-docs/stable/user_guide/indexing.html#returning-a-view-versus-a-copy\n",
      "  df.Time_of_visit.iloc[21] = df.Time_of_visit.iloc[21].replace('mor', 'morning')\n"
     ]
    }
   ],
   "source": [
    "df.Time_of_visit.iloc[21] = df.Time_of_visit.iloc[21].replace('mor', 'morning')"
   ]
  },
  {
   "cell_type": "code",
   "execution_count": 12,
   "id": "fc55bc6e",
   "metadata": {
    "scrolled": true
   },
   "outputs": [
    {
     "data": {
      "text/plain": [
       "morning      18\n",
       "evening      16\n",
       "afternoon    14\n",
       "Name: Time_of_visit, dtype: int64"
      ]
     },
     "execution_count": 12,
     "metadata": {},
     "output_type": "execute_result"
    }
   ],
   "source": [
    "df.Time_of_visit.value_counts()"
   ]
  },
  {
   "cell_type": "code",
   "execution_count": 13,
   "id": "6c03aec0",
   "metadata": {},
   "outputs": [],
   "source": [
    "df2 = df.dropna()"
   ]
  },
  {
   "cell_type": "code",
   "execution_count": 14,
   "id": "2307083a",
   "metadata": {},
   "outputs": [
    {
     "name": "stdout",
     "output_type": "stream",
     "text": [
      "<class 'pandas.core.frame.DataFrame'>\n",
      "Int64Index: 44 entries, 0 to 49\n",
      "Data columns (total 5 columns):\n",
      " #   Column            Non-Null Count  Dtype \n",
      "---  ------            --------------  ----- \n",
      " 0   Bill              44 non-null     int64 \n",
      " 1   Number_of_People  44 non-null     int64 \n",
      " 2   Arrived_in        44 non-null     object\n",
      " 3   Time_of_visit     44 non-null     object\n",
      " 4   Tips              44 non-null     int64 \n",
      "dtypes: int64(3), object(2)\n",
      "memory usage: 2.1+ KB\n"
     ]
    }
   ],
   "source": [
    "df2.info()"
   ]
  },
  {
   "cell_type": "code",
   "execution_count": 15,
   "id": "dfa24d49",
   "metadata": {},
   "outputs": [],
   "source": [
    "def get_tips_cat(tips):\n",
    "    if tips > 0:\n",
    "        return '1'\n",
    "    elif tips < 1:\n",
    "        return '0'\n",
    "    else:\n",
    "        return tips\n",
    "   "
   ]
  },
  {
   "cell_type": "code",
   "execution_count": 16,
   "id": "eb2d39ff",
   "metadata": {
    "scrolled": true
   },
   "outputs": [
    {
     "name": "stderr",
     "output_type": "stream",
     "text": [
      "C:\\Users\\Inga\\AppData\\Local\\Temp\\ipykernel_2416\\3335740049.py:1: SettingWithCopyWarning: \n",
      "A value is trying to be set on a copy of a slice from a DataFrame.\n",
      "Try using .loc[row_indexer,col_indexer] = value instead\n",
      "\n",
      "See the caveats in the documentation: https://pandas.pydata.org/pandas-docs/stable/user_guide/indexing.html#returning-a-view-versus-a-copy\n",
      "  df2['Tips_cat'] = df2['Tips'].apply(get_tips_cat)\n"
     ]
    }
   ],
   "source": [
    "df2['Tips_cat'] = df2['Tips'].apply(get_tips_cat)"
   ]
  },
  {
   "cell_type": "code",
   "execution_count": 17,
   "id": "e4b04821",
   "metadata": {
    "scrolled": true
   },
   "outputs": [
    {
     "name": "stdout",
     "output_type": "stream",
     "text": [
      "<class 'pandas.core.frame.DataFrame'>\n",
      "Int64Index: 44 entries, 0 to 49\n",
      "Data columns (total 6 columns):\n",
      " #   Column            Non-Null Count  Dtype \n",
      "---  ------            --------------  ----- \n",
      " 0   Bill              44 non-null     int64 \n",
      " 1   Number_of_People  44 non-null     int64 \n",
      " 2   Arrived_in        44 non-null     object\n",
      " 3   Time_of_visit     44 non-null     object\n",
      " 4   Tips              44 non-null     int64 \n",
      " 5   Tips_cat          44 non-null     object\n",
      "dtypes: int64(3), object(3)\n",
      "memory usage: 2.4+ KB\n"
     ]
    }
   ],
   "source": [
    "df2.info()"
   ]
  },
  {
   "cell_type": "code",
   "execution_count": 18,
   "id": "71242339",
   "metadata": {
    "scrolled": true
   },
   "outputs": [
    {
     "name": "stderr",
     "output_type": "stream",
     "text": [
      "C:\\Users\\Inga\\AppData\\Local\\Temp\\ipykernel_2416\\2237268995.py:1: SettingWithCopyWarning: \n",
      "A value is trying to be set on a copy of a slice from a DataFrame.\n",
      "Try using .loc[row_indexer,col_indexer] = value instead\n",
      "\n",
      "See the caveats in the documentation: https://pandas.pydata.org/pandas-docs/stable/user_guide/indexing.html#returning-a-view-versus-a-copy\n",
      "  df2['Tips_cat'] = df2['Tips_cat'].astype(int)\n"
     ]
    }
   ],
   "source": [
    "df2['Tips_cat'] = df2['Tips_cat'].astype(int)"
   ]
  },
  {
   "cell_type": "code",
   "execution_count": 19,
   "id": "80dd6277",
   "metadata": {},
   "outputs": [
    {
     "name": "stdout",
     "output_type": "stream",
     "text": [
      "<class 'pandas.core.frame.DataFrame'>\n",
      "Int64Index: 44 entries, 0 to 49\n",
      "Data columns (total 6 columns):\n",
      " #   Column            Non-Null Count  Dtype \n",
      "---  ------            --------------  ----- \n",
      " 0   Bill              44 non-null     int64 \n",
      " 1   Number_of_People  44 non-null     int64 \n",
      " 2   Arrived_in        44 non-null     object\n",
      " 3   Time_of_visit     44 non-null     object\n",
      " 4   Tips              44 non-null     int64 \n",
      " 5   Tips_cat          44 non-null     int32 \n",
      "dtypes: int32(1), int64(3), object(2)\n",
      "memory usage: 2.2+ KB\n"
     ]
    }
   ],
   "source": [
    "df2.info()"
   ]
  },
  {
   "cell_type": "code",
   "execution_count": 20,
   "id": "22c6d3b0",
   "metadata": {
    "scrolled": false
   },
   "outputs": [
    {
     "data": {
      "text/html": [
       "<div>\n",
       "<style scoped>\n",
       "    .dataframe tbody tr th:only-of-type {\n",
       "        vertical-align: middle;\n",
       "    }\n",
       "\n",
       "    .dataframe tbody tr th {\n",
       "        vertical-align: top;\n",
       "    }\n",
       "\n",
       "    .dataframe thead th {\n",
       "        text-align: right;\n",
       "    }\n",
       "</style>\n",
       "<table border=\"1\" class=\"dataframe\">\n",
       "  <thead>\n",
       "    <tr style=\"text-align: right;\">\n",
       "      <th></th>\n",
       "      <th>Bill</th>\n",
       "      <th>Number_of_People</th>\n",
       "      <th>Arrived_in</th>\n",
       "      <th>Time_of_visit</th>\n",
       "      <th>Tips</th>\n",
       "      <th>Tips_cat</th>\n",
       "    </tr>\n",
       "  </thead>\n",
       "  <tbody>\n",
       "    <tr>\n",
       "      <th>0</th>\n",
       "      <td>16</td>\n",
       "      <td>1</td>\n",
       "      <td>bike</td>\n",
       "      <td>morning</td>\n",
       "      <td>0</td>\n",
       "      <td>0</td>\n",
       "    </tr>\n",
       "    <tr>\n",
       "      <th>1</th>\n",
       "      <td>23</td>\n",
       "      <td>2</td>\n",
       "      <td>bike</td>\n",
       "      <td>morning</td>\n",
       "      <td>0</td>\n",
       "      <td>0</td>\n",
       "    </tr>\n",
       "  </tbody>\n",
       "</table>\n",
       "</div>"
      ],
      "text/plain": [
       "   Bill  Number_of_People Arrived_in Time_of_visit  Tips  Tips_cat\n",
       "0    16                 1       bike       morning     0         0\n",
       "1    23                 2       bike       morning     0         0"
      ]
     },
     "execution_count": 20,
     "metadata": {},
     "output_type": "execute_result"
    }
   ],
   "source": [
    "df2[:2]"
   ]
  },
  {
   "cell_type": "code",
   "execution_count": 21,
   "id": "7022b6bd",
   "metadata": {},
   "outputs": [
    {
     "data": {
      "text/plain": [
       "0    25\n",
       "1    19\n",
       "Name: Tips_cat, dtype: int64"
      ]
     },
     "execution_count": 21,
     "metadata": {},
     "output_type": "execute_result"
    }
   ],
   "source": [
    "df2['Tips_cat'].value_counts()"
   ]
  },
  {
   "cell_type": "code",
   "execution_count": 22,
   "id": "eb192740",
   "metadata": {
    "scrolled": false
   },
   "outputs": [],
   "source": [
    "# df2['Tips_1'] = df2['Tips'].astype('category')\n",
    "# df2['Tips_code'] = df2['Tips_1'].cat.codes"
   ]
  },
  {
   "cell_type": "code",
   "execution_count": 23,
   "id": "6471c42e",
   "metadata": {
    "scrolled": true
   },
   "outputs": [],
   "source": [
    "# df2.info()"
   ]
  },
  {
   "cell_type": "code",
   "execution_count": 24,
   "id": "329fb7f1",
   "metadata": {},
   "outputs": [],
   "source": [
    "# df2.Tips_code.value_counts()"
   ]
  },
  {
   "cell_type": "code",
   "execution_count": 25,
   "id": "2fc0b8ec",
   "metadata": {
    "scrolled": true
   },
   "outputs": [
    {
     "data": {
      "image/png": "[encoded data removed]",
      "text/plain": [
       "<Figure size 640x480 with 1 Axes>"
      ]
     },
     "metadata": {},
     "output_type": "display_data"
    }
   ],
   "source": [
    "plt.hist([df2[df2.Arrived_in == i]['Tips'] for i in df2.Arrived_in.unique()],\\\n",
    "        alpha = 0.7, color = ['r', 'b'], label = df2.Arrived_in.unique())\n",
    "plt.xlabel('Tips', fontname = 'Times New Roman', fontsize = 12)\n",
    "plt.ylabel('Share', fontname = 'Times New Roman', fontsize = 12)\n",
    "plt.legend(loc = 'upper right')\n",
    "plt.show()"
   ]
  },
  {
   "cell_type": "code",
   "execution_count": 26,
   "id": "75ba79f9",
   "metadata": {
    "scrolled": true
   },
   "outputs": [
    {
     "data": {
      "text/plain": [
       "(18, 6)"
      ]
     },
     "execution_count": 26,
     "metadata": {},
     "output_type": "execute_result"
    }
   ],
   "source": [
    "df2[(df2['Arrived_in'] == 'bike') & (df2['Tips'] == 0)].shape"
   ]
  },
  {
   "cell_type": "code",
   "execution_count": 27,
   "id": "665491c0",
   "metadata": {},
   "outputs": [
    {
     "data": {
      "text/plain": [
       "(25, 6)"
      ]
     },
     "execution_count": 27,
     "metadata": {},
     "output_type": "execute_result"
    }
   ],
   "source": [
    "df2[(df2.Tips == 0)].shape"
   ]
  },
  {
   "cell_type": "code",
   "execution_count": 28,
   "id": "7352b99d",
   "metadata": {},
   "outputs": [
    {
     "data": {
      "text/plain": [
       "(7, 6)"
      ]
     },
     "execution_count": 28,
     "metadata": {},
     "output_type": "execute_result"
    }
   ],
   "source": [
    "df2[(df2['Arrived_in'] == 'car') & (df2['Tips'] == 0)].shape"
   ]
  },
  {
   "cell_type": "code",
   "execution_count": 29,
   "id": "4e7569eb",
   "metadata": {},
   "outputs": [
    {
     "data": {
      "text/html": [
       "<div>\n",
       "<style scoped>\n",
       "    .dataframe tbody tr th:only-of-type {\n",
       "        vertical-align: middle;\n",
       "    }\n",
       "\n",
       "    .dataframe tbody tr th {\n",
       "        vertical-align: top;\n",
       "    }\n",
       "\n",
       "    .dataframe thead th {\n",
       "        text-align: right;\n",
       "    }\n",
       "</style>\n",
       "<table border=\"1\" class=\"dataframe\">\n",
       "  <thead>\n",
       "    <tr style=\"text-align: right;\">\n",
       "      <th></th>\n",
       "      <th>Bill</th>\n",
       "      <th>Number_of_People</th>\n",
       "      <th>Arrived_in</th>\n",
       "      <th>Time_of_visit</th>\n",
       "      <th>Tips</th>\n",
       "      <th>Tips_cat</th>\n",
       "    </tr>\n",
       "  </thead>\n",
       "  <tbody>\n",
       "    <tr>\n",
       "      <th>33</th>\n",
       "      <td>278</td>\n",
       "      <td>6</td>\n",
       "      <td>bike</td>\n",
       "      <td>evening</td>\n",
       "      <td>20</td>\n",
       "      <td>1</td>\n",
       "    </tr>\n",
       "    <tr>\n",
       "      <th>49</th>\n",
       "      <td>150</td>\n",
       "      <td>8</td>\n",
       "      <td>car</td>\n",
       "      <td>afternoon</td>\n",
       "      <td>20</td>\n",
       "      <td>1</td>\n",
       "    </tr>\n",
       "  </tbody>\n",
       "</table>\n",
       "</div>"
      ],
      "text/plain": [
       "    Bill  Number_of_People Arrived_in Time_of_visit  Tips  Tips_cat\n",
       "33   278                 6       bike       evening    20         1\n",
       "49   150                 8        car     afternoon    20         1"
      ]
     },
     "execution_count": 29,
     "metadata": {},
     "output_type": "execute_result"
    }
   ],
   "source": [
    "df2[(df2['Tips'] == 20)]"
   ]
  },
  {
   "cell_type": "code",
   "execution_count": 30,
   "id": "2d2f5f74",
   "metadata": {},
   "outputs": [],
   "source": [
    "y = df2.Tips_cat.values # чтобы получить не объект из данных, а массив np.array"
   ]
  },
  {
   "cell_type": "code",
   "execution_count": 31,
   "id": "5b4c3572",
   "metadata": {},
   "outputs": [
    {
     "data": {
      "text/plain": [
       "numpy.ndarray"
      ]
     },
     "execution_count": 31,
     "metadata": {},
     "output_type": "execute_result"
    }
   ],
   "source": [
    "type(y)"
   ]
  },
  {
   "cell_type": "code",
   "execution_count": 32,
   "id": "23c72cf8",
   "metadata": {
    "scrolled": true
   },
   "outputs": [
    {
     "data": {
      "text/html": [
       "<div>\n",
       "<style scoped>\n",
       "    .dataframe tbody tr th:only-of-type {\n",
       "        vertical-align: middle;\n",
       "    }\n",
       "\n",
       "    .dataframe tbody tr th {\n",
       "        vertical-align: top;\n",
       "    }\n",
       "\n",
       "    .dataframe thead th {\n",
       "        text-align: right;\n",
       "    }\n",
       "</style>\n",
       "<table border=\"1\" class=\"dataframe\">\n",
       "  <thead>\n",
       "    <tr style=\"text-align: right;\">\n",
       "      <th></th>\n",
       "      <th>Bill</th>\n",
       "      <th>Number_of_People</th>\n",
       "      <th>Arrived_in</th>\n",
       "      <th>Time_of_visit</th>\n",
       "      <th>Tips</th>\n",
       "      <th>Tips_cat</th>\n",
       "    </tr>\n",
       "  </thead>\n",
       "  <tbody>\n",
       "    <tr>\n",
       "      <th>0</th>\n",
       "      <td>16</td>\n",
       "      <td>1</td>\n",
       "      <td>bike</td>\n",
       "      <td>morning</td>\n",
       "      <td>0</td>\n",
       "      <td>0</td>\n",
       "    </tr>\n",
       "  </tbody>\n",
       "</table>\n",
       "</div>"
      ],
      "text/plain": [
       "   Bill  Number_of_People Arrived_in Time_of_visit  Tips  Tips_cat\n",
       "0    16                 1       bike       morning     0         0"
      ]
     },
     "execution_count": 32,
     "metadata": {},
     "output_type": "execute_result"
    }
   ],
   "source": [
    "df2[:1]"
   ]
  },
  {
   "cell_type": "code",
   "execution_count": 33,
   "id": "8c473a91",
   "metadata": {
    "scrolled": true
   },
   "outputs": [
    {
     "name": "stdout",
     "output_type": "stream",
     "text": [
      "<class 'pandas.core.frame.DataFrame'>\n",
      "Int64Index: 44 entries, 0 to 49\n",
      "Data columns (total 6 columns):\n",
      " #   Column            Non-Null Count  Dtype \n",
      "---  ------            --------------  ----- \n",
      " 0   Bill              44 non-null     int64 \n",
      " 1   Number_of_People  44 non-null     int64 \n",
      " 2   Arrived_in        44 non-null     object\n",
      " 3   Time_of_visit     44 non-null     object\n",
      " 4   Tips              44 non-null     int64 \n",
      " 5   Tips_cat          44 non-null     int32 \n",
      "dtypes: int32(1), int64(3), object(2)\n",
      "memory usage: 2.2+ KB\n"
     ]
    }
   ],
   "source": [
    "df2.info()"
   ]
  },
  {
   "cell_type": "code",
   "execution_count": 34,
   "id": "e1b0699b",
   "metadata": {},
   "outputs": [
    {
     "data": {
      "text/html": [
       "<div>\n",
       "<style scoped>\n",
       "    .dataframe tbody tr th:only-of-type {\n",
       "        vertical-align: middle;\n",
       "    }\n",
       "\n",
       "    .dataframe tbody tr th {\n",
       "        vertical-align: top;\n",
       "    }\n",
       "\n",
       "    .dataframe thead th {\n",
       "        text-align: right;\n",
       "    }\n",
       "</style>\n",
       "<table border=\"1\" class=\"dataframe\">\n",
       "  <thead>\n",
       "    <tr style=\"text-align: right;\">\n",
       "      <th></th>\n",
       "      <th>Bill</th>\n",
       "      <th>Number_of_People</th>\n",
       "      <th>Arrived_in</th>\n",
       "      <th>Time_of_visit</th>\n",
       "      <th>Tips</th>\n",
       "      <th>Tips_cat</th>\n",
       "    </tr>\n",
       "  </thead>\n",
       "  <tbody>\n",
       "    <tr>\n",
       "      <th>21</th>\n",
       "      <td>0</td>\n",
       "      <td>0</td>\n",
       "      <td>bike</td>\n",
       "      <td>morning</td>\n",
       "      <td>0</td>\n",
       "      <td>0</td>\n",
       "    </tr>\n",
       "  </tbody>\n",
       "</table>\n",
       "</div>"
      ],
      "text/plain": [
       "    Bill  Number_of_People Arrived_in Time_of_visit  Tips  Tips_cat\n",
       "21     0                 0       bike       morning     0         0"
      ]
     },
     "execution_count": 34,
     "metadata": {},
     "output_type": "execute_result"
    }
   ],
   "source": [
    "df2[df2['Bill'] == 0]"
   ]
  },
  {
   "cell_type": "code",
   "execution_count": 35,
   "id": "1697c7ee",
   "metadata": {},
   "outputs": [
    {
     "data": {
      "text/plain": [
       "Bill                      0\n",
       "Number_of_People          0\n",
       "Arrived_in             bike\n",
       "Time_of_visit       morning\n",
       "Tips                      0\n",
       "Tips_cat                  0\n",
       "Name: 21, dtype: object"
      ]
     },
     "execution_count": 35,
     "metadata": {},
     "output_type": "execute_result"
    }
   ],
   "source": [
    "df2.loc[21]"
   ]
  },
  {
   "cell_type": "code",
   "execution_count": 36,
   "id": "02cd61fb",
   "metadata": {
    "scrolled": false
   },
   "outputs": [
    {
     "name": "stderr",
     "output_type": "stream",
     "text": [
      "C:\\Users\\Inga\\AppData\\Local\\Temp\\ipykernel_2416\\1353060716.py:1: SettingWithCopyWarning: \n",
      "A value is trying to be set on a copy of a slice from a DataFrame\n",
      "\n",
      "See the caveats in the documentation: https://pandas.pydata.org/pandas-docs/stable/user_guide/indexing.html#returning-a-view-versus-a-copy\n",
      "  df2.drop(labels = [21], axis = 0, inplace = True)\n"
     ]
    }
   ],
   "source": [
    "df2.drop(labels = [21], axis = 0, inplace = True)"
   ]
  },
  {
   "cell_type": "code",
   "execution_count": 37,
   "id": "6d6b9814",
   "metadata": {
    "scrolled": true
   },
   "outputs": [
    {
     "name": "stdout",
     "output_type": "stream",
     "text": [
      "<class 'pandas.core.frame.DataFrame'>\n",
      "Int64Index: 43 entries, 0 to 49\n",
      "Data columns (total 6 columns):\n",
      " #   Column            Non-Null Count  Dtype \n",
      "---  ------            --------------  ----- \n",
      " 0   Bill              43 non-null     int64 \n",
      " 1   Number_of_People  43 non-null     int64 \n",
      " 2   Arrived_in        43 non-null     object\n",
      " 3   Time_of_visit     43 non-null     object\n",
      " 4   Tips              43 non-null     int64 \n",
      " 5   Tips_cat          43 non-null     int32 \n",
      "dtypes: int32(1), int64(3), object(2)\n",
      "memory usage: 2.2+ KB\n"
     ]
    }
   ],
   "source": [
    "df2.info()"
   ]
  },
  {
   "cell_type": "markdown",
   "id": "4c2c7da3",
   "metadata": {},
   "source": [
    "## Dammy variables"
   ]
  },
  {
   "cell_type": "markdown",
   "id": "ff324065",
   "metadata": {},
   "source": [
    "техника фиктивных переменных"
   ]
  },
  {
   "cell_type": "markdown",
   "id": "5da9ee1f",
   "metadata": {},
   "source": [
    "#1 - 0: при прочих равных фактор с 1  значимее \\\n",
    "    Кодируем номинальные факторы. "
   ]
  },
  {
   "cell_type": "markdown",
   "id": "fb73a63e",
   "metadata": {},
   "source": [
    "## One hot encoding"
   ]
  },
  {
   "cell_type": "markdown",
   "id": "f89d22ed",
   "metadata": {},
   "source": [
    "Создаем матрицу n * n и проставляем единицы напротив истинных значений (фиктивные переменные)"
   ]
  },
  {
   "cell_type": "code",
   "execution_count": 38,
   "id": "fa306102",
   "metadata": {
    "scrolled": true
   },
   "outputs": [
    {
     "data": {
      "text/html": [
       "<div>\n",
       "<style scoped>\n",
       "    .dataframe tbody tr th:only-of-type {\n",
       "        vertical-align: middle;\n",
       "    }\n",
       "\n",
       "    .dataframe tbody tr th {\n",
       "        vertical-align: top;\n",
       "    }\n",
       "\n",
       "    .dataframe thead th {\n",
       "        text-align: right;\n",
       "    }\n",
       "</style>\n",
       "<table border=\"1\" class=\"dataframe\">\n",
       "  <thead>\n",
       "    <tr style=\"text-align: right;\">\n",
       "      <th></th>\n",
       "      <th>bike</th>\n",
       "      <th>car</th>\n",
       "    </tr>\n",
       "  </thead>\n",
       "  <tbody>\n",
       "    <tr>\n",
       "      <th>0</th>\n",
       "      <td>1</td>\n",
       "      <td>0</td>\n",
       "    </tr>\n",
       "    <tr>\n",
       "      <th>1</th>\n",
       "      <td>1</td>\n",
       "      <td>0</td>\n",
       "    </tr>\n",
       "    <tr>\n",
       "      <th>2</th>\n",
       "      <td>1</td>\n",
       "      <td>0</td>\n",
       "    </tr>\n",
       "    <tr>\n",
       "      <th>3</th>\n",
       "      <td>0</td>\n",
       "      <td>1</td>\n",
       "    </tr>\n",
       "    <tr>\n",
       "      <th>4</th>\n",
       "      <td>1</td>\n",
       "      <td>0</td>\n",
       "    </tr>\n",
       "    <tr>\n",
       "      <th>5</th>\n",
       "      <td>0</td>\n",
       "      <td>1</td>\n",
       "    </tr>\n",
       "    <tr>\n",
       "      <th>6</th>\n",
       "      <td>1</td>\n",
       "      <td>0</td>\n",
       "    </tr>\n",
       "    <tr>\n",
       "      <th>7</th>\n",
       "      <td>1</td>\n",
       "      <td>0</td>\n",
       "    </tr>\n",
       "    <tr>\n",
       "      <th>8</th>\n",
       "      <td>1</td>\n",
       "      <td>0</td>\n",
       "    </tr>\n",
       "    <tr>\n",
       "      <th>9</th>\n",
       "      <td>1</td>\n",
       "      <td>0</td>\n",
       "    </tr>\n",
       "    <tr>\n",
       "      <th>10</th>\n",
       "      <td>1</td>\n",
       "      <td>0</td>\n",
       "    </tr>\n",
       "    <tr>\n",
       "      <th>11</th>\n",
       "      <td>0</td>\n",
       "      <td>1</td>\n",
       "    </tr>\n",
       "    <tr>\n",
       "      <th>12</th>\n",
       "      <td>0</td>\n",
       "      <td>1</td>\n",
       "    </tr>\n",
       "    <tr>\n",
       "      <th>13</th>\n",
       "      <td>1</td>\n",
       "      <td>0</td>\n",
       "    </tr>\n",
       "    <tr>\n",
       "      <th>14</th>\n",
       "      <td>1</td>\n",
       "      <td>0</td>\n",
       "    </tr>\n",
       "    <tr>\n",
       "      <th>15</th>\n",
       "      <td>1</td>\n",
       "      <td>0</td>\n",
       "    </tr>\n",
       "    <tr>\n",
       "      <th>16</th>\n",
       "      <td>0</td>\n",
       "      <td>1</td>\n",
       "    </tr>\n",
       "    <tr>\n",
       "      <th>17</th>\n",
       "      <td>1</td>\n",
       "      <td>0</td>\n",
       "    </tr>\n",
       "    <tr>\n",
       "      <th>19</th>\n",
       "      <td>1</td>\n",
       "      <td>0</td>\n",
       "    </tr>\n",
       "    <tr>\n",
       "      <th>22</th>\n",
       "      <td>0</td>\n",
       "      <td>1</td>\n",
       "    </tr>\n",
       "    <tr>\n",
       "      <th>24</th>\n",
       "      <td>1</td>\n",
       "      <td>0</td>\n",
       "    </tr>\n",
       "    <tr>\n",
       "      <th>25</th>\n",
       "      <td>0</td>\n",
       "      <td>1</td>\n",
       "    </tr>\n",
       "    <tr>\n",
       "      <th>26</th>\n",
       "      <td>0</td>\n",
       "      <td>1</td>\n",
       "    </tr>\n",
       "    <tr>\n",
       "      <th>27</th>\n",
       "      <td>0</td>\n",
       "      <td>1</td>\n",
       "    </tr>\n",
       "    <tr>\n",
       "      <th>28</th>\n",
       "      <td>1</td>\n",
       "      <td>0</td>\n",
       "    </tr>\n",
       "    <tr>\n",
       "      <th>29</th>\n",
       "      <td>0</td>\n",
       "      <td>1</td>\n",
       "    </tr>\n",
       "    <tr>\n",
       "      <th>30</th>\n",
       "      <td>1</td>\n",
       "      <td>0</td>\n",
       "    </tr>\n",
       "    <tr>\n",
       "      <th>31</th>\n",
       "      <td>0</td>\n",
       "      <td>1</td>\n",
       "    </tr>\n",
       "    <tr>\n",
       "      <th>32</th>\n",
       "      <td>0</td>\n",
       "      <td>1</td>\n",
       "    </tr>\n",
       "    <tr>\n",
       "      <th>33</th>\n",
       "      <td>1</td>\n",
       "      <td>0</td>\n",
       "    </tr>\n",
       "    <tr>\n",
       "      <th>35</th>\n",
       "      <td>1</td>\n",
       "      <td>0</td>\n",
       "    </tr>\n",
       "    <tr>\n",
       "      <th>36</th>\n",
       "      <td>1</td>\n",
       "      <td>0</td>\n",
       "    </tr>\n",
       "    <tr>\n",
       "      <th>37</th>\n",
       "      <td>0</td>\n",
       "      <td>1</td>\n",
       "    </tr>\n",
       "    <tr>\n",
       "      <th>39</th>\n",
       "      <td>1</td>\n",
       "      <td>0</td>\n",
       "    </tr>\n",
       "    <tr>\n",
       "      <th>40</th>\n",
       "      <td>1</td>\n",
       "      <td>0</td>\n",
       "    </tr>\n",
       "    <tr>\n",
       "      <th>41</th>\n",
       "      <td>0</td>\n",
       "      <td>1</td>\n",
       "    </tr>\n",
       "    <tr>\n",
       "      <th>42</th>\n",
       "      <td>0</td>\n",
       "      <td>1</td>\n",
       "    </tr>\n",
       "    <tr>\n",
       "      <th>44</th>\n",
       "      <td>0</td>\n",
       "      <td>1</td>\n",
       "    </tr>\n",
       "    <tr>\n",
       "      <th>45</th>\n",
       "      <td>0</td>\n",
       "      <td>1</td>\n",
       "    </tr>\n",
       "    <tr>\n",
       "      <th>46</th>\n",
       "      <td>0</td>\n",
       "      <td>1</td>\n",
       "    </tr>\n",
       "    <tr>\n",
       "      <th>47</th>\n",
       "      <td>0</td>\n",
       "      <td>1</td>\n",
       "    </tr>\n",
       "    <tr>\n",
       "      <th>48</th>\n",
       "      <td>0</td>\n",
       "      <td>1</td>\n",
       "    </tr>\n",
       "    <tr>\n",
       "      <th>49</th>\n",
       "      <td>0</td>\n",
       "      <td>1</td>\n",
       "    </tr>\n",
       "  </tbody>\n",
       "</table>\n",
       "</div>"
      ],
      "text/plain": [
       "    bike  car\n",
       "0      1    0\n",
       "1      1    0\n",
       "2      1    0\n",
       "3      0    1\n",
       "4      1    0\n",
       "5      0    1\n",
       "6      1    0\n",
       "7      1    0\n",
       "8      1    0\n",
       "9      1    0\n",
       "10     1    0\n",
       "11     0    1\n",
       "12     0    1\n",
       "13     1    0\n",
       "14     1    0\n",
       "15     1    0\n",
       "16     0    1\n",
       "17     1    0\n",
       "19     1    0\n",
       "22     0    1\n",
       "24     1    0\n",
       "25     0    1\n",
       "26     0    1\n",
       "27     0    1\n",
       "28     1    0\n",
       "29     0    1\n",
       "30     1    0\n",
       "31     0    1\n",
       "32     0    1\n",
       "33     1    0\n",
       "35     1    0\n",
       "36     1    0\n",
       "37     0    1\n",
       "39     1    0\n",
       "40     1    0\n",
       "41     0    1\n",
       "42     0    1\n",
       "44     0    1\n",
       "45     0    1\n",
       "46     0    1\n",
       "47     0    1\n",
       "48     0    1\n",
       "49     0    1"
      ]
     },
     "execution_count": 38,
     "metadata": {},
     "output_type": "execute_result"
    }
   ],
   "source": [
    "arrived_in_dummy = pd.get_dummies(df2.Arrived_in)\n",
    "arrived_in_dummy"
   ]
  },
  {
   "cell_type": "code",
   "execution_count": 39,
   "id": "0964029c",
   "metadata": {},
   "outputs": [
    {
     "data": {
      "text/html": [
       "<div>\n",
       "<style scoped>\n",
       "    .dataframe tbody tr th:only-of-type {\n",
       "        vertical-align: middle;\n",
       "    }\n",
       "\n",
       "    .dataframe tbody tr th {\n",
       "        vertical-align: top;\n",
       "    }\n",
       "\n",
       "    .dataframe thead th {\n",
       "        text-align: right;\n",
       "    }\n",
       "</style>\n",
       "<table border=\"1\" class=\"dataframe\">\n",
       "  <thead>\n",
       "    <tr style=\"text-align: right;\">\n",
       "      <th></th>\n",
       "      <th>afternoon</th>\n",
       "      <th>evening</th>\n",
       "      <th>morning</th>\n",
       "    </tr>\n",
       "  </thead>\n",
       "  <tbody>\n",
       "    <tr>\n",
       "      <th>0</th>\n",
       "      <td>0</td>\n",
       "      <td>0</td>\n",
       "      <td>1</td>\n",
       "    </tr>\n",
       "    <tr>\n",
       "      <th>1</th>\n",
       "      <td>0</td>\n",
       "      <td>0</td>\n",
       "      <td>1</td>\n",
       "    </tr>\n",
       "    <tr>\n",
       "      <th>2</th>\n",
       "      <td>1</td>\n",
       "      <td>0</td>\n",
       "      <td>0</td>\n",
       "    </tr>\n",
       "    <tr>\n",
       "      <th>3</th>\n",
       "      <td>0</td>\n",
       "      <td>0</td>\n",
       "      <td>1</td>\n",
       "    </tr>\n",
       "    <tr>\n",
       "      <th>4</th>\n",
       "      <td>0</td>\n",
       "      <td>0</td>\n",
       "      <td>1</td>\n",
       "    </tr>\n",
       "    <tr>\n",
       "      <th>5</th>\n",
       "      <td>1</td>\n",
       "      <td>0</td>\n",
       "      <td>0</td>\n",
       "    </tr>\n",
       "    <tr>\n",
       "      <th>6</th>\n",
       "      <td>1</td>\n",
       "      <td>0</td>\n",
       "      <td>0</td>\n",
       "    </tr>\n",
       "    <tr>\n",
       "      <th>7</th>\n",
       "      <td>1</td>\n",
       "      <td>0</td>\n",
       "      <td>0</td>\n",
       "    </tr>\n",
       "    <tr>\n",
       "      <th>8</th>\n",
       "      <td>1</td>\n",
       "      <td>0</td>\n",
       "      <td>0</td>\n",
       "    </tr>\n",
       "    <tr>\n",
       "      <th>9</th>\n",
       "      <td>0</td>\n",
       "      <td>0</td>\n",
       "      <td>1</td>\n",
       "    </tr>\n",
       "    <tr>\n",
       "      <th>10</th>\n",
       "      <td>0</td>\n",
       "      <td>0</td>\n",
       "      <td>1</td>\n",
       "    </tr>\n",
       "    <tr>\n",
       "      <th>11</th>\n",
       "      <td>0</td>\n",
       "      <td>1</td>\n",
       "      <td>0</td>\n",
       "    </tr>\n",
       "    <tr>\n",
       "      <th>12</th>\n",
       "      <td>0</td>\n",
       "      <td>0</td>\n",
       "      <td>1</td>\n",
       "    </tr>\n",
       "    <tr>\n",
       "      <th>13</th>\n",
       "      <td>0</td>\n",
       "      <td>0</td>\n",
       "      <td>1</td>\n",
       "    </tr>\n",
       "    <tr>\n",
       "      <th>14</th>\n",
       "      <td>1</td>\n",
       "      <td>0</td>\n",
       "      <td>0</td>\n",
       "    </tr>\n",
       "    <tr>\n",
       "      <th>15</th>\n",
       "      <td>0</td>\n",
       "      <td>1</td>\n",
       "      <td>0</td>\n",
       "    </tr>\n",
       "    <tr>\n",
       "      <th>16</th>\n",
       "      <td>1</td>\n",
       "      <td>0</td>\n",
       "      <td>0</td>\n",
       "    </tr>\n",
       "    <tr>\n",
       "      <th>17</th>\n",
       "      <td>0</td>\n",
       "      <td>1</td>\n",
       "      <td>0</td>\n",
       "    </tr>\n",
       "    <tr>\n",
       "      <th>19</th>\n",
       "      <td>1</td>\n",
       "      <td>0</td>\n",
       "      <td>0</td>\n",
       "    </tr>\n",
       "    <tr>\n",
       "      <th>22</th>\n",
       "      <td>0</td>\n",
       "      <td>0</td>\n",
       "      <td>1</td>\n",
       "    </tr>\n",
       "    <tr>\n",
       "      <th>24</th>\n",
       "      <td>0</td>\n",
       "      <td>0</td>\n",
       "      <td>1</td>\n",
       "    </tr>\n",
       "    <tr>\n",
       "      <th>25</th>\n",
       "      <td>1</td>\n",
       "      <td>0</td>\n",
       "      <td>0</td>\n",
       "    </tr>\n",
       "    <tr>\n",
       "      <th>26</th>\n",
       "      <td>1</td>\n",
       "      <td>0</td>\n",
       "      <td>0</td>\n",
       "    </tr>\n",
       "    <tr>\n",
       "      <th>27</th>\n",
       "      <td>0</td>\n",
       "      <td>0</td>\n",
       "      <td>1</td>\n",
       "    </tr>\n",
       "    <tr>\n",
       "      <th>28</th>\n",
       "      <td>0</td>\n",
       "      <td>1</td>\n",
       "      <td>0</td>\n",
       "    </tr>\n",
       "    <tr>\n",
       "      <th>29</th>\n",
       "      <td>1</td>\n",
       "      <td>0</td>\n",
       "      <td>0</td>\n",
       "    </tr>\n",
       "    <tr>\n",
       "      <th>30</th>\n",
       "      <td>0</td>\n",
       "      <td>1</td>\n",
       "      <td>0</td>\n",
       "    </tr>\n",
       "    <tr>\n",
       "      <th>31</th>\n",
       "      <td>0</td>\n",
       "      <td>1</td>\n",
       "      <td>0</td>\n",
       "    </tr>\n",
       "    <tr>\n",
       "      <th>32</th>\n",
       "      <td>0</td>\n",
       "      <td>0</td>\n",
       "      <td>1</td>\n",
       "    </tr>\n",
       "    <tr>\n",
       "      <th>33</th>\n",
       "      <td>0</td>\n",
       "      <td>1</td>\n",
       "      <td>0</td>\n",
       "    </tr>\n",
       "    <tr>\n",
       "      <th>35</th>\n",
       "      <td>0</td>\n",
       "      <td>0</td>\n",
       "      <td>1</td>\n",
       "    </tr>\n",
       "    <tr>\n",
       "      <th>36</th>\n",
       "      <td>0</td>\n",
       "      <td>1</td>\n",
       "      <td>0</td>\n",
       "    </tr>\n",
       "    <tr>\n",
       "      <th>37</th>\n",
       "      <td>1</td>\n",
       "      <td>0</td>\n",
       "      <td>0</td>\n",
       "    </tr>\n",
       "    <tr>\n",
       "      <th>39</th>\n",
       "      <td>0</td>\n",
       "      <td>0</td>\n",
       "      <td>1</td>\n",
       "    </tr>\n",
       "    <tr>\n",
       "      <th>40</th>\n",
       "      <td>0</td>\n",
       "      <td>1</td>\n",
       "      <td>0</td>\n",
       "    </tr>\n",
       "    <tr>\n",
       "      <th>41</th>\n",
       "      <td>0</td>\n",
       "      <td>1</td>\n",
       "      <td>0</td>\n",
       "    </tr>\n",
       "    <tr>\n",
       "      <th>42</th>\n",
       "      <td>0</td>\n",
       "      <td>1</td>\n",
       "      <td>0</td>\n",
       "    </tr>\n",
       "    <tr>\n",
       "      <th>44</th>\n",
       "      <td>0</td>\n",
       "      <td>1</td>\n",
       "      <td>0</td>\n",
       "    </tr>\n",
       "    <tr>\n",
       "      <th>45</th>\n",
       "      <td>0</td>\n",
       "      <td>1</td>\n",
       "      <td>0</td>\n",
       "    </tr>\n",
       "    <tr>\n",
       "      <th>46</th>\n",
       "      <td>0</td>\n",
       "      <td>0</td>\n",
       "      <td>1</td>\n",
       "    </tr>\n",
       "    <tr>\n",
       "      <th>47</th>\n",
       "      <td>0</td>\n",
       "      <td>1</td>\n",
       "      <td>0</td>\n",
       "    </tr>\n",
       "    <tr>\n",
       "      <th>48</th>\n",
       "      <td>0</td>\n",
       "      <td>1</td>\n",
       "      <td>0</td>\n",
       "    </tr>\n",
       "    <tr>\n",
       "      <th>49</th>\n",
       "      <td>1</td>\n",
       "      <td>0</td>\n",
       "      <td>0</td>\n",
       "    </tr>\n",
       "  </tbody>\n",
       "</table>\n",
       "</div>"
      ],
      "text/plain": [
       "    afternoon  evening  morning\n",
       "0           0        0        1\n",
       "1           0        0        1\n",
       "2           1        0        0\n",
       "3           0        0        1\n",
       "4           0        0        1\n",
       "5           1        0        0\n",
       "6           1        0        0\n",
       "7           1        0        0\n",
       "8           1        0        0\n",
       "9           0        0        1\n",
       "10          0        0        1\n",
       "11          0        1        0\n",
       "12          0        0        1\n",
       "13          0        0        1\n",
       "14          1        0        0\n",
       "15          0        1        0\n",
       "16          1        0        0\n",
       "17          0        1        0\n",
       "19          1        0        0\n",
       "22          0        0        1\n",
       "24          0        0        1\n",
       "25          1        0        0\n",
       "26          1        0        0\n",
       "27          0        0        1\n",
       "28          0        1        0\n",
       "29          1        0        0\n",
       "30          0        1        0\n",
       "31          0        1        0\n",
       "32          0        0        1\n",
       "33          0        1        0\n",
       "35          0        0        1\n",
       "36          0        1        0\n",
       "37          1        0        0\n",
       "39          0        0        1\n",
       "40          0        1        0\n",
       "41          0        1        0\n",
       "42          0        1        0\n",
       "44          0        1        0\n",
       "45          0        1        0\n",
       "46          0        0        1\n",
       "47          0        1        0\n",
       "48          0        1        0\n",
       "49          1        0        0"
      ]
     },
     "execution_count": 39,
     "metadata": {},
     "output_type": "execute_result"
    }
   ],
   "source": [
    "time_of_visit_dummy = pd.get_dummies(df2.Time_of_visit)\n",
    "time_of_visit_dummy"
   ]
  },
  {
   "cell_type": "code",
   "execution_count": 40,
   "id": "e022c904",
   "metadata": {},
   "outputs": [
    {
     "data": {
      "text/html": [
       "<div>\n",
       "<style scoped>\n",
       "    .dataframe tbody tr th:only-of-type {\n",
       "        vertical-align: middle;\n",
       "    }\n",
       "\n",
       "    .dataframe tbody tr th {\n",
       "        vertical-align: top;\n",
       "    }\n",
       "\n",
       "    .dataframe thead th {\n",
       "        text-align: right;\n",
       "    }\n",
       "</style>\n",
       "<table border=\"1\" class=\"dataframe\">\n",
       "  <thead>\n",
       "    <tr style=\"text-align: right;\">\n",
       "      <th></th>\n",
       "      <th>Bill</th>\n",
       "      <th>Number_of_People</th>\n",
       "      <th>Arrived_in</th>\n",
       "      <th>Time_of_visit</th>\n",
       "      <th>Tips</th>\n",
       "      <th>Tips_cat</th>\n",
       "      <th>afternoon</th>\n",
       "      <th>evening</th>\n",
       "      <th>morning</th>\n",
       "      <th>bike</th>\n",
       "      <th>car</th>\n",
       "    </tr>\n",
       "  </thead>\n",
       "  <tbody>\n",
       "    <tr>\n",
       "      <th>0</th>\n",
       "      <td>16</td>\n",
       "      <td>1</td>\n",
       "      <td>bike</td>\n",
       "      <td>morning</td>\n",
       "      <td>0</td>\n",
       "      <td>0</td>\n",
       "      <td>0</td>\n",
       "      <td>0</td>\n",
       "      <td>1</td>\n",
       "      <td>1</td>\n",
       "      <td>0</td>\n",
       "    </tr>\n",
       "    <tr>\n",
       "      <th>1</th>\n",
       "      <td>23</td>\n",
       "      <td>2</td>\n",
       "      <td>bike</td>\n",
       "      <td>morning</td>\n",
       "      <td>0</td>\n",
       "      <td>0</td>\n",
       "      <td>0</td>\n",
       "      <td>0</td>\n",
       "      <td>1</td>\n",
       "      <td>1</td>\n",
       "      <td>0</td>\n",
       "    </tr>\n",
       "  </tbody>\n",
       "</table>\n",
       "</div>"
      ],
      "text/plain": [
       "   Bill  Number_of_People Arrived_in Time_of_visit  Tips  Tips_cat  afternoon  \\\n",
       "0    16                 1       bike       morning     0         0          0   \n",
       "1    23                 2       bike       morning     0         0          0   \n",
       "\n",
       "   evening  morning  bike  car  \n",
       "0        0        1     1    0  \n",
       "1        0        1     1    0  "
      ]
     },
     "execution_count": 40,
     "metadata": {},
     "output_type": "execute_result"
    }
   ],
   "source": [
    "merged = pd.concat([df2, time_of_visit_dummy, arrived_in_dummy], axis = 1)\n",
    "merged[:2]"
   ]
  },
  {
   "cell_type": "code",
   "execution_count": 41,
   "id": "7a503999",
   "metadata": {
    "scrolled": true
   },
   "outputs": [
    {
     "data": {
      "text/html": [
       "<div>\n",
       "<style scoped>\n",
       "    .dataframe tbody tr th:only-of-type {\n",
       "        vertical-align: middle;\n",
       "    }\n",
       "\n",
       "    .dataframe tbody tr th {\n",
       "        vertical-align: top;\n",
       "    }\n",
       "\n",
       "    .dataframe thead th {\n",
       "        text-align: right;\n",
       "    }\n",
       "</style>\n",
       "<table border=\"1\" class=\"dataframe\">\n",
       "  <thead>\n",
       "    <tr style=\"text-align: right;\">\n",
       "      <th></th>\n",
       "      <th>Bill</th>\n",
       "      <th>Number_of_People</th>\n",
       "      <th>Tips</th>\n",
       "      <th>Tips_cat</th>\n",
       "      <th>afternoon</th>\n",
       "      <th>evening</th>\n",
       "      <th>morning</th>\n",
       "      <th>bike</th>\n",
       "      <th>car</th>\n",
       "    </tr>\n",
       "  </thead>\n",
       "  <tbody>\n",
       "    <tr>\n",
       "      <th>0</th>\n",
       "      <td>16</td>\n",
       "      <td>1</td>\n",
       "      <td>0</td>\n",
       "      <td>0</td>\n",
       "      <td>0</td>\n",
       "      <td>0</td>\n",
       "      <td>1</td>\n",
       "      <td>1</td>\n",
       "      <td>0</td>\n",
       "    </tr>\n",
       "    <tr>\n",
       "      <th>1</th>\n",
       "      <td>23</td>\n",
       "      <td>2</td>\n",
       "      <td>0</td>\n",
       "      <td>0</td>\n",
       "      <td>0</td>\n",
       "      <td>0</td>\n",
       "      <td>1</td>\n",
       "      <td>1</td>\n",
       "      <td>0</td>\n",
       "    </tr>\n",
       "  </tbody>\n",
       "</table>\n",
       "</div>"
      ],
      "text/plain": [
       "   Bill  Number_of_People  Tips  Tips_cat  afternoon  evening  morning  bike  \\\n",
       "0    16                 1     0         0          0        0        1     1   \n",
       "1    23                 2     0         0          0        0        1     1   \n",
       "\n",
       "   car  \n",
       "0    0  \n",
       "1    0  "
      ]
     },
     "execution_count": 41,
     "metadata": {},
     "output_type": "execute_result"
    }
   ],
   "source": [
    "merged_dum = merged.drop(columns = ['Arrived_in', 'Time_of_visit'], axis = 1)\n",
    "merged_dum[:2]"
   ]
  },
  {
   "cell_type": "code",
   "execution_count": 42,
   "id": "99f538f9",
   "metadata": {
    "scrolled": true
   },
   "outputs": [
    {
     "name": "stdout",
     "output_type": "stream",
     "text": [
      "<class 'pandas.core.frame.DataFrame'>\n",
      "Int64Index: 43 entries, 0 to 49\n",
      "Data columns (total 9 columns):\n",
      " #   Column            Non-Null Count  Dtype\n",
      "---  ------            --------------  -----\n",
      " 0   Bill              43 non-null     int64\n",
      " 1   Number_of_People  43 non-null     int64\n",
      " 2   Tips              43 non-null     int64\n",
      " 3   Tips_cat          43 non-null     int32\n",
      " 4   afternoon         43 non-null     uint8\n",
      " 5   evening           43 non-null     uint8\n",
      " 6   morning           43 non-null     uint8\n",
      " 7   bike              43 non-null     uint8\n",
      " 8   car               43 non-null     uint8\n",
      "dtypes: int32(1), int64(3), uint8(5)\n",
      "memory usage: 1.7 KB\n"
     ]
    }
   ],
   "source": [
    "merged_dum.info()"
   ]
  },
  {
   "cell_type": "code",
   "execution_count": 43,
   "id": "a948534c",
   "metadata": {},
   "outputs": [
    {
     "data": {
      "text/html": [
       "<div>\n",
       "<style scoped>\n",
       "    .dataframe tbody tr th:only-of-type {\n",
       "        vertical-align: middle;\n",
       "    }\n",
       "\n",
       "    .dataframe tbody tr th {\n",
       "        vertical-align: top;\n",
       "    }\n",
       "\n",
       "    .dataframe thead th {\n",
       "        text-align: right;\n",
       "    }\n",
       "</style>\n",
       "<table border=\"1\" class=\"dataframe\">\n",
       "  <thead>\n",
       "    <tr style=\"text-align: right;\">\n",
       "      <th></th>\n",
       "      <th>Bill</th>\n",
       "      <th>Number_of_People</th>\n",
       "      <th>Tips_cat</th>\n",
       "      <th>afternoon</th>\n",
       "      <th>evening</th>\n",
       "      <th>morning</th>\n",
       "      <th>bike</th>\n",
       "      <th>car</th>\n",
       "    </tr>\n",
       "  </thead>\n",
       "  <tbody>\n",
       "    <tr>\n",
       "      <th>0</th>\n",
       "      <td>16</td>\n",
       "      <td>1</td>\n",
       "      <td>0</td>\n",
       "      <td>0</td>\n",
       "      <td>0</td>\n",
       "      <td>1</td>\n",
       "      <td>1</td>\n",
       "      <td>0</td>\n",
       "    </tr>\n",
       "    <tr>\n",
       "      <th>1</th>\n",
       "      <td>23</td>\n",
       "      <td>2</td>\n",
       "      <td>0</td>\n",
       "      <td>0</td>\n",
       "      <td>0</td>\n",
       "      <td>1</td>\n",
       "      <td>1</td>\n",
       "      <td>0</td>\n",
       "    </tr>\n",
       "  </tbody>\n",
       "</table>\n",
       "</div>"
      ],
      "text/plain": [
       "   Bill  Number_of_People  Tips_cat  afternoon  evening  morning  bike  car\n",
       "0    16                 1         0          0        0        1     1    0\n",
       "1    23                 2         0          0        0        1     1    0"
      ]
     },
     "execution_count": 43,
     "metadata": {},
     "output_type": "execute_result"
    }
   ],
   "source": [
    "merged_dum_reg = merged_dum.drop(columns = ['Tips'], axis = 1)\n",
    "merged_dum_reg[:2]"
   ]
  },
  {
   "cell_type": "code",
   "execution_count": 44,
   "id": "968fc356",
   "metadata": {
    "scrolled": false
   },
   "outputs": [
    {
     "name": "stderr",
     "output_type": "stream",
     "text": [
      "C:\\Users\\Inga\\AppData\\Local\\Temp\\ipykernel_2416\\3158823065.py:1: SettingWithCopyWarning: \n",
      "A value is trying to be set on a copy of a slice from a DataFrame.\n",
      "Try using .loc[row_indexer,col_indexer] = value instead\n",
      "\n",
      "See the caveats in the documentation: https://pandas.pydata.org/pandas-docs/stable/user_guide/indexing.html#returning-a-view-versus-a-copy\n",
      "  df2['Arrived_in_1'] = df2['Arrived_in'].astype('category')\n",
      "C:\\Users\\Inga\\AppData\\Local\\Temp\\ipykernel_2416\\3158823065.py:2: SettingWithCopyWarning: \n",
      "A value is trying to be set on a copy of a slice from a DataFrame.\n",
      "Try using .loc[row_indexer,col_indexer] = value instead\n",
      "\n",
      "See the caveats in the documentation: https://pandas.pydata.org/pandas-docs/stable/user_guide/indexing.html#returning-a-view-versus-a-copy\n",
      "  df2['Arrived_in_code'] = df2['Arrived_in_1'].cat.codes\n"
     ]
    }
   ],
   "source": [
    "df2['Arrived_in_1'] = df2['Arrived_in'].astype('category')\n",
    "df2['Arrived_in_code'] = df2['Arrived_in_1'].cat.codes"
   ]
  },
  {
   "cell_type": "code",
   "execution_count": 45,
   "id": "bee1a869",
   "metadata": {},
   "outputs": [
    {
     "name": "stderr",
     "output_type": "stream",
     "text": [
      "C:\\Users\\Inga\\AppData\\Local\\Temp\\ipykernel_2416\\2813781073.py:1: SettingWithCopyWarning: \n",
      "A value is trying to be set on a copy of a slice from a DataFrame.\n",
      "Try using .loc[row_indexer,col_indexer] = value instead\n",
      "\n",
      "See the caveats in the documentation: https://pandas.pydata.org/pandas-docs/stable/user_guide/indexing.html#returning-a-view-versus-a-copy\n",
      "  df2['Time_of_visit_1'] = df2['Time_of_visit'].astype('category')\n",
      "C:\\Users\\Inga\\AppData\\Local\\Temp\\ipykernel_2416\\2813781073.py:2: SettingWithCopyWarning: \n",
      "A value is trying to be set on a copy of a slice from a DataFrame.\n",
      "Try using .loc[row_indexer,col_indexer] = value instead\n",
      "\n",
      "See the caveats in the documentation: https://pandas.pydata.org/pandas-docs/stable/user_guide/indexing.html#returning-a-view-versus-a-copy\n",
      "  df2['Time_of_visit_code'] = df2['Time_of_visit_1'].cat.codes\n"
     ]
    }
   ],
   "source": [
    "df2['Time_of_visit_1'] = df2['Time_of_visit'].astype('category')\n",
    "df2['Time_of_visit_code'] = df2['Time_of_visit_1'].cat.codes"
   ]
  },
  {
   "cell_type": "code",
   "execution_count": 46,
   "id": "e4b28466",
   "metadata": {
    "scrolled": false
   },
   "outputs": [
    {
     "name": "stdout",
     "output_type": "stream",
     "text": [
      "<class 'pandas.core.frame.DataFrame'>\n",
      "Int64Index: 43 entries, 0 to 49\n",
      "Data columns (total 10 columns):\n",
      " #   Column              Non-Null Count  Dtype   \n",
      "---  ------              --------------  -----   \n",
      " 0   Bill                43 non-null     int64   \n",
      " 1   Number_of_People    43 non-null     int64   \n",
      " 2   Arrived_in          43 non-null     object  \n",
      " 3   Time_of_visit       43 non-null     object  \n",
      " 4   Tips                43 non-null     int64   \n",
      " 5   Tips_cat            43 non-null     int32   \n",
      " 6   Arrived_in_1        43 non-null     category\n",
      " 7   Arrived_in_code     43 non-null     int8    \n",
      " 8   Time_of_visit_1     43 non-null     category\n",
      " 9   Time_of_visit_code  43 non-null     int8    \n",
      "dtypes: category(2), int32(1), int64(3), int8(2), object(2)\n",
      "memory usage: 2.6+ KB\n"
     ]
    }
   ],
   "source": [
    "df2.info()"
   ]
  },
  {
   "cell_type": "code",
   "execution_count": 47,
   "id": "0834fd09",
   "metadata": {},
   "outputs": [
    {
     "data": {
      "text/plain": [
       "2    15\n",
       "1    15\n",
       "0    13\n",
       "Name: Time_of_visit_code, dtype: int64"
      ]
     },
     "execution_count": 47,
     "metadata": {},
     "output_type": "execute_result"
    }
   ],
   "source": [
    "df2.Time_of_visit_code.value_counts()"
   ]
  },
  {
   "cell_type": "code",
   "execution_count": 48,
   "id": "d7ae9ac5",
   "metadata": {},
   "outputs": [],
   "source": [
    "import sklearn\n",
    "from sklearn import preprocessing\n",
    "from sklearn.linear_model import LogisticRegression\n",
    "from sklearn.model_selection import train_test_split, cross_val_predict\n",
    "\n",
    "from sklearn import metrics\n",
    "from sklearn.metrics import confusion_matrix, plot_confusion_matrix, precision_score, recall_score"
   ]
  },
  {
   "cell_type": "code",
   "execution_count": 49,
   "id": "fc498d7d",
   "metadata": {},
   "outputs": [],
   "source": [
    "# confusion_matrix - матрица ошибок"
   ]
  },
  {
   "cell_type": "code",
   "execution_count": 50,
   "id": "f46ae05f",
   "metadata": {},
   "outputs": [
    {
     "name": "stdout",
     "output_type": "stream",
     "text": [
      "<class 'pandas.core.frame.DataFrame'>\n",
      "Int64Index: 43 entries, 0 to 49\n",
      "Data columns (total 8 columns):\n",
      " #   Column            Non-Null Count  Dtype\n",
      "---  ------            --------------  -----\n",
      " 0   Bill              43 non-null     int64\n",
      " 1   Number_of_People  43 non-null     int64\n",
      " 2   Tips_cat          43 non-null     int32\n",
      " 3   afternoon         43 non-null     uint8\n",
      " 4   evening           43 non-null     uint8\n",
      " 5   morning           43 non-null     uint8\n",
      " 6   bike              43 non-null     uint8\n",
      " 7   car               43 non-null     uint8\n",
      "dtypes: int32(1), int64(2), uint8(5)\n",
      "memory usage: 1.4 KB\n"
     ]
    }
   ],
   "source": [
    "merged_dum_reg.info()"
   ]
  },
  {
   "cell_type": "code",
   "execution_count": 51,
   "id": "ac2fcfa8",
   "metadata": {
    "scrolled": true
   },
   "outputs": [
    {
     "data": {
      "text/html": [
       "<div>\n",
       "<style scoped>\n",
       "    .dataframe tbody tr th:only-of-type {\n",
       "        vertical-align: middle;\n",
       "    }\n",
       "\n",
       "    .dataframe tbody tr th {\n",
       "        vertical-align: top;\n",
       "    }\n",
       "\n",
       "    .dataframe thead th {\n",
       "        text-align: right;\n",
       "    }\n",
       "</style>\n",
       "<table border=\"1\" class=\"dataframe\">\n",
       "  <thead>\n",
       "    <tr style=\"text-align: right;\">\n",
       "      <th></th>\n",
       "      <th>Negative (0)</th>\n",
       "      <th>Positive (1)</th>\n",
       "    </tr>\n",
       "  </thead>\n",
       "  <tbody>\n",
       "    <tr>\n",
       "      <th>Negative (0)</th>\n",
       "      <td>TN</td>\n",
       "      <td>FP</td>\n",
       "    </tr>\n",
       "    <tr>\n",
       "      <th>Positive (1)</th>\n",
       "      <td>FN</td>\n",
       "      <td>TP</td>\n",
       "    </tr>\n",
       "  </tbody>\n",
       "</table>\n",
       "</div>"
      ],
      "text/plain": [
       "             Negative (0) Positive (1)\n",
       "Negative (0)           TN           FP\n",
       "Positive (1)           FN           TP"
      ]
     },
     "execution_count": 51,
     "metadata": {},
     "output_type": "execute_result"
    }
   ],
   "source": [
    "ex = pd.DataFrame(data = [['TN', 'FP'],['FN', 'TP']], columns = ['Negative (0)', 'Positive (1)'], index = ['Negative (0)', 'Positive (1)'])\n",
    "ex"
   ]
  },
  {
   "cell_type": "code",
   "execution_count": 52,
   "id": "ce8159ce",
   "metadata": {},
   "outputs": [],
   "source": [
    "X = df2[['Bill', 'Number_of_People', 'Arrived_in_code', 'Time_of_visit_code']]"
   ]
  },
  {
   "cell_type": "code",
   "execution_count": 53,
   "id": "0acb509f",
   "metadata": {},
   "outputs": [
    {
     "data": {
      "text/html": [
       "<div>\n",
       "<style scoped>\n",
       "    .dataframe tbody tr th:only-of-type {\n",
       "        vertical-align: middle;\n",
       "    }\n",
       "\n",
       "    .dataframe tbody tr th {\n",
       "        vertical-align: top;\n",
       "    }\n",
       "\n",
       "    .dataframe thead th {\n",
       "        text-align: right;\n",
       "    }\n",
       "</style>\n",
       "<table border=\"1\" class=\"dataframe\">\n",
       "  <thead>\n",
       "    <tr style=\"text-align: right;\">\n",
       "      <th></th>\n",
       "      <th>Bill</th>\n",
       "      <th>Number_of_People</th>\n",
       "      <th>Arrived_in</th>\n",
       "      <th>Time_of_visit</th>\n",
       "      <th>Tips</th>\n",
       "      <th>Tips_cat</th>\n",
       "      <th>Arrived_in_1</th>\n",
       "      <th>Arrived_in_code</th>\n",
       "      <th>Time_of_visit_1</th>\n",
       "      <th>Time_of_visit_code</th>\n",
       "    </tr>\n",
       "  </thead>\n",
       "  <tbody>\n",
       "    <tr>\n",
       "      <th>0</th>\n",
       "      <td>16</td>\n",
       "      <td>1</td>\n",
       "      <td>bike</td>\n",
       "      <td>morning</td>\n",
       "      <td>0</td>\n",
       "      <td>0</td>\n",
       "      <td>bike</td>\n",
       "      <td>0</td>\n",
       "      <td>morning</td>\n",
       "      <td>2</td>\n",
       "    </tr>\n",
       "    <tr>\n",
       "      <th>1</th>\n",
       "      <td>23</td>\n",
       "      <td>2</td>\n",
       "      <td>bike</td>\n",
       "      <td>morning</td>\n",
       "      <td>0</td>\n",
       "      <td>0</td>\n",
       "      <td>bike</td>\n",
       "      <td>0</td>\n",
       "      <td>morning</td>\n",
       "      <td>2</td>\n",
       "    </tr>\n",
       "  </tbody>\n",
       "</table>\n",
       "</div>"
      ],
      "text/plain": [
       "   Bill  Number_of_People Arrived_in Time_of_visit  Tips  Tips_cat  \\\n",
       "0    16                 1       bike       morning     0         0   \n",
       "1    23                 2       bike       morning     0         0   \n",
       "\n",
       "  Arrived_in_1  Arrived_in_code Time_of_visit_1  Time_of_visit_code  \n",
       "0         bike                0         morning                   2  \n",
       "1         bike                0         morning                   2  "
      ]
     },
     "execution_count": 53,
     "metadata": {},
     "output_type": "execute_result"
    }
   ],
   "source": [
    "df2[:2]"
   ]
  },
  {
   "cell_type": "code",
   "execution_count": 54,
   "id": "fdef4744",
   "metadata": {},
   "outputs": [],
   "source": [
    "X_reg = merged_dum_reg[['Bill', 'Number_of_People', 'afternoon', 'evening', 'morning', 'bike', 'car']]"
   ]
  },
  {
   "cell_type": "code",
   "execution_count": 55,
   "id": "0ac78ef1",
   "metadata": {},
   "outputs": [],
   "source": [
    "y = df2.Tips_cat.values"
   ]
  },
  {
   "cell_type": "code",
   "execution_count": 56,
   "id": "45d7f4f8",
   "metadata": {
    "scrolled": true
   },
   "outputs": [],
   "source": [
    "X_train, X_valid, y_train, y_valid = train_test_split(X, y, test_size = 0.2, random_state=10)\n"
   ]
  },
  {
   "cell_type": "code",
   "execution_count": 57,
   "id": "1b11cee9",
   "metadata": {},
   "outputs": [],
   "source": [
    "y_reg = merged_dum_reg.Tips_cat.values"
   ]
  },
  {
   "cell_type": "code",
   "execution_count": 58,
   "id": "6a951598",
   "metadata": {},
   "outputs": [],
   "source": [
    "X_reg_train, X_reg_valid, y_reg_train, y_reg_valid = train_test_split(X_reg, y_reg, test_size = 0.2, random_state=10)\n"
   ]
  },
  {
   "cell_type": "code",
   "execution_count": 59,
   "id": "42dfcdf0",
   "metadata": {},
   "outputs": [
    {
     "data": {
      "text/plain": [
       "(34, 4)"
      ]
     },
     "execution_count": 59,
     "metadata": {},
     "output_type": "execute_result"
    }
   ],
   "source": [
    "X_train.shape"
   ]
  },
  {
   "cell_type": "code",
   "execution_count": 60,
   "id": "78ffae8d",
   "metadata": {},
   "outputs": [
    {
     "data": {
      "text/plain": [
       "(34, 7)"
      ]
     },
     "execution_count": 60,
     "metadata": {},
     "output_type": "execute_result"
    }
   ],
   "source": [
    "X_reg_train.shape"
   ]
  },
  {
   "cell_type": "code",
   "execution_count": 61,
   "id": "a372656a",
   "metadata": {},
   "outputs": [
    {
     "data": {
      "text/plain": [
       "(9, 4)"
      ]
     },
     "execution_count": 61,
     "metadata": {},
     "output_type": "execute_result"
    }
   ],
   "source": [
    "X_valid.shape"
   ]
  },
  {
   "cell_type": "code",
   "execution_count": 62,
   "id": "b184c8e8",
   "metadata": {},
   "outputs": [
    {
     "data": {
      "text/plain": [
       "(9, 7)"
      ]
     },
     "execution_count": 62,
     "metadata": {},
     "output_type": "execute_result"
    }
   ],
   "source": [
    "X_reg_valid.shape"
   ]
  },
  {
   "cell_type": "markdown",
   "id": "c63619b3",
   "metadata": {},
   "source": [
    "Смысл логистической модели в том, что мы показываем наши тренировочные фичи, а затем тренировочный исход"
   ]
  },
  {
   "cell_type": "markdown",
   "id": "eb8f51c8",
   "metadata": {},
   "source": [
    "Провизуализируем наши тренировочные метки, то, что модель должна будет потом угадать"
   ]
  },
  {
   "cell_type": "code",
   "execution_count": 63,
   "id": "aaa8e8a3",
   "metadata": {},
   "outputs": [],
   "source": [
    "import seaborn as sns\n",
    "sns.set_style('darkgrid')"
   ]
  },
  {
   "cell_type": "code",
   "execution_count": 64,
   "id": "9548810e",
   "metadata": {},
   "outputs": [],
   "source": [
    "from pylab import rcParams\n",
    "rcParams['figure.figsize'] = 8, 6"
   ]
  },
  {
   "cell_type": "code",
   "execution_count": 65,
   "id": "a9c402f9",
   "metadata": {
    "scrolled": false
   },
   "outputs": [
    {
     "data": {
      "text/plain": [
       "<AxesSubplot:xlabel='Tips_cat', ylabel='Bill'>"
      ]
     },
     "execution_count": 65,
     "metadata": {},
     "output_type": "execute_result"
    },
    {
     "data": {
      "image/png": "[encoded data removed]",
      "text/plain": [
       "<Figure size 800x600 with 1 Axes>"
      ]
     },
     "metadata": {},
     "output_type": "display_data"
    }
   ],
   "source": [
    "sns.barplot(x = 'Tips_cat', y = 'Bill', data = df2) # выводит средние значения\n",
    "# но определитель (estimator) можем изменить "
   ]
  },
  {
   "cell_type": "code",
   "execution_count": 66,
   "id": "b9951343",
   "metadata": {},
   "outputs": [
    {
     "name": "stderr",
     "output_type": "stream",
     "text": [
      "C:\\Users\\Inga\\AppData\\Local\\Temp\\ipykernel_2416\\2361857843.py:1: FutureWarning: Dropping of nuisance columns in DataFrame reductions (with 'numeric_only=None') is deprecated; in a future version this will raise TypeError.  Select only valid columns before calling the reduction.\n",
      "  df2[(df2['Bill'] > 0) & (df2['Tips_cat'] == 0)].mean()\n"
     ]
    },
    {
     "data": {
      "text/plain": [
       "Bill                  19.666667\n",
       "Number_of_People       1.708333\n",
       "Tips                   0.000000\n",
       "Tips_cat               0.000000\n",
       "Arrived_in_code        0.291667\n",
       "Time_of_visit_code     1.166667\n",
       "dtype: float64"
      ]
     },
     "execution_count": 66,
     "metadata": {},
     "output_type": "execute_result"
    }
   ],
   "source": [
    "df2[(df2['Bill'] > 0) & (df2['Tips_cat'] == 0)].mean()"
   ]
  },
  {
   "cell_type": "code",
   "execution_count": 67,
   "id": "a0ce6d7d",
   "metadata": {
    "scrolled": false
   },
   "outputs": [
    {
     "data": {
      "text/plain": [
       "<AxesSubplot:xlabel='Tips_cat', ylabel='Bill'>"
      ]
     },
     "execution_count": 67,
     "metadata": {},
     "output_type": "execute_result"
    },
    {
     "data": {
      "image/png": "[encoded data removed]",
      "text/plain": [
       "<Figure size 800x600 with 1 Axes>"
      ]
     },
     "metadata": {},
     "output_type": "display_data"
    }
   ],
   "source": [
    "sns.barplot(x = 'Tips_cat', y = 'Bill', data = df2, estimator = np.median) \n",
    "# np.std...\n"
   ]
  },
  {
   "cell_type": "code",
   "execution_count": 68,
   "id": "62431abd",
   "metadata": {
    "scrolled": false
   },
   "outputs": [
    {
     "data": {
      "text/plain": [
       "<AxesSubplot:xlabel='Tips_cat', ylabel='Bill'>"
      ]
     },
     "execution_count": 68,
     "metadata": {},
     "output_type": "execute_result"
    },
    {
     "data": {
      "image/png": "[encoded data removed]",
      "text/plain": [
       "<Figure size 800x600 with 1 Axes>"
      ]
     },
     "metadata": {},
     "output_type": "display_data"
    }
   ],
   "source": [
    "sns.barplot(x = 'Tips_cat', y = 'Bill', data = df2, estimator = np.std) \n"
   ]
  },
  {
   "cell_type": "markdown",
   "id": "9f179812",
   "metadata": {},
   "source": [
    "Визуализируем при помощи countplot из библиотеки seaborn"
   ]
  },
  {
   "cell_type": "markdown",
   "id": "d8141cc0",
   "metadata": {},
   "source": [
    "__estimator в countplot считает количество совпадений__"
   ]
  },
  {
   "cell_type": "code",
   "execution_count": 69,
   "id": "7223f3ad",
   "metadata": {
    "scrolled": true
   },
   "outputs": [
    {
     "data": {
      "text/plain": [
       "<AxesSubplot:xlabel='Tips_cat', ylabel='count'>"
      ]
     },
     "execution_count": 69,
     "metadata": {},
     "output_type": "execute_result"
    },
    {
     "data": {
      "image/png": "[encoded data removed]",
      "text/plain": [
       "<Figure size 800x600 with 1 Axes>"
      ]
     },
     "metadata": {},
     "output_type": "display_data"
    }
   ],
   "source": [
    "sns.countplot(x = 'Tips_cat', data = df2)"
   ]
  },
  {
   "cell_type": "code",
   "execution_count": 70,
   "id": "4e8ff14e",
   "metadata": {},
   "outputs": [
    {
     "data": {
      "text/plain": [
       "(19, 10)"
      ]
     },
     "execution_count": 70,
     "metadata": {},
     "output_type": "execute_result"
    }
   ],
   "source": [
    "df2[df2['Tips_cat'] == 1].shape"
   ]
  },
  {
   "cell_type": "code",
   "execution_count": 71,
   "id": "12dd043a",
   "metadata": {},
   "outputs": [
    {
     "data": {
      "text/plain": [
       "(24, 10)"
      ]
     },
     "execution_count": 71,
     "metadata": {},
     "output_type": "execute_result"
    }
   ],
   "source": [
    "df2[df2['Tips_cat'] == 0].shape"
   ]
  },
  {
   "cell_type": "code",
   "execution_count": 72,
   "id": "8cb60cac",
   "metadata": {},
   "outputs": [
    {
     "data": {
      "text/plain": [
       "<AxesSubplot:xlabel='Time_of_visit', ylabel='Bill'>"
      ]
     },
     "execution_count": 72,
     "metadata": {},
     "output_type": "execute_result"
    },
    {
     "data": {
      "image/png": "[encoded data removed]",
      "text/plain": [
       "<Figure size 800x600 with 1 Axes>"
      ]
     },
     "metadata": {},
     "output_type": "display_data"
    }
   ],
   "source": [
    "sns.boxplot(x = 'Time_of_visit', y = 'Bill', data = df2, hue = 'Tips_cat')"
   ]
  },
  {
   "cell_type": "code",
   "execution_count": 73,
   "id": "69c179bf",
   "metadata": {},
   "outputs": [
    {
     "data": {
      "text/plain": [
       "<AxesSubplot:xlabel='Time_of_visit', ylabel='Tips'>"
      ]
     },
     "execution_count": 73,
     "metadata": {},
     "output_type": "execute_result"
    },
    {
     "data": {
      "image/png": "[encoded data removed]",
      "text/plain": [
       "<Figure size 800x600 with 1 Axes>"
      ]
     },
     "metadata": {},
     "output_type": "display_data"
    }
   ],
   "source": [
    "sns.boxplot(x = 'Time_of_visit', y = 'Tips', data = df2, hue = 'Arrived_in')"
   ]
  },
  {
   "cell_type": "code",
   "execution_count": 74,
   "id": "d12ebd69",
   "metadata": {},
   "outputs": [
    {
     "data": {
      "text/html": [
       "<div>\n",
       "<style scoped>\n",
       "    .dataframe tbody tr th:only-of-type {\n",
       "        vertical-align: middle;\n",
       "    }\n",
       "\n",
       "    .dataframe tbody tr th {\n",
       "        vertical-align: top;\n",
       "    }\n",
       "\n",
       "    .dataframe thead th {\n",
       "        text-align: right;\n",
       "    }\n",
       "</style>\n",
       "<table border=\"1\" class=\"dataframe\">\n",
       "  <thead>\n",
       "    <tr style=\"text-align: right;\">\n",
       "      <th></th>\n",
       "      <th>Bill</th>\n",
       "      <th>Number_of_People</th>\n",
       "      <th>Arrived_in</th>\n",
       "      <th>Time_of_visit</th>\n",
       "      <th>Tips</th>\n",
       "      <th>Tips_cat</th>\n",
       "      <th>Arrived_in_1</th>\n",
       "      <th>Arrived_in_code</th>\n",
       "      <th>Time_of_visit_1</th>\n",
       "      <th>Time_of_visit_code</th>\n",
       "    </tr>\n",
       "  </thead>\n",
       "  <tbody>\n",
       "    <tr>\n",
       "      <th>0</th>\n",
       "      <td>16</td>\n",
       "      <td>1</td>\n",
       "      <td>bike</td>\n",
       "      <td>morning</td>\n",
       "      <td>0</td>\n",
       "      <td>0</td>\n",
       "      <td>bike</td>\n",
       "      <td>0</td>\n",
       "      <td>morning</td>\n",
       "      <td>2</td>\n",
       "    </tr>\n",
       "    <tr>\n",
       "      <th>1</th>\n",
       "      <td>23</td>\n",
       "      <td>2</td>\n",
       "      <td>bike</td>\n",
       "      <td>morning</td>\n",
       "      <td>0</td>\n",
       "      <td>0</td>\n",
       "      <td>bike</td>\n",
       "      <td>0</td>\n",
       "      <td>morning</td>\n",
       "      <td>2</td>\n",
       "    </tr>\n",
       "    <tr>\n",
       "      <th>3</th>\n",
       "      <td>56</td>\n",
       "      <td>2</td>\n",
       "      <td>car</td>\n",
       "      <td>morning</td>\n",
       "      <td>0</td>\n",
       "      <td>0</td>\n",
       "      <td>car</td>\n",
       "      <td>1</td>\n",
       "      <td>morning</td>\n",
       "      <td>2</td>\n",
       "    </tr>\n",
       "    <tr>\n",
       "      <th>4</th>\n",
       "      <td>27</td>\n",
       "      <td>1</td>\n",
       "      <td>bike</td>\n",
       "      <td>morning</td>\n",
       "      <td>0</td>\n",
       "      <td>0</td>\n",
       "      <td>bike</td>\n",
       "      <td>0</td>\n",
       "      <td>morning</td>\n",
       "      <td>2</td>\n",
       "    </tr>\n",
       "    <tr>\n",
       "      <th>9</th>\n",
       "      <td>27</td>\n",
       "      <td>1</td>\n",
       "      <td>bike</td>\n",
       "      <td>morning</td>\n",
       "      <td>0</td>\n",
       "      <td>0</td>\n",
       "      <td>bike</td>\n",
       "      <td>0</td>\n",
       "      <td>morning</td>\n",
       "      <td>2</td>\n",
       "    </tr>\n",
       "    <tr>\n",
       "      <th>10</th>\n",
       "      <td>27</td>\n",
       "      <td>1</td>\n",
       "      <td>bike</td>\n",
       "      <td>morning</td>\n",
       "      <td>0</td>\n",
       "      <td>0</td>\n",
       "      <td>bike</td>\n",
       "      <td>0</td>\n",
       "      <td>morning</td>\n",
       "      <td>2</td>\n",
       "    </tr>\n",
       "    <tr>\n",
       "      <th>12</th>\n",
       "      <td>7</td>\n",
       "      <td>2</td>\n",
       "      <td>car</td>\n",
       "      <td>morning</td>\n",
       "      <td>0</td>\n",
       "      <td>0</td>\n",
       "      <td>car</td>\n",
       "      <td>1</td>\n",
       "      <td>morning</td>\n",
       "      <td>2</td>\n",
       "    </tr>\n",
       "    <tr>\n",
       "      <th>13</th>\n",
       "      <td>19</td>\n",
       "      <td>1</td>\n",
       "      <td>bike</td>\n",
       "      <td>morning</td>\n",
       "      <td>0</td>\n",
       "      <td>0</td>\n",
       "      <td>bike</td>\n",
       "      <td>0</td>\n",
       "      <td>morning</td>\n",
       "      <td>2</td>\n",
       "    </tr>\n",
       "    <tr>\n",
       "      <th>22</th>\n",
       "      <td>8</td>\n",
       "      <td>1</td>\n",
       "      <td>car</td>\n",
       "      <td>morning</td>\n",
       "      <td>0</td>\n",
       "      <td>0</td>\n",
       "      <td>car</td>\n",
       "      <td>1</td>\n",
       "      <td>morning</td>\n",
       "      <td>2</td>\n",
       "    </tr>\n",
       "    <tr>\n",
       "      <th>24</th>\n",
       "      <td>35</td>\n",
       "      <td>4</td>\n",
       "      <td>bike</td>\n",
       "      <td>morning</td>\n",
       "      <td>0</td>\n",
       "      <td>0</td>\n",
       "      <td>bike</td>\n",
       "      <td>0</td>\n",
       "      <td>morning</td>\n",
       "      <td>2</td>\n",
       "    </tr>\n",
       "    <tr>\n",
       "      <th>27</th>\n",
       "      <td>17</td>\n",
       "      <td>2</td>\n",
       "      <td>car</td>\n",
       "      <td>morning</td>\n",
       "      <td>0</td>\n",
       "      <td>0</td>\n",
       "      <td>car</td>\n",
       "      <td>1</td>\n",
       "      <td>morning</td>\n",
       "      <td>2</td>\n",
       "    </tr>\n",
       "    <tr>\n",
       "      <th>32</th>\n",
       "      <td>11</td>\n",
       "      <td>2</td>\n",
       "      <td>car</td>\n",
       "      <td>morning</td>\n",
       "      <td>0</td>\n",
       "      <td>0</td>\n",
       "      <td>car</td>\n",
       "      <td>1</td>\n",
       "      <td>morning</td>\n",
       "      <td>2</td>\n",
       "    </tr>\n",
       "    <tr>\n",
       "      <th>35</th>\n",
       "      <td>67</td>\n",
       "      <td>4</td>\n",
       "      <td>bike</td>\n",
       "      <td>morning</td>\n",
       "      <td>3</td>\n",
       "      <td>1</td>\n",
       "      <td>bike</td>\n",
       "      <td>0</td>\n",
       "      <td>morning</td>\n",
       "      <td>2</td>\n",
       "    </tr>\n",
       "    <tr>\n",
       "      <th>39</th>\n",
       "      <td>165</td>\n",
       "      <td>7</td>\n",
       "      <td>bike</td>\n",
       "      <td>morning</td>\n",
       "      <td>5</td>\n",
       "      <td>1</td>\n",
       "      <td>bike</td>\n",
       "      <td>0</td>\n",
       "      <td>morning</td>\n",
       "      <td>2</td>\n",
       "    </tr>\n",
       "    <tr>\n",
       "      <th>46</th>\n",
       "      <td>112</td>\n",
       "      <td>4</td>\n",
       "      <td>car</td>\n",
       "      <td>morning</td>\n",
       "      <td>8</td>\n",
       "      <td>1</td>\n",
       "      <td>car</td>\n",
       "      <td>1</td>\n",
       "      <td>morning</td>\n",
       "      <td>2</td>\n",
       "    </tr>\n",
       "  </tbody>\n",
       "</table>\n",
       "</div>"
      ],
      "text/plain": [
       "    Bill  Number_of_People Arrived_in Time_of_visit  Tips  Tips_cat  \\\n",
       "0     16                 1       bike       morning     0         0   \n",
       "1     23                 2       bike       morning     0         0   \n",
       "3     56                 2        car       morning     0         0   \n",
       "4     27                 1       bike       morning     0         0   \n",
       "9     27                 1       bike       morning     0         0   \n",
       "10    27                 1       bike       morning     0         0   \n",
       "12     7                 2        car       morning     0         0   \n",
       "13    19                 1       bike       morning     0         0   \n",
       "22     8                 1        car       morning     0         0   \n",
       "24    35                 4       bike       morning     0         0   \n",
       "27    17                 2        car       morning     0         0   \n",
       "32    11                 2        car       morning     0         0   \n",
       "35    67                 4       bike       morning     3         1   \n",
       "39   165                 7       bike       morning     5         1   \n",
       "46   112                 4        car       morning     8         1   \n",
       "\n",
       "   Arrived_in_1  Arrived_in_code Time_of_visit_1  Time_of_visit_code  \n",
       "0          bike                0         morning                   2  \n",
       "1          bike                0         morning                   2  \n",
       "3           car                1         morning                   2  \n",
       "4          bike                0         morning                   2  \n",
       "9          bike                0         morning                   2  \n",
       "10         bike                0         morning                   2  \n",
       "12          car                1         morning                   2  \n",
       "13         bike                0         morning                   2  \n",
       "22          car                1         morning                   2  \n",
       "24         bike                0         morning                   2  \n",
       "27          car                1         morning                   2  \n",
       "32          car                1         morning                   2  \n",
       "35         bike                0         morning                   2  \n",
       "39         bike                0         morning                   2  \n",
       "46          car                1         morning                   2  "
      ]
     },
     "execution_count": 74,
     "metadata": {},
     "output_type": "execute_result"
    }
   ],
   "source": [
    "df2[df2['Time_of_visit'] == 'morning']"
   ]
  },
  {
   "cell_type": "code",
   "execution_count": 75,
   "id": "8ee76c1f",
   "metadata": {},
   "outputs": [
    {
     "data": {
      "text/plain": [
       "<AxesSubplot:xlabel='Time_of_visit', ylabel='Tips'>"
      ]
     },
     "execution_count": 75,
     "metadata": {},
     "output_type": "execute_result"
    },
    {
     "data": {
      "image/png": "[encoded data removed]",
      "text/plain": [
       "<Figure size 800x600 with 1 Axes>"
      ]
     },
     "metadata": {},
     "output_type": "display_data"
    }
   ],
   "source": [
    "sns.violinplot(x = 'Time_of_visit', y = 'Tips', data = df2, hue = 'Arrived_in', split = True) \n",
    "# плотность распределения данных ( распределяется пропорционально плотности данных от средней линии, \n",
    "# простирается выше и ниже наибольшего/наименьшего значения)"
   ]
  },
  {
   "cell_type": "code",
   "execution_count": 76,
   "id": "4a137bf3",
   "metadata": {},
   "outputs": [],
   "source": [
    "df2_train, df2_valid = train_test_split(df2, test_size = 0.2, random_state=10)"
   ]
  },
  {
   "cell_type": "code",
   "execution_count": 77,
   "id": "d256a377",
   "metadata": {},
   "outputs": [
    {
     "data": {
      "text/plain": [
       "(34, 10)"
      ]
     },
     "execution_count": 77,
     "metadata": {},
     "output_type": "execute_result"
    }
   ],
   "source": [
    "df2_train.shape"
   ]
  },
  {
   "cell_type": "code",
   "execution_count": 78,
   "id": "c1305e39",
   "metadata": {
    "scrolled": true
   },
   "outputs": [
    {
     "data": {
      "text/plain": [
       "<AxesSubplot:xlabel='Tips_cat', ylabel='count'>"
      ]
     },
     "execution_count": 78,
     "metadata": {},
     "output_type": "execute_result"
    },
    {
     "data": {
      "image/png": "[encoded data removed]",
      "text/plain": [
       "<Figure size 800x600 with 1 Axes>"
      ]
     },
     "metadata": {},
     "output_type": "display_data"
    }
   ],
   "source": [
    "sns.countplot(x = 'Tips_cat', data = df2_train)"
   ]
  },
  {
   "cell_type": "code",
   "execution_count": 79,
   "id": "ebea99f3",
   "metadata": {},
   "outputs": [
    {
     "data": {
      "text/plain": [
       "[<matplotlib.lines.Line2D at 0x1e360406ee0>]"
      ]
     },
     "execution_count": 79,
     "metadata": {},
     "output_type": "execute_result"
    },
    {
     "data": {
      "image/png": "[encoded data removed]",
      "text/plain": [
       "<Figure size 1000x700 with 1 Axes>"
      ]
     },
     "metadata": {},
     "output_type": "display_data"
    }
   ],
   "source": [
    "sns.set(rc = {'figure.figsize': (10,7)})\n",
    "sns.scatterplot(x = 'Time_of_visit', y = 'Number_of_People', hue = 'Tips_cat', data = df2)\n",
    "\n",
    "\n",
    "x = np.linspace(-1, 3, 50)\n",
    "y1 = 2 * x - 1 \n",
    "y2 = -1 * x + 4\n",
    "\n",
    "plt.plot(x, y1, color = 'r')\n",
    "plt.plot(x, y2, color = 'g')\n"
   ]
  },
  {
   "cell_type": "markdown",
   "id": "69258557",
   "metadata": {},
   "source": [
    "##### Видим как распространены наши классы (Tips_cat) относительно двух параметров (Number_of_People и Time_of_visit)"
   ]
  },
  {
   "cell_type": "markdown",
   "id": "78d8cee9",
   "metadata": {},
   "source": [
    "__точки и расходятся, и диффундируют__ (проникают в облако друг друга)"
   ]
  },
  {
   "cell_type": "markdown",
   "id": "93de3078",
   "metadata": {},
   "source": [
    "Идеально линейно-разделимых множеств практически нет (прямых можно провести много и они будут давать разные ошибки. Как их посчитать?)"
   ]
  },
  {
   "cell_type": "markdown",
   "id": "95bf8c64",
   "metadata": {},
   "source": [
    "__Задача__ Подобрать прямую, которая бы минимизировала функцию потерь"
   ]
  },
  {
   "cell_type": "markdown",
   "id": "aed06186",
   "metadata": {},
   "source": [
    "__Если мы выявим ошибку и попробуем сделать ее наименьшей, мы сможем сформулировать задачу классификации__"
   ]
  },
  {
   "cell_type": "markdown",
   "id": "2fa5c65c",
   "metadata": {},
   "source": [
    "Гипотеза, функция потерь (которую надо стремиться минимизировать), подбор параметров"
   ]
  },
  {
   "cell_type": "code",
   "execution_count": 80,
   "id": "d2a8f4bb",
   "metadata": {},
   "outputs": [],
   "source": [
    "### Нормируем данные"
   ]
  },
  {
   "cell_type": "markdown",
   "id": "172d40de",
   "metadata": {},
   "source": [
    "$$\n",
    "norm_X = \\frac{(X - X_{mean})}{X_{std}}\n",
    "$$"
   ]
  },
  {
   "cell_type": "code",
   "execution_count": 81,
   "id": "3d141f99",
   "metadata": {},
   "outputs": [],
   "source": [
    "from sklearn.preprocessing import StandardScaler"
   ]
  },
  {
   "cell_type": "code",
   "execution_count": 82,
   "id": "1e2c1a30",
   "metadata": {},
   "outputs": [],
   "source": [
    "z_score_scaler = StandardScaler() # Применяется только на обучающих данных\n",
    "\n",
    "z_score_scaler.fit(X_train)\n",
    "\n",
    "X_train_scaled = z_score_scaler.transform(X_train)\n",
    "X_valid_scaled = z_score_scaler.transform(X_valid)"
   ]
  },
  {
   "cell_type": "code",
   "execution_count": 83,
   "id": "fbbd9136",
   "metadata": {
    "scrolled": false
   },
   "outputs": [
    {
     "data": {
      "text/plain": [
       "array([[-0.40545159,  0.53872705, -1.06066017,  0.99726775],\n",
       "       [-0.88080863, -0.45136591,  0.94280904,  0.99726775]])"
      ]
     },
     "execution_count": 83,
     "metadata": {},
     "output_type": "execute_result"
    }
   ],
   "source": [
    "X_train_scaled[:2]"
   ]
  },
  {
   "cell_type": "code",
   "execution_count": 84,
   "id": "62918c24",
   "metadata": {},
   "outputs": [],
   "source": [
    "z_score_reg_scaler = StandardScaler()\n",
    "z_score_reg_scaler.fit(X_reg_train)\n",
    "\n",
    "X_train_reg_scaled = z_score_reg_scaler.transform(X_reg_train)\n",
    "X_valid_reg_scaled = z_score_reg_scaler.transform(X_reg_valid)"
   ]
  },
  {
   "cell_type": "code",
   "execution_count": 85,
   "id": "3dd0b888",
   "metadata": {},
   "outputs": [
    {
     "data": {
      "text/plain": [
       "array([[-0.40545159,  0.53872705, -0.5547002 , -0.69156407,  1.12546287,\n",
       "         1.06066017, -1.06066017],\n",
       "       [-0.88080863, -0.45136591, -0.5547002 , -0.69156407,  1.12546287,\n",
       "        -0.94280904,  0.94280904]])"
      ]
     },
     "execution_count": 85,
     "metadata": {},
     "output_type": "execute_result"
    }
   ],
   "source": [
    "X_train_reg_scaled[:2]"
   ]
  },
  {
   "cell_type": "markdown",
   "id": "1510f8f1",
   "metadata": {},
   "source": [
    "__Создаем Logistic Regression Model__"
   ]
  },
  {
   "cell_type": "code",
   "execution_count": 86,
   "id": "208fe0e6",
   "metadata": {},
   "outputs": [],
   "source": [
    "Log_reg_model = LogisticRegression()"
   ]
  },
  {
   "cell_type": "code",
   "execution_count": 87,
   "id": "35355103",
   "metadata": {},
   "outputs": [],
   "source": [
    "Log_reg_dummy_model = LogisticRegression()"
   ]
  },
  {
   "cell_type": "code",
   "execution_count": 88,
   "id": "a15cf66d",
   "metadata": {
    "scrolled": true
   },
   "outputs": [
    {
     "data": {
      "text/plain": [
       "LogisticRegression()"
      ]
     },
     "execution_count": 88,
     "metadata": {},
     "output_type": "execute_result"
    }
   ],
   "source": [
    "Log_reg_model.fit(X_train_scaled, y_train) #fit model"
   ]
  },
  {
   "cell_type": "code",
   "execution_count": 89,
   "id": "2b490a2f",
   "metadata": {},
   "outputs": [
    {
     "data": {
      "text/plain": [
       "LogisticRegression()"
      ]
     },
     "execution_count": 89,
     "metadata": {},
     "output_type": "execute_result"
    }
   ],
   "source": [
    "Log_reg_dummy_model.fit(X_train_reg_scaled, y_reg_train) #fit model"
   ]
  },
  {
   "cell_type": "code",
   "execution_count": 90,
   "id": "de46d591",
   "metadata": {},
   "outputs": [],
   "source": [
    "y_pred = Log_reg_model.predict(X_valid_scaled)\n",
    "y_pred_probs = Log_reg_model.predict_proba(X_valid_scaled)"
   ]
  },
  {
   "cell_type": "code",
   "execution_count": 91,
   "id": "a20e86ba",
   "metadata": {},
   "outputs": [],
   "source": [
    "y_pred_dummy = Log_reg_dummy_model.predict(X_valid_reg_scaled)\n",
    "y_pred_probs_dummy = Log_reg_dummy_model.predict_proba(X_valid_reg_scaled)"
   ]
  },
  {
   "cell_type": "code",
   "execution_count": 92,
   "id": "785eb280",
   "metadata": {},
   "outputs": [
    {
     "data": {
      "text/plain": [
       "array([1, 1, 1, 0, 1, 0, 0, 0, 0])"
      ]
     },
     "execution_count": 92,
     "metadata": {},
     "output_type": "execute_result"
    }
   ],
   "source": [
    "y_pred"
   ]
  },
  {
   "cell_type": "code",
   "execution_count": 93,
   "id": "13345998",
   "metadata": {},
   "outputs": [
    {
     "data": {
      "text/plain": [
       "array([1, 1, 1, 0, 1, 0, 0, 0, 0])"
      ]
     },
     "execution_count": 93,
     "metadata": {},
     "output_type": "execute_result"
    }
   ],
   "source": [
    "y_pred_dummy"
   ]
  },
  {
   "cell_type": "code",
   "execution_count": 94,
   "id": "185554ef",
   "metadata": {
    "scrolled": false
   },
   "outputs": [
    {
     "data": {
      "text/plain": [
       "array([[0.20804571, 0.79195429],\n",
       "       [0.31633669, 0.68366331],\n",
       "       [0.01829802, 0.98170198],\n",
       "       [0.74910546, 0.25089454],\n",
       "       [0.33627623, 0.66372377],\n",
       "       [0.93303682, 0.06696318],\n",
       "       [0.85642757, 0.14357243],\n",
       "       [0.78257319, 0.21742681],\n",
       "       [0.87394174, 0.12605826]])"
      ]
     },
     "execution_count": 94,
     "metadata": {},
     "output_type": "execute_result"
    }
   ],
   "source": [
    "y_pred_probs"
   ]
  },
  {
   "cell_type": "code",
   "execution_count": 95,
   "id": "7a8dce1e",
   "metadata": {},
   "outputs": [
    {
     "data": {
      "text/plain": [
       "array([[0.10323461, 0.89676539],\n",
       "       [0.37618186, 0.62381814],\n",
       "       [0.00645744, 0.99354256],\n",
       "       [0.84829277, 0.15170723],\n",
       "       [0.411669  , 0.588331  ],\n",
       "       [0.84896372, 0.15103628],\n",
       "       [0.91825669, 0.08174331],\n",
       "       [0.60469882, 0.39530118],\n",
       "       [0.92798352, 0.07201648]])"
      ]
     },
     "execution_count": 95,
     "metadata": {},
     "output_type": "execute_result"
    }
   ],
   "source": [
    "y_pred_probs_dummy"
   ]
  },
  {
   "cell_type": "markdown",
   "id": "827f17b5",
   "metadata": {},
   "source": [
    "__Коэффициенты__"
   ]
  },
  {
   "cell_type": "code",
   "execution_count": 96,
   "id": "1d1e8cc0",
   "metadata": {},
   "outputs": [
    {
     "name": "stderr",
     "output_type": "stream",
     "text": [
      "C:\\Users\\Inga\\AppData\\Local\\Temp\\ipykernel_2416\\3340873020.py:3: FutureWarning: The frame.append method is deprecated and will be removed from pandas in a future version. Use pandas.concat instead.\n",
      "  coef = coef.append({'Coefs' : Log_reg_model.intercept_[0],\n"
     ]
    }
   ],
   "source": [
    "coef = pd.DataFrame({'Coefs' : Log_reg_model.coef_[0],\n",
    "                    'Names' : ['Bill', 'Number_of_People', 'Arrived_in_code', 'Time_of_visit_code']})\n",
    "coef = coef.append({'Coefs' : Log_reg_model.intercept_[0],\n",
    "                   'Names' : 'intercept'}, ignore_index = True)"
   ]
  },
  {
   "cell_type": "code",
   "execution_count": 97,
   "id": "79f130b8",
   "metadata": {
    "scrolled": false
   },
   "outputs": [
    {
     "data": {
      "text/html": [
       "<div>\n",
       "<style scoped>\n",
       "    .dataframe tbody tr th:only-of-type {\n",
       "        vertical-align: middle;\n",
       "    }\n",
       "\n",
       "    .dataframe tbody tr th {\n",
       "        vertical-align: top;\n",
       "    }\n",
       "\n",
       "    .dataframe thead th {\n",
       "        text-align: right;\n",
       "    }\n",
       "</style>\n",
       "<table border=\"1\" class=\"dataframe\">\n",
       "  <thead>\n",
       "    <tr style=\"text-align: right;\">\n",
       "      <th></th>\n",
       "      <th>Coefs</th>\n",
       "      <th>Names</th>\n",
       "    </tr>\n",
       "  </thead>\n",
       "  <tbody>\n",
       "    <tr>\n",
       "      <th>0</th>\n",
       "      <td>1.771091</td>\n",
       "      <td>Bill</td>\n",
       "    </tr>\n",
       "    <tr>\n",
       "      <th>1</th>\n",
       "      <td>0.851379</td>\n",
       "      <td>Number_of_People</td>\n",
       "    </tr>\n",
       "    <tr>\n",
       "      <th>2</th>\n",
       "      <td>0.675244</td>\n",
       "      <td>Arrived_in_code</td>\n",
       "    </tr>\n",
       "    <tr>\n",
       "      <th>3</th>\n",
       "      <td>-0.603724</td>\n",
       "      <td>Time_of_visit_code</td>\n",
       "    </tr>\n",
       "    <tr>\n",
       "      <th>4</th>\n",
       "      <td>0.201353</td>\n",
       "      <td>intercept</td>\n",
       "    </tr>\n",
       "  </tbody>\n",
       "</table>\n",
       "</div>"
      ],
      "text/plain": [
       "      Coefs               Names\n",
       "0  1.771091                Bill\n",
       "1  0.851379    Number_of_People\n",
       "2  0.675244     Arrived_in_code\n",
       "3 -0.603724  Time_of_visit_code\n",
       "4  0.201353           intercept"
      ]
     },
     "execution_count": 97,
     "metadata": {},
     "output_type": "execute_result"
    }
   ],
   "source": [
    "coef\n",
    "# Log odds"
   ]
  },
  {
   "cell_type": "code",
   "execution_count": 98,
   "id": "80ffacf5",
   "metadata": {},
   "outputs": [
    {
     "data": {
      "text/html": [
       "<div>\n",
       "<style scoped>\n",
       "    .dataframe tbody tr th:only-of-type {\n",
       "        vertical-align: middle;\n",
       "    }\n",
       "\n",
       "    .dataframe tbody tr th {\n",
       "        vertical-align: top;\n",
       "    }\n",
       "\n",
       "    .dataframe thead th {\n",
       "        text-align: right;\n",
       "    }\n",
       "</style>\n",
       "<table border=\"1\" class=\"dataframe\">\n",
       "  <thead>\n",
       "    <tr style=\"text-align: right;\">\n",
       "      <th></th>\n",
       "      <th>Bill</th>\n",
       "      <th>Number_of_People</th>\n",
       "      <th>Tips_cat</th>\n",
       "      <th>afternoon</th>\n",
       "      <th>evening</th>\n",
       "      <th>morning</th>\n",
       "      <th>bike</th>\n",
       "      <th>car</th>\n",
       "    </tr>\n",
       "  </thead>\n",
       "  <tbody>\n",
       "    <tr>\n",
       "      <th>0</th>\n",
       "      <td>16</td>\n",
       "      <td>1</td>\n",
       "      <td>0</td>\n",
       "      <td>0</td>\n",
       "      <td>0</td>\n",
       "      <td>1</td>\n",
       "      <td>1</td>\n",
       "      <td>0</td>\n",
       "    </tr>\n",
       "    <tr>\n",
       "      <th>1</th>\n",
       "      <td>23</td>\n",
       "      <td>2</td>\n",
       "      <td>0</td>\n",
       "      <td>0</td>\n",
       "      <td>0</td>\n",
       "      <td>1</td>\n",
       "      <td>1</td>\n",
       "      <td>0</td>\n",
       "    </tr>\n",
       "  </tbody>\n",
       "</table>\n",
       "</div>"
      ],
      "text/plain": [
       "   Bill  Number_of_People  Tips_cat  afternoon  evening  morning  bike  car\n",
       "0    16                 1         0          0        0        1     1    0\n",
       "1    23                 2         0          0        0        1     1    0"
      ]
     },
     "execution_count": 98,
     "metadata": {},
     "output_type": "execute_result"
    }
   ],
   "source": [
    "merged_dum_reg[:2]"
   ]
  },
  {
   "cell_type": "code",
   "execution_count": 99,
   "id": "82fcf721",
   "metadata": {},
   "outputs": [
    {
     "name": "stderr",
     "output_type": "stream",
     "text": [
      "C:\\Users\\Inga\\AppData\\Local\\Temp\\ipykernel_2416\\3079860113.py:3: FutureWarning: The frame.append method is deprecated and will be removed from pandas in a future version. Use pandas.concat instead.\n",
      "  coef_dummy = coef_dummy.append({'Coefs_dummy' : Log_reg_dummy_model.intercept_[0],\n"
     ]
    }
   ],
   "source": [
    "coef_dummy = pd.DataFrame({'Coefs_dummy' : Log_reg_dummy_model.coef_[0],\n",
    "                    'Names' : ['Bill', 'Number_of_People', 'afternoon', 'evening', 'morning', 'bike', 'car']})\n",
    "coef_dummy = coef_dummy.append({'Coefs_dummy' : Log_reg_dummy_model.intercept_[0],\n",
    "                   'Names' : 'intercept'}, ignore_index = True)"
   ]
  },
  {
   "cell_type": "code",
   "execution_count": 100,
   "id": "6acc6e71",
   "metadata": {},
   "outputs": [
    {
     "data": {
      "text/html": [
       "<div>\n",
       "<style scoped>\n",
       "    .dataframe tbody tr th:only-of-type {\n",
       "        vertical-align: middle;\n",
       "    }\n",
       "\n",
       "    .dataframe tbody tr th {\n",
       "        vertical-align: top;\n",
       "    }\n",
       "\n",
       "    .dataframe thead th {\n",
       "        text-align: right;\n",
       "    }\n",
       "</style>\n",
       "<table border=\"1\" class=\"dataframe\">\n",
       "  <thead>\n",
       "    <tr style=\"text-align: right;\">\n",
       "      <th></th>\n",
       "      <th>Coefs_dummy</th>\n",
       "      <th>Names</th>\n",
       "    </tr>\n",
       "  </thead>\n",
       "  <tbody>\n",
       "    <tr>\n",
       "      <th>0</th>\n",
       "      <td>1.616606</td>\n",
       "      <td>Bill</td>\n",
       "    </tr>\n",
       "    <tr>\n",
       "      <th>1</th>\n",
       "      <td>0.910244</td>\n",
       "      <td>Number_of_People</td>\n",
       "    </tr>\n",
       "    <tr>\n",
       "      <th>2</th>\n",
       "      <td>0.123869</td>\n",
       "      <td>afternoon</td>\n",
       "    </tr>\n",
       "    <tr>\n",
       "      <th>3</th>\n",
       "      <td>0.499050</td>\n",
       "      <td>evening</td>\n",
       "    </tr>\n",
       "    <tr>\n",
       "      <th>4</th>\n",
       "      <td>-0.576020</td>\n",
       "      <td>morning</td>\n",
       "    </tr>\n",
       "    <tr>\n",
       "      <th>5</th>\n",
       "      <td>-0.422794</td>\n",
       "      <td>bike</td>\n",
       "    </tr>\n",
       "    <tr>\n",
       "      <th>6</th>\n",
       "      <td>0.422794</td>\n",
       "      <td>car</td>\n",
       "    </tr>\n",
       "    <tr>\n",
       "      <th>7</th>\n",
       "      <td>0.208715</td>\n",
       "      <td>intercept</td>\n",
       "    </tr>\n",
       "  </tbody>\n",
       "</table>\n",
       "</div>"
      ],
      "text/plain": [
       "   Coefs_dummy             Names\n",
       "0     1.616606              Bill\n",
       "1     0.910244  Number_of_People\n",
       "2     0.123869         afternoon\n",
       "3     0.499050           evening\n",
       "4    -0.576020           morning\n",
       "5    -0.422794              bike\n",
       "6     0.422794               car\n",
       "7     0.208715         intercept"
      ]
     },
     "execution_count": 100,
     "metadata": {},
     "output_type": "execute_result"
    }
   ],
   "source": [
    "coef_dummy"
   ]
  },
  {
   "cell_type": "code",
   "execution_count": 101,
   "id": "45e212d9",
   "metadata": {},
   "outputs": [
    {
     "data": {
      "text/html": [
       "<div>\n",
       "<style scoped>\n",
       "    .dataframe tbody tr th:only-of-type {\n",
       "        vertical-align: middle;\n",
       "    }\n",
       "\n",
       "    .dataframe tbody tr th {\n",
       "        vertical-align: top;\n",
       "    }\n",
       "\n",
       "    .dataframe thead th {\n",
       "        text-align: right;\n",
       "    }\n",
       "</style>\n",
       "<table border=\"1\" class=\"dataframe\">\n",
       "  <thead>\n",
       "    <tr style=\"text-align: right;\">\n",
       "      <th></th>\n",
       "      <th>Coefs</th>\n",
       "      <th>Names</th>\n",
       "      <th>Odds coef</th>\n",
       "    </tr>\n",
       "  </thead>\n",
       "  <tbody>\n",
       "    <tr>\n",
       "      <th>0</th>\n",
       "      <td>1.771091</td>\n",
       "      <td>Bill</td>\n",
       "      <td>5.877265</td>\n",
       "    </tr>\n",
       "    <tr>\n",
       "      <th>1</th>\n",
       "      <td>0.851379</td>\n",
       "      <td>Number_of_People</td>\n",
       "      <td>2.342875</td>\n",
       "    </tr>\n",
       "    <tr>\n",
       "      <th>2</th>\n",
       "      <td>0.675244</td>\n",
       "      <td>Arrived_in_code</td>\n",
       "      <td>1.964512</td>\n",
       "    </tr>\n",
       "    <tr>\n",
       "      <th>3</th>\n",
       "      <td>-0.603724</td>\n",
       "      <td>Time_of_visit_code</td>\n",
       "      <td>0.546772</td>\n",
       "    </tr>\n",
       "    <tr>\n",
       "      <th>4</th>\n",
       "      <td>0.201353</td>\n",
       "      <td>intercept</td>\n",
       "      <td>1.223057</td>\n",
       "    </tr>\n",
       "  </tbody>\n",
       "</table>\n",
       "</div>"
      ],
      "text/plain": [
       "      Coefs               Names  Odds coef\n",
       "0  1.771091                Bill   5.877265\n",
       "1  0.851379    Number_of_People   2.342875\n",
       "2  0.675244     Arrived_in_code   1.964512\n",
       "3 -0.603724  Time_of_visit_code   0.546772\n",
       "4  0.201353           intercept   1.223057"
      ]
     },
     "execution_count": 101,
     "metadata": {},
     "output_type": "execute_result"
    }
   ],
   "source": [
    "coef['Odds coef'] = np.exp(coef['Coefs'])\n",
    "coef\n",
    "# Имеем Log odds (0) coef и Odds (1) coef\n",
    "# Чем выше коэффициент, тем круче логистическая кривая\n",
    "# Предикторы, обладающие большим влиянием имеют более высокие коэффициенты\n",
    "# i.e. a small change in that predictor will have a big change in the outcome\n",
    "\n",
    "# Negative coef: Increase in predictor lead to the decrease of probability of smth\n",
    "\n",
    "# Here almost all of the coefs have a positive relationships with the predictive probability (mornong = 2)\n",
    "# При увеличении счета на 1 стандартное отклонение, логарифм шанса увеличивается, predicted log odds increse by 1.7 (+) \n",
    "\n",
    "# При увеличении счета на 1 стандартное отклонение, ptedicted odds increase in 5.98 times (multiply) (во столько раз выше)\n",
    "\n",
    "# Intercept more positive, more moving to the left"
   ]
  },
  {
   "cell_type": "code",
   "execution_count": 102,
   "id": "dfce1246",
   "metadata": {},
   "outputs": [
    {
     "data": {
      "text/html": [
       "<div>\n",
       "<style scoped>\n",
       "    .dataframe tbody tr th:only-of-type {\n",
       "        vertical-align: middle;\n",
       "    }\n",
       "\n",
       "    .dataframe tbody tr th {\n",
       "        vertical-align: top;\n",
       "    }\n",
       "\n",
       "    .dataframe thead th {\n",
       "        text-align: right;\n",
       "    }\n",
       "</style>\n",
       "<table border=\"1\" class=\"dataframe\">\n",
       "  <thead>\n",
       "    <tr style=\"text-align: right;\">\n",
       "      <th></th>\n",
       "      <th>Coefs_dummy</th>\n",
       "      <th>Names</th>\n",
       "      <th>Odds coef_dummy</th>\n",
       "    </tr>\n",
       "  </thead>\n",
       "  <tbody>\n",
       "    <tr>\n",
       "      <th>0</th>\n",
       "      <td>1.616606</td>\n",
       "      <td>Bill</td>\n",
       "      <td>5.035970</td>\n",
       "    </tr>\n",
       "    <tr>\n",
       "      <th>1</th>\n",
       "      <td>0.910244</td>\n",
       "      <td>Number_of_People</td>\n",
       "      <td>2.484929</td>\n",
       "    </tr>\n",
       "    <tr>\n",
       "      <th>2</th>\n",
       "      <td>0.123869</td>\n",
       "      <td>afternoon</td>\n",
       "      <td>1.131867</td>\n",
       "    </tr>\n",
       "    <tr>\n",
       "      <th>3</th>\n",
       "      <td>0.499050</td>\n",
       "      <td>evening</td>\n",
       "      <td>1.647156</td>\n",
       "    </tr>\n",
       "    <tr>\n",
       "      <th>4</th>\n",
       "      <td>-0.576020</td>\n",
       "      <td>morning</td>\n",
       "      <td>0.562131</td>\n",
       "    </tr>\n",
       "    <tr>\n",
       "      <th>5</th>\n",
       "      <td>-0.422794</td>\n",
       "      <td>bike</td>\n",
       "      <td>0.655213</td>\n",
       "    </tr>\n",
       "    <tr>\n",
       "      <th>6</th>\n",
       "      <td>0.422794</td>\n",
       "      <td>car</td>\n",
       "      <td>1.526220</td>\n",
       "    </tr>\n",
       "    <tr>\n",
       "      <th>7</th>\n",
       "      <td>0.208715</td>\n",
       "      <td>intercept</td>\n",
       "      <td>1.232094</td>\n",
       "    </tr>\n",
       "  </tbody>\n",
       "</table>\n",
       "</div>"
      ],
      "text/plain": [
       "   Coefs_dummy             Names  Odds coef_dummy\n",
       "0     1.616606              Bill         5.035970\n",
       "1     0.910244  Number_of_People         2.484929\n",
       "2     0.123869         afternoon         1.131867\n",
       "3     0.499050           evening         1.647156\n",
       "4    -0.576020           morning         0.562131\n",
       "5    -0.422794              bike         0.655213\n",
       "6     0.422794               car         1.526220\n",
       "7     0.208715         intercept         1.232094"
      ]
     },
     "execution_count": 102,
     "metadata": {},
     "output_type": "execute_result"
    }
   ],
   "source": [
    "coef_dummy['Odds coef_dummy'] = np.exp(coef_dummy['Coefs_dummy'])\n",
    "coef_dummy"
   ]
  },
  {
   "cell_type": "markdown",
   "id": "ee84e213",
   "metadata": {},
   "source": [
    "__Логистическая функция (сигмоида)__"
   ]
  },
  {
   "cell_type": "markdown",
   "id": "cc5ddc71",
   "metadata": {},
   "source": [
    "$$\n",
    "p = \\frac{1} {1 + {e^-}^y}\n",
    "$$"
   ]
  },
  {
   "cell_type": "markdown",
   "id": "3dfdaf21",
   "metadata": {},
   "source": [
    "$$\n",
    "p = \\frac {1}{1 + {e^{(\\beta_0 + \\beta_1 x)}}}\n",
    "$$"
   ]
  },
  {
   "cell_type": "markdown",
   "id": "95d1f958",
   "metadata": {},
   "source": [
    "__Уравнение логистической регрессии__"
   ]
  },
  {
   "cell_type": "markdown",
   "id": "409449f7",
   "metadata": {},
   "source": [
    "$$\n",
    "y = ln(Odds) = ln(\\frac{p}{1 - p}) = \\beta_0 + \\beta_1 \\cdot x_1 + ... + = \\beta_k \\cdot x_k \n",
    "$$"
   ]
  },
  {
   "cell_type": "markdown",
   "id": "49c5ba74",
   "metadata": {},
   "source": [
    "__Порог дифференциации для predicted probability__ (threshold)"
   ]
  },
  {
   "cell_type": "markdown",
   "id": "4ed09896",
   "metadata": {},
   "source": [
    "Обычно 0.5"
   ]
  },
  {
   "cell_type": "code",
   "execution_count": 103,
   "id": "208766c3",
   "metadata": {},
   "outputs": [],
   "source": [
    "X_7 = df2[['Bill', 'Number_of_People', 'Arrived_in_code', 'Time_of_visit_code']]\n",
    "X_7_scaled = z_score_scaler.transform(X_7)"
   ]
  },
  {
   "cell_type": "code",
   "execution_count": 104,
   "id": "9fd06e81",
   "metadata": {},
   "outputs": [],
   "source": [
    "X_7_dummy = merged_dum_reg[['Bill', 'Number_of_People', 'afternoon', 'evening', 'morning', 'bike', 'car']]\n",
    "X_7_scaled_dummy = z_score_reg_scaler.transform(X_7_dummy)"
   ]
  },
  {
   "cell_type": "code",
   "execution_count": 105,
   "id": "60729ddb",
   "metadata": {},
   "outputs": [],
   "source": [
    "y_pred_prob = Log_reg_model.predict_proba(X_7_scaled)\n",
    "y_pred_prob = y_pred_prob[:,1] # probability for the cat_1"
   ]
  },
  {
   "cell_type": "code",
   "execution_count": 106,
   "id": "538e911f",
   "metadata": {},
   "outputs": [],
   "source": [
    "y_pred_prob_dummy = Log_reg_dummy_model.predict_proba(X_7_scaled_dummy)\n",
    "y_pred_prob_dummy = y_pred_prob_dummy[:,1]"
   ]
  },
  {
   "cell_type": "code",
   "execution_count": 107,
   "id": "79e9ecda",
   "metadata": {},
   "outputs": [],
   "source": [
    "thresh = 0.7 # harder to be classified as class 1"
   ]
  },
  {
   "cell_type": "code",
   "execution_count": 108,
   "id": "58a92d24",
   "metadata": {},
   "outputs": [
    {
     "data": {
      "text/plain": [
       "array([False, False, False, False, False, False, False, False, False,\n",
       "       False, False, False, False, False, False, False,  True, False,\n",
       "       False, False, False, False,  True, False, False, False, False,\n",
       "        True, False,  True, False,  True, False,  True, False,  True,\n",
       "        True,  True,  True,  True,  True,  True,  True])"
      ]
     },
     "execution_count": 108,
     "metadata": {},
     "output_type": "execute_result"
    }
   ],
   "source": [
    "y_pred_prob_thresh = y_pred_prob > thresh\n",
    "y_pred_prob_thresh\n",
    "# True is higher than the threshold"
   ]
  },
  {
   "cell_type": "code",
   "execution_count": 109,
   "id": "90cdb755",
   "metadata": {},
   "outputs": [
    {
     "data": {
      "text/plain": [
       "array([False, False, False, False, False, False, False, False, False,\n",
       "       False, False, False, False, False, False, False,  True, False,\n",
       "       False, False, False, False,  True, False, False, False, False,\n",
       "        True, False,  True, False,  True, False,  True,  True,  True,\n",
       "        True,  True,  True,  True,  True,  True,  True])"
      ]
     },
     "execution_count": 109,
     "metadata": {},
     "output_type": "execute_result"
    }
   ],
   "source": [
    "y_pred_prob_thresh_dummy = y_pred_prob_dummy > thresh\n",
    "y_pred_prob_thresh_dummy"
   ]
  },
  {
   "cell_type": "code",
   "execution_count": 110,
   "id": "3d898393",
   "metadata": {},
   "outputs": [
    {
     "data": {
      "text/plain": [
       "array([0, 0, 0, 0, 0, 0, 0, 0, 0, 0, 0, 0, 0, 0, 0, 0, 1, 0, 0, 0, 0, 0,\n",
       "       1, 0, 0, 0, 0, 1, 0, 1, 0, 1, 0, 1, 0, 1, 1, 1, 1, 1, 1, 1, 1])"
      ]
     },
     "execution_count": 110,
     "metadata": {},
     "output_type": "execute_result"
    }
   ],
   "source": [
    "y_pred_prob_thresh = (y_pred_prob > thresh) * 1\n",
    "y_pred_prob_thresh"
   ]
  },
  {
   "cell_type": "code",
   "execution_count": 111,
   "id": "7ca9fd73",
   "metadata": {},
   "outputs": [
    {
     "data": {
      "text/plain": [
       "array([0, 0, 0, 0, 0, 0, 0, 0, 0, 0, 0, 0, 0, 0, 0, 0, 1, 0, 0, 0, 0, 0,\n",
       "       1, 0, 0, 0, 0, 1, 0, 1, 0, 1, 0, 1, 1, 1, 1, 1, 1, 1, 1, 1, 1])"
      ]
     },
     "execution_count": 111,
     "metadata": {},
     "output_type": "execute_result"
    }
   ],
   "source": [
    "y_pred_prob_thresh_dummy = (y_pred_prob_dummy > thresh) * 1\n",
    "y_pred_prob_thresh_dummy"
   ]
  },
  {
   "cell_type": "code",
   "execution_count": 112,
   "id": "17e69a57",
   "metadata": {
    "scrolled": true
   },
   "outputs": [
    {
     "name": "stdout",
     "output_type": "stream",
     "text": [
      "[0 1] [29 14]\n"
     ]
    }
   ],
   "source": [
    "unique, counts = np.unique(y_pred_prob_thresh, return_counts = True)\n",
    "print(unique, counts)"
   ]
  },
  {
   "cell_type": "code",
   "execution_count": 113,
   "id": "e50a0619",
   "metadata": {},
   "outputs": [
    {
     "name": "stdout",
     "output_type": "stream",
     "text": [
      "[0 1] [28 15]\n"
     ]
    }
   ],
   "source": [
    "unique, counts = np.unique(y_pred_prob_thresh_dummy, return_counts = True)\n",
    "print(unique, counts)"
   ]
  },
  {
   "cell_type": "code",
   "execution_count": 114,
   "id": "ad55dbe4",
   "metadata": {},
   "outputs": [],
   "source": [
    "thresh2 = 0.1"
   ]
  },
  {
   "cell_type": "code",
   "execution_count": 115,
   "id": "3ac0db25",
   "metadata": {
    "scrolled": true
   },
   "outputs": [
    {
     "data": {
      "text/plain": [
       "array([0, 0, 1, 1, 0, 1, 1, 1, 1, 0, 0, 1, 1, 0, 1, 1, 1, 1, 1, 1, 1, 1,\n",
       "       1, 1, 0, 1, 0, 1, 1, 1, 1, 1, 1, 1, 1, 1, 1, 1, 1, 1, 1, 1, 1])"
      ]
     },
     "execution_count": 115,
     "metadata": {},
     "output_type": "execute_result"
    }
   ],
   "source": [
    "y_pred_prob_thresh2 = (y_pred_prob > thresh2) * 1\n",
    "y_pred_prob_thresh2"
   ]
  },
  {
   "cell_type": "code",
   "execution_count": 116,
   "id": "dd25b6bb",
   "metadata": {},
   "outputs": [
    {
     "name": "stdout",
     "output_type": "stream",
     "text": [
      "[0 1] [ 8 35]\n"
     ]
    }
   ],
   "source": [
    "unique, counts = np.unique(y_pred_prob_thresh2, return_counts = True)\n",
    "print(unique, counts)"
   ]
  },
  {
   "cell_type": "code",
   "execution_count": 117,
   "id": "40980b64",
   "metadata": {},
   "outputs": [
    {
     "data": {
      "text/plain": [
       "array([0, 0, 0, 1, 0, 1, 0, 1, 1, 0, 0, 1, 1, 0, 0, 1, 1, 1, 0, 0, 1, 1,\n",
       "       1, 1, 1, 1, 1, 1, 1, 1, 1, 1, 1, 1, 1, 1, 1, 1, 1, 1, 1, 1, 1])"
      ]
     },
     "execution_count": 117,
     "metadata": {},
     "output_type": "execute_result"
    }
   ],
   "source": [
    "y_pred_prob_thresh2_dummy = (y_pred_prob_dummy > thresh2) * 1\n",
    "y_pred_prob_thresh2_dummy"
   ]
  },
  {
   "cell_type": "code",
   "execution_count": 118,
   "id": "6da51d58",
   "metadata": {},
   "outputs": [
    {
     "name": "stdout",
     "output_type": "stream",
     "text": [
      "[0 1] [11 32]\n"
     ]
    }
   ],
   "source": [
    "unique_dummy, counts_dummy = np.unique(y_pred_prob_thresh2_dummy, return_counts = True)\n",
    "print(unique_dummy, counts_dummy)"
   ]
  },
  {
   "cell_type": "markdown",
   "id": "e86ceff9",
   "metadata": {},
   "source": [
    "__Regularization__"
   ]
  },
  {
   "cell_type": "code",
   "execution_count": 119,
   "id": "683e8e17",
   "metadata": {},
   "outputs": [
    {
     "name": "stdout",
     "output_type": "stream",
     "text": [
      "[[ 0.09869708  0.07267953  0.48386948 -0.92530261]]\n",
      "[-3.73981855]\n"
     ]
    }
   ],
   "source": [
    "Logit = LogisticRegression()\n",
    "Logit.fit(X_train, y_train)\n",
    "\n",
    "print(Logit.coef_)\n",
    "print(Logit.intercept_) \n",
    "#ближе к нулевым значениям"
   ]
  },
  {
   "cell_type": "code",
   "execution_count": 120,
   "id": "8c9768c2",
   "metadata": {},
   "outputs": [
    {
     "name": "stdout",
     "output_type": "stream",
     "text": [
      "[[ 0.09762379  0.10698494  0.29977664  0.65276617 -0.95245796 -0.43201208\n",
      "   0.43209693]]\n",
      "[-4.3192514]\n"
     ]
    }
   ],
   "source": [
    "Logit_dummy = LogisticRegression()\n",
    "Logit_dummy.fit(X_reg_train, y_reg_train)\n",
    "\n",
    "print(Logit_dummy.coef_)\n",
    "print(Logit_dummy.intercept_)"
   ]
  },
  {
   "cell_type": "code",
   "execution_count": 121,
   "id": "5d80f107",
   "metadata": {},
   "outputs": [
    {
     "name": "stdout",
     "output_type": "stream",
     "text": [
      "[[ 0.10580783  0.18961971  1.46984151 -1.56810992]]\n",
      "[-4.14058581]\n"
     ]
    }
   ],
   "source": [
    "Logit2 = LogisticRegression(penalty = 'none')\n",
    "Logit2.fit(X_train, y_train)\n",
    "\n",
    "print(Logit2.coef_)\n",
    "print(Logit2.intercept_)"
   ]
  },
  {
   "cell_type": "code",
   "execution_count": 122,
   "id": "9382ab7c",
   "metadata": {},
   "outputs": [
    {
     "name": "stdout",
     "output_type": "stream",
     "text": [
      "[[   9.69594726   77.38946221   -1.95849006  101.85718275 -389.31225565\n",
      "  -246.73752918  -42.67603379]]\n",
      "[-289.41356296]\n"
     ]
    }
   ],
   "source": [
    "Logit2_dummy = LogisticRegression(penalty = 'none')\n",
    "Logit2_dummy.fit(X_reg_train, y_reg_train)\n",
    "\n",
    "print(Logit2_dummy.coef_)\n",
    "print(Logit2_dummy.intercept_)"
   ]
  },
  {
   "cell_type": "code",
   "execution_count": 123,
   "id": "db1c9202",
   "metadata": {},
   "outputs": [
    {
     "name": "stdout",
     "output_type": "stream",
     "text": [
      "[[ 0.09869708  0.07267953  0.48386948 -0.92530261]]\n",
      "[-3.73981855]\n"
     ]
    }
   ],
   "source": [
    "Logit3 = LogisticRegression(penalty = 'l2')\n",
    "Logit3.fit(X_train, y_train)\n",
    "\n",
    "print(Logit3.coef_)\n",
    "print(Logit3.intercept_)"
   ]
  },
  {
   "cell_type": "code",
   "execution_count": 124,
   "id": "dd50962d",
   "metadata": {},
   "outputs": [
    {
     "name": "stdout",
     "output_type": "stream",
     "text": [
      "[[ 0.09762379  0.10698494  0.29977664  0.65276617 -0.95245796 -0.43201208\n",
      "   0.43209693]]\n",
      "[-4.3192514]\n"
     ]
    }
   ],
   "source": [
    "Logit3_dummy = LogisticRegression(penalty = 'l2')\n",
    "Logit3_dummy.fit(X_reg_train, y_reg_train)\n",
    "\n",
    "print(Logit3_dummy.coef_)\n",
    "print(Logit3_dummy.intercept_)"
   ]
  },
  {
   "cell_type": "markdown",
   "id": "d16ca548",
   "metadata": {},
   "source": [
    "__Метрика качества__"
   ]
  },
  {
   "cell_type": "code",
   "execution_count": 125,
   "id": "b6f7b872",
   "metadata": {},
   "outputs": [],
   "source": [
    "from sklearn.metrics import accuracy_score, f1_score,\\\n",
    "recall_score, confusion_matrix, plot_confusion_matrix, plot_roc_curve"
   ]
  },
  {
   "cell_type": "markdown",
   "id": "986be338",
   "metadata": {},
   "source": [
    "####  accuracy_score - доля правильных ответов алгоритма\n",
    "\n",
    "$$\n",
    "accuracy = \\frac{TP + TN}{TP + TN + FP + FN}\n",
    "$$"
   ]
  },
  {
   "cell_type": "code",
   "execution_count": 126,
   "id": "2641414f",
   "metadata": {},
   "outputs": [
    {
     "name": "stdout",
     "output_type": "stream",
     "text": [
      "Accuracy : 0.8888888888888888\n"
     ]
    }
   ],
   "source": [
    "accuracy_score(y_valid, y_pred)\n",
    "print('Accuracy :', accuracy_score(y_valid, y_pred))"
   ]
  },
  {
   "cell_type": "code",
   "execution_count": 127,
   "id": "717d6515",
   "metadata": {},
   "outputs": [
    {
     "name": "stdout",
     "output_type": "stream",
     "text": [
      "Accuracy_dummy : 0.8888888888888888\n"
     ]
    }
   ],
   "source": [
    "accuracy_score(y_reg_valid, y_pred_dummy)\n",
    "print('Accuracy_dummy :', accuracy_score(y_reg_valid, y_pred_dummy))"
   ]
  },
  {
   "cell_type": "markdown",
   "id": "d2bac6fe",
   "metadata": {},
   "source": [
    "__F метрика учитывает FP и FN__"
   ]
  },
  {
   "cell_type": "markdown",
   "id": "0daf026d",
   "metadata": {},
   "source": [
    "F метрика близка к 0, если один из аргументов близок к 0"
   ]
  },
  {
   "cell_type": "markdown",
   "id": "3f410bd1",
   "metadata": {},
   "source": [
    "$$\n",
    "F1 = 2 \\cdot \\frac{precision \\cdot recall} {precision + recall}\n",
    "$$"
   ]
  },
  {
   "cell_type": "code",
   "execution_count": 128,
   "id": "4a370813",
   "metadata": {
    "scrolled": true
   },
   "outputs": [
    {
     "name": "stdout",
     "output_type": "stream",
     "text": [
      "F1_score:  0.8571428571428571\n"
     ]
    }
   ],
   "source": [
    "print('F1_score: ', f1_score(y_valid, y_pred))"
   ]
  },
  {
   "cell_type": "code",
   "execution_count": 129,
   "id": "18abcfbe",
   "metadata": {},
   "outputs": [
    {
     "name": "stdout",
     "output_type": "stream",
     "text": [
      "F1_score_dummy:  0.8571428571428571\n"
     ]
    }
   ],
   "source": [
    "print('F1_score_dummy: ', f1_score(y_reg_valid, y_pred_dummy))"
   ]
  },
  {
   "cell_type": "markdown",
   "id": "cacfa449",
   "metadata": {},
   "source": [
    "__Recall (полонота) показывает, какую долю объектов положительного класса из всех объектов положительного класса нашел алгоритм__"
   ]
  },
  {
   "cell_type": "markdown",
   "id": "0b639972",
   "metadata": {},
   "source": [
    "$$\n",
    "recall = \\frac{TP}{TP + FN}\n",
    "$$"
   ]
  },
  {
   "cell_type": "code",
   "execution_count": 130,
   "id": "d23e8517",
   "metadata": {},
   "outputs": [
    {
     "name": "stdout",
     "output_type": "stream",
     "text": [
      "Recall:  1.0\n"
     ]
    }
   ],
   "source": [
    "print('Recall: ', recall_score(y_valid, y_pred))"
   ]
  },
  {
   "cell_type": "code",
   "execution_count": 131,
   "id": "95740c4a",
   "metadata": {},
   "outputs": [
    {
     "name": "stdout",
     "output_type": "stream",
     "text": [
      "Recall_dummy:  1.0\n"
     ]
    }
   ],
   "source": [
    "print('Recall_dummy: ', recall_score(y_reg_valid, y_pred_dummy))"
   ]
  },
  {
   "cell_type": "markdown",
   "id": "3c13c4e2",
   "metadata": {},
   "source": [
    "__Precision (точность) - доля объектов, названных классификатором положительными и при этом действительно являющиеся положительными__"
   ]
  },
  {
   "cell_type": "markdown",
   "id": "af956f6b",
   "metadata": {},
   "source": [
    "Из всех объектов, которые классифицированы как принадлежащие классу, сколько на самом деле принадлежит ему?"
   ]
  },
  {
   "cell_type": "markdown",
   "id": "37b8ec47",
   "metadata": {},
   "source": [
    "$$\n",
    "precision = \\frac{TP}{TP + FP}\n",
    "$$"
   ]
  },
  {
   "cell_type": "code",
   "execution_count": 132,
   "id": "809cf376",
   "metadata": {},
   "outputs": [
    {
     "name": "stdout",
     "output_type": "stream",
     "text": [
      "Precision:  0.75\n"
     ]
    }
   ],
   "source": [
    "print('Precision: ', precision_score(y_reg_valid, y_pred_dummy))"
   ]
  },
  {
   "cell_type": "code",
   "execution_count": 133,
   "id": "9ee2dd63",
   "metadata": {},
   "outputs": [
    {
     "name": "stdout",
     "output_type": "stream",
     "text": [
      "Precision_dummy:  0.75\n"
     ]
    }
   ],
   "source": [
    "print('Precision_dummy: ', precision_score(y_reg_valid, y_pred_dummy))"
   ]
  },
  {
   "cell_type": "code",
   "execution_count": 134,
   "id": "ba570eb0",
   "metadata": {},
   "outputs": [
    {
     "data": {
      "text/plain": [
       "'              precision    recall  f1-score   support\\n\\n           0       1.00      0.83      0.91         6\\n           1       0.75      1.00      0.86         3\\n\\n    accuracy                           0.89         9\\n   macro avg       0.88      0.92      0.88         9\\nweighted avg       0.92      0.89      0.89         9\\n'"
      ]
     },
     "execution_count": 134,
     "metadata": {},
     "output_type": "execute_result"
    }
   ],
   "source": [
    "sklearn.metrics.classification_report(y_reg_valid, y_pred_dummy)"
   ]
  },
  {
   "cell_type": "markdown",
   "id": "f5588822",
   "metadata": {},
   "source": [
    "### Metrics on train data"
   ]
  },
  {
   "cell_type": "code",
   "execution_count": 135,
   "id": "3dc89915",
   "metadata": {},
   "outputs": [
    {
     "name": "stdout",
     "output_type": "stream",
     "text": [
      "Accuracy : 0.9117647058823529\n",
      "F1_score:  0.9032258064516129\n",
      "Recall:  0.875\n",
      "Precision:  0.9333333333333333\n"
     ]
    }
   ],
   "source": [
    "print('Accuracy :', accuracy_score(y_train, Log_reg_model.predict(X_train_scaled)))\n",
    "print('F1_score: ', f1_score(y_train, Log_reg_model.predict(X_train_scaled)))\n",
    "print('Recall: ', recall_score(y_train, Log_reg_model.predict(X_train_scaled)))\n",
    "print('Precision: ', precision_score(y_train, Log_reg_model.predict(X_train_scaled)))"
   ]
  },
  {
   "cell_type": "code",
   "execution_count": 136,
   "id": "ecc96abd",
   "metadata": {},
   "outputs": [
    {
     "name": "stdout",
     "output_type": "stream",
     "text": [
      "Accuracy_dummy : 0.9705882352941176\n",
      "F1_score_dummy:  0.967741935483871\n",
      "Recall_dummy:  0.9375\n",
      "Precision_dummy:  1.0\n"
     ]
    }
   ],
   "source": [
    "print('Accuracy_dummy :', accuracy_score(y_reg_train, Log_reg_dummy_model.predict(X_train_reg_scaled)))\n",
    "print('F1_score_dummy: ', f1_score(y_reg_train, Log_reg_dummy_model.predict(X_train_reg_scaled)))\n",
    "print('Recall_dummy: ', recall_score(y_reg_train, Log_reg_dummy_model.predict(X_train_reg_scaled)))\n",
    "print('Precision_dummy: ', precision_score(y_reg_train, Log_reg_dummy_model.predict(X_train_reg_scaled)))"
   ]
  },
  {
   "cell_type": "code",
   "execution_count": 137,
   "id": "9078ded2",
   "metadata": {},
   "outputs": [
    {
     "data": {
      "text/plain": [
       "array([[5, 1],\n",
       "       [0, 3]], dtype=int64)"
      ]
     },
     "execution_count": 137,
     "metadata": {},
     "output_type": "execute_result"
    }
   ],
   "source": [
    "confusion_matrix(y_valid, y_pred)"
   ]
  },
  {
   "cell_type": "code",
   "execution_count": 138,
   "id": "95539418",
   "metadata": {
    "scrolled": true
   },
   "outputs": [
    {
     "name": "stderr",
     "output_type": "stream",
     "text": [
      "C:\\Users\\Inga\\anaconda33\\lib\\site-packages\\sklearn\\utils\\deprecation.py:87: FutureWarning: Function plot_confusion_matrix is deprecated; Function `plot_confusion_matrix` is deprecated in 1.0 and will be removed in 1.2. Use one of the class methods: ConfusionMatrixDisplay.from_predictions or ConfusionMatrixDisplay.from_estimator.\n",
      "  warnings.warn(msg, category=FutureWarning)\n"
     ]
    },
    {
     "data": {
      "text/plain": [
       "<sklearn.metrics._plot.confusion_matrix.ConfusionMatrixDisplay at 0x1e3606898e0>"
      ]
     },
     "execution_count": 138,
     "metadata": {},
     "output_type": "execute_result"
    },
    {
     "data": {
      "image/png": "[encoded data removed]",
      "text/plain": [
       "<Figure size 1000x700 with 2 Axes>"
      ]
     },
     "metadata": {},
     "output_type": "display_data"
    }
   ],
   "source": [
    "plot_confusion_matrix(Log_reg_model, X_valid_scaled, y_valid)"
   ]
  },
  {
   "cell_type": "code",
   "execution_count": 139,
   "id": "294c6bee",
   "metadata": {},
   "outputs": [
    {
     "data": {
      "text/plain": [
       "array([[5, 1],\n",
       "       [0, 3]], dtype=int64)"
      ]
     },
     "execution_count": 139,
     "metadata": {},
     "output_type": "execute_result"
    }
   ],
   "source": [
    "confusion_matrix(y_reg_valid, y_pred_dummy)"
   ]
  },
  {
   "cell_type": "code",
   "execution_count": 140,
   "id": "faa45bc6",
   "metadata": {},
   "outputs": [
    {
     "name": "stderr",
     "output_type": "stream",
     "text": [
      "C:\\Users\\Inga\\anaconda33\\lib\\site-packages\\sklearn\\utils\\deprecation.py:87: FutureWarning: Function plot_confusion_matrix is deprecated; Function `plot_confusion_matrix` is deprecated in 1.0 and will be removed in 1.2. Use one of the class methods: ConfusionMatrixDisplay.from_predictions or ConfusionMatrixDisplay.from_estimator.\n",
      "  warnings.warn(msg, category=FutureWarning)\n"
     ]
    },
    {
     "data": {
      "text/plain": [
       "<sklearn.metrics._plot.confusion_matrix.ConfusionMatrixDisplay at 0x1e36070ac10>"
      ]
     },
     "execution_count": 140,
     "metadata": {},
     "output_type": "execute_result"
    },
    {
     "data": {
      "image/png": "[encoded data removed]",
      "text/plain": [
       "<Figure size 1000x700 with 2 Axes>"
      ]
     },
     "metadata": {},
     "output_type": "display_data"
    }
   ],
   "source": [
    "plot_confusion_matrix(Log_reg_dummy_model, X_valid_reg_scaled, y_reg_valid)"
   ]
  },
  {
   "cell_type": "markdown",
   "id": "274f04b2",
   "metadata": {},
   "source": [
    "### Roc curve (receiver operating characteristic)\n",
    "(иногда говорят «кривая ошибок»)"
   ]
  },
  {
   "cell_type": "markdown",
   "id": "84c08a02",
   "metadata": {},
   "source": [
    "__Взаимосвязь между чувствительностью модели (TPR - true positive rate) и ее специфичностью (FPR - false positive rate)__"
   ]
  },
  {
   "cell_type": "markdown",
   "id": "a45eb23e",
   "metadata": {},
   "source": [
    "$$\n",
    "TPR = \\frac {TP} {TP + FN}\n",
    "$$"
   ]
  },
  {
   "cell_type": "markdown",
   "id": "3712f2de",
   "metadata": {},
   "source": [
    "$$\n",
    "FPR = \\frac {FP} {FP + TN}\n",
    "$$"
   ]
  },
  {
   "cell_type": "markdown",
   "id": "e5e0fb60",
   "metadata": {},
   "source": [
    "Сравнивается как меняется чувствительность по отношению к ложноположительным долям на разных порогах отсечения."
   ]
  },
  {
   "cell_type": "markdown",
   "id": "0d7e74d7",
   "metadata": {},
   "source": [
    "Идеальному соответствует ROC-кривая, проходящая через точку (0, 1), площадь под ней равна 1. Наихудшему – ROC-кривая, проходящая через точку (1, 0), площадь под ней – 0. Случайному – что-то похожее на диагональ квадрата, площадь примерно равна 0.5."
   ]
  },
  {
   "cell_type": "code",
   "execution_count": 141,
   "id": "8c5bda69",
   "metadata": {
    "scrolled": true
   },
   "outputs": [
    {
     "name": "stderr",
     "output_type": "stream",
     "text": [
      "C:\\Users\\Inga\\anaconda33\\lib\\site-packages\\sklearn\\utils\\deprecation.py:87: FutureWarning: Function plot_roc_curve is deprecated; Function :func:`plot_roc_curve` is deprecated in 1.0 and will be removed in 1.2. Use one of the class methods: :meth:`sklearn.metric.RocCurveDisplay.from_predictions` or :meth:`sklearn.metric.RocCurveDisplay.from_estimator`.\n",
      "  warnings.warn(msg, category=FutureWarning)\n",
      "C:\\Users\\Inga\\anaconda33\\lib\\site-packages\\sklearn\\base.py:443: UserWarning: X has feature names, but LogisticRegression was fitted without feature names\n",
      "  warnings.warn(\n"
     ]
    },
    {
     "data": {
      "text/plain": [
       "<sklearn.metrics._plot.roc_curve.RocCurveDisplay at 0x1e360df3880>"
      ]
     },
     "execution_count": 141,
     "metadata": {},
     "output_type": "execute_result"
    },
    {
     "data": {
      "image/png": "[encoded data removed]",
      "text/plain": [
       "<Figure size 1000x700 with 1 Axes>"
      ]
     },
     "metadata": {},
     "output_type": "display_data"
    }
   ],
   "source": [
    "plot_roc_curve(Log_reg_model, X_valid, y_valid)\n",
    "# area under curve"
   ]
  },
  {
   "cell_type": "code",
   "execution_count": 142,
   "id": "dfc6e38f",
   "metadata": {
    "scrolled": true
   },
   "outputs": [
    {
     "name": "stderr",
     "output_type": "stream",
     "text": [
      "C:\\Users\\Inga\\anaconda33\\lib\\site-packages\\sklearn\\utils\\deprecation.py:87: FutureWarning: Function plot_roc_curve is deprecated; Function :func:`plot_roc_curve` is deprecated in 1.0 and will be removed in 1.2. Use one of the class methods: :meth:`sklearn.metric.RocCurveDisplay.from_predictions` or :meth:`sklearn.metric.RocCurveDisplay.from_estimator`.\n",
      "  warnings.warn(msg, category=FutureWarning)\n",
      "C:\\Users\\Inga\\anaconda33\\lib\\site-packages\\sklearn\\base.py:443: UserWarning: X has feature names, but LogisticRegression was fitted without feature names\n",
      "  warnings.warn(\n"
     ]
    },
    {
     "data": {
      "text/plain": [
       "<sklearn.metrics._plot.roc_curve.RocCurveDisplay at 0x1e3603c2850>"
      ]
     },
     "execution_count": 142,
     "metadata": {},
     "output_type": "execute_result"
    },
    {
     "data": {
      "image/png": "[encoded data removed]",
      "text/plain": [
       "<Figure size 1000x700 with 1 Axes>"
      ]
     },
     "metadata": {},
     "output_type": "display_data"
    }
   ],
   "source": [
    "plot_roc_curve(Log_reg_model, X_train, y_train)"
   ]
  },
  {
   "cell_type": "code",
   "execution_count": 143,
   "id": "f8cb5fe0",
   "metadata": {},
   "outputs": [
    {
     "name": "stderr",
     "output_type": "stream",
     "text": [
      "C:\\Users\\Inga\\anaconda33\\lib\\site-packages\\sklearn\\utils\\deprecation.py:87: FutureWarning: Function plot_roc_curve is deprecated; Function :func:`plot_roc_curve` is deprecated in 1.0 and will be removed in 1.2. Use one of the class methods: :meth:`sklearn.metric.RocCurveDisplay.from_predictions` or :meth:`sklearn.metric.RocCurveDisplay.from_estimator`.\n",
      "  warnings.warn(msg, category=FutureWarning)\n",
      "C:\\Users\\Inga\\anaconda33\\lib\\site-packages\\sklearn\\base.py:443: UserWarning: X has feature names, but LogisticRegression was fitted without feature names\n",
      "  warnings.warn(\n"
     ]
    },
    {
     "data": {
      "text/plain": [
       "<sklearn.metrics._plot.roc_curve.RocCurveDisplay at 0x1e3607270a0>"
      ]
     },
     "execution_count": 143,
     "metadata": {},
     "output_type": "execute_result"
    },
    {
     "data": {
      "image/png": "[encoded data removed]",
      "text/plain": [
       "<Figure size 1000x700 with 1 Axes>"
      ]
     },
     "metadata": {},
     "output_type": "display_data"
    }
   ],
   "source": [
    "plot_roc_curve(Log_reg_dummy_model, X_reg_valid, y_reg_valid)\n"
   ]
  },
  {
   "cell_type": "code",
   "execution_count": 144,
   "id": "9f9e0478",
   "metadata": {},
   "outputs": [
    {
     "name": "stderr",
     "output_type": "stream",
     "text": [
      "C:\\Users\\Inga\\anaconda33\\lib\\site-packages\\sklearn\\utils\\deprecation.py:87: FutureWarning: Function plot_roc_curve is deprecated; Function :func:`plot_roc_curve` is deprecated in 1.0 and will be removed in 1.2. Use one of the class methods: :meth:`sklearn.metric.RocCurveDisplay.from_predictions` or :meth:`sklearn.metric.RocCurveDisplay.from_estimator`.\n",
      "  warnings.warn(msg, category=FutureWarning)\n",
      "C:\\Users\\Inga\\anaconda33\\lib\\site-packages\\sklearn\\base.py:443: UserWarning: X has feature names, but LogisticRegression was fitted without feature names\n",
      "  warnings.warn(\n"
     ]
    },
    {
     "data": {
      "text/plain": [
       "<sklearn.metrics._plot.roc_curve.RocCurveDisplay at 0x1e360735910>"
      ]
     },
     "execution_count": 144,
     "metadata": {},
     "output_type": "execute_result"
    },
    {
     "data": {
      "image/png": "[encoded data removed]",
      "text/plain": [
       "<Figure size 1000x700 with 1 Axes>"
      ]
     },
     "metadata": {},
     "output_type": "display_data"
    }
   ],
   "source": [
    "plot_roc_curve(Log_reg_dummy_model, X_reg_train, y_reg_train)"
   ]
  },
  {
   "cell_type": "markdown",
   "id": "ebe2d44b",
   "metadata": {},
   "source": [
    "__Проверим работу модели на новых данных__"
   ]
  },
  {
   "cell_type": "code",
   "execution_count": 145,
   "id": "4939571e",
   "metadata": {},
   "outputs": [],
   "source": [
    "df_new = pd.read_csv('C:/Users/Inga/Market_test/Логистическая регрессия/tips_extended_new.csv')"
   ]
  },
  {
   "cell_type": "code",
   "execution_count": 146,
   "id": "a2bc0ab6",
   "metadata": {},
   "outputs": [
    {
     "name": "stdout",
     "output_type": "stream",
     "text": [
      "<class 'pandas.core.frame.DataFrame'>\n",
      "RangeIndex: 10 entries, 0 to 9\n",
      "Data columns (total 5 columns):\n",
      " #   Column            Non-Null Count  Dtype \n",
      "---  ------            --------------  ----- \n",
      " 0   Bill              10 non-null     int64 \n",
      " 1   Number_of_People  10 non-null     int64 \n",
      " 2   Arrived_in        10 non-null     object\n",
      " 3   Time_of_visit     10 non-null     object\n",
      " 4   Tips              10 non-null     int64 \n",
      "dtypes: int64(3), object(2)\n",
      "memory usage: 528.0+ bytes\n"
     ]
    }
   ],
   "source": [
    "df_new.info()"
   ]
  },
  {
   "cell_type": "code",
   "execution_count": 147,
   "id": "705d6921",
   "metadata": {},
   "outputs": [],
   "source": [
    "df_new['Arrived_in_1'] = df_new['Arrived_in'].astype('category')\n",
    "df_new['Arrived_in_code'] = df_new['Arrived_in_1'].cat.codes\n",
    "\n",
    "df_new['Time_of_visit_1'] = df_new['Time_of_visit'].astype('category')\n",
    "df_new['Time_of_visit_code'] = df_new['Time_of_visit_1'].cat.codes"
   ]
  },
  {
   "cell_type": "code",
   "execution_count": 148,
   "id": "87ae779a",
   "metadata": {},
   "outputs": [
    {
     "data": {
      "text/html": [
       "<div>\n",
       "<style scoped>\n",
       "    .dataframe tbody tr th:only-of-type {\n",
       "        vertical-align: middle;\n",
       "    }\n",
       "\n",
       "    .dataframe tbody tr th {\n",
       "        vertical-align: top;\n",
       "    }\n",
       "\n",
       "    .dataframe thead th {\n",
       "        text-align: right;\n",
       "    }\n",
       "</style>\n",
       "<table border=\"1\" class=\"dataframe\">\n",
       "  <thead>\n",
       "    <tr style=\"text-align: right;\">\n",
       "      <th></th>\n",
       "      <th>afternoon</th>\n",
       "      <th>evening</th>\n",
       "      <th>morning</th>\n",
       "    </tr>\n",
       "  </thead>\n",
       "  <tbody>\n",
       "    <tr>\n",
       "      <th>0</th>\n",
       "      <td>1</td>\n",
       "      <td>0</td>\n",
       "      <td>0</td>\n",
       "    </tr>\n",
       "    <tr>\n",
       "      <th>1</th>\n",
       "      <td>0</td>\n",
       "      <td>1</td>\n",
       "      <td>0</td>\n",
       "    </tr>\n",
       "    <tr>\n",
       "      <th>2</th>\n",
       "      <td>1</td>\n",
       "      <td>0</td>\n",
       "      <td>0</td>\n",
       "    </tr>\n",
       "    <tr>\n",
       "      <th>3</th>\n",
       "      <td>0</td>\n",
       "      <td>0</td>\n",
       "      <td>1</td>\n",
       "    </tr>\n",
       "    <tr>\n",
       "      <th>4</th>\n",
       "      <td>0</td>\n",
       "      <td>0</td>\n",
       "      <td>1</td>\n",
       "    </tr>\n",
       "    <tr>\n",
       "      <th>5</th>\n",
       "      <td>1</td>\n",
       "      <td>0</td>\n",
       "      <td>0</td>\n",
       "    </tr>\n",
       "    <tr>\n",
       "      <th>6</th>\n",
       "      <td>1</td>\n",
       "      <td>0</td>\n",
       "      <td>0</td>\n",
       "    </tr>\n",
       "    <tr>\n",
       "      <th>7</th>\n",
       "      <td>1</td>\n",
       "      <td>0</td>\n",
       "      <td>0</td>\n",
       "    </tr>\n",
       "    <tr>\n",
       "      <th>8</th>\n",
       "      <td>1</td>\n",
       "      <td>0</td>\n",
       "      <td>0</td>\n",
       "    </tr>\n",
       "    <tr>\n",
       "      <th>9</th>\n",
       "      <td>0</td>\n",
       "      <td>0</td>\n",
       "      <td>1</td>\n",
       "    </tr>\n",
       "  </tbody>\n",
       "</table>\n",
       "</div>"
      ],
      "text/plain": [
       "   afternoon  evening  morning\n",
       "0          1        0        0\n",
       "1          0        1        0\n",
       "2          1        0        0\n",
       "3          0        0        1\n",
       "4          0        0        1\n",
       "5          1        0        0\n",
       "6          1        0        0\n",
       "7          1        0        0\n",
       "8          1        0        0\n",
       "9          0        0        1"
      ]
     },
     "execution_count": 148,
     "metadata": {},
     "output_type": "execute_result"
    }
   ],
   "source": [
    "time_of_visit_new_dummy = pd.get_dummies(df_new.Time_of_visit)\n",
    "time_of_visit_new_dummy\n"
   ]
  },
  {
   "cell_type": "code",
   "execution_count": 149,
   "id": "5732f553",
   "metadata": {},
   "outputs": [
    {
     "data": {
      "text/html": [
       "<div>\n",
       "<style scoped>\n",
       "    .dataframe tbody tr th:only-of-type {\n",
       "        vertical-align: middle;\n",
       "    }\n",
       "\n",
       "    .dataframe tbody tr th {\n",
       "        vertical-align: top;\n",
       "    }\n",
       "\n",
       "    .dataframe thead th {\n",
       "        text-align: right;\n",
       "    }\n",
       "</style>\n",
       "<table border=\"1\" class=\"dataframe\">\n",
       "  <thead>\n",
       "    <tr style=\"text-align: right;\">\n",
       "      <th></th>\n",
       "      <th>bike</th>\n",
       "      <th>car</th>\n",
       "    </tr>\n",
       "  </thead>\n",
       "  <tbody>\n",
       "    <tr>\n",
       "      <th>0</th>\n",
       "      <td>1</td>\n",
       "      <td>0</td>\n",
       "    </tr>\n",
       "    <tr>\n",
       "      <th>1</th>\n",
       "      <td>0</td>\n",
       "      <td>1</td>\n",
       "    </tr>\n",
       "    <tr>\n",
       "      <th>2</th>\n",
       "      <td>1</td>\n",
       "      <td>0</td>\n",
       "    </tr>\n",
       "    <tr>\n",
       "      <th>3</th>\n",
       "      <td>0</td>\n",
       "      <td>1</td>\n",
       "    </tr>\n",
       "    <tr>\n",
       "      <th>4</th>\n",
       "      <td>0</td>\n",
       "      <td>1</td>\n",
       "    </tr>\n",
       "    <tr>\n",
       "      <th>5</th>\n",
       "      <td>0</td>\n",
       "      <td>1</td>\n",
       "    </tr>\n",
       "    <tr>\n",
       "      <th>6</th>\n",
       "      <td>1</td>\n",
       "      <td>0</td>\n",
       "    </tr>\n",
       "    <tr>\n",
       "      <th>7</th>\n",
       "      <td>1</td>\n",
       "      <td>0</td>\n",
       "    </tr>\n",
       "    <tr>\n",
       "      <th>8</th>\n",
       "      <td>0</td>\n",
       "      <td>1</td>\n",
       "    </tr>\n",
       "    <tr>\n",
       "      <th>9</th>\n",
       "      <td>1</td>\n",
       "      <td>0</td>\n",
       "    </tr>\n",
       "  </tbody>\n",
       "</table>\n",
       "</div>"
      ],
      "text/plain": [
       "   bike  car\n",
       "0     1    0\n",
       "1     0    1\n",
       "2     1    0\n",
       "3     0    1\n",
       "4     0    1\n",
       "5     0    1\n",
       "6     1    0\n",
       "7     1    0\n",
       "8     0    1\n",
       "9     1    0"
      ]
     },
     "execution_count": 149,
     "metadata": {},
     "output_type": "execute_result"
    }
   ],
   "source": [
    "arrived_in_new_dummy = pd.get_dummies(df_new.Arrived_in)\n",
    "arrived_in_new_dummy"
   ]
  },
  {
   "cell_type": "code",
   "execution_count": 150,
   "id": "3ad0350c",
   "metadata": {},
   "outputs": [
    {
     "data": {
      "text/html": [
       "<div>\n",
       "<style scoped>\n",
       "    .dataframe tbody tr th:only-of-type {\n",
       "        vertical-align: middle;\n",
       "    }\n",
       "\n",
       "    .dataframe tbody tr th {\n",
       "        vertical-align: top;\n",
       "    }\n",
       "\n",
       "    .dataframe thead th {\n",
       "        text-align: right;\n",
       "    }\n",
       "</style>\n",
       "<table border=\"1\" class=\"dataframe\">\n",
       "  <thead>\n",
       "    <tr style=\"text-align: right;\">\n",
       "      <th></th>\n",
       "      <th>Bill</th>\n",
       "      <th>Number_of_People</th>\n",
       "      <th>Arrived_in</th>\n",
       "      <th>Time_of_visit</th>\n",
       "      <th>Tips</th>\n",
       "      <th>Arrived_in_1</th>\n",
       "      <th>Arrived_in_code</th>\n",
       "      <th>Time_of_visit_1</th>\n",
       "      <th>Time_of_visit_code</th>\n",
       "      <th>afternoon</th>\n",
       "      <th>evening</th>\n",
       "      <th>morning</th>\n",
       "      <th>bike</th>\n",
       "      <th>car</th>\n",
       "    </tr>\n",
       "  </thead>\n",
       "  <tbody>\n",
       "    <tr>\n",
       "      <th>0</th>\n",
       "      <td>6</td>\n",
       "      <td>1</td>\n",
       "      <td>bike</td>\n",
       "      <td>afternoon</td>\n",
       "      <td>0</td>\n",
       "      <td>bike</td>\n",
       "      <td>0</td>\n",
       "      <td>afternoon</td>\n",
       "      <td>0</td>\n",
       "      <td>1</td>\n",
       "      <td>0</td>\n",
       "      <td>0</td>\n",
       "      <td>1</td>\n",
       "      <td>0</td>\n",
       "    </tr>\n",
       "    <tr>\n",
       "      <th>1</th>\n",
       "      <td>25</td>\n",
       "      <td>4</td>\n",
       "      <td>car</td>\n",
       "      <td>evening</td>\n",
       "      <td>1</td>\n",
       "      <td>car</td>\n",
       "      <td>1</td>\n",
       "      <td>evening</td>\n",
       "      <td>1</td>\n",
       "      <td>0</td>\n",
       "      <td>1</td>\n",
       "      <td>0</td>\n",
       "      <td>0</td>\n",
       "      <td>1</td>\n",
       "    </tr>\n",
       "  </tbody>\n",
       "</table>\n",
       "</div>"
      ],
      "text/plain": [
       "   Bill  Number_of_People Arrived_in Time_of_visit  Tips Arrived_in_1  \\\n",
       "0     6                 1       bike     afternoon     0         bike   \n",
       "1    25                 4        car       evening     1          car   \n",
       "\n",
       "   Arrived_in_code Time_of_visit_1  Time_of_visit_code  afternoon  evening  \\\n",
       "0                0       afternoon                   0          1        0   \n",
       "1                1         evening                   1          0        1   \n",
       "\n",
       "   morning  bike  car  \n",
       "0        0     1    0  \n",
       "1        0     0    1  "
      ]
     },
     "execution_count": 150,
     "metadata": {},
     "output_type": "execute_result"
    }
   ],
   "source": [
    "df_new_merged = pd.concat([df_new, time_of_visit_new_dummy, arrived_in_new_dummy], axis = 1)\n",
    "df_new_merged[:2]"
   ]
  },
  {
   "cell_type": "code",
   "execution_count": 151,
   "id": "d8035ed6",
   "metadata": {},
   "outputs": [
    {
     "name": "stdout",
     "output_type": "stream",
     "text": [
      "<class 'pandas.core.frame.DataFrame'>\n",
      "RangeIndex: 10 entries, 0 to 9\n",
      "Data columns (total 9 columns):\n",
      " #   Column              Non-Null Count  Dtype   \n",
      "---  ------              --------------  -----   \n",
      " 0   Bill                10 non-null     int64   \n",
      " 1   Number_of_People    10 non-null     int64   \n",
      " 2   Arrived_in          10 non-null     object  \n",
      " 3   Time_of_visit       10 non-null     object  \n",
      " 4   Tips                10 non-null     int64   \n",
      " 5   Arrived_in_1        10 non-null     category\n",
      " 6   Arrived_in_code     10 non-null     int8    \n",
      " 7   Time_of_visit_1     10 non-null     category\n",
      " 8   Time_of_visit_code  10 non-null     int8    \n",
      "dtypes: category(2), int64(3), int8(2), object(2)\n",
      "memory usage: 824.0+ bytes\n"
     ]
    }
   ],
   "source": [
    "df_new.info()\n"
   ]
  },
  {
   "cell_type": "code",
   "execution_count": 152,
   "id": "f2bdf7ba",
   "metadata": {},
   "outputs": [
    {
     "data": {
      "text/html": [
       "<div>\n",
       "<style scoped>\n",
       "    .dataframe tbody tr th:only-of-type {\n",
       "        vertical-align: middle;\n",
       "    }\n",
       "\n",
       "    .dataframe tbody tr th {\n",
       "        vertical-align: top;\n",
       "    }\n",
       "\n",
       "    .dataframe thead th {\n",
       "        text-align: right;\n",
       "    }\n",
       "</style>\n",
       "<table border=\"1\" class=\"dataframe\">\n",
       "  <thead>\n",
       "    <tr style=\"text-align: right;\">\n",
       "      <th></th>\n",
       "      <th>Bill</th>\n",
       "      <th>Number_of_People</th>\n",
       "      <th>Arrived_in_code</th>\n",
       "      <th>Time_of_visit_code</th>\n",
       "    </tr>\n",
       "  </thead>\n",
       "  <tbody>\n",
       "    <tr>\n",
       "      <th>0</th>\n",
       "      <td>6</td>\n",
       "      <td>1</td>\n",
       "      <td>0</td>\n",
       "      <td>0</td>\n",
       "    </tr>\n",
       "    <tr>\n",
       "      <th>1</th>\n",
       "      <td>25</td>\n",
       "      <td>4</td>\n",
       "      <td>1</td>\n",
       "      <td>1</td>\n",
       "    </tr>\n",
       "  </tbody>\n",
       "</table>\n",
       "</div>"
      ],
      "text/plain": [
       "   Bill  Number_of_People  Arrived_in_code  Time_of_visit_code\n",
       "0     6                 1                0                   0\n",
       "1    25                 4                1                   1"
      ]
     },
     "execution_count": 152,
     "metadata": {},
     "output_type": "execute_result"
    }
   ],
   "source": [
    "X_new = df_new[['Bill', 'Number_of_People', 'Arrived_in_code', 'Time_of_visit_code']]\n",
    "X_new[:2]"
   ]
  },
  {
   "cell_type": "code",
   "execution_count": 153,
   "id": "c470d06b",
   "metadata": {},
   "outputs": [
    {
     "data": {
      "text/html": [
       "<div>\n",
       "<style scoped>\n",
       "    .dataframe tbody tr th:only-of-type {\n",
       "        vertical-align: middle;\n",
       "    }\n",
       "\n",
       "    .dataframe tbody tr th {\n",
       "        vertical-align: top;\n",
       "    }\n",
       "\n",
       "    .dataframe thead th {\n",
       "        text-align: right;\n",
       "    }\n",
       "</style>\n",
       "<table border=\"1\" class=\"dataframe\">\n",
       "  <thead>\n",
       "    <tr style=\"text-align: right;\">\n",
       "      <th></th>\n",
       "      <th>Bill</th>\n",
       "      <th>Number_of_People</th>\n",
       "      <th>afternoon</th>\n",
       "      <th>evening</th>\n",
       "      <th>morning</th>\n",
       "      <th>bike</th>\n",
       "      <th>car</th>\n",
       "    </tr>\n",
       "  </thead>\n",
       "  <tbody>\n",
       "    <tr>\n",
       "      <th>0</th>\n",
       "      <td>6</td>\n",
       "      <td>1</td>\n",
       "      <td>1</td>\n",
       "      <td>0</td>\n",
       "      <td>0</td>\n",
       "      <td>1</td>\n",
       "      <td>0</td>\n",
       "    </tr>\n",
       "    <tr>\n",
       "      <th>1</th>\n",
       "      <td>25</td>\n",
       "      <td>4</td>\n",
       "      <td>0</td>\n",
       "      <td>1</td>\n",
       "      <td>0</td>\n",
       "      <td>0</td>\n",
       "      <td>1</td>\n",
       "    </tr>\n",
       "  </tbody>\n",
       "</table>\n",
       "</div>"
      ],
      "text/plain": [
       "   Bill  Number_of_People  afternoon  evening  morning  bike  car\n",
       "0     6                 1          1        0        0     1    0\n",
       "1    25                 4          0        1        0     0    1"
      ]
     },
     "execution_count": 153,
     "metadata": {},
     "output_type": "execute_result"
    }
   ],
   "source": [
    "X_new_dummy = df_new_merged[['Bill', 'Number_of_People', 'afternoon', 'evening', 'morning', 'bike', 'car']]\n",
    "X_new_dummy[:2]"
   ]
  },
  {
   "cell_type": "code",
   "execution_count": 154,
   "id": "72fcf05c",
   "metadata": {},
   "outputs": [],
   "source": [
    "X_new_scaled = z_score_scaler.transform(X_new)"
   ]
  },
  {
   "cell_type": "code",
   "execution_count": 155,
   "id": "16e9c354",
   "metadata": {},
   "outputs": [],
   "source": [
    "X_new_scaled_dummy = z_score_reg_scaler.transform(X_new_dummy)"
   ]
  },
  {
   "cell_type": "code",
   "execution_count": 156,
   "id": "1ec44408",
   "metadata": {
    "scrolled": true
   },
   "outputs": [
    {
     "data": {
      "text/plain": [
       "array([0, 1, 0, 0, 0, 1, 0, 0, 1, 0])"
      ]
     },
     "execution_count": 156,
     "metadata": {},
     "output_type": "execute_result"
    }
   ],
   "source": [
    "y_pred_new = Log_reg_model.predict(X_new_scaled)\n",
    "y_pred_new"
   ]
  },
  {
   "cell_type": "code",
   "execution_count": 157,
   "id": "13e0d817",
   "metadata": {},
   "outputs": [
    {
     "data": {
      "text/plain": [
       "array([0, 1, 0, 0, 0, 1, 0, 0, 0, 0])"
      ]
     },
     "execution_count": 157,
     "metadata": {},
     "output_type": "execute_result"
    }
   ],
   "source": [
    "y_pred_new_dummy = Log_reg_dummy_model.predict(X_new_scaled_dummy)\n",
    "y_pred_new_dummy"
   ]
  },
  {
   "cell_type": "code",
   "execution_count": 158,
   "id": "857c3776",
   "metadata": {},
   "outputs": [
    {
     "name": "stdout",
     "output_type": "stream",
     "text": [
      "Accuracy : 0.9\n",
      "F1_score:  0.8571428571428571\n",
      "Recall:  0.75\n",
      "Precision:  1.0\n"
     ]
    }
   ],
   "source": [
    "print('Accuracy :', accuracy_score(df_new['Tips'], y_pred_new))\n",
    "print('F1_score: ', f1_score(df_new['Tips'], y_pred_new))\n",
    "print('Recall: ', recall_score(df_new['Tips'], y_pred_new))\n",
    "print('Precision: ', precision_score(df_new['Tips'], y_pred_new))"
   ]
  },
  {
   "cell_type": "code",
   "execution_count": 159,
   "id": "badc60ad",
   "metadata": {},
   "outputs": [
    {
     "name": "stdout",
     "output_type": "stream",
     "text": [
      "Accuracy_dummy: 0.8\n",
      "F1_score_dummy:  0.6666666666666666\n",
      "Recall_dummy:  0.5\n",
      "Precision_dummy:  1.0\n"
     ]
    }
   ],
   "source": [
    "print('Accuracy_dummy:', accuracy_score(df_new_merged['Tips'], y_pred_new_dummy))\n",
    "print('F1_score_dummy: ', f1_score(df_new_merged['Tips'], y_pred_new_dummy))\n",
    "print('Recall_dummy: ', recall_score(df_new_merged['Tips'], y_pred_new_dummy))\n",
    "print('Precision_dummy: ', precision_score(df_new_merged['Tips'], y_pred_new_dummy))"
   ]
  },
  {
   "cell_type": "code",
   "execution_count": 160,
   "id": "6c3b5e84",
   "metadata": {
    "scrolled": true
   },
   "outputs": [
    {
     "name": "stderr",
     "output_type": "stream",
     "text": [
      "C:\\Users\\Inga\\anaconda33\\lib\\site-packages\\sklearn\\utils\\deprecation.py:87: FutureWarning: Function plot_confusion_matrix is deprecated; Function `plot_confusion_matrix` is deprecated in 1.0 and will be removed in 1.2. Use one of the class methods: ConfusionMatrixDisplay.from_predictions or ConfusionMatrixDisplay.from_estimator.\n",
      "  warnings.warn(msg, category=FutureWarning)\n"
     ]
    },
    {
     "data": {
      "text/plain": [
       "<sklearn.metrics._plot.confusion_matrix.ConfusionMatrixDisplay at 0x1e3613db5b0>"
      ]
     },
     "execution_count": 160,
     "metadata": {},
     "output_type": "execute_result"
    },
    {
     "data": {
      "image/png": "[encoded data removed]",
      "text/plain": [
       "<Figure size 1000x700 with 2 Axes>"
      ]
     },
     "metadata": {},
     "output_type": "display_data"
    }
   ],
   "source": [
    "plot_confusion_matrix(Log_reg_model, X_new_scaled, df_new['Tips']) #confusion matrix"
   ]
  },
  {
   "cell_type": "code",
   "execution_count": 161,
   "id": "8d4b9108",
   "metadata": {},
   "outputs": [
    {
     "name": "stderr",
     "output_type": "stream",
     "text": [
      "C:\\Users\\Inga\\anaconda33\\lib\\site-packages\\sklearn\\utils\\deprecation.py:87: FutureWarning: Function plot_confusion_matrix is deprecated; Function `plot_confusion_matrix` is deprecated in 1.0 and will be removed in 1.2. Use one of the class methods: ConfusionMatrixDisplay.from_predictions or ConfusionMatrixDisplay.from_estimator.\n",
      "  warnings.warn(msg, category=FutureWarning)\n"
     ]
    },
    {
     "data": {
      "text/plain": [
       "<sklearn.metrics._plot.confusion_matrix.ConfusionMatrixDisplay at 0x1e36110fa30>"
      ]
     },
     "execution_count": 161,
     "metadata": {},
     "output_type": "execute_result"
    },
    {
     "data": {
      "image/png": "[encoded data removed]",
      "text/plain": [
       "<Figure size 1000x700 with 2 Axes>"
      ]
     },
     "metadata": {},
     "output_type": "display_data"
    }
   ],
   "source": [
    "plot_confusion_matrix(Log_reg_dummy_model, X_new_scaled_dummy, df_new_merged['Tips']) #confusion matrix"
   ]
  },
  {
   "cell_type": "markdown",
   "id": "7cbdc68a",
   "metadata": {},
   "source": [
    "# Факторный анализ"
   ]
  },
  {
   "cell_type": "markdown",
   "id": "ba44e9f7",
   "metadata": {},
   "source": [
    "__Поиск основных, более влиятельных факторов__"
   ]
  },
  {
   "cell_type": "markdown",
   "id": "db916160",
   "metadata": {},
   "source": [
    "Типы факторного анализа:\n",
    "* Exploratory Factor Analysis (ищем связь наблюдаемых переменных и факторов) - самый популярный подход. \n",
    "* Confirmatory Factor Analysis (Подтверждающий ФА - есть предположение о том, что факторы связаны с определенным набором переменных и нужно это подтвердить) - редко встречается"
   ]
  },
  {
   "cell_type": "markdown",
   "id": "2d8a3dad",
   "metadata": {},
   "source": [
    "__Суть FA__"
   ]
  },
  {
   "cell_type": "markdown",
   "id": "d1c798af",
   "metadata": {},
   "source": [
    "* Помогает в интерпретации данных за счет уменьшения количества переменных;\n",
    "* Снижение размерности (сокращение кол-ва переменных)(когда переменные дублируют друг друга, сильно кореллируют));\n",
    "* Выявляет группы зависимых переменных (кор анализ);\n",
    "* Создает новые обобщенные показатели;\n",
    "* Помогает преодолевать мультиколлинеарность (перевести конфликтующие переменные в условные факторы (независимые));\n",
    "* Измерение неизмеримого (лояльность потребителей, уровень счастья, вероятность банкротства) - факторный анализ выдает комбинацию признаков и их веса; Интроверт/экстраверт)"
   ]
  },
  {
   "cell_type": "markdown",
   "id": "e45520cb",
   "metadata": {},
   "source": [
    "__Факторный анализ используется для объяснения дисперсии наблюдаемой переменной и объединения набора наблюдаемых переменных в ненаблюдаемую переменную, называемую факторами. Каждый фактор объясняет определенную величину дисперсии наблюдаемых переменных__"
   ]
  },
  {
   "cell_type": "markdown",
   "id": "aa9b894d",
   "metadata": {},
   "source": [
    "__Этапы проведения ФА:__\n",
    "\n",
    "* Тест на адекватность (факторизуемость данных)(кроме случаев, когда нужно сократить число столбцов любой ценой)\\\n",
    "__1. тест Бартлетта__(Bartlett's test for equality of variances - тест о равенстве дисперсий): проверяет взаимокоррелируют ли переменные и близки ли показатели к нулю (Н_0: Корреляционная матрица совпадает с единичной). Если тест оказался статистически незначимым, то не следует использовать факторный анализ),\\\n",
    "- не всегда приветствуется в практике \\\n",
    "__2. тест Кайзера-Мейера-Олкина:__ (Kaiser-Meyer-Olkin) \\\n",
    "Измеряет насколько эффективен FA + насколько повысится качество от включения переменных в факторный анализ \\\n",
    "KMO values range between 0 and 1. Value of KMO less than 0.6 is considered inadequate.\n",
    "- если какая-то переменная получится unacceptable, это значит, что тест считает, что лучше сделать эту переменную уникальной (исключить из факторного анализа, но оставить в наборе данных)\n",
    "\n",
    "* Выбор количества факторов\n",
    "\n",
    "* Извлечение факторов (используются метод главных компонент (Principal component analysis) & общий факторный анализ (Common factor analysis)\n",
    "\n",
    "* Ротация факторов (факторы преобразуются в некоррелируемые факторы с целью улучшения интерпретируемости). Доступные методы вращения: \\\n",
    "__Orthogonal rotations:__ Varimax, Oblimax, Quartimax, Equamax;\\\n",
    "__Oblique rotations: (косоугольное вращение)__ Promax, Oblimin, Quartimin"
   ]
  },
  {
   "cell_type": "markdown",
   "id": "0f49b9ea",
   "metadata": {},
   "source": [
    "__Выбор количества факторов:__\n",
    "* Критерий Кайзера - выбор более значимых долей дисперсии, объясняемых фактором. Критерий выбора признака - собственное значение > 1\n",
    "* Графический подход (График каменистой осыпи(график собственных значений))"
   ]
  },
  {
   "cell_type": "markdown",
   "id": "5b270211",
   "metadata": {},
   "source": [
    "__Критерий определения числа главных компонент, которые необходимо оставить:__ \\\n",
    "    Оставляем только те линейные комбинации, у которых собственные числи (дисперсии) > 0.8 \\\n",
    "    Главные компоненты часто тоже называют факторами"
   ]
  },
  {
   "cell_type": "markdown",
   "id": "23454eaf",
   "metadata": {},
   "source": [
    "__PCA vs FA__\n",
    "\n",
    "* PCA - разновидность FA. PCA - наблюдательный метод, FA - метод моделирования;\n",
    "* PCA объясняет максимальную величину дисперсии, FA объясняет ковариацию данных (если данные не нормированы);\n",
    "* Компоненты PCA ортогональны друг другу (некоррелируемость эквивалентна ортогональности), а FA не требует ортогональности;\n",
    "* PCA - __линейная комбинация__ наблюдаемых переменных (с макс дисперсией (собственным числом)), а FA - линейная комбинация ненаблюдаемых переменных (факторов);\n",
    "* Компоненты PCA не интерпретируются. В FA основные факторы поддаются маркировке и интерпретации. \n",
    "* PCA - метод уменьшения размерности, FA - метод выявления скрытых переменных."
   ]
  },
  {
   "cell_type": "markdown",
   "id": "d93580ef",
   "metadata": {},
   "source": [
    "__PCA__"
   ]
  },
  {
   "cell_type": "markdown",
   "id": "14e560a4",
   "metadata": {},
   "source": [
    "$$\n",
    "Y_1 = {a_1}_1X_1 + {a_1}_2X_2 + {a_1}_kX_k  \n",
    "$$\n",
    "\n",
    "дисперсия Y_1 max"
   ]
  },
  {
   "cell_type": "markdown",
   "id": "83f89dc2",
   "metadata": {},
   "source": [
    "$$\n",
    "Y_2 = {a_2}_1X_1 + {a_2}_2X_2 + {a_2}_kX_k  \n",
    "$$\n",
    "\n",
    "дисперсия Y_2 max\n",
    "corr(Y2, Y1) = 0"
   ]
  },
  {
   "cell_type": "markdown",
   "id": "21d15e49",
   "metadata": {},
   "source": [
    "__FA__"
   ]
  },
  {
   "cell_type": "markdown",
   "id": "80f2aa8a",
   "metadata": {},
   "source": [
    "$$\n",
    "X_i = {a_i}_1F_1 + {a_i}_2F_2 + {a_i}_kF_k + U_i   \n",
    "$$\n",
    "\n",
    "U_i - случайная величина"
   ]
  },
  {
   "cell_type": "markdown",
   "id": "9aff970b",
   "metadata": {},
   "source": [
    "$$\n",
    "X = AF + U\n",
    "$$"
   ]
  },
  {
   "cell_type": "markdown",
   "id": "6f3b1d0b",
   "metadata": {},
   "source": [
    "__Общность__ часть дисперсии переменной, объясненной факторами\n",
    "Насколько хорошо переменная Х_i объясняется факторами"
   ]
  },
  {
   "cell_type": "markdown",
   "id": "270d3853",
   "metadata": {},
   "source": [
    "__Уникальность__ Часть дисперсии переменной, объясненной уникальными факторами."
   ]
  },
  {
   "cell_type": "markdown",
   "id": "38d07aa8",
   "metadata": {},
   "source": [
    "__Оценка качества факторной модели__ \\\n",
    "Минимизация разности между R - R_F (матрицы корреляций)"
   ]
  },
  {
   "cell_type": "markdown",
   "id": "c1c9258b",
   "metadata": {},
   "source": [
    "__Слабая сторона FA__ \\\n",
    "\n",
    "Полученное решение не единственное, их множество. \\\n",
    "Как выбрать лучшее?"
   ]
  },
  {
   "cell_type": "markdown",
   "id": "7e382f0c",
   "metadata": {},
   "source": [
    "__Решение__: по аналогии с методом PCA, где главные компоненты были упорядочены по величине дисперсии, нужно выбрать то решение, которое создает диагональную матрицу, где на главной диагонали располагаются убывающие значения"
   ]
  },
  {
   "cell_type": "markdown",
   "id": "2cd483cf",
   "metadata": {},
   "source": [
    "Нужно такое вращение, чтобы в нем было больше чисел, близких к 1, либо близких к 0."
   ]
  },
  {
   "cell_type": "markdown",
   "id": "041c5736",
   "metadata": {},
   "source": [
    "__Идея метода Varimax__ \\ \n",
    "Решение, нацеленное на то, чтобы делать контрастные корреляции (близкие к 0 или 1)\n",
    "\n",
    "a + b = 1 "
   ]
  },
  {
   "cell_type": "markdown",
   "id": "4500941a",
   "metadata": {},
   "source": [
    "$$\n",
    "a ^ 2 + b ^ 2  -> max\n",
    "$$"
   ]
  },
  {
   "cell_type": "markdown",
   "id": "49556c0c",
   "metadata": {},
   "source": [
    "Такое условие возможно только при выполнении условия (a = 1; b = 0 | a = 0; b = 1)"
   ]
  },
  {
   "cell_type": "markdown",
   "id": "18a261d5",
   "metadata": {},
   "source": [
    "__Практика__"
   ]
  },
  {
   "cell_type": "code",
   "execution_count": 162,
   "id": "260f1413",
   "metadata": {},
   "outputs": [
    {
     "name": "stdout",
     "output_type": "stream",
     "text": [
      "Requirement already satisfied: factor_analyzer in c:\\users\\inga\\anaconda33\\lib\\site-packages (0.4.1)\n",
      "Requirement already satisfied: pre-commit in c:\\users\\inga\\anaconda33\\lib\\site-packages (from factor_analyzer) (2.20.0)\n",
      "Requirement already satisfied: numpy in c:\\users\\inga\\anaconda33\\lib\\site-packages (from factor_analyzer) (1.21.5)\n",
      "Requirement already satisfied: pandas in c:\\users\\inga\\anaconda33\\lib\\site-packages (from factor_analyzer) (1.4.4)\n",
      "Requirement already satisfied: scipy in c:\\users\\inga\\anaconda33\\lib\\site-packages (from factor_analyzer) (1.9.1)\n",
      "Requirement already satisfied: scikit-learn in c:\\users\\inga\\anaconda33\\lib\\site-packages (from factor_analyzer) (1.0.2)\n",
      "Requirement already satisfied: python-dateutil>=2.8.1 in c:\\users\\inga\\anaconda33\\lib\\site-packages (from pandas->factor_analyzer) (2.8.2)\n",
      "Requirement already satisfied: pytz>=2020.1 in c:\\users\\inga\\anaconda33\\lib\\site-packages (from pandas->factor_analyzer) (2022.1)\n",
      "Requirement already satisfied: cfgv>=2.0.0 in c:\\users\\inga\\anaconda33\\lib\\site-packages (from pre-commit->factor_analyzer) (3.3.1)\n",
      "Requirement already satisfied: virtualenv>=20.0.8 in c:\\users\\inga\\anaconda33\\lib\\site-packages (from pre-commit->factor_analyzer) (20.17.1)\n",
      "Requirement already satisfied: pyyaml>=5.1 in c:\\users\\inga\\anaconda33\\lib\\site-packages (from pre-commit->factor_analyzer) (6.0)\n",
      "Requirement already satisfied: toml in c:\\users\\inga\\anaconda33\\lib\\site-packages (from pre-commit->factor_analyzer) (0.10.2)\n",
      "Requirement already satisfied: nodeenv>=0.11.1 in c:\\users\\inga\\anaconda33\\lib\\site-packages (from pre-commit->factor_analyzer) (1.7.0)\n",
      "Requirement already satisfied: identify>=1.0.0 in c:\\users\\inga\\anaconda33\\lib\\site-packages (from pre-commit->factor_analyzer) (2.5.9)\n",
      "Requirement already satisfied: joblib>=0.11 in c:\\users\\inga\\anaconda33\\lib\\site-packages (from scikit-learn->factor_analyzer) (1.1.0)\n",
      "Requirement already satisfied: threadpoolctl>=2.0.0 in c:\\users\\inga\\anaconda33\\lib\\site-packages (from scikit-learn->factor_analyzer) (2.2.0)\n",
      "Requirement already satisfied: setuptools in c:\\users\\inga\\anaconda33\\lib\\site-packages (from nodeenv>=0.11.1->pre-commit->factor_analyzer) (63.4.1)\n",
      "Requirement already satisfied: six>=1.5 in c:\\users\\inga\\anaconda33\\lib\\site-packages (from python-dateutil>=2.8.1->pandas->factor_analyzer) (1.16.0)\n",
      "Requirement already satisfied: filelock<4,>=3.4.1 in c:\\users\\inga\\anaconda33\\lib\\site-packages (from virtualenv>=20.0.8->pre-commit->factor_analyzer) (3.6.0)\n",
      "Requirement already satisfied: distlib<1,>=0.3.6 in c:\\users\\inga\\anaconda33\\lib\\site-packages (from virtualenv>=20.0.8->pre-commit->factor_analyzer) (0.3.6)\n",
      "Requirement already satisfied: platformdirs<3,>=2.4 in c:\\users\\inga\\anaconda33\\lib\\site-packages (from virtualenv>=20.0.8->pre-commit->factor_analyzer) (2.5.2)\n"
     ]
    },
    {
     "name": "stderr",
     "output_type": "stream",
     "text": [
      "WARNING: Ignoring invalid distribution -lotly (c:\\users\\inga\\anaconda33\\lib\\site-packages)\n",
      "WARNING: Ignoring invalid distribution -lotly (c:\\users\\inga\\anaconda33\\lib\\site-packages)\n",
      "WARNING: Ignoring invalid distribution -lotly (c:\\users\\inga\\anaconda33\\lib\\site-packages)\n",
      "WARNING: Ignoring invalid distribution -lotly (c:\\users\\inga\\anaconda33\\lib\\site-packages)\n",
      "WARNING: Ignoring invalid distribution -lotly (c:\\users\\inga\\anaconda33\\lib\\site-packages)\n",
      "WARNING: Ignoring invalid distribution -lotly (c:\\users\\inga\\anaconda33\\lib\\site-packages)\n"
     ]
    }
   ],
   "source": [
    "!pip install factor_analyzer "
   ]
  },
  {
   "cell_type": "code",
   "execution_count": 163,
   "id": "c3d638ae",
   "metadata": {},
   "outputs": [],
   "source": [
    "import pandas as pd\n",
    "from factor_analyzer import FactorAnalyzer\n",
    "import matplotlib.pyplot as plt"
   ]
  },
  {
   "cell_type": "markdown",
   "id": "5bae64ea",
   "metadata": {},
   "source": [
    "A data frame with 25 variables and 2800 observations (including missing values)\n",
    "\n",
    "Details\n",
    "A1 Am indifferent to the feelings of others. (q_146)\n",
    "\n",
    "A2 Inquire about others' well-being. (q_1162)\n",
    "\n",
    "A3 Know how to comfort others. (q_1206)\n",
    "\n",
    "A4 Love children. (q_1364)\n",
    "\n",
    "A5 Make people feel at ease. (q_1419)\n",
    "\n",
    "C1 Am exacting in my work. (q_124)\n",
    "\n",
    "C2 Continue until everything is perfect. (q_530)\n",
    "\n",
    "C3 Do things according to a plan. (q_619)\n",
    "\n",
    "C4 Do things in a half-way manner. (q_626)\n",
    "\n",
    "C5 Waste my time. (q_1949)\n",
    "\n",
    "E1 Don't talk a lot. (q_712)\n",
    "\n",
    "E2 Find it difficult to approach others. (q_901)\n",
    "\n",
    "E3 Know how to captivate people. (q_1205)\n",
    "\n",
    "E4 Make friends easily. (q_1410)\n",
    "\n",
    "E5 Take charge. (q_1768)\n",
    "\n",
    "N1 Get angry easily. (q_952)\n",
    "\n",
    "N2 Get irritated easily. (q_974)\n",
    "\n",
    "N3 Have frequent mood swings. (q_1099)\n",
    "\n",
    "N4 Often feel blue. (q_1479)\n",
    "\n",
    "N5 Panic easily. (q_1505)\n",
    "\n",
    "o1 Am full of ideas. (q_128)\n",
    "\n",
    "o2 Avoid difficult reading material.(q_316)\n",
    "\n",
    "o3 Carry the conversation to a higher level. (q_492)\n",
    "\n",
    "o4 Spend time reflecting on things. (q_1738)\n",
    "\n",
    "o5 Will not probe deeply into a subject. (q_1964)\n",
    "\n",
    "gender Males = 1, Females =2\n",
    "\n",
    "education 1 = HS, 2 = finished HS, 3 = some college, 4 = college graduate 5 = graduate degree\n",
    "\n"
   ]
  },
  {
   "cell_type": "code",
   "execution_count": 164,
   "id": "6a0c2385",
   "metadata": {},
   "outputs": [],
   "source": [
    "# https://github.com/vincentarelbundock/Rdatasets/blob/master/csv/psych/bfi.csv"
   ]
  },
  {
   "cell_type": "code",
   "execution_count": 165,
   "id": "032610ff",
   "metadata": {},
   "outputs": [
    {
     "data": {
      "text/html": [
       "<div>\n",
       "<style scoped>\n",
       "    .dataframe tbody tr th:only-of-type {\n",
       "        vertical-align: middle;\n",
       "    }\n",
       "\n",
       "    .dataframe tbody tr th {\n",
       "        vertical-align: top;\n",
       "    }\n",
       "\n",
       "    .dataframe thead th {\n",
       "        text-align: right;\n",
       "    }\n",
       "</style>\n",
       "<table border=\"1\" class=\"dataframe\">\n",
       "  <thead>\n",
       "    <tr style=\"text-align: right;\">\n",
       "      <th></th>\n",
       "      <th>Unnamed: 0</th>\n",
       "      <th>A1</th>\n",
       "      <th>A2</th>\n",
       "      <th>A3</th>\n",
       "      <th>A4</th>\n",
       "      <th>A5</th>\n",
       "      <th>C1</th>\n",
       "      <th>C2</th>\n",
       "      <th>C3</th>\n",
       "      <th>C4</th>\n",
       "      <th>...</th>\n",
       "      <th>N4</th>\n",
       "      <th>N5</th>\n",
       "      <th>O1</th>\n",
       "      <th>O2</th>\n",
       "      <th>O3</th>\n",
       "      <th>O4</th>\n",
       "      <th>O5</th>\n",
       "      <th>gender</th>\n",
       "      <th>education</th>\n",
       "      <th>age</th>\n",
       "    </tr>\n",
       "  </thead>\n",
       "  <tbody>\n",
       "    <tr>\n",
       "      <th>0</th>\n",
       "      <td>61617</td>\n",
       "      <td>2.0</td>\n",
       "      <td>4.0</td>\n",
       "      <td>3.0</td>\n",
       "      <td>4.0</td>\n",
       "      <td>4.0</td>\n",
       "      <td>2.0</td>\n",
       "      <td>3.0</td>\n",
       "      <td>3.0</td>\n",
       "      <td>4.0</td>\n",
       "      <td>...</td>\n",
       "      <td>2.0</td>\n",
       "      <td>3.0</td>\n",
       "      <td>3.0</td>\n",
       "      <td>6</td>\n",
       "      <td>3.0</td>\n",
       "      <td>4.0</td>\n",
       "      <td>3.0</td>\n",
       "      <td>1</td>\n",
       "      <td>NaN</td>\n",
       "      <td>16</td>\n",
       "    </tr>\n",
       "    <tr>\n",
       "      <th>1</th>\n",
       "      <td>61618</td>\n",
       "      <td>2.0</td>\n",
       "      <td>4.0</td>\n",
       "      <td>5.0</td>\n",
       "      <td>2.0</td>\n",
       "      <td>5.0</td>\n",
       "      <td>5.0</td>\n",
       "      <td>4.0</td>\n",
       "      <td>4.0</td>\n",
       "      <td>3.0</td>\n",
       "      <td>...</td>\n",
       "      <td>5.0</td>\n",
       "      <td>5.0</td>\n",
       "      <td>4.0</td>\n",
       "      <td>2</td>\n",
       "      <td>4.0</td>\n",
       "      <td>3.0</td>\n",
       "      <td>3.0</td>\n",
       "      <td>2</td>\n",
       "      <td>NaN</td>\n",
       "      <td>18</td>\n",
       "    </tr>\n",
       "  </tbody>\n",
       "</table>\n",
       "<p>2 rows × 29 columns</p>\n",
       "</div>"
      ],
      "text/plain": [
       "   Unnamed: 0   A1   A2   A3   A4   A5   C1   C2   C3   C4  ...   N4   N5  \\\n",
       "0       61617  2.0  4.0  3.0  4.0  4.0  2.0  3.0  3.0  4.0  ...  2.0  3.0   \n",
       "1       61618  2.0  4.0  5.0  2.0  5.0  5.0  4.0  4.0  3.0  ...  5.0  5.0   \n",
       "\n",
       "    O1  O2   O3   O4   O5  gender  education  age  \n",
       "0  3.0   6  3.0  4.0  3.0       1        NaN   16  \n",
       "1  4.0   2  4.0  3.0  3.0       2        NaN   18  \n",
       "\n",
       "[2 rows x 29 columns]"
      ]
     },
     "execution_count": 165,
     "metadata": {},
     "output_type": "execute_result"
    }
   ],
   "source": [
    "bfi = pd.read_csv('https://raw.githubusercontent.com/vincentarelbundock/Rdatasets/master/csv/psych/bfi.csv')\n",
    "bfi[:2]"
   ]
  },
  {
   "cell_type": "code",
   "execution_count": 166,
   "id": "cff503e1",
   "metadata": {
    "scrolled": true
   },
   "outputs": [
    {
     "data": {
      "text/plain": [
       "Unnamed: 0      0\n",
       "A1             16\n",
       "A2             27\n",
       "A3             26\n",
       "A4             19\n",
       "A5             16\n",
       "C1             21\n",
       "C2             24\n",
       "C3             20\n",
       "C4             26\n",
       "C5             16\n",
       "E1             23\n",
       "E2             16\n",
       "E3             25\n",
       "E4              9\n",
       "E5             21\n",
       "N1             22\n",
       "N2             21\n",
       "N3             11\n",
       "N4             36\n",
       "N5             29\n",
       "O1             22\n",
       "O2              0\n",
       "O3             28\n",
       "O4             14\n",
       "O5             20\n",
       "gender          0\n",
       "education     223\n",
       "age             0\n",
       "dtype: int64"
      ]
     },
     "execution_count": 166,
     "metadata": {},
     "output_type": "execute_result"
    }
   ],
   "source": [
    "bfi.isnull().sum()"
   ]
  },
  {
   "cell_type": "code",
   "execution_count": 167,
   "id": "ddaf47a6",
   "metadata": {},
   "outputs": [],
   "source": [
    "bfi.drop(['gender', 'education', 'age'], axis = 1, inplace = True)"
   ]
  },
  {
   "cell_type": "code",
   "execution_count": 168,
   "id": "21e26a46",
   "metadata": {},
   "outputs": [],
   "source": [
    "bfi.dropna(inplace = True)"
   ]
  },
  {
   "cell_type": "code",
   "execution_count": 169,
   "id": "1b1e73d2",
   "metadata": {},
   "outputs": [
    {
     "name": "stdout",
     "output_type": "stream",
     "text": [
      "<class 'pandas.core.frame.DataFrame'>\n",
      "Int64Index: 2436 entries, 0 to 2799\n",
      "Data columns (total 26 columns):\n",
      " #   Column      Non-Null Count  Dtype  \n",
      "---  ------      --------------  -----  \n",
      " 0   Unnamed: 0  2436 non-null   int64  \n",
      " 1   A1          2436 non-null   float64\n",
      " 2   A2          2436 non-null   float64\n",
      " 3   A3          2436 non-null   float64\n",
      " 4   A4          2436 non-null   float64\n",
      " 5   A5          2436 non-null   float64\n",
      " 6   C1          2436 non-null   float64\n",
      " 7   C2          2436 non-null   float64\n",
      " 8   C3          2436 non-null   float64\n",
      " 9   C4          2436 non-null   float64\n",
      " 10  C5          2436 non-null   float64\n",
      " 11  E1          2436 non-null   float64\n",
      " 12  E2          2436 non-null   float64\n",
      " 13  E3          2436 non-null   float64\n",
      " 14  E4          2436 non-null   float64\n",
      " 15  E5          2436 non-null   float64\n",
      " 16  N1          2436 non-null   float64\n",
      " 17  N2          2436 non-null   float64\n",
      " 18  N3          2436 non-null   float64\n",
      " 19  N4          2436 non-null   float64\n",
      " 20  N5          2436 non-null   float64\n",
      " 21  O1          2436 non-null   float64\n",
      " 22  O2          2436 non-null   int64  \n",
      " 23  O3          2436 non-null   float64\n",
      " 24  O4          2436 non-null   float64\n",
      " 25  O5          2436 non-null   float64\n",
      "dtypes: float64(24), int64(2)\n",
      "memory usage: 513.8 KB\n"
     ]
    }
   ],
   "source": [
    "bfi.info()"
   ]
  },
  {
   "cell_type": "code",
   "execution_count": 170,
   "id": "35b4b167",
   "metadata": {},
   "outputs": [],
   "source": [
    "bfi.drop(['Unnamed: 0'], axis = 1, inplace = True)\n"
   ]
  },
  {
   "cell_type": "code",
   "execution_count": 171,
   "id": "9b6175fb",
   "metadata": {},
   "outputs": [
    {
     "name": "stdout",
     "output_type": "stream",
     "text": [
      "<class 'pandas.core.frame.DataFrame'>\n",
      "Int64Index: 2436 entries, 0 to 2799\n",
      "Data columns (total 25 columns):\n",
      " #   Column  Non-Null Count  Dtype  \n",
      "---  ------  --------------  -----  \n",
      " 0   A1      2436 non-null   float64\n",
      " 1   A2      2436 non-null   float64\n",
      " 2   A3      2436 non-null   float64\n",
      " 3   A4      2436 non-null   float64\n",
      " 4   A5      2436 non-null   float64\n",
      " 5   C1      2436 non-null   float64\n",
      " 6   C2      2436 non-null   float64\n",
      " 7   C3      2436 non-null   float64\n",
      " 8   C4      2436 non-null   float64\n",
      " 9   C5      2436 non-null   float64\n",
      " 10  E1      2436 non-null   float64\n",
      " 11  E2      2436 non-null   float64\n",
      " 12  E3      2436 non-null   float64\n",
      " 13  E4      2436 non-null   float64\n",
      " 14  E5      2436 non-null   float64\n",
      " 15  N1      2436 non-null   float64\n",
      " 16  N2      2436 non-null   float64\n",
      " 17  N3      2436 non-null   float64\n",
      " 18  N4      2436 non-null   float64\n",
      " 19  N5      2436 non-null   float64\n",
      " 20  O1      2436 non-null   float64\n",
      " 21  O2      2436 non-null   int64  \n",
      " 22  O3      2436 non-null   float64\n",
      " 23  O4      2436 non-null   float64\n",
      " 24  O5      2436 non-null   float64\n",
      "dtypes: float64(24), int64(1)\n",
      "memory usage: 494.8 KB\n"
     ]
    }
   ],
   "source": [
    "bfi.info()"
   ]
  },
  {
   "cell_type": "markdown",
   "id": "673d0fdf",
   "metadata": {},
   "source": [
    "__Проведем тест на адекватность__"
   ]
  },
  {
   "cell_type": "markdown",
   "id": "f8d44871",
   "metadata": {},
   "source": [
    "Тест Бартлетта"
   ]
  },
  {
   "cell_type": "code",
   "execution_count": 172,
   "id": "93721fb5",
   "metadata": {},
   "outputs": [
    {
     "data": {
      "text/plain": [
       "(18146.065577235386, 0.0)"
      ]
     },
     "execution_count": 172,
     "metadata": {},
     "output_type": "execute_result"
    }
   ],
   "source": [
    "from factor_analyzer.factor_analyzer import calculate_bartlett_sphericity\n",
    "chi_square_value, p_value = calculate_bartlett_sphericity(bfi)\n",
    "chi_square_value, p_value"
   ]
  },
  {
   "cell_type": "markdown",
   "id": "0d6bc551",
   "metadata": {},
   "source": [
    "Тест Кайзера-Мейера-Олкина"
   ]
  },
  {
   "cell_type": "code",
   "execution_count": 173,
   "id": "42c3d5e0",
   "metadata": {},
   "outputs": [
    {
     "data": {
      "text/plain": [
       "0.8486452309468383"
      ]
     },
     "execution_count": 173,
     "metadata": {},
     "output_type": "execute_result"
    }
   ],
   "source": [
    "from factor_analyzer.factor_analyzer import calculate_kmo\n",
    "kmo_all, kmo_model = calculate_kmo(bfi)\n",
    "kmo_model"
   ]
  },
  {
   "cell_type": "code",
   "execution_count": 174,
   "id": "c7c77ca2",
   "metadata": {
    "scrolled": true
   },
   "outputs": [
    {
     "data": {
      "text/plain": [
       "array([0.7540716 , 0.83643198, 0.87020241, 0.87804164, 0.90355905,\n",
       "       0.84336264, 0.7958161 , 0.85197217, 0.8265898 , 0.86411332,\n",
       "       0.83813017, 0.88388974, 0.89704594, 0.87740109, 0.89339981,\n",
       "       0.7794802 , 0.78039095, 0.86239667, 0.88526811, 0.86024031,\n",
       "       0.8586864 , 0.78033877, 0.84445746, 0.77017696, 0.76159382])"
      ]
     },
     "execution_count": 174,
     "metadata": {},
     "output_type": "execute_result"
    }
   ],
   "source": [
    "kmo_all"
   ]
  },
  {
   "cell_type": "code",
   "execution_count": 175,
   "id": "ec934d85",
   "metadata": {},
   "outputs": [
    {
     "data": {
      "text/plain": [
       "(2436,)"
      ]
     },
     "execution_count": 175,
     "metadata": {},
     "output_type": "execute_result"
    }
   ],
   "source": [
    "bfi.A1.shape"
   ]
  },
  {
   "cell_type": "code",
   "execution_count": 176,
   "id": "efecbf1d",
   "metadata": {},
   "outputs": [
    {
     "name": "stdout",
     "output_type": "stream",
     "text": [
      "<class 'pandas.core.frame.DataFrame'>\n",
      "Int64Index: 2436 entries, 0 to 2799\n",
      "Data columns (total 25 columns):\n",
      " #   Column  Non-Null Count  Dtype  \n",
      "---  ------  --------------  -----  \n",
      " 0   A1      2436 non-null   float64\n",
      " 1   A2      2436 non-null   float64\n",
      " 2   A3      2436 non-null   float64\n",
      " 3   A4      2436 non-null   float64\n",
      " 4   A5      2436 non-null   float64\n",
      " 5   C1      2436 non-null   float64\n",
      " 6   C2      2436 non-null   float64\n",
      " 7   C3      2436 non-null   float64\n",
      " 8   C4      2436 non-null   float64\n",
      " 9   C5      2436 non-null   float64\n",
      " 10  E1      2436 non-null   float64\n",
      " 11  E2      2436 non-null   float64\n",
      " 12  E3      2436 non-null   float64\n",
      " 13  E4      2436 non-null   float64\n",
      " 14  E5      2436 non-null   float64\n",
      " 15  N1      2436 non-null   float64\n",
      " 16  N2      2436 non-null   float64\n",
      " 17  N3      2436 non-null   float64\n",
      " 18  N4      2436 non-null   float64\n",
      " 19  N5      2436 non-null   float64\n",
      " 20  O1      2436 non-null   float64\n",
      " 21  O2      2436 non-null   int64  \n",
      " 22  O3      2436 non-null   float64\n",
      " 23  O4      2436 non-null   float64\n",
      " 24  O5      2436 non-null   float64\n",
      "dtypes: float64(24), int64(1)\n",
      "memory usage: 494.8 KB\n"
     ]
    }
   ],
   "source": [
    "bfi.info()"
   ]
  },
  {
   "cell_type": "markdown",
   "id": "5cc360ba",
   "metadata": {},
   "source": [
    "__Выбор количества факторов__"
   ]
  },
  {
   "cell_type": "markdown",
   "id": "65c72fd0",
   "metadata": {},
   "source": [
    "__Критерий Кайзера__"
   ]
  },
  {
   "cell_type": "code",
   "execution_count": 177,
   "id": "0ee153e0",
   "metadata": {},
   "outputs": [
    {
     "data": {
      "text/plain": [
       "array([5.13431118, 2.75188667, 2.14270195, 1.85232761, 1.54816285,\n",
       "       1.07358247, 0.83953893, 0.79920618, 0.71898919, 0.68808879,\n",
       "       0.67637336, 0.65179984, 0.62325295, 0.59656284, 0.56309083,\n",
       "       0.54330533, 0.51451752, 0.49450315, 0.48263952, 0.448921  ,\n",
       "       0.42336611, 0.40067145, 0.38780448, 0.38185679, 0.26253902])"
      ]
     },
     "execution_count": 177,
     "metadata": {},
     "output_type": "execute_result"
    }
   ],
   "source": [
    "fa = FactorAnalyzer()\n",
    "fa.fit(bfi)\n",
    "\n",
    "ev, v = fa.get_eigenvalues()\n",
    "ev"
   ]
  },
  {
   "cell_type": "code",
   "execution_count": 178,
   "id": "d61377f5",
   "metadata": {},
   "outputs": [],
   "source": [
    "# Для 6 факторов собственные значения больше 1. \n",
    "# Нужно выбрать 6 факторов"
   ]
  },
  {
   "cell_type": "markdown",
   "id": "d812cb2c",
   "metadata": {},
   "source": [
    "__Графический подход (График каменистой осыпи(график собственных значений))__"
   ]
  },
  {
   "cell_type": "code",
   "execution_count": 179,
   "id": "6b285697",
   "metadata": {},
   "outputs": [
    {
     "data": {
      "text/plain": [
       "Text(0, 0.5, 'Собственные значения')"
      ]
     },
     "execution_count": 179,
     "metadata": {},
     "output_type": "execute_result"
    },
    {
     "data": {
      "image/png": "[encoded data removed]",
      "text/plain": [
       "<Figure size 1000x700 with 1 Axes>"
      ]
     },
     "metadata": {},
     "output_type": "display_data"
    }
   ],
   "source": [
    "plt.scatter(range(1, bfi.shape[1] + 1), ev)\n",
    "plt.plot(range(1, bfi.shape[1] + 1), ev)\n",
    "\n",
    "plt.title('График собственных значений')\n",
    "plt.xlabel('Признаки')\n",
    "plt.ylabel('Собственные значения')"
   ]
  },
  {
   "cell_type": "markdown",
   "id": "25fb2b76",
   "metadata": {},
   "source": [
    "__Реализация факторного анализа__"
   ]
  },
  {
   "cell_type": "code",
   "execution_count": 180,
   "id": "6dddda7a",
   "metadata": {},
   "outputs": [
    {
     "data": {
      "text/plain": [
       "FactorAnalyzer(n_factors=6, rotation='varimax', rotation_kwargs={})"
      ]
     },
     "execution_count": 180,
     "metadata": {},
     "output_type": "execute_result"
    }
   ],
   "source": [
    "fa_6 = FactorAnalyzer(6, rotation = 'varimax')\n",
    "fa_6.fit(bfi)"
   ]
  },
  {
   "cell_type": "code",
   "execution_count": 181,
   "id": "7c361712",
   "metadata": {
    "scrolled": true
   },
   "outputs": [
    {
     "data": {
      "text/plain": [
       "array([[ 9.52197421e-02,  4.07831567e-02,  4.87338844e-02,\n",
       "        -5.30987346e-01, -1.13057329e-01,  1.61216347e-01],\n",
       "       [ 3.31312763e-02,  2.35538041e-01,  1.33714394e-01,\n",
       "         6.61140976e-01,  6.37337866e-02, -6.24353634e-03],\n",
       "       [-9.62088414e-03,  3.43008176e-01,  1.21353367e-01,\n",
       "         6.05932693e-01,  3.39902640e-02,  1.60106426e-01],\n",
       "       [-8.15175587e-02,  2.19716722e-01,  2.35139532e-01,\n",
       "         4.04594039e-01, -1.25338020e-01,  8.63557013e-02],\n",
       "       [-1.49615885e-01,  4.14457677e-01,  1.06382165e-01,\n",
       "         4.69698289e-01,  3.09765708e-02,  2.36519341e-01],\n",
       "       [-4.35840228e-03,  7.72477539e-02,  5.54582254e-01,\n",
       "         7.51069525e-03,  1.90123729e-01,  9.50350469e-02],\n",
       "       [ 6.83300836e-02,  3.83703856e-02,  6.74545450e-01,\n",
       "         5.70549867e-02,  8.75925904e-02,  1.52775080e-01],\n",
       "       [-3.99936734e-02,  3.18673012e-02,  5.51164438e-01,\n",
       "         1.01282240e-01, -1.13380874e-02,  8.99628297e-03],\n",
       "       [ 2.16283366e-01, -6.62407723e-02, -6.38475488e-01,\n",
       "        -1.02616941e-01, -1.43846476e-01,  3.18358898e-01],\n",
       "       [ 2.84187245e-01, -1.80811696e-01, -5.44837677e-01,\n",
       "        -5.99548222e-02,  2.58370941e-02,  1.32423448e-01],\n",
       "       [ 2.22797946e-02, -5.90450889e-01,  5.39149061e-02,\n",
       "        -1.30850530e-01, -7.12045788e-02,  1.56582658e-01],\n",
       "       [ 2.33623567e-01, -6.84577629e-01, -8.84970712e-02,\n",
       "        -1.16715664e-01, -4.55610408e-02,  1.15065403e-01],\n",
       "       [-8.95006503e-04,  5.56774181e-01,  1.03390347e-01,\n",
       "         1.79396479e-01,  2.41179901e-01,  2.67291310e-01],\n",
       "       [-1.36788076e-01,  6.58394907e-01,  1.13798005e-01,\n",
       "         2.41142959e-01, -1.07808204e-01,  1.58512846e-01],\n",
       "       [ 3.44895886e-02,  5.07535084e-01,  3.09812528e-01,\n",
       "         7.88042845e-02,  2.00821350e-01,  8.74729981e-03],\n",
       "       [ 8.05805938e-01,  6.80113020e-02, -5.12637878e-02,\n",
       "        -1.74849358e-01, -7.49771190e-02, -9.62661725e-02],\n",
       "       [ 7.89831685e-01,  2.29582928e-02, -3.74768703e-02,\n",
       "        -1.41134482e-01,  6.72646130e-03, -1.39822613e-01],\n",
       "       [ 7.25081218e-01, -6.56869331e-02, -5.90394374e-02,\n",
       "        -1.91838177e-02, -1.06635552e-02,  6.24953369e-02],\n",
       "       [ 5.78318850e-01, -3.45072323e-01, -1.62173861e-01,\n",
       "         4.03124943e-04,  6.29164830e-02,  1.47551246e-01],\n",
       "       [ 5.23097071e-01, -1.61675116e-01, -2.53049776e-02,\n",
       "         9.01247900e-02, -1.61891978e-01,  1.20049478e-01],\n",
       "       [-2.00040177e-02,  2.25338565e-01,  1.33200799e-01,\n",
       "         5.17793715e-03,  4.79477214e-01,  2.18689834e-01],\n",
       "       [ 1.56230108e-01, -1.98151961e-03, -8.60468495e-02,\n",
       "         4.39891060e-02, -4.96639675e-01,  1.34692970e-01],\n",
       "       [ 1.18510152e-02,  3.25954485e-01,  9.38796112e-02,\n",
       "         7.66416455e-02,  5.66128044e-01,  2.10777221e-01],\n",
       "       [ 2.07280572e-01, -1.77745711e-01, -5.67146565e-03,\n",
       "         1.33655572e-01,  3.49227135e-01,  1.78068370e-01],\n",
       "       [ 6.32343661e-02, -1.42210626e-02, -4.70592284e-02,\n",
       "        -5.75607787e-02, -5.76742637e-01,  1.35935870e-01]])"
      ]
     },
     "execution_count": 181,
     "metadata": {},
     "output_type": "execute_result"
    }
   ],
   "source": [
    "fa_6.loadings_"
   ]
  },
  {
   "cell_type": "code",
   "execution_count": 182,
   "id": "df9ff5df",
   "metadata": {},
   "outputs": [
    {
     "data": {
      "text/html": [
       "<div>\n",
       "<style scoped>\n",
       "    .dataframe tbody tr th:only-of-type {\n",
       "        vertical-align: middle;\n",
       "    }\n",
       "\n",
       "    .dataframe tbody tr th {\n",
       "        vertical-align: top;\n",
       "    }\n",
       "\n",
       "    .dataframe thead th {\n",
       "        text-align: right;\n",
       "    }\n",
       "</style>\n",
       "<table border=\"1\" class=\"dataframe\">\n",
       "  <thead>\n",
       "    <tr style=\"text-align: right;\">\n",
       "      <th></th>\n",
       "      <th>0</th>\n",
       "      <th>1</th>\n",
       "      <th>2</th>\n",
       "      <th>3</th>\n",
       "      <th>4</th>\n",
       "      <th>5</th>\n",
       "    </tr>\n",
       "  </thead>\n",
       "  <tbody>\n",
       "    <tr>\n",
       "      <th>A1</th>\n",
       "      <td>0.095220</td>\n",
       "      <td>0.040783</td>\n",
       "      <td>0.048734</td>\n",
       "      <td>-0.530987</td>\n",
       "      <td>-0.113057</td>\n",
       "      <td>0.161216</td>\n",
       "    </tr>\n",
       "    <tr>\n",
       "      <th>A2</th>\n",
       "      <td>0.033131</td>\n",
       "      <td>0.235538</td>\n",
       "      <td>0.133714</td>\n",
       "      <td>0.661141</td>\n",
       "      <td>0.063734</td>\n",
       "      <td>-0.006244</td>\n",
       "    </tr>\n",
       "    <tr>\n",
       "      <th>A3</th>\n",
       "      <td>-0.009621</td>\n",
       "      <td>0.343008</td>\n",
       "      <td>0.121353</td>\n",
       "      <td>0.605933</td>\n",
       "      <td>0.033990</td>\n",
       "      <td>0.160106</td>\n",
       "    </tr>\n",
       "    <tr>\n",
       "      <th>A4</th>\n",
       "      <td>-0.081518</td>\n",
       "      <td>0.219717</td>\n",
       "      <td>0.235140</td>\n",
       "      <td>0.404594</td>\n",
       "      <td>-0.125338</td>\n",
       "      <td>0.086356</td>\n",
       "    </tr>\n",
       "    <tr>\n",
       "      <th>A5</th>\n",
       "      <td>-0.149616</td>\n",
       "      <td>0.414458</td>\n",
       "      <td>0.106382</td>\n",
       "      <td>0.469698</td>\n",
       "      <td>0.030977</td>\n",
       "      <td>0.236519</td>\n",
       "    </tr>\n",
       "    <tr>\n",
       "      <th>C1</th>\n",
       "      <td>-0.004358</td>\n",
       "      <td>0.077248</td>\n",
       "      <td>0.554582</td>\n",
       "      <td>0.007511</td>\n",
       "      <td>0.190124</td>\n",
       "      <td>0.095035</td>\n",
       "    </tr>\n",
       "    <tr>\n",
       "      <th>C2</th>\n",
       "      <td>0.068330</td>\n",
       "      <td>0.038370</td>\n",
       "      <td>0.674545</td>\n",
       "      <td>0.057055</td>\n",
       "      <td>0.087593</td>\n",
       "      <td>0.152775</td>\n",
       "    </tr>\n",
       "    <tr>\n",
       "      <th>C3</th>\n",
       "      <td>-0.039994</td>\n",
       "      <td>0.031867</td>\n",
       "      <td>0.551164</td>\n",
       "      <td>0.101282</td>\n",
       "      <td>-0.011338</td>\n",
       "      <td>0.008996</td>\n",
       "    </tr>\n",
       "    <tr>\n",
       "      <th>C4</th>\n",
       "      <td>0.216283</td>\n",
       "      <td>-0.066241</td>\n",
       "      <td>-0.638475</td>\n",
       "      <td>-0.102617</td>\n",
       "      <td>-0.143846</td>\n",
       "      <td>0.318359</td>\n",
       "    </tr>\n",
       "    <tr>\n",
       "      <th>C5</th>\n",
       "      <td>0.284187</td>\n",
       "      <td>-0.180812</td>\n",
       "      <td>-0.544838</td>\n",
       "      <td>-0.059955</td>\n",
       "      <td>0.025837</td>\n",
       "      <td>0.132423</td>\n",
       "    </tr>\n",
       "    <tr>\n",
       "      <th>E1</th>\n",
       "      <td>0.022280</td>\n",
       "      <td>-0.590451</td>\n",
       "      <td>0.053915</td>\n",
       "      <td>-0.130851</td>\n",
       "      <td>-0.071205</td>\n",
       "      <td>0.156583</td>\n",
       "    </tr>\n",
       "    <tr>\n",
       "      <th>E2</th>\n",
       "      <td>0.233624</td>\n",
       "      <td>-0.684578</td>\n",
       "      <td>-0.088497</td>\n",
       "      <td>-0.116716</td>\n",
       "      <td>-0.045561</td>\n",
       "      <td>0.115065</td>\n",
       "    </tr>\n",
       "    <tr>\n",
       "      <th>E3</th>\n",
       "      <td>-0.000895</td>\n",
       "      <td>0.556774</td>\n",
       "      <td>0.103390</td>\n",
       "      <td>0.179396</td>\n",
       "      <td>0.241180</td>\n",
       "      <td>0.267291</td>\n",
       "    </tr>\n",
       "    <tr>\n",
       "      <th>E4</th>\n",
       "      <td>-0.136788</td>\n",
       "      <td>0.658395</td>\n",
       "      <td>0.113798</td>\n",
       "      <td>0.241143</td>\n",
       "      <td>-0.107808</td>\n",
       "      <td>0.158513</td>\n",
       "    </tr>\n",
       "    <tr>\n",
       "      <th>E5</th>\n",
       "      <td>0.034490</td>\n",
       "      <td>0.507535</td>\n",
       "      <td>0.309813</td>\n",
       "      <td>0.078804</td>\n",
       "      <td>0.200821</td>\n",
       "      <td>0.008747</td>\n",
       "    </tr>\n",
       "    <tr>\n",
       "      <th>N1</th>\n",
       "      <td>0.805806</td>\n",
       "      <td>0.068011</td>\n",
       "      <td>-0.051264</td>\n",
       "      <td>-0.174849</td>\n",
       "      <td>-0.074977</td>\n",
       "      <td>-0.096266</td>\n",
       "    </tr>\n",
       "    <tr>\n",
       "      <th>N2</th>\n",
       "      <td>0.789832</td>\n",
       "      <td>0.022958</td>\n",
       "      <td>-0.037477</td>\n",
       "      <td>-0.141134</td>\n",
       "      <td>0.006726</td>\n",
       "      <td>-0.139823</td>\n",
       "    </tr>\n",
       "    <tr>\n",
       "      <th>N3</th>\n",
       "      <td>0.725081</td>\n",
       "      <td>-0.065687</td>\n",
       "      <td>-0.059039</td>\n",
       "      <td>-0.019184</td>\n",
       "      <td>-0.010664</td>\n",
       "      <td>0.062495</td>\n",
       "    </tr>\n",
       "    <tr>\n",
       "      <th>N4</th>\n",
       "      <td>0.578319</td>\n",
       "      <td>-0.345072</td>\n",
       "      <td>-0.162174</td>\n",
       "      <td>0.000403</td>\n",
       "      <td>0.062916</td>\n",
       "      <td>0.147551</td>\n",
       "    </tr>\n",
       "    <tr>\n",
       "      <th>N5</th>\n",
       "      <td>0.523097</td>\n",
       "      <td>-0.161675</td>\n",
       "      <td>-0.025305</td>\n",
       "      <td>0.090125</td>\n",
       "      <td>-0.161892</td>\n",
       "      <td>0.120049</td>\n",
       "    </tr>\n",
       "    <tr>\n",
       "      <th>O1</th>\n",
       "      <td>-0.020004</td>\n",
       "      <td>0.225339</td>\n",
       "      <td>0.133201</td>\n",
       "      <td>0.005178</td>\n",
       "      <td>0.479477</td>\n",
       "      <td>0.218690</td>\n",
       "    </tr>\n",
       "    <tr>\n",
       "      <th>O2</th>\n",
       "      <td>0.156230</td>\n",
       "      <td>-0.001982</td>\n",
       "      <td>-0.086047</td>\n",
       "      <td>0.043989</td>\n",
       "      <td>-0.496640</td>\n",
       "      <td>0.134693</td>\n",
       "    </tr>\n",
       "    <tr>\n",
       "      <th>O3</th>\n",
       "      <td>0.011851</td>\n",
       "      <td>0.325954</td>\n",
       "      <td>0.093880</td>\n",
       "      <td>0.076642</td>\n",
       "      <td>0.566128</td>\n",
       "      <td>0.210777</td>\n",
       "    </tr>\n",
       "    <tr>\n",
       "      <th>O4</th>\n",
       "      <td>0.207281</td>\n",
       "      <td>-0.177746</td>\n",
       "      <td>-0.005671</td>\n",
       "      <td>0.133656</td>\n",
       "      <td>0.349227</td>\n",
       "      <td>0.178068</td>\n",
       "    </tr>\n",
       "    <tr>\n",
       "      <th>O5</th>\n",
       "      <td>0.063234</td>\n",
       "      <td>-0.014221</td>\n",
       "      <td>-0.047059</td>\n",
       "      <td>-0.057561</td>\n",
       "      <td>-0.576743</td>\n",
       "      <td>0.135936</td>\n",
       "    </tr>\n",
       "  </tbody>\n",
       "</table>\n",
       "</div>"
      ],
      "text/plain": [
       "           0         1         2         3         4         5\n",
       "A1  0.095220  0.040783  0.048734 -0.530987 -0.113057  0.161216\n",
       "A2  0.033131  0.235538  0.133714  0.661141  0.063734 -0.006244\n",
       "A3 -0.009621  0.343008  0.121353  0.605933  0.033990  0.160106\n",
       "A4 -0.081518  0.219717  0.235140  0.404594 -0.125338  0.086356\n",
       "A5 -0.149616  0.414458  0.106382  0.469698  0.030977  0.236519\n",
       "C1 -0.004358  0.077248  0.554582  0.007511  0.190124  0.095035\n",
       "C2  0.068330  0.038370  0.674545  0.057055  0.087593  0.152775\n",
       "C3 -0.039994  0.031867  0.551164  0.101282 -0.011338  0.008996\n",
       "C4  0.216283 -0.066241 -0.638475 -0.102617 -0.143846  0.318359\n",
       "C5  0.284187 -0.180812 -0.544838 -0.059955  0.025837  0.132423\n",
       "E1  0.022280 -0.590451  0.053915 -0.130851 -0.071205  0.156583\n",
       "E2  0.233624 -0.684578 -0.088497 -0.116716 -0.045561  0.115065\n",
       "E3 -0.000895  0.556774  0.103390  0.179396  0.241180  0.267291\n",
       "E4 -0.136788  0.658395  0.113798  0.241143 -0.107808  0.158513\n",
       "E5  0.034490  0.507535  0.309813  0.078804  0.200821  0.008747\n",
       "N1  0.805806  0.068011 -0.051264 -0.174849 -0.074977 -0.096266\n",
       "N2  0.789832  0.022958 -0.037477 -0.141134  0.006726 -0.139823\n",
       "N3  0.725081 -0.065687 -0.059039 -0.019184 -0.010664  0.062495\n",
       "N4  0.578319 -0.345072 -0.162174  0.000403  0.062916  0.147551\n",
       "N5  0.523097 -0.161675 -0.025305  0.090125 -0.161892  0.120049\n",
       "O1 -0.020004  0.225339  0.133201  0.005178  0.479477  0.218690\n",
       "O2  0.156230 -0.001982 -0.086047  0.043989 -0.496640  0.134693\n",
       "O3  0.011851  0.325954  0.093880  0.076642  0.566128  0.210777\n",
       "O4  0.207281 -0.177746 -0.005671  0.133656  0.349227  0.178068\n",
       "O5  0.063234 -0.014221 -0.047059 -0.057561 -0.576743  0.135936"
      ]
     },
     "execution_count": 182,
     "metadata": {},
     "output_type": "execute_result"
    }
   ],
   "source": [
    "pd.DataFrame(fa_6.loadings_, index = bfi.columns) # Собственные значения каждой компоненты"
   ]
  },
  {
   "cell_type": "markdown",
   "id": "a1cc4297",
   "metadata": {},
   "source": [
    "У фактора_1 высокие факторные нагрузки по N; \\\n",
    "фактор_2: Е; \\\n",
    "фактор_3: С; \\\n",
    "фактор_4: А; \\\n",
    "фактор_5: О; \\\n",
    "фактор_6: можно им пренебречь и провести анализ по 5 факторам"
   ]
  },
  {
   "cell_type": "code",
   "execution_count": 183,
   "id": "f3aab090",
   "metadata": {},
   "outputs": [
    {
     "data": {
      "text/plain": [
       "FactorAnalyzer(n_factors=5, rotation='varimax', rotation_kwargs={})"
      ]
     },
     "execution_count": 183,
     "metadata": {},
     "output_type": "execute_result"
    }
   ],
   "source": [
    "fa_5 = FactorAnalyzer(5, rotation = 'varimax')\n",
    "fa_5.fit(bfi)"
   ]
  },
  {
   "cell_type": "code",
   "execution_count": 184,
   "id": "9e96bf87",
   "metadata": {},
   "outputs": [
    {
     "data": {
      "text/html": [
       "<div>\n",
       "<style scoped>\n",
       "    .dataframe tbody tr th:only-of-type {\n",
       "        vertical-align: middle;\n",
       "    }\n",
       "\n",
       "    .dataframe tbody tr th {\n",
       "        vertical-align: top;\n",
       "    }\n",
       "\n",
       "    .dataframe thead th {\n",
       "        text-align: right;\n",
       "    }\n",
       "</style>\n",
       "<table border=\"1\" class=\"dataframe\">\n",
       "  <thead>\n",
       "    <tr style=\"text-align: right;\">\n",
       "      <th></th>\n",
       "      <th>0</th>\n",
       "      <th>1</th>\n",
       "      <th>2</th>\n",
       "      <th>3</th>\n",
       "      <th>4</th>\n",
       "    </tr>\n",
       "  </thead>\n",
       "  <tbody>\n",
       "    <tr>\n",
       "      <th>A1</th>\n",
       "      <td>0.111126</td>\n",
       "      <td>0.040465</td>\n",
       "      <td>0.022798</td>\n",
       "      <td>-0.428166</td>\n",
       "      <td>-0.077931</td>\n",
       "    </tr>\n",
       "    <tr>\n",
       "      <th>A2</th>\n",
       "      <td>0.029588</td>\n",
       "      <td>0.213716</td>\n",
       "      <td>0.139037</td>\n",
       "      <td>0.626946</td>\n",
       "      <td>0.062139</td>\n",
       "    </tr>\n",
       "    <tr>\n",
       "      <th>A3</th>\n",
       "      <td>0.009357</td>\n",
       "      <td>0.317848</td>\n",
       "      <td>0.109331</td>\n",
       "      <td>0.650743</td>\n",
       "      <td>0.056196</td>\n",
       "    </tr>\n",
       "    <tr>\n",
       "      <th>A4</th>\n",
       "      <td>-0.066476</td>\n",
       "      <td>0.204566</td>\n",
       "      <td>0.230584</td>\n",
       "      <td>0.435624</td>\n",
       "      <td>-0.112700</td>\n",
       "    </tr>\n",
       "    <tr>\n",
       "      <th>A5</th>\n",
       "      <td>-0.122113</td>\n",
       "      <td>0.393034</td>\n",
       "      <td>0.087869</td>\n",
       "      <td>0.537087</td>\n",
       "      <td>0.066708</td>\n",
       "    </tr>\n",
       "    <tr>\n",
       "      <th>C1</th>\n",
       "      <td>0.010416</td>\n",
       "      <td>0.070184</td>\n",
       "      <td>0.545824</td>\n",
       "      <td>0.038878</td>\n",
       "      <td>0.209584</td>\n",
       "    </tr>\n",
       "    <tr>\n",
       "      <th>C2</th>\n",
       "      <td>0.089574</td>\n",
       "      <td>0.033270</td>\n",
       "      <td>0.648731</td>\n",
       "      <td>0.102782</td>\n",
       "      <td>0.115434</td>\n",
       "    </tr>\n",
       "    <tr>\n",
       "      <th>C3</th>\n",
       "      <td>-0.030855</td>\n",
       "      <td>0.023907</td>\n",
       "      <td>0.557036</td>\n",
       "      <td>0.111578</td>\n",
       "      <td>-0.005183</td>\n",
       "    </tr>\n",
       "    <tr>\n",
       "      <th>C4</th>\n",
       "      <td>0.240410</td>\n",
       "      <td>-0.064984</td>\n",
       "      <td>-0.633806</td>\n",
       "      <td>-0.037498</td>\n",
       "      <td>-0.107535</td>\n",
       "    </tr>\n",
       "    <tr>\n",
       "      <th>C5</th>\n",
       "      <td>0.290318</td>\n",
       "      <td>-0.176395</td>\n",
       "      <td>-0.562467</td>\n",
       "      <td>-0.047525</td>\n",
       "      <td>0.036822</td>\n",
       "    </tr>\n",
       "    <tr>\n",
       "      <th>E1</th>\n",
       "      <td>0.042819</td>\n",
       "      <td>-0.574835</td>\n",
       "      <td>0.033144</td>\n",
       "      <td>-0.104813</td>\n",
       "      <td>-0.058795</td>\n",
       "    </tr>\n",
       "    <tr>\n",
       "      <th>E2</th>\n",
       "      <td>0.244743</td>\n",
       "      <td>-0.678731</td>\n",
       "      <td>-0.102483</td>\n",
       "      <td>-0.112517</td>\n",
       "      <td>-0.042010</td>\n",
       "    </tr>\n",
       "    <tr>\n",
       "      <th>E3</th>\n",
       "      <td>0.024180</td>\n",
       "      <td>0.536816</td>\n",
       "      <td>0.083010</td>\n",
       "      <td>0.257906</td>\n",
       "      <td>0.280877</td>\n",
       "    </tr>\n",
       "    <tr>\n",
       "      <th>E4</th>\n",
       "      <td>-0.115614</td>\n",
       "      <td>0.646833</td>\n",
       "      <td>0.102023</td>\n",
       "      <td>0.306101</td>\n",
       "      <td>-0.073422</td>\n",
       "    </tr>\n",
       "    <tr>\n",
       "      <th>E5</th>\n",
       "      <td>0.036145</td>\n",
       "      <td>0.504069</td>\n",
       "      <td>0.312899</td>\n",
       "      <td>0.090354</td>\n",
       "      <td>0.213739</td>\n",
       "    </tr>\n",
       "    <tr>\n",
       "      <th>N1</th>\n",
       "      <td>0.786807</td>\n",
       "      <td>0.078923</td>\n",
       "      <td>-0.045997</td>\n",
       "      <td>-0.216363</td>\n",
       "      <td>-0.084704</td>\n",
       "    </tr>\n",
       "    <tr>\n",
       "      <th>N2</th>\n",
       "      <td>0.754109</td>\n",
       "      <td>0.027301</td>\n",
       "      <td>-0.030568</td>\n",
       "      <td>-0.193744</td>\n",
       "      <td>-0.010304</td>\n",
       "    </tr>\n",
       "    <tr>\n",
       "      <th>N3</th>\n",
       "      <td>0.731721</td>\n",
       "      <td>-0.061430</td>\n",
       "      <td>-0.067084</td>\n",
       "      <td>-0.027712</td>\n",
       "      <td>-0.004217</td>\n",
       "    </tr>\n",
       "    <tr>\n",
       "      <th>N4</th>\n",
       "      <td>0.590602</td>\n",
       "      <td>-0.345388</td>\n",
       "      <td>-0.178902</td>\n",
       "      <td>0.005886</td>\n",
       "      <td>0.075225</td>\n",
       "    </tr>\n",
       "    <tr>\n",
       "      <th>N5</th>\n",
       "      <td>0.537858</td>\n",
       "      <td>-0.161291</td>\n",
       "      <td>-0.037309</td>\n",
       "      <td>0.100931</td>\n",
       "      <td>-0.149769</td>\n",
       "    </tr>\n",
       "    <tr>\n",
       "      <th>O1</th>\n",
       "      <td>-0.002224</td>\n",
       "      <td>0.213005</td>\n",
       "      <td>0.115080</td>\n",
       "      <td>0.061550</td>\n",
       "      <td>0.504907</td>\n",
       "    </tr>\n",
       "    <tr>\n",
       "      <th>O2</th>\n",
       "      <td>0.175788</td>\n",
       "      <td>0.004560</td>\n",
       "      <td>-0.099729</td>\n",
       "      <td>0.081809</td>\n",
       "      <td>-0.468925</td>\n",
       "    </tr>\n",
       "    <tr>\n",
       "      <th>O3</th>\n",
       "      <td>0.026736</td>\n",
       "      <td>0.310956</td>\n",
       "      <td>0.076873</td>\n",
       "      <td>0.126889</td>\n",
       "      <td>0.596007</td>\n",
       "    </tr>\n",
       "    <tr>\n",
       "      <th>O4</th>\n",
       "      <td>0.220582</td>\n",
       "      <td>-0.191196</td>\n",
       "      <td>-0.021906</td>\n",
       "      <td>0.155475</td>\n",
       "      <td>0.369012</td>\n",
       "    </tr>\n",
       "    <tr>\n",
       "      <th>O5</th>\n",
       "      <td>0.085401</td>\n",
       "      <td>-0.005347</td>\n",
       "      <td>-0.062730</td>\n",
       "      <td>-0.010384</td>\n",
       "      <td>-0.533778</td>\n",
       "    </tr>\n",
       "  </tbody>\n",
       "</table>\n",
       "</div>"
      ],
      "text/plain": [
       "           0         1         2         3         4\n",
       "A1  0.111126  0.040465  0.022798 -0.428166 -0.077931\n",
       "A2  0.029588  0.213716  0.139037  0.626946  0.062139\n",
       "A3  0.009357  0.317848  0.109331  0.650743  0.056196\n",
       "A4 -0.066476  0.204566  0.230584  0.435624 -0.112700\n",
       "A5 -0.122113  0.393034  0.087869  0.537087  0.066708\n",
       "C1  0.010416  0.070184  0.545824  0.038878  0.209584\n",
       "C2  0.089574  0.033270  0.648731  0.102782  0.115434\n",
       "C3 -0.030855  0.023907  0.557036  0.111578 -0.005183\n",
       "C4  0.240410 -0.064984 -0.633806 -0.037498 -0.107535\n",
       "C5  0.290318 -0.176395 -0.562467 -0.047525  0.036822\n",
       "E1  0.042819 -0.574835  0.033144 -0.104813 -0.058795\n",
       "E2  0.244743 -0.678731 -0.102483 -0.112517 -0.042010\n",
       "E3  0.024180  0.536816  0.083010  0.257906  0.280877\n",
       "E4 -0.115614  0.646833  0.102023  0.306101 -0.073422\n",
       "E5  0.036145  0.504069  0.312899  0.090354  0.213739\n",
       "N1  0.786807  0.078923 -0.045997 -0.216363 -0.084704\n",
       "N2  0.754109  0.027301 -0.030568 -0.193744 -0.010304\n",
       "N3  0.731721 -0.061430 -0.067084 -0.027712 -0.004217\n",
       "N4  0.590602 -0.345388 -0.178902  0.005886  0.075225\n",
       "N5  0.537858 -0.161291 -0.037309  0.100931 -0.149769\n",
       "O1 -0.002224  0.213005  0.115080  0.061550  0.504907\n",
       "O2  0.175788  0.004560 -0.099729  0.081809 -0.468925\n",
       "O3  0.026736  0.310956  0.076873  0.126889  0.596007\n",
       "O4  0.220582 -0.191196 -0.021906  0.155475  0.369012\n",
       "O5  0.085401 -0.005347 -0.062730 -0.010384 -0.533778"
      ]
     },
     "execution_count": 184,
     "metadata": {},
     "output_type": "execute_result"
    }
   ],
   "source": [
    "pd.DataFrame(fa_5.loadings_, index = bfi.columns) # Собственные значения каждой компоненты"
   ]
  },
  {
   "cell_type": "code",
   "execution_count": 185,
   "id": "e0770b00",
   "metadata": {},
   "outputs": [
    {
     "data": {
      "text/html": [
       "<div>\n",
       "<style scoped>\n",
       "    .dataframe tbody tr th:only-of-type {\n",
       "        vertical-align: middle;\n",
       "    }\n",
       "\n",
       "    .dataframe tbody tr th {\n",
       "        vertical-align: top;\n",
       "    }\n",
       "\n",
       "    .dataframe thead th {\n",
       "        text-align: right;\n",
       "    }\n",
       "</style>\n",
       "<table border=\"1\" class=\"dataframe\">\n",
       "  <thead>\n",
       "    <tr style=\"text-align: right;\">\n",
       "      <th></th>\n",
       "      <th>0</th>\n",
       "      <th>1</th>\n",
       "      <th>2</th>\n",
       "      <th>3</th>\n",
       "      <th>4</th>\n",
       "    </tr>\n",
       "  </thead>\n",
       "  <tbody>\n",
       "    <tr>\n",
       "      <th>0</th>\n",
       "      <td>2.709633</td>\n",
       "      <td>2.473090</td>\n",
       "      <td>2.041106</td>\n",
       "      <td>1.844498</td>\n",
       "      <td>1.522153</td>\n",
       "    </tr>\n",
       "    <tr>\n",
       "      <th>1</th>\n",
       "      <td>0.108385</td>\n",
       "      <td>0.098924</td>\n",
       "      <td>0.081644</td>\n",
       "      <td>0.073780</td>\n",
       "      <td>0.060886</td>\n",
       "    </tr>\n",
       "    <tr>\n",
       "      <th>2</th>\n",
       "      <td>0.108385</td>\n",
       "      <td>0.207309</td>\n",
       "      <td>0.288953</td>\n",
       "      <td>0.362733</td>\n",
       "      <td>0.423619</td>\n",
       "    </tr>\n",
       "  </tbody>\n",
       "</table>\n",
       "</div>"
      ],
      "text/plain": [
       "          0         1         2         3         4\n",
       "0  2.709633  2.473090  2.041106  1.844498  1.522153\n",
       "1  0.108385  0.098924  0.081644  0.073780  0.060886\n",
       "2  0.108385  0.207309  0.288953  0.362733  0.423619"
      ]
     },
     "execution_count": 185,
     "metadata": {},
     "output_type": "execute_result"
    }
   ],
   "source": [
    "pd.DataFrame(fa_5.get_factor_variance())\n",
    "# 0 - SS Loadings (sum of squared loadings)\n",
    "# 1 - Proportion Var (доля дисперсий, объясняемых каждой компонентой)\n",
    "# 2 - Cumulative Var \n",
    "\n",
    "# Всего 42% куммулятивной дисперсии объясняется 5 факторами"
   ]
  },
  {
   "cell_type": "code",
   "execution_count": 186,
   "id": "760261f9",
   "metadata": {},
   "outputs": [
    {
     "data": {
      "text/html": [
       "<div>\n",
       "<style scoped>\n",
       "    .dataframe tbody tr th:only-of-type {\n",
       "        vertical-align: middle;\n",
       "    }\n",
       "\n",
       "    .dataframe tbody tr th {\n",
       "        vertical-align: top;\n",
       "    }\n",
       "\n",
       "    .dataframe thead th {\n",
       "        text-align: right;\n",
       "    }\n",
       "</style>\n",
       "<table border=\"1\" class=\"dataframe\">\n",
       "  <thead>\n",
       "    <tr style=\"text-align: right;\">\n",
       "      <th></th>\n",
       "      <th>0</th>\n",
       "      <th>1</th>\n",
       "      <th>2</th>\n",
       "      <th>3</th>\n",
       "      <th>4</th>\n",
       "    </tr>\n",
       "  </thead>\n",
       "  <tbody>\n",
       "    <tr>\n",
       "      <th>A1</th>\n",
       "      <td>0.111126</td>\n",
       "      <td>0.040465</td>\n",
       "      <td>0.022798</td>\n",
       "      <td>0.428166</td>\n",
       "      <td>0.077931</td>\n",
       "    </tr>\n",
       "    <tr>\n",
       "      <th>A2</th>\n",
       "      <td>0.029588</td>\n",
       "      <td>0.213716</td>\n",
       "      <td>0.139037</td>\n",
       "      <td>0.626946</td>\n",
       "      <td>0.062139</td>\n",
       "    </tr>\n",
       "    <tr>\n",
       "      <th>A3</th>\n",
       "      <td>0.009357</td>\n",
       "      <td>0.317848</td>\n",
       "      <td>0.109331</td>\n",
       "      <td>0.650743</td>\n",
       "      <td>0.056196</td>\n",
       "    </tr>\n",
       "    <tr>\n",
       "      <th>A4</th>\n",
       "      <td>0.066476</td>\n",
       "      <td>0.204566</td>\n",
       "      <td>0.230584</td>\n",
       "      <td>0.435624</td>\n",
       "      <td>0.112700</td>\n",
       "    </tr>\n",
       "    <tr>\n",
       "      <th>A5</th>\n",
       "      <td>0.122113</td>\n",
       "      <td>0.393034</td>\n",
       "      <td>0.087869</td>\n",
       "      <td>0.537087</td>\n",
       "      <td>0.066708</td>\n",
       "    </tr>\n",
       "    <tr>\n",
       "      <th>C1</th>\n",
       "      <td>0.010416</td>\n",
       "      <td>0.070184</td>\n",
       "      <td>0.545824</td>\n",
       "      <td>0.038878</td>\n",
       "      <td>0.209584</td>\n",
       "    </tr>\n",
       "    <tr>\n",
       "      <th>C2</th>\n",
       "      <td>0.089574</td>\n",
       "      <td>0.033270</td>\n",
       "      <td>0.648731</td>\n",
       "      <td>0.102782</td>\n",
       "      <td>0.115434</td>\n",
       "    </tr>\n",
       "    <tr>\n",
       "      <th>C3</th>\n",
       "      <td>0.030855</td>\n",
       "      <td>0.023907</td>\n",
       "      <td>0.557036</td>\n",
       "      <td>0.111578</td>\n",
       "      <td>0.005183</td>\n",
       "    </tr>\n",
       "    <tr>\n",
       "      <th>C4</th>\n",
       "      <td>0.240410</td>\n",
       "      <td>0.064984</td>\n",
       "      <td>0.633806</td>\n",
       "      <td>0.037498</td>\n",
       "      <td>0.107535</td>\n",
       "    </tr>\n",
       "    <tr>\n",
       "      <th>C5</th>\n",
       "      <td>0.290318</td>\n",
       "      <td>0.176395</td>\n",
       "      <td>0.562467</td>\n",
       "      <td>0.047525</td>\n",
       "      <td>0.036822</td>\n",
       "    </tr>\n",
       "    <tr>\n",
       "      <th>E1</th>\n",
       "      <td>0.042819</td>\n",
       "      <td>0.574835</td>\n",
       "      <td>0.033144</td>\n",
       "      <td>0.104813</td>\n",
       "      <td>0.058795</td>\n",
       "    </tr>\n",
       "    <tr>\n",
       "      <th>E2</th>\n",
       "      <td>0.244743</td>\n",
       "      <td>0.678731</td>\n",
       "      <td>0.102483</td>\n",
       "      <td>0.112517</td>\n",
       "      <td>0.042010</td>\n",
       "    </tr>\n",
       "    <tr>\n",
       "      <th>E3</th>\n",
       "      <td>0.024180</td>\n",
       "      <td>0.536816</td>\n",
       "      <td>0.083010</td>\n",
       "      <td>0.257906</td>\n",
       "      <td>0.280877</td>\n",
       "    </tr>\n",
       "    <tr>\n",
       "      <th>E4</th>\n",
       "      <td>0.115614</td>\n",
       "      <td>0.646833</td>\n",
       "      <td>0.102023</td>\n",
       "      <td>0.306101</td>\n",
       "      <td>0.073422</td>\n",
       "    </tr>\n",
       "    <tr>\n",
       "      <th>E5</th>\n",
       "      <td>0.036145</td>\n",
       "      <td>0.504069</td>\n",
       "      <td>0.312899</td>\n",
       "      <td>0.090354</td>\n",
       "      <td>0.213739</td>\n",
       "    </tr>\n",
       "    <tr>\n",
       "      <th>N1</th>\n",
       "      <td>0.786807</td>\n",
       "      <td>0.078923</td>\n",
       "      <td>0.045997</td>\n",
       "      <td>0.216363</td>\n",
       "      <td>0.084704</td>\n",
       "    </tr>\n",
       "    <tr>\n",
       "      <th>N2</th>\n",
       "      <td>0.754109</td>\n",
       "      <td>0.027301</td>\n",
       "      <td>0.030568</td>\n",
       "      <td>0.193744</td>\n",
       "      <td>0.010304</td>\n",
       "    </tr>\n",
       "    <tr>\n",
       "      <th>N3</th>\n",
       "      <td>0.731721</td>\n",
       "      <td>0.061430</td>\n",
       "      <td>0.067084</td>\n",
       "      <td>0.027712</td>\n",
       "      <td>0.004217</td>\n",
       "    </tr>\n",
       "    <tr>\n",
       "      <th>N4</th>\n",
       "      <td>0.590602</td>\n",
       "      <td>0.345388</td>\n",
       "      <td>0.178902</td>\n",
       "      <td>0.005886</td>\n",
       "      <td>0.075225</td>\n",
       "    </tr>\n",
       "    <tr>\n",
       "      <th>N5</th>\n",
       "      <td>0.537858</td>\n",
       "      <td>0.161291</td>\n",
       "      <td>0.037309</td>\n",
       "      <td>0.100931</td>\n",
       "      <td>0.149769</td>\n",
       "    </tr>\n",
       "    <tr>\n",
       "      <th>O1</th>\n",
       "      <td>0.002224</td>\n",
       "      <td>0.213005</td>\n",
       "      <td>0.115080</td>\n",
       "      <td>0.061550</td>\n",
       "      <td>0.504907</td>\n",
       "    </tr>\n",
       "    <tr>\n",
       "      <th>O2</th>\n",
       "      <td>0.175788</td>\n",
       "      <td>0.004560</td>\n",
       "      <td>0.099729</td>\n",
       "      <td>0.081809</td>\n",
       "      <td>0.468925</td>\n",
       "    </tr>\n",
       "    <tr>\n",
       "      <th>O3</th>\n",
       "      <td>0.026736</td>\n",
       "      <td>0.310956</td>\n",
       "      <td>0.076873</td>\n",
       "      <td>0.126889</td>\n",
       "      <td>0.596007</td>\n",
       "    </tr>\n",
       "    <tr>\n",
       "      <th>O4</th>\n",
       "      <td>0.220582</td>\n",
       "      <td>0.191196</td>\n",
       "      <td>0.021906</td>\n",
       "      <td>0.155475</td>\n",
       "      <td>0.369012</td>\n",
       "    </tr>\n",
       "    <tr>\n",
       "      <th>O5</th>\n",
       "      <td>0.085401</td>\n",
       "      <td>0.005347</td>\n",
       "      <td>0.062730</td>\n",
       "      <td>0.010384</td>\n",
       "      <td>0.533778</td>\n",
       "    </tr>\n",
       "  </tbody>\n",
       "</table>\n",
       "</div>"
      ],
      "text/plain": [
       "           0         1         2         3         4\n",
       "A1  0.111126  0.040465  0.022798  0.428166  0.077931\n",
       "A2  0.029588  0.213716  0.139037  0.626946  0.062139\n",
       "A3  0.009357  0.317848  0.109331  0.650743  0.056196\n",
       "A4  0.066476  0.204566  0.230584  0.435624  0.112700\n",
       "A5  0.122113  0.393034  0.087869  0.537087  0.066708\n",
       "C1  0.010416  0.070184  0.545824  0.038878  0.209584\n",
       "C2  0.089574  0.033270  0.648731  0.102782  0.115434\n",
       "C3  0.030855  0.023907  0.557036  0.111578  0.005183\n",
       "C4  0.240410  0.064984  0.633806  0.037498  0.107535\n",
       "C5  0.290318  0.176395  0.562467  0.047525  0.036822\n",
       "E1  0.042819  0.574835  0.033144  0.104813  0.058795\n",
       "E2  0.244743  0.678731  0.102483  0.112517  0.042010\n",
       "E3  0.024180  0.536816  0.083010  0.257906  0.280877\n",
       "E4  0.115614  0.646833  0.102023  0.306101  0.073422\n",
       "E5  0.036145  0.504069  0.312899  0.090354  0.213739\n",
       "N1  0.786807  0.078923  0.045997  0.216363  0.084704\n",
       "N2  0.754109  0.027301  0.030568  0.193744  0.010304\n",
       "N3  0.731721  0.061430  0.067084  0.027712  0.004217\n",
       "N4  0.590602  0.345388  0.178902  0.005886  0.075225\n",
       "N5  0.537858  0.161291  0.037309  0.100931  0.149769\n",
       "O1  0.002224  0.213005  0.115080  0.061550  0.504907\n",
       "O2  0.175788  0.004560  0.099729  0.081809  0.468925\n",
       "O3  0.026736  0.310956  0.076873  0.126889  0.596007\n",
       "O4  0.220582  0.191196  0.021906  0.155475  0.369012\n",
       "O5  0.085401  0.005347  0.062730  0.010384  0.533778"
      ]
     },
     "execution_count": 186,
     "metadata": {},
     "output_type": "execute_result"
    }
   ],
   "source": [
    "bfi_mod = pd.DataFrame(np.abs(fa_5.loadings_), index = bfi.columns)\n",
    "bfi_mod\n"
   ]
  },
  {
   "cell_type": "code",
   "execution_count": 187,
   "id": "7596a448",
   "metadata": {},
   "outputs": [
    {
     "data": {
      "text/plain": [
       "Text(142.25, 0.5, 'Диапазон')"
      ]
     },
     "execution_count": 187,
     "metadata": {},
     "output_type": "execute_result"
    },
    {
     "data": {
      "image/png": "[encoded data removed]",
      "text/plain": [
       "<Figure size 1400x1400 with 2 Axes>"
      ]
     },
     "metadata": {},
     "output_type": "display_data"
    }
   ],
   "source": [
    "plt.figure(figsize = (14,14))\n",
    "ax = sns.heatmap(bfi_mod, annot = True, cmap = 'BuPu')\n",
    "\n",
    "ax.yaxis.set_tick_params(labelsize = 15)\n",
    "plt.title('Факторный анализ', fontsize = 'xx-large')\n",
    "\n",
    "plt.ylabel('Диапазон', fontsize = 'xx-large')\n"
   ]
  },
  {
   "cell_type": "code",
   "execution_count": null,
   "id": "f06e9488",
   "metadata": {},
   "outputs": [],
   "source": []
  }
 ],
 "metadata": {
  "kernelspec": {
   "display_name": "Python 3 (ipykernel)",
   "language": "python",
   "name": "python3"
  },
  "language_info": {
   "codemirror_mode": {
    "name": "ipython",
    "version": 3
   },
   "file_extension": ".py",
   "mimetype": "text/x-python",
   "name": "python",
   "nbconvert_exporter": "python",
   "pygments_lexer": "ipython3",
   "version": "3.9.13"
  }
 },
 "nbformat": 4,
 "nbformat_minor": 5
}
