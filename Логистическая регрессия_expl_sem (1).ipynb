{
 "cells": [
  {
   "cell_type": "markdown",
   "id": "ce0445fa",
   "metadata": {},
   "source": [
    "# Логистическая регрессия"
   ]
  },
  {
   "cell_type": "markdown",
   "id": "281852c7",
   "metadata": {},
   "source": [
    "В основе - 2 класса объектов - задачей бинарной классификации (вероятность принадлежности к тому или иному классу).\\\n",
    "Целевая переменная ограничена дискретным набором значений"
   ]
  },
  {
   "cell_type": "code",
   "execution_count": 1,
   "id": "9c2f8943",
   "metadata": {},
   "outputs": [],
   "source": [
    "import pandas as pd\n",
    "import numpy as np\n",
    "import matplotlib.pyplot as plt"
   ]
  },
  {
   "cell_type": "code",
   "execution_count": 2,
   "id": "675d9247",
   "metadata": {},
   "outputs": [],
   "source": [
    "df = pd.read_csv('C:/Users/Inga/Market_test/Логистическая регрессия/tips_extended.csv')"
   ]
  },
  {
   "cell_type": "code",
   "execution_count": 3,
   "id": "494ec456",
   "metadata": {
    "scrolled": true
   },
   "outputs": [
    {
     "data": {
      "text/html": [
       "<div>\n",
       "<style scoped>\n",
       "    .dataframe tbody tr th:only-of-type {\n",
       "        vertical-align: middle;\n",
       "    }\n",
       "\n",
       "    .dataframe tbody tr th {\n",
       "        vertical-align: top;\n",
       "    }\n",
       "\n",
       "    .dataframe thead th {\n",
       "        text-align: right;\n",
       "    }\n",
       "</style>\n",
       "<table border=\"1\" class=\"dataframe\">\n",
       "  <thead>\n",
       "    <tr style=\"text-align: right;\">\n",
       "      <th></th>\n",
       "      <th>Bill</th>\n",
       "      <th>Number_of_People</th>\n",
       "      <th>Arrived_in</th>\n",
       "      <th>Time_of_visit</th>\n",
       "      <th>Tips</th>\n",
       "    </tr>\n",
       "  </thead>\n",
       "  <tbody>\n",
       "    <tr>\n",
       "      <th>0</th>\n",
       "      <td>16</td>\n",
       "      <td>1</td>\n",
       "      <td>bike</td>\n",
       "      <td>morning</td>\n",
       "      <td>0</td>\n",
       "    </tr>\n",
       "    <tr>\n",
       "      <th>1</th>\n",
       "      <td>23</td>\n",
       "      <td>2</td>\n",
       "      <td>bike</td>\n",
       "      <td>morning</td>\n",
       "      <td>0</td>\n",
       "    </tr>\n",
       "  </tbody>\n",
       "</table>\n",
       "</div>"
      ],
      "text/plain": [
       "   Bill  Number_of_People Arrived_in Time_of_visit  Tips\n",
       "0    16                 1       bike       morning     0\n",
       "1    23                 2       bike       morning     0"
      ]
     },
     "execution_count": 3,
     "metadata": {},
     "output_type": "execute_result"
    }
   ],
   "source": [
    "df[:2]"
   ]
  },
  {
   "cell_type": "code",
   "execution_count": 4,
   "id": "cb8413c2",
   "metadata": {},
   "outputs": [
    {
     "name": "stdout",
     "output_type": "stream",
     "text": [
      "<class 'pandas.core.frame.DataFrame'>\n",
      "RangeIndex: 50 entries, 0 to 49\n",
      "Data columns (total 5 columns):\n",
      " #   Column            Non-Null Count  Dtype \n",
      "---  ------            --------------  ----- \n",
      " 0   Bill              50 non-null     int64 \n",
      " 1   Number_of_People  50 non-null     int64 \n",
      " 2   Arrived_in        46 non-null     object\n",
      " 3   Time_of_visit     48 non-null     object\n",
      " 4   Tips              50 non-null     int64 \n",
      "dtypes: int64(3), object(2)\n",
      "memory usage: 2.1+ KB\n"
     ]
    }
   ],
   "source": [
    "df.info()"
   ]
  },
  {
   "cell_type": "code",
   "execution_count": 5,
   "id": "d1781dce",
   "metadata": {},
   "outputs": [
    {
     "data": {
      "text/plain": [
       "0     28\n",
       "5      8\n",
       "8      2\n",
       "10     2\n",
       "20     2\n",
       "4      2\n",
       "9      1\n",
       "2      1\n",
       "3      1\n",
       "6      1\n",
       "7      1\n",
       "15     1\n",
       "Name: Tips, dtype: int64"
      ]
     },
     "execution_count": 5,
     "metadata": {},
     "output_type": "execute_result"
    }
   ],
   "source": [
    "df.Tips.value_counts()"
   ]
  },
  {
   "cell_type": "code",
   "execution_count": 6,
   "id": "3b6563a9",
   "metadata": {},
   "outputs": [
    {
     "data": {
      "text/plain": [
       "bike    24\n",
       "car     22\n",
       "Name: Arrived_in, dtype: int64"
      ]
     },
     "execution_count": 6,
     "metadata": {},
     "output_type": "execute_result"
    }
   ],
   "source": [
    "df.Arrived_in.value_counts()"
   ]
  },
  {
   "cell_type": "code",
   "execution_count": 7,
   "id": "b0e04475",
   "metadata": {},
   "outputs": [
    {
     "data": {
      "text/plain": [
       "1    15\n",
       "2    13\n",
       "3     6\n",
       "5     6\n",
       "4     4\n",
       "6     2\n",
       "7     2\n",
       "0     1\n",
       "8     1\n",
       "Name: Number_of_People, dtype: int64"
      ]
     },
     "execution_count": 7,
     "metadata": {},
     "output_type": "execute_result"
    }
   ],
   "source": [
    "df.Number_of_People.value_counts()"
   ]
  },
  {
   "cell_type": "code",
   "execution_count": 8,
   "id": "eb0048d8",
   "metadata": {},
   "outputs": [
    {
     "data": {
      "text/plain": [
       "27     3\n",
       "17     3\n",
       "16     2\n",
       "10     2\n",
       "7      2\n",
       "22     2\n",
       "19     2\n",
       "90     2\n",
       "8      2\n",
       "83     1\n",
       "67     1\n",
       "86     1\n",
       "36     1\n",
       "165    1\n",
       "55     1\n",
       "100    1\n",
       "135    1\n",
       "278    1\n",
       "94     1\n",
       "93     1\n",
       "112    1\n",
       "120    1\n",
       "53     1\n",
       "48     1\n",
       "11     1\n",
       "129    1\n",
       "23     1\n",
       "25     1\n",
       "35     1\n",
       "0      1\n",
       "37     1\n",
       "41     1\n",
       "45     1\n",
       "12     1\n",
       "15     1\n",
       "52     1\n",
       "56     1\n",
       "13     1\n",
       "150    1\n",
       "Name: Bill, dtype: int64"
      ]
     },
     "execution_count": 8,
     "metadata": {},
     "output_type": "execute_result"
    }
   ],
   "source": [
    "df.Bill.value_counts()"
   ]
  },
  {
   "cell_type": "code",
   "execution_count": 9,
   "id": "796ee223",
   "metadata": {
    "scrolled": true
   },
   "outputs": [
    {
     "data": {
      "text/plain": [
       "morning      17\n",
       "evening      16\n",
       "afternoon    14\n",
       "mor           1\n",
       "Name: Time_of_visit, dtype: int64"
      ]
     },
     "execution_count": 9,
     "metadata": {},
     "output_type": "execute_result"
    }
   ],
   "source": [
    "df.Time_of_visit.value_counts()"
   ]
  },
  {
   "cell_type": "markdown",
   "id": "630a469d",
   "metadata": {},
   "source": [
    "#### Задача\n",
    "__Заменить mor__"
   ]
  },
  {
   "cell_type": "code",
   "execution_count": null,
   "id": "ff3fcdad",
   "metadata": {},
   "outputs": [],
   "source": []
  },
  {
   "cell_type": "code",
   "execution_count": null,
   "id": "31ad0df5",
   "metadata": {},
   "outputs": [],
   "source": []
  },
  {
   "cell_type": "code",
   "execution_count": 12,
   "id": "fc55bc6e",
   "metadata": {
    "scrolled": true
   },
   "outputs": [
    {
     "data": {
      "text/plain": [
       "morning      18\n",
       "evening      16\n",
       "afternoon    14\n",
       "Name: Time_of_visit, dtype: int64"
      ]
     },
     "execution_count": 12,
     "metadata": {},
     "output_type": "execute_result"
    }
   ],
   "source": [
    "df.Time_of_visit.value_counts()"
   ]
  },
  {
   "cell_type": "code",
   "execution_count": 13,
   "id": "6c03aec0",
   "metadata": {},
   "outputs": [],
   "source": [
    "df2 = df.dropna()"
   ]
  },
  {
   "cell_type": "code",
   "execution_count": 14,
   "id": "2307083a",
   "metadata": {},
   "outputs": [
    {
     "name": "stdout",
     "output_type": "stream",
     "text": [
      "<class 'pandas.core.frame.DataFrame'>\n",
      "Int64Index: 44 entries, 0 to 49\n",
      "Data columns (total 5 columns):\n",
      " #   Column            Non-Null Count  Dtype \n",
      "---  ------            --------------  ----- \n",
      " 0   Bill              44 non-null     int64 \n",
      " 1   Number_of_People  44 non-null     int64 \n",
      " 2   Arrived_in        44 non-null     object\n",
      " 3   Time_of_visit     44 non-null     object\n",
      " 4   Tips              44 non-null     int64 \n",
      "dtypes: int64(3), object(2)\n",
      "memory usage: 2.1+ KB\n"
     ]
    }
   ],
   "source": [
    "df2.info()"
   ]
  },
  {
   "cell_type": "code",
   "execution_count": 15,
   "id": "dfa24d49",
   "metadata": {},
   "outputs": [],
   "source": [
    "def get_tips_cat(tips):\n",
    "    if tips > 0:\n",
    "        return '1'\n",
    "    elif tips < 1:\n",
    "        return '0'\n",
    "    else:\n",
    "        return tips\n",
    "   "
   ]
  },
  {
   "cell_type": "code",
   "execution_count": 16,
   "id": "eb2d39ff",
   "metadata": {
    "scrolled": true
   },
   "outputs": [
    {
     "name": "stderr",
     "output_type": "stream",
     "text": [
      "C:\\Users\\Inga\\AppData\\Local\\Temp\\ipykernel_21288\\3335740049.py:1: SettingWithCopyWarning: \n",
      "A value is trying to be set on a copy of a slice from a DataFrame.\n",
      "Try using .loc[row_indexer,col_indexer] = value instead\n",
      "\n",
      "See the caveats in the documentation: https://pandas.pydata.org/pandas-docs/stable/user_guide/indexing.html#returning-a-view-versus-a-copy\n",
      "  df2['Tips_cat'] = df2['Tips'].apply(get_tips_cat)\n"
     ]
    }
   ],
   "source": [
    "df2['Tips_cat'] = df2['Tips'].apply(get_tips_cat)"
   ]
  },
  {
   "cell_type": "code",
   "execution_count": 17,
   "id": "e4b04821",
   "metadata": {
    "scrolled": true
   },
   "outputs": [
    {
     "name": "stdout",
     "output_type": "stream",
     "text": [
      "<class 'pandas.core.frame.DataFrame'>\n",
      "Int64Index: 44 entries, 0 to 49\n",
      "Data columns (total 6 columns):\n",
      " #   Column            Non-Null Count  Dtype \n",
      "---  ------            --------------  ----- \n",
      " 0   Bill              44 non-null     int64 \n",
      " 1   Number_of_People  44 non-null     int64 \n",
      " 2   Arrived_in        44 non-null     object\n",
      " 3   Time_of_visit     44 non-null     object\n",
      " 4   Tips              44 non-null     int64 \n",
      " 5   Tips_cat          44 non-null     object\n",
      "dtypes: int64(3), object(3)\n",
      "memory usage: 2.4+ KB\n"
     ]
    }
   ],
   "source": [
    "df2.info()"
   ]
  },
  {
   "cell_type": "code",
   "execution_count": 18,
   "id": "71242339",
   "metadata": {
    "scrolled": true
   },
   "outputs": [
    {
     "name": "stderr",
     "output_type": "stream",
     "text": [
      "C:\\Users\\Inga\\AppData\\Local\\Temp\\ipykernel_21288\\2237268995.py:1: SettingWithCopyWarning: \n",
      "A value is trying to be set on a copy of a slice from a DataFrame.\n",
      "Try using .loc[row_indexer,col_indexer] = value instead\n",
      "\n",
      "See the caveats in the documentation: https://pandas.pydata.org/pandas-docs/stable/user_guide/indexing.html#returning-a-view-versus-a-copy\n",
      "  df2['Tips_cat'] = df2['Tips_cat'].astype(int)\n"
     ]
    }
   ],
   "source": [
    "df2['Tips_cat'] = df2['Tips_cat'].astype(int)"
   ]
  },
  {
   "cell_type": "code",
   "execution_count": 19,
   "id": "80dd6277",
   "metadata": {},
   "outputs": [
    {
     "name": "stdout",
     "output_type": "stream",
     "text": [
      "<class 'pandas.core.frame.DataFrame'>\n",
      "Int64Index: 44 entries, 0 to 49\n",
      "Data columns (total 6 columns):\n",
      " #   Column            Non-Null Count  Dtype \n",
      "---  ------            --------------  ----- \n",
      " 0   Bill              44 non-null     int64 \n",
      " 1   Number_of_People  44 non-null     int64 \n",
      " 2   Arrived_in        44 non-null     object\n",
      " 3   Time_of_visit     44 non-null     object\n",
      " 4   Tips              44 non-null     int64 \n",
      " 5   Tips_cat          44 non-null     int32 \n",
      "dtypes: int32(1), int64(3), object(2)\n",
      "memory usage: 2.2+ KB\n"
     ]
    }
   ],
   "source": [
    "df2.info()"
   ]
  },
  {
   "cell_type": "code",
   "execution_count": 20,
   "id": "22c6d3b0",
   "metadata": {
    "scrolled": false
   },
   "outputs": [
    {
     "data": {
      "text/html": [
       "<div>\n",
       "<style scoped>\n",
       "    .dataframe tbody tr th:only-of-type {\n",
       "        vertical-align: middle;\n",
       "    }\n",
       "\n",
       "    .dataframe tbody tr th {\n",
       "        vertical-align: top;\n",
       "    }\n",
       "\n",
       "    .dataframe thead th {\n",
       "        text-align: right;\n",
       "    }\n",
       "</style>\n",
       "<table border=\"1\" class=\"dataframe\">\n",
       "  <thead>\n",
       "    <tr style=\"text-align: right;\">\n",
       "      <th></th>\n",
       "      <th>Bill</th>\n",
       "      <th>Number_of_People</th>\n",
       "      <th>Arrived_in</th>\n",
       "      <th>Time_of_visit</th>\n",
       "      <th>Tips</th>\n",
       "      <th>Tips_cat</th>\n",
       "    </tr>\n",
       "  </thead>\n",
       "  <tbody>\n",
       "    <tr>\n",
       "      <th>0</th>\n",
       "      <td>16</td>\n",
       "      <td>1</td>\n",
       "      <td>bike</td>\n",
       "      <td>morning</td>\n",
       "      <td>0</td>\n",
       "      <td>0</td>\n",
       "    </tr>\n",
       "    <tr>\n",
       "      <th>1</th>\n",
       "      <td>23</td>\n",
       "      <td>2</td>\n",
       "      <td>bike</td>\n",
       "      <td>morning</td>\n",
       "      <td>0</td>\n",
       "      <td>0</td>\n",
       "    </tr>\n",
       "  </tbody>\n",
       "</table>\n",
       "</div>"
      ],
      "text/plain": [
       "   Bill  Number_of_People Arrived_in Time_of_visit  Tips  Tips_cat\n",
       "0    16                 1       bike       morning     0         0\n",
       "1    23                 2       bike       morning     0         0"
      ]
     },
     "execution_count": 20,
     "metadata": {},
     "output_type": "execute_result"
    }
   ],
   "source": [
    "df2[:2]"
   ]
  },
  {
   "cell_type": "code",
   "execution_count": 21,
   "id": "7022b6bd",
   "metadata": {},
   "outputs": [
    {
     "data": {
      "text/plain": [
       "0    25\n",
       "1    19\n",
       "Name: Tips_cat, dtype: int64"
      ]
     },
     "execution_count": 21,
     "metadata": {},
     "output_type": "execute_result"
    }
   ],
   "source": [
    "df2['Tips_cat'].value_counts()"
   ]
  },
  {
   "cell_type": "code",
   "execution_count": 34,
   "id": "2fc0b8ec",
   "metadata": {
    "scrolled": true
   },
   "outputs": [
    {
     "data": {
      "image/png": "[encoded data removed]",
      "text/plain": [
       "<Figure size 640x480 with 1 Axes>"
      ]
     },
     "metadata": {},
     "output_type": "display_data"
    }
   ],
   "source": [
    "plt.hist([df2[df2.Arrived_in == i]['Tips'] for i in df2.Arrived_in.unique()],\\\n",
    "        alpha = 0.7, color = ['r', 'b'], label = df2.Arrived_in.unique())\n",
    "plt.xlabel('Tips', fontname = 'Times New Roman', fontsize = 12)\n",
    "plt.ylabel('Share', fontname = 'Times New Roman', fontsize = 12)\n",
    "plt.legend(loc = 'upper right')\n",
    "plt.show()"
   ]
  },
  {
   "cell_type": "code",
   "execution_count": 35,
   "id": "75ba79f9",
   "metadata": {
    "scrolled": true
   },
   "outputs": [
    {
     "data": {
      "text/plain": [
       "(18, 6)"
      ]
     },
     "execution_count": 35,
     "metadata": {},
     "output_type": "execute_result"
    }
   ],
   "source": [
    "df2[(df2['Arrived_in'] == 'bike') & (df2['Tips'] == 0)].shape"
   ]
  },
  {
   "cell_type": "code",
   "execution_count": 36,
   "id": "665491c0",
   "metadata": {},
   "outputs": [
    {
     "data": {
      "text/plain": [
       "(25, 6)"
      ]
     },
     "execution_count": 36,
     "metadata": {},
     "output_type": "execute_result"
    }
   ],
   "source": [
    "df2[(df2.Tips == 0)].shape"
   ]
  },
  {
   "cell_type": "code",
   "execution_count": 37,
   "id": "7352b99d",
   "metadata": {},
   "outputs": [
    {
     "data": {
      "text/plain": [
       "(7, 6)"
      ]
     },
     "execution_count": 37,
     "metadata": {},
     "output_type": "execute_result"
    }
   ],
   "source": [
    "df2[(df2['Arrived_in'] == 'car') & (df2['Tips'] == 0)].shape"
   ]
  },
  {
   "cell_type": "code",
   "execution_count": 38,
   "id": "4e7569eb",
   "metadata": {},
   "outputs": [
    {
     "data": {
      "text/html": [
       "<div>\n",
       "<style scoped>\n",
       "    .dataframe tbody tr th:only-of-type {\n",
       "        vertical-align: middle;\n",
       "    }\n",
       "\n",
       "    .dataframe tbody tr th {\n",
       "        vertical-align: top;\n",
       "    }\n",
       "\n",
       "    .dataframe thead th {\n",
       "        text-align: right;\n",
       "    }\n",
       "</style>\n",
       "<table border=\"1\" class=\"dataframe\">\n",
       "  <thead>\n",
       "    <tr style=\"text-align: right;\">\n",
       "      <th></th>\n",
       "      <th>Bill</th>\n",
       "      <th>Number_of_People</th>\n",
       "      <th>Arrived_in</th>\n",
       "      <th>Time_of_visit</th>\n",
       "      <th>Tips</th>\n",
       "      <th>Tips_cat</th>\n",
       "    </tr>\n",
       "  </thead>\n",
       "  <tbody>\n",
       "    <tr>\n",
       "      <th>33</th>\n",
       "      <td>278</td>\n",
       "      <td>6</td>\n",
       "      <td>bike</td>\n",
       "      <td>evening</td>\n",
       "      <td>20</td>\n",
       "      <td>1</td>\n",
       "    </tr>\n",
       "    <tr>\n",
       "      <th>49</th>\n",
       "      <td>150</td>\n",
       "      <td>8</td>\n",
       "      <td>car</td>\n",
       "      <td>afternoon</td>\n",
       "      <td>20</td>\n",
       "      <td>1</td>\n",
       "    </tr>\n",
       "  </tbody>\n",
       "</table>\n",
       "</div>"
      ],
      "text/plain": [
       "    Bill  Number_of_People Arrived_in Time_of_visit  Tips  Tips_cat\n",
       "33   278                 6       bike       evening    20         1\n",
       "49   150                 8        car     afternoon    20         1"
      ]
     },
     "execution_count": 38,
     "metadata": {},
     "output_type": "execute_result"
    }
   ],
   "source": [
    "df2[(df2['Tips'] == 20)]"
   ]
  },
  {
   "cell_type": "code",
   "execution_count": 40,
   "id": "2d2f5f74",
   "metadata": {},
   "outputs": [],
   "source": [
    "y = df2.Tips_cat.values # чтобы получить не объект из данных, а массив np.array"
   ]
  },
  {
   "cell_type": "code",
   "execution_count": 41,
   "id": "5b4c3572",
   "metadata": {},
   "outputs": [
    {
     "data": {
      "text/plain": [
       "numpy.ndarray"
      ]
     },
     "execution_count": 41,
     "metadata": {},
     "output_type": "execute_result"
    }
   ],
   "source": [
    "type(y)"
   ]
  },
  {
   "cell_type": "code",
   "execution_count": 42,
   "id": "23c72cf8",
   "metadata": {
    "scrolled": true
   },
   "outputs": [
    {
     "data": {
      "text/html": [
       "<div>\n",
       "<style scoped>\n",
       "    .dataframe tbody tr th:only-of-type {\n",
       "        vertical-align: middle;\n",
       "    }\n",
       "\n",
       "    .dataframe tbody tr th {\n",
       "        vertical-align: top;\n",
       "    }\n",
       "\n",
       "    .dataframe thead th {\n",
       "        text-align: right;\n",
       "    }\n",
       "</style>\n",
       "<table border=\"1\" class=\"dataframe\">\n",
       "  <thead>\n",
       "    <tr style=\"text-align: right;\">\n",
       "      <th></th>\n",
       "      <th>Bill</th>\n",
       "      <th>Number_of_People</th>\n",
       "      <th>Arrived_in</th>\n",
       "      <th>Time_of_visit</th>\n",
       "      <th>Tips</th>\n",
       "      <th>Tips_cat</th>\n",
       "    </tr>\n",
       "  </thead>\n",
       "  <tbody>\n",
       "    <tr>\n",
       "      <th>0</th>\n",
       "      <td>16</td>\n",
       "      <td>1</td>\n",
       "      <td>bike</td>\n",
       "      <td>morning</td>\n",
       "      <td>0</td>\n",
       "      <td>0</td>\n",
       "    </tr>\n",
       "  </tbody>\n",
       "</table>\n",
       "</div>"
      ],
      "text/plain": [
       "   Bill  Number_of_People Arrived_in Time_of_visit  Tips  Tips_cat\n",
       "0    16                 1       bike       morning     0         0"
      ]
     },
     "execution_count": 42,
     "metadata": {},
     "output_type": "execute_result"
    }
   ],
   "source": [
    "df2[:1]"
   ]
  },
  {
   "cell_type": "code",
   "execution_count": 52,
   "id": "8c473a91",
   "metadata": {},
   "outputs": [
    {
     "name": "stdout",
     "output_type": "stream",
     "text": [
      "<class 'pandas.core.frame.DataFrame'>\n",
      "Int64Index: 44 entries, 0 to 49\n",
      "Data columns (total 6 columns):\n",
      " #   Column            Non-Null Count  Dtype \n",
      "---  ------            --------------  ----- \n",
      " 0   Bill              44 non-null     int64 \n",
      " 1   Number_of_People  44 non-null     int64 \n",
      " 2   Arrived_in        44 non-null     object\n",
      " 3   Time_of_visit     44 non-null     object\n",
      " 4   Tips              44 non-null     int64 \n",
      " 5   Tips_cat          44 non-null     int32 \n",
      "dtypes: int32(1), int64(3), object(2)\n",
      "memory usage: 3.3+ KB\n"
     ]
    }
   ],
   "source": [
    "df2.info()"
   ]
  },
  {
   "cell_type": "code",
   "execution_count": 53,
   "id": "968fc356",
   "metadata": {
    "scrolled": true
   },
   "outputs": [
    {
     "name": "stderr",
     "output_type": "stream",
     "text": [
      "C:\\Users\\Inga\\AppData\\Local\\Temp\\ipykernel_21288\\3158823065.py:1: SettingWithCopyWarning: \n",
      "A value is trying to be set on a copy of a slice from a DataFrame.\n",
      "Try using .loc[row_indexer,col_indexer] = value instead\n",
      "\n",
      "See the caveats in the documentation: https://pandas.pydata.org/pandas-docs/stable/user_guide/indexing.html#returning-a-view-versus-a-copy\n",
      "  df2['Arrived_in_1'] = df2['Arrived_in'].astype('category')\n",
      "C:\\Users\\Inga\\AppData\\Local\\Temp\\ipykernel_21288\\3158823065.py:2: SettingWithCopyWarning: \n",
      "A value is trying to be set on a copy of a slice from a DataFrame.\n",
      "Try using .loc[row_indexer,col_indexer] = value instead\n",
      "\n",
      "See the caveats in the documentation: https://pandas.pydata.org/pandas-docs/stable/user_guide/indexing.html#returning-a-view-versus-a-copy\n",
      "  df2['Arrived_in_code'] = df2['Arrived_in_1'].cat.codes\n"
     ]
    }
   ],
   "source": [
    "df2['Arrived_in_1'] = df2['Arrived_in'].astype('category')\n",
    "df2['Arrived_in_code'] = df2['Arrived_in_1'].cat.codes"
   ]
  },
  {
   "cell_type": "code",
   "execution_count": 54,
   "id": "bee1a869",
   "metadata": {},
   "outputs": [
    {
     "name": "stderr",
     "output_type": "stream",
     "text": [
      "C:\\Users\\Inga\\AppData\\Local\\Temp\\ipykernel_21288\\2813781073.py:1: SettingWithCopyWarning: \n",
      "A value is trying to be set on a copy of a slice from a DataFrame.\n",
      "Try using .loc[row_indexer,col_indexer] = value instead\n",
      "\n",
      "See the caveats in the documentation: https://pandas.pydata.org/pandas-docs/stable/user_guide/indexing.html#returning-a-view-versus-a-copy\n",
      "  df2['Time_of_visit_1'] = df2['Time_of_visit'].astype('category')\n",
      "C:\\Users\\Inga\\AppData\\Local\\Temp\\ipykernel_21288\\2813781073.py:2: SettingWithCopyWarning: \n",
      "A value is trying to be set on a copy of a slice from a DataFrame.\n",
      "Try using .loc[row_indexer,col_indexer] = value instead\n",
      "\n",
      "See the caveats in the documentation: https://pandas.pydata.org/pandas-docs/stable/user_guide/indexing.html#returning-a-view-versus-a-copy\n",
      "  df2['Time_of_visit_code'] = df2['Time_of_visit_1'].cat.codes\n"
     ]
    }
   ],
   "source": [
    "df2['Time_of_visit_1'] = df2['Time_of_visit'].astype('category')\n",
    "df2['Time_of_visit_code'] = df2['Time_of_visit_1'].cat.codes"
   ]
  },
  {
   "cell_type": "code",
   "execution_count": 55,
   "id": "e4b28466",
   "metadata": {
    "scrolled": false
   },
   "outputs": [
    {
     "name": "stdout",
     "output_type": "stream",
     "text": [
      "<class 'pandas.core.frame.DataFrame'>\n",
      "Int64Index: 44 entries, 0 to 49\n",
      "Data columns (total 10 columns):\n",
      " #   Column              Non-Null Count  Dtype   \n",
      "---  ------              --------------  -----   \n",
      " 0   Bill                44 non-null     int64   \n",
      " 1   Number_of_People    44 non-null     int64   \n",
      " 2   Arrived_in          44 non-null     object  \n",
      " 3   Time_of_visit       44 non-null     object  \n",
      " 4   Tips                44 non-null     int64   \n",
      " 5   Tips_cat            44 non-null     int32   \n",
      " 6   Arrived_in_1        44 non-null     category\n",
      " 7   Arrived_in_code     44 non-null     int8    \n",
      " 8   Time_of_visit_1     44 non-null     category\n",
      " 9   Time_of_visit_code  44 non-null     int8    \n",
      "dtypes: category(2), int32(1), int64(3), int8(2), object(2)\n",
      "memory usage: 3.7+ KB\n"
     ]
    }
   ],
   "source": [
    "df2.info()"
   ]
  },
  {
   "cell_type": "code",
   "execution_count": 56,
   "id": "0834fd09",
   "metadata": {},
   "outputs": [
    {
     "data": {
      "text/plain": [
       "2    16\n",
       "1    15\n",
       "0    13\n",
       "Name: Time_of_visit_code, dtype: int64"
      ]
     },
     "execution_count": 56,
     "metadata": {},
     "output_type": "execute_result"
    }
   ],
   "source": [
    "df2.Time_of_visit_code.value_counts()"
   ]
  },
  {
   "cell_type": "code",
   "execution_count": 71,
   "id": "d7ae9ac5",
   "metadata": {},
   "outputs": [],
   "source": [
    "import sklearn\n",
    "from sklearn import preprocessing\n",
    "from sklearn.linear_model import LogisticRegression\n",
    "from sklearn.model_selection import train_test_split, cross_val_predict\n",
    "\n",
    "from sklearn import metrics\n",
    "from sklearn.metrics import confusion_matrix, plot_confusion_matrix, precision_score, recall_score"
   ]
  },
  {
   "cell_type": "code",
   "execution_count": 73,
   "id": "ac2fcfa8",
   "metadata": {},
   "outputs": [
    {
     "data": {
      "text/html": [
       "<div>\n",
       "<style scoped>\n",
       "    .dataframe tbody tr th:only-of-type {\n",
       "        vertical-align: middle;\n",
       "    }\n",
       "\n",
       "    .dataframe tbody tr th {\n",
       "        vertical-align: top;\n",
       "    }\n",
       "\n",
       "    .dataframe thead th {\n",
       "        text-align: right;\n",
       "    }\n",
       "</style>\n",
       "<table border=\"1\" class=\"dataframe\">\n",
       "  <thead>\n",
       "    <tr style=\"text-align: right;\">\n",
       "      <th></th>\n",
       "      <th>Negative (0)</th>\n",
       "      <th>Positive (1)</th>\n",
       "    </tr>\n",
       "  </thead>\n",
       "  <tbody>\n",
       "    <tr>\n",
       "      <th>Negative (0)</th>\n",
       "      <td>TN</td>\n",
       "      <td>FP</td>\n",
       "    </tr>\n",
       "    <tr>\n",
       "      <th>Positive (1)</th>\n",
       "      <td>FN</td>\n",
       "      <td>TP</td>\n",
       "    </tr>\n",
       "  </tbody>\n",
       "</table>\n",
       "</div>"
      ],
      "text/plain": [
       "             Negative (0) Positive (1)\n",
       "Negative (0)           TN           FP\n",
       "Positive (1)           FN           TP"
      ]
     },
     "execution_count": 73,
     "metadata": {},
     "output_type": "execute_result"
    }
   ],
   "source": [
    "ex = pd.DataFrame(data = [['TN', 'FP'],['FN', 'TP']], columns = ['Negative (0)', 'Positive (1)'], index = ['Negative (0)', 'Positive (1)'])\n",
    "ex"
   ]
  },
  {
   "cell_type": "code",
   "execution_count": 74,
   "id": "ce8159ce",
   "metadata": {},
   "outputs": [],
   "source": [
    "X = df2[['Bill', 'Number_of_People', 'Arrived_in_code', 'Time_of_visit_code']]"
   ]
  },
  {
   "cell_type": "code",
   "execution_count": 75,
   "id": "45d7f4f8",
   "metadata": {},
   "outputs": [],
   "source": [
    "X_train, X_valid, y_train, y_valid = train_test_split(X, y, test_size = 0.2, random_state=10)\n"
   ]
  },
  {
   "cell_type": "code",
   "execution_count": 76,
   "id": "42dfcdf0",
   "metadata": {},
   "outputs": [
    {
     "data": {
      "text/plain": [
       "(35, 4)"
      ]
     },
     "execution_count": 76,
     "metadata": {},
     "output_type": "execute_result"
    }
   ],
   "source": [
    "X_train.shape"
   ]
  },
  {
   "cell_type": "code",
   "execution_count": 77,
   "id": "a372656a",
   "metadata": {},
   "outputs": [
    {
     "data": {
      "text/plain": [
       "(9, 4)"
      ]
     },
     "execution_count": 77,
     "metadata": {},
     "output_type": "execute_result"
    }
   ],
   "source": [
    "X_valid.shape"
   ]
  },
  {
   "cell_type": "markdown",
   "id": "c63619b3",
   "metadata": {},
   "source": [
    "Смысл логистической модели в том, что мы показываем наши тренировочные фичи, а затем тренировочный исход"
   ]
  },
  {
   "cell_type": "markdown",
   "id": "eb8f51c8",
   "metadata": {},
   "source": [
    "Провизуализируем наши тренировочные метки, то, что модель должна будет потом угадать"
   ]
  },
  {
   "cell_type": "code",
   "execution_count": 82,
   "id": "aaa8e8a3",
   "metadata": {},
   "outputs": [],
   "source": [
    "import seaborn as sns\n",
    "sns.set_style('darkgrid')"
   ]
  },
  {
   "cell_type": "code",
   "execution_count": 83,
   "id": "9548810e",
   "metadata": {},
   "outputs": [],
   "source": [
    "from pylab import rcParams\n",
    "rcParams['figure.figsize'] = 8, 6"
   ]
  },
  {
   "cell_type": "code",
   "execution_count": 84,
   "id": "a9c402f9",
   "metadata": {
    "scrolled": false
   },
   "outputs": [
    {
     "data": {
      "text/plain": [
       "<AxesSubplot:xlabel='Tips_cat', ylabel='Bill'>"
      ]
     },
     "execution_count": 84,
     "metadata": {},
     "output_type": "execute_result"
    },
    {
     "data": {
      "image/png": "[encoded data removed]",
      "text/plain": [
       "<Figure size 800x600 with 1 Axes>"
      ]
     },
     "metadata": {},
     "output_type": "display_data"
    }
   ],
   "source": [
    "sns.barplot(x = 'Tips_cat', y = 'Bill', data = df2) # выводит средние значения\n",
    "# но определитель (estimator) можем изменить "
   ]
  },
  {
   "cell_type": "code",
   "execution_count": 85,
   "id": "b9951343",
   "metadata": {},
   "outputs": [
    {
     "name": "stderr",
     "output_type": "stream",
     "text": [
      "C:\\Users\\Inga\\AppData\\Local\\Temp\\ipykernel_21288\\2361857843.py:1: FutureWarning: Dropping of nuisance columns in DataFrame reductions (with 'numeric_only=None') is deprecated; in a future version this will raise TypeError.  Select only valid columns before calling the reduction.\n",
      "  df2[(df2['Bill'] > 0) & (df2['Tips_cat'] == 0)].mean()\n"
     ]
    },
    {
     "data": {
      "text/plain": [
       "Bill                  19.666667\n",
       "Number_of_People       1.708333\n",
       "Tips                   0.000000\n",
       "Tips_cat               0.000000\n",
       "Arrived_in_code        0.291667\n",
       "Time_of_visit_code     1.166667\n",
       "dtype: float64"
      ]
     },
     "execution_count": 85,
     "metadata": {},
     "output_type": "execute_result"
    }
   ],
   "source": [
    "df2[(df2['Bill'] > 0) & (df2['Tips_cat'] == 0)].mean()"
   ]
  },
  {
   "cell_type": "code",
   "execution_count": 86,
   "id": "a0ce6d7d",
   "metadata": {
    "scrolled": false
   },
   "outputs": [
    {
     "data": {
      "text/plain": [
       "<AxesSubplot:xlabel='Tips_cat', ylabel='Bill'>"
      ]
     },
     "execution_count": 86,
     "metadata": {},
     "output_type": "execute_result"
    },
    {
     "data": {
      "image/png": "[encoded data removed]",
      "text/plain": [
       "<Figure size 800x600 with 1 Axes>"
      ]
     },
     "metadata": {},
     "output_type": "display_data"
    }
   ],
   "source": [
    "sns.barplot(x = 'Tips_cat', y = 'Bill', data = df2, estimator = np.median) \n",
    "# np.std...\n"
   ]
  },
  {
   "cell_type": "code",
   "execution_count": 87,
   "id": "62431abd",
   "metadata": {
    "scrolled": true
   },
   "outputs": [
    {
     "data": {
      "text/plain": [
       "<AxesSubplot:xlabel='Tips_cat', ylabel='Bill'>"
      ]
     },
     "execution_count": 87,
     "metadata": {},
     "output_type": "execute_result"
    },
    {
     "data": {
      "image/png": "[encoded data removed]",
      "text/plain": [
       "<Figure size 800x600 with 1 Axes>"
      ]
     },
     "metadata": {},
     "output_type": "display_data"
    }
   ],
   "source": [
    "sns.barplot(x = 'Tips_cat', y = 'Bill', data = df2, estimator = np.std) \n"
   ]
  },
  {
   "cell_type": "markdown",
   "id": "9f179812",
   "metadata": {},
   "source": [
    "Визуализируем при помощи countplot из библиотеки seaborn"
   ]
  },
  {
   "cell_type": "markdown",
   "id": "d8141cc0",
   "metadata": {},
   "source": [
    "__estimator в countplot считает количество совпадений__"
   ]
  },
  {
   "cell_type": "code",
   "execution_count": 88,
   "id": "7223f3ad",
   "metadata": {
    "scrolled": true
   },
   "outputs": [
    {
     "data": {
      "text/plain": [
       "<AxesSubplot:xlabel='Tips_cat', ylabel='count'>"
      ]
     },
     "execution_count": 88,
     "metadata": {},
     "output_type": "execute_result"
    },
    {
     "data": {
      "image/png": "[encoded data removed]",
      "text/plain": [
       "<Figure size 800x600 with 1 Axes>"
      ]
     },
     "metadata": {},
     "output_type": "display_data"
    }
   ],
   "source": [
    "sns.countplot(x = 'Tips_cat', data = df2)"
   ]
  },
  {
   "cell_type": "code",
   "execution_count": 89,
   "id": "4e8ff14e",
   "metadata": {},
   "outputs": [
    {
     "data": {
      "text/plain": [
       "(19, 10)"
      ]
     },
     "execution_count": 89,
     "metadata": {},
     "output_type": "execute_result"
    }
   ],
   "source": [
    "df2[df2['Tips_cat'] == 1].shape"
   ]
  },
  {
   "cell_type": "code",
   "execution_count": 90,
   "id": "12dd043a",
   "metadata": {},
   "outputs": [
    {
     "data": {
      "text/plain": [
       "(25, 10)"
      ]
     },
     "execution_count": 90,
     "metadata": {},
     "output_type": "execute_result"
    }
   ],
   "source": [
    "df2[df2['Tips_cat'] == 0].shape"
   ]
  },
  {
   "cell_type": "code",
   "execution_count": 91,
   "id": "8cb60cac",
   "metadata": {},
   "outputs": [
    {
     "data": {
      "text/plain": [
       "<AxesSubplot:xlabel='Time_of_visit', ylabel='Bill'>"
      ]
     },
     "execution_count": 91,
     "metadata": {},
     "output_type": "execute_result"
    },
    {
     "data": {
      "image/png": "[encoded data removed]",
      "text/plain": [
       "<Figure size 800x600 with 1 Axes>"
      ]
     },
     "metadata": {},
     "output_type": "display_data"
    }
   ],
   "source": [
    "sns.boxplot(x = 'Time_of_visit', y = 'Bill', data = df2, hue = 'Tips_cat')"
   ]
  },
  {
   "cell_type": "code",
   "execution_count": 92,
   "id": "69c179bf",
   "metadata": {},
   "outputs": [
    {
     "data": {
      "text/plain": [
       "<AxesSubplot:xlabel='Time_of_visit', ylabel='Tips'>"
      ]
     },
     "execution_count": 92,
     "metadata": {},
     "output_type": "execute_result"
    },
    {
     "data": {
      "image/png": "[encoded data removed]",
      "text/plain": [
       "<Figure size 800x600 with 1 Axes>"
      ]
     },
     "metadata": {},
     "output_type": "display_data"
    }
   ],
   "source": [
    "sns.boxplot(x = 'Time_of_visit', y = 'Tips', data = df2, hue = 'Arrived_in')"
   ]
  },
  {
   "cell_type": "code",
   "execution_count": 93,
   "id": "d12ebd69",
   "metadata": {},
   "outputs": [
    {
     "data": {
      "text/html": [
       "<div>\n",
       "<style scoped>\n",
       "    .dataframe tbody tr th:only-of-type {\n",
       "        vertical-align: middle;\n",
       "    }\n",
       "\n",
       "    .dataframe tbody tr th {\n",
       "        vertical-align: top;\n",
       "    }\n",
       "\n",
       "    .dataframe thead th {\n",
       "        text-align: right;\n",
       "    }\n",
       "</style>\n",
       "<table border=\"1\" class=\"dataframe\">\n",
       "  <thead>\n",
       "    <tr style=\"text-align: right;\">\n",
       "      <th></th>\n",
       "      <th>Bill</th>\n",
       "      <th>Number_of_People</th>\n",
       "      <th>Arrived_in</th>\n",
       "      <th>Time_of_visit</th>\n",
       "      <th>Tips</th>\n",
       "      <th>Tips_cat</th>\n",
       "      <th>Arrived_in_1</th>\n",
       "      <th>Arrived_in_code</th>\n",
       "      <th>Time_of_visit_1</th>\n",
       "      <th>Time_of_visit_code</th>\n",
       "    </tr>\n",
       "  </thead>\n",
       "  <tbody>\n",
       "    <tr>\n",
       "      <th>0</th>\n",
       "      <td>16</td>\n",
       "      <td>1</td>\n",
       "      <td>bike</td>\n",
       "      <td>morning</td>\n",
       "      <td>0</td>\n",
       "      <td>0</td>\n",
       "      <td>bike</td>\n",
       "      <td>0</td>\n",
       "      <td>morning</td>\n",
       "      <td>2</td>\n",
       "    </tr>\n",
       "    <tr>\n",
       "      <th>1</th>\n",
       "      <td>23</td>\n",
       "      <td>2</td>\n",
       "      <td>bike</td>\n",
       "      <td>morning</td>\n",
       "      <td>0</td>\n",
       "      <td>0</td>\n",
       "      <td>bike</td>\n",
       "      <td>0</td>\n",
       "      <td>morning</td>\n",
       "      <td>2</td>\n",
       "    </tr>\n",
       "    <tr>\n",
       "      <th>3</th>\n",
       "      <td>56</td>\n",
       "      <td>2</td>\n",
       "      <td>car</td>\n",
       "      <td>morning</td>\n",
       "      <td>0</td>\n",
       "      <td>0</td>\n",
       "      <td>car</td>\n",
       "      <td>1</td>\n",
       "      <td>morning</td>\n",
       "      <td>2</td>\n",
       "    </tr>\n",
       "    <tr>\n",
       "      <th>4</th>\n",
       "      <td>27</td>\n",
       "      <td>1</td>\n",
       "      <td>bike</td>\n",
       "      <td>morning</td>\n",
       "      <td>0</td>\n",
       "      <td>0</td>\n",
       "      <td>bike</td>\n",
       "      <td>0</td>\n",
       "      <td>morning</td>\n",
       "      <td>2</td>\n",
       "    </tr>\n",
       "    <tr>\n",
       "      <th>9</th>\n",
       "      <td>27</td>\n",
       "      <td>1</td>\n",
       "      <td>bike</td>\n",
       "      <td>morning</td>\n",
       "      <td>0</td>\n",
       "      <td>0</td>\n",
       "      <td>bike</td>\n",
       "      <td>0</td>\n",
       "      <td>morning</td>\n",
       "      <td>2</td>\n",
       "    </tr>\n",
       "    <tr>\n",
       "      <th>10</th>\n",
       "      <td>27</td>\n",
       "      <td>1</td>\n",
       "      <td>bike</td>\n",
       "      <td>morning</td>\n",
       "      <td>0</td>\n",
       "      <td>0</td>\n",
       "      <td>bike</td>\n",
       "      <td>0</td>\n",
       "      <td>morning</td>\n",
       "      <td>2</td>\n",
       "    </tr>\n",
       "    <tr>\n",
       "      <th>12</th>\n",
       "      <td>7</td>\n",
       "      <td>2</td>\n",
       "      <td>car</td>\n",
       "      <td>morning</td>\n",
       "      <td>0</td>\n",
       "      <td>0</td>\n",
       "      <td>car</td>\n",
       "      <td>1</td>\n",
       "      <td>morning</td>\n",
       "      <td>2</td>\n",
       "    </tr>\n",
       "    <tr>\n",
       "      <th>13</th>\n",
       "      <td>19</td>\n",
       "      <td>1</td>\n",
       "      <td>bike</td>\n",
       "      <td>morning</td>\n",
       "      <td>0</td>\n",
       "      <td>0</td>\n",
       "      <td>bike</td>\n",
       "      <td>0</td>\n",
       "      <td>morning</td>\n",
       "      <td>2</td>\n",
       "    </tr>\n",
       "    <tr>\n",
       "      <th>21</th>\n",
       "      <td>0</td>\n",
       "      <td>0</td>\n",
       "      <td>bike</td>\n",
       "      <td>morning</td>\n",
       "      <td>0</td>\n",
       "      <td>0</td>\n",
       "      <td>bike</td>\n",
       "      <td>0</td>\n",
       "      <td>morning</td>\n",
       "      <td>2</td>\n",
       "    </tr>\n",
       "    <tr>\n",
       "      <th>22</th>\n",
       "      <td>8</td>\n",
       "      <td>1</td>\n",
       "      <td>car</td>\n",
       "      <td>morning</td>\n",
       "      <td>0</td>\n",
       "      <td>0</td>\n",
       "      <td>car</td>\n",
       "      <td>1</td>\n",
       "      <td>morning</td>\n",
       "      <td>2</td>\n",
       "    </tr>\n",
       "    <tr>\n",
       "      <th>24</th>\n",
       "      <td>35</td>\n",
       "      <td>4</td>\n",
       "      <td>bike</td>\n",
       "      <td>morning</td>\n",
       "      <td>0</td>\n",
       "      <td>0</td>\n",
       "      <td>bike</td>\n",
       "      <td>0</td>\n",
       "      <td>morning</td>\n",
       "      <td>2</td>\n",
       "    </tr>\n",
       "    <tr>\n",
       "      <th>27</th>\n",
       "      <td>17</td>\n",
       "      <td>2</td>\n",
       "      <td>car</td>\n",
       "      <td>morning</td>\n",
       "      <td>0</td>\n",
       "      <td>0</td>\n",
       "      <td>car</td>\n",
       "      <td>1</td>\n",
       "      <td>morning</td>\n",
       "      <td>2</td>\n",
       "    </tr>\n",
       "    <tr>\n",
       "      <th>32</th>\n",
       "      <td>11</td>\n",
       "      <td>2</td>\n",
       "      <td>car</td>\n",
       "      <td>morning</td>\n",
       "      <td>0</td>\n",
       "      <td>0</td>\n",
       "      <td>car</td>\n",
       "      <td>1</td>\n",
       "      <td>morning</td>\n",
       "      <td>2</td>\n",
       "    </tr>\n",
       "    <tr>\n",
       "      <th>35</th>\n",
       "      <td>67</td>\n",
       "      <td>4</td>\n",
       "      <td>bike</td>\n",
       "      <td>morning</td>\n",
       "      <td>3</td>\n",
       "      <td>1</td>\n",
       "      <td>bike</td>\n",
       "      <td>0</td>\n",
       "      <td>morning</td>\n",
       "      <td>2</td>\n",
       "    </tr>\n",
       "    <tr>\n",
       "      <th>39</th>\n",
       "      <td>165</td>\n",
       "      <td>7</td>\n",
       "      <td>bike</td>\n",
       "      <td>morning</td>\n",
       "      <td>5</td>\n",
       "      <td>1</td>\n",
       "      <td>bike</td>\n",
       "      <td>0</td>\n",
       "      <td>morning</td>\n",
       "      <td>2</td>\n",
       "    </tr>\n",
       "    <tr>\n",
       "      <th>46</th>\n",
       "      <td>112</td>\n",
       "      <td>4</td>\n",
       "      <td>car</td>\n",
       "      <td>morning</td>\n",
       "      <td>8</td>\n",
       "      <td>1</td>\n",
       "      <td>car</td>\n",
       "      <td>1</td>\n",
       "      <td>morning</td>\n",
       "      <td>2</td>\n",
       "    </tr>\n",
       "  </tbody>\n",
       "</table>\n",
       "</div>"
      ],
      "text/plain": [
       "    Bill  Number_of_People Arrived_in Time_of_visit  Tips  Tips_cat  \\\n",
       "0     16                 1       bike       morning     0         0   \n",
       "1     23                 2       bike       morning     0         0   \n",
       "3     56                 2        car       morning     0         0   \n",
       "4     27                 1       bike       morning     0         0   \n",
       "9     27                 1       bike       morning     0         0   \n",
       "10    27                 1       bike       morning     0         0   \n",
       "12     7                 2        car       morning     0         0   \n",
       "13    19                 1       bike       morning     0         0   \n",
       "21     0                 0       bike       morning     0         0   \n",
       "22     8                 1        car       morning     0         0   \n",
       "24    35                 4       bike       morning     0         0   \n",
       "27    17                 2        car       morning     0         0   \n",
       "32    11                 2        car       morning     0         0   \n",
       "35    67                 4       bike       morning     3         1   \n",
       "39   165                 7       bike       morning     5         1   \n",
       "46   112                 4        car       morning     8         1   \n",
       "\n",
       "   Arrived_in_1  Arrived_in_code Time_of_visit_1  Time_of_visit_code  \n",
       "0          bike                0         morning                   2  \n",
       "1          bike                0         morning                   2  \n",
       "3           car                1         morning                   2  \n",
       "4          bike                0         morning                   2  \n",
       "9          bike                0         morning                   2  \n",
       "10         bike                0         morning                   2  \n",
       "12          car                1         morning                   2  \n",
       "13         bike                0         morning                   2  \n",
       "21         bike                0         morning                   2  \n",
       "22          car                1         morning                   2  \n",
       "24         bike                0         morning                   2  \n",
       "27          car                1         morning                   2  \n",
       "32          car                1         morning                   2  \n",
       "35         bike                0         morning                   2  \n",
       "39         bike                0         morning                   2  \n",
       "46          car                1         morning                   2  "
      ]
     },
     "execution_count": 93,
     "metadata": {},
     "output_type": "execute_result"
    }
   ],
   "source": [
    "df2[df2['Time_of_visit'] == 'morning']"
   ]
  },
  {
   "cell_type": "code",
   "execution_count": 94,
   "id": "8ee76c1f",
   "metadata": {},
   "outputs": [
    {
     "data": {
      "text/plain": [
       "<AxesSubplot:xlabel='Time_of_visit', ylabel='Tips'>"
      ]
     },
     "execution_count": 94,
     "metadata": {},
     "output_type": "execute_result"
    },
    {
     "data": {
      "image/png": "[encoded data removed]",
      "text/plain": [
       "<Figure size 800x600 with 1 Axes>"
      ]
     },
     "metadata": {},
     "output_type": "display_data"
    }
   ],
   "source": [
    "sns.violinplot(x = 'Time_of_visit', y = 'Tips', data = df2, hue = 'Arrived_in', split = True) \n",
    "# плотность распределения данных ( распределяется пропорционально плотности данных от средней линии, \n",
    "# простирается выше и ниже наибольшего/наименьшего значения)"
   ]
  },
  {
   "cell_type": "code",
   "execution_count": 95,
   "id": "4a137bf3",
   "metadata": {},
   "outputs": [],
   "source": [
    "df2_train, df2_valid = train_test_split(df2, test_size = 0.2, random_state=10)"
   ]
  },
  {
   "cell_type": "code",
   "execution_count": 96,
   "id": "d256a377",
   "metadata": {},
   "outputs": [
    {
     "data": {
      "text/plain": [
       "(35, 10)"
      ]
     },
     "execution_count": 96,
     "metadata": {},
     "output_type": "execute_result"
    }
   ],
   "source": [
    "df2_train.shape"
   ]
  },
  {
   "cell_type": "code",
   "execution_count": 97,
   "id": "c1305e39",
   "metadata": {
    "scrolled": true
   },
   "outputs": [
    {
     "data": {
      "text/plain": [
       "<AxesSubplot:xlabel='Tips_cat', ylabel='count'>"
      ]
     },
     "execution_count": 97,
     "metadata": {},
     "output_type": "execute_result"
    },
    {
     "data": {
      "image/png": "[encoded data removed]",
      "text/plain": [
       "<Figure size 800x600 with 1 Axes>"
      ]
     },
     "metadata": {},
     "output_type": "display_data"
    }
   ],
   "source": [
    "sns.countplot(x = 'Tips_cat', data = df2_train)"
   ]
  },
  {
   "cell_type": "code",
   "execution_count": 98,
   "id": "ebea99f3",
   "metadata": {},
   "outputs": [
    {
     "data": {
      "text/plain": [
       "[<matplotlib.lines.Line2D at 0x1bb1f9f6820>]"
      ]
     },
     "execution_count": 98,
     "metadata": {},
     "output_type": "execute_result"
    },
    {
     "data": {
      "image/png": "[encoded data removed]",
      "text/plain": [
       "<Figure size 1000x700 with 1 Axes>"
      ]
     },
     "metadata": {},
     "output_type": "display_data"
    }
   ],
   "source": [
    "sns.set(rc = {'figure.figsize': (10,7)})\n",
    "sns.scatterplot(x = 'Time_of_visit', y = 'Number_of_People', hue = 'Tips_cat', data = df2)\n",
    "\n",
    "\n",
    "x = np.linspace(-1, 3, 50)\n",
    "y1 = 2 * x - 1 \n",
    "y2 = -1 * x + 4\n",
    "\n",
    "plt.plot(x, y1, color = 'r')\n",
    "plt.plot(x, y2, color = 'g')\n"
   ]
  },
  {
   "cell_type": "markdown",
   "id": "69258557",
   "metadata": {},
   "source": [
    "##### Видим как распространены наши классы (Tips_cat) относительно двух параметров (Number_of_People и Time_of_visit)"
   ]
  },
  {
   "cell_type": "markdown",
   "id": "78d8cee9",
   "metadata": {},
   "source": [
    "__точки и расходятся, и диффундируют__ (проникают в облако друг друга)"
   ]
  },
  {
   "cell_type": "markdown",
   "id": "93de3078",
   "metadata": {},
   "source": [
    "Идеально линейно-разделимых множеств практически нет (прямых можно провести много и они будут давать разные ошибки. Как их посчитать?)"
   ]
  },
  {
   "cell_type": "markdown",
   "id": "95bf8c64",
   "metadata": {},
   "source": [
    "__Задача__ Подобрать прямую, которая бы минимизировала функцию потерь"
   ]
  },
  {
   "cell_type": "markdown",
   "id": "aed06186",
   "metadata": {},
   "source": [
    "__Если мы выявим ошибку и попробуем сделать ее наименьшей, мы сможем сформулировать задачу классификации__"
   ]
  },
  {
   "cell_type": "markdown",
   "id": "2fa5c65c",
   "metadata": {},
   "source": [
    "Гипотеза, функция потерь (которую надо стремиться минимизировать), подбор параметров"
   ]
  },
  {
   "cell_type": "code",
   "execution_count": 99,
   "id": "d2a8f4bb",
   "metadata": {},
   "outputs": [],
   "source": [
    "### Нормируем данные"
   ]
  },
  {
   "cell_type": "markdown",
   "id": "172d40de",
   "metadata": {},
   "source": [
    "$$\n",
    "norm_X = \\frac{(X - X_{mean})}{X_{std}}\n",
    "$$"
   ]
  },
  {
   "cell_type": "code",
   "execution_count": 100,
   "id": "3d141f99",
   "metadata": {},
   "outputs": [],
   "source": [
    "from sklearn.preprocessing import StandardScaler"
   ]
  },
  {
   "cell_type": "code",
   "execution_count": 101,
   "id": "1e2c1a30",
   "metadata": {},
   "outputs": [],
   "source": [
    "z_score_scaler = StandardScaler() # Применяется только на обучающих данных\n",
    "\n",
    "z_score_scaler.fit(X_train)\n",
    "\n",
    "X_train_scaled = z_score_scaler.transform(X_train)\n",
    "X_valid_scaled = z_score_scaler.transform(X_valid)"
   ]
  },
  {
   "cell_type": "code",
   "execution_count": 102,
   "id": "fbbd9136",
   "metadata": {
    "scrolled": false
   },
   "outputs": [
    {
     "data": {
      "text/plain": [
       "array([[-0.19634358,  0.93884688,  1.02899151, -1.51333761],\n",
       "       [ 0.44057584,  0.93884688, -0.97182532, -0.22146404]])"
      ]
     },
     "execution_count": 102,
     "metadata": {},
     "output_type": "execute_result"
    }
   ],
   "source": [
    "X_train_scaled[:2]"
   ]
  },
  {
   "cell_type": "markdown",
   "id": "1510f8f1",
   "metadata": {},
   "source": [
    "__Создаем Logistic Regression Model__"
   ]
  },
  {
   "cell_type": "code",
   "execution_count": 103,
   "id": "208fe0e6",
   "metadata": {},
   "outputs": [],
   "source": [
    "Log_reg_model = LogisticRegression()"
   ]
  },
  {
   "cell_type": "code",
   "execution_count": 104,
   "id": "a15cf66d",
   "metadata": {},
   "outputs": [
    {
     "data": {
      "text/plain": [
       "LogisticRegression()"
      ]
     },
     "execution_count": 104,
     "metadata": {},
     "output_type": "execute_result"
    }
   ],
   "source": [
    "Log_reg_model.fit(X_train_scaled, y_train) #fit model"
   ]
  },
  {
   "cell_type": "code",
   "execution_count": 105,
   "id": "de46d591",
   "metadata": {},
   "outputs": [],
   "source": [
    "y_pred = Log_reg_model.predict(X_valid_scaled)\n",
    "y_pred_probs = Log_reg_model.predict_proba(X_valid_scaled)"
   ]
  },
  {
   "cell_type": "code",
   "execution_count": 106,
   "id": "785eb280",
   "metadata": {},
   "outputs": [
    {
     "data": {
      "text/plain": [
       "array([0, 0, 0, 1, 1, 1, 0, 0, 0])"
      ]
     },
     "execution_count": 106,
     "metadata": {},
     "output_type": "execute_result"
    }
   ],
   "source": [
    "y_pred"
   ]
  },
  {
   "cell_type": "code",
   "execution_count": 107,
   "id": "185554ef",
   "metadata": {
    "scrolled": false
   },
   "outputs": [
    {
     "data": {
      "text/plain": [
       "array([[0.51265056, 0.48734944],\n",
       "       [0.93632194, 0.06367806],\n",
       "       [0.90149736, 0.09850264],\n",
       "       [0.22360444, 0.77639556],\n",
       "       [0.49890944, 0.50109056],\n",
       "       [0.37303008, 0.62696992],\n",
       "       [0.78528007, 0.21471993],\n",
       "       [0.89503631, 0.10496369],\n",
       "       [0.88009063, 0.11990937]])"
      ]
     },
     "execution_count": 107,
     "metadata": {},
     "output_type": "execute_result"
    }
   ],
   "source": [
    "y_pred_probs"
   ]
  },
  {
   "cell_type": "markdown",
   "id": "827f17b5",
   "metadata": {},
   "source": [
    "__Коэффициенты__"
   ]
  },
  {
   "cell_type": "code",
   "execution_count": 109,
   "id": "1d1e8cc0",
   "metadata": {},
   "outputs": [
    {
     "name": "stderr",
     "output_type": "stream",
     "text": [
      "C:\\Users\\Inga\\AppData\\Local\\Temp\\ipykernel_21288\\3340873020.py:3: FutureWarning: The frame.append method is deprecated and will be removed from pandas in a future version. Use pandas.concat instead.\n",
      "  coef = coef.append({'Coefs' : Log_reg_model.intercept_[0],\n"
     ]
    }
   ],
   "source": [
    "coef = pd.DataFrame({'Coefs' : Log_reg_model.coef_[0],\n",
    "                    'Names' : ['Bill', 'Number_of_People', 'Arrived_in_code', 'Time_of_visit_code']})\n",
    "coef = coef.append({'Coefs' : Log_reg_model.intercept_[0],\n",
    "                   'Names' : 'intercept'}, ignore_index = True)"
   ]
  },
  {
   "cell_type": "code",
   "execution_count": 110,
   "id": "79f130b8",
   "metadata": {
    "scrolled": false
   },
   "outputs": [
    {
     "data": {
      "text/html": [
       "<div>\n",
       "<style scoped>\n",
       "    .dataframe tbody tr th:only-of-type {\n",
       "        vertical-align: middle;\n",
       "    }\n",
       "\n",
       "    .dataframe tbody tr th {\n",
       "        vertical-align: top;\n",
       "    }\n",
       "\n",
       "    .dataframe thead th {\n",
       "        text-align: right;\n",
       "    }\n",
       "</style>\n",
       "<table border=\"1\" class=\"dataframe\">\n",
       "  <thead>\n",
       "    <tr style=\"text-align: right;\">\n",
       "      <th></th>\n",
       "      <th>Coefs</th>\n",
       "      <th>Names</th>\n",
       "    </tr>\n",
       "  </thead>\n",
       "  <tbody>\n",
       "    <tr>\n",
       "      <th>0</th>\n",
       "      <td>1.789402</td>\n",
       "      <td>Bill</td>\n",
       "    </tr>\n",
       "    <tr>\n",
       "      <th>1</th>\n",
       "      <td>0.882918</td>\n",
       "      <td>Number_of_People</td>\n",
       "    </tr>\n",
       "    <tr>\n",
       "      <th>2</th>\n",
       "      <td>0.697742</td>\n",
       "      <td>Arrived_in_code</td>\n",
       "    </tr>\n",
       "    <tr>\n",
       "      <th>3</th>\n",
       "      <td>-0.431436</td>\n",
       "      <td>Time_of_visit_code</td>\n",
       "    </tr>\n",
       "    <tr>\n",
       "      <th>4</th>\n",
       "      <td>0.310638</td>\n",
       "      <td>intercept</td>\n",
       "    </tr>\n",
       "  </tbody>\n",
       "</table>\n",
       "</div>"
      ],
      "text/plain": [
       "      Coefs               Names\n",
       "0  1.789402                Bill\n",
       "1  0.882918    Number_of_People\n",
       "2  0.697742     Arrived_in_code\n",
       "3 -0.431436  Time_of_visit_code\n",
       "4  0.310638           intercept"
      ]
     },
     "execution_count": 110,
     "metadata": {},
     "output_type": "execute_result"
    }
   ],
   "source": [
    "coef\n",
    "# Log odds"
   ]
  },
  {
   "cell_type": "code",
   "execution_count": 114,
   "id": "094ad4d0",
   "metadata": {
    "scrolled": true
   },
   "outputs": [
    {
     "data": {
      "text/plain": [
       "2    16\n",
       "1    15\n",
       "0    13\n",
       "Name: Time_of_visit_code, dtype: int64"
      ]
     },
     "execution_count": 114,
     "metadata": {},
     "output_type": "execute_result"
    }
   ],
   "source": [
    "df2.Time_of_visit_code.value_counts()"
   ]
  },
  {
   "cell_type": "code",
   "execution_count": 116,
   "id": "45e212d9",
   "metadata": {},
   "outputs": [
    {
     "data": {
      "text/html": [
       "<div>\n",
       "<style scoped>\n",
       "    .dataframe tbody tr th:only-of-type {\n",
       "        vertical-align: middle;\n",
       "    }\n",
       "\n",
       "    .dataframe tbody tr th {\n",
       "        vertical-align: top;\n",
       "    }\n",
       "\n",
       "    .dataframe thead th {\n",
       "        text-align: right;\n",
       "    }\n",
       "</style>\n",
       "<table border=\"1\" class=\"dataframe\">\n",
       "  <thead>\n",
       "    <tr style=\"text-align: right;\">\n",
       "      <th></th>\n",
       "      <th>Coefs</th>\n",
       "      <th>Names</th>\n",
       "      <th>Odds coef</th>\n",
       "    </tr>\n",
       "  </thead>\n",
       "  <tbody>\n",
       "    <tr>\n",
       "      <th>0</th>\n",
       "      <td>1.789402</td>\n",
       "      <td>Bill</td>\n",
       "      <td>5.985874</td>\n",
       "    </tr>\n",
       "    <tr>\n",
       "      <th>1</th>\n",
       "      <td>0.882918</td>\n",
       "      <td>Number_of_People</td>\n",
       "      <td>2.417946</td>\n",
       "    </tr>\n",
       "    <tr>\n",
       "      <th>2</th>\n",
       "      <td>0.697742</td>\n",
       "      <td>Arrived_in_code</td>\n",
       "      <td>2.009211</td>\n",
       "    </tr>\n",
       "    <tr>\n",
       "      <th>3</th>\n",
       "      <td>-0.431436</td>\n",
       "      <td>Time_of_visit_code</td>\n",
       "      <td>0.649576</td>\n",
       "    </tr>\n",
       "    <tr>\n",
       "      <th>4</th>\n",
       "      <td>0.310638</td>\n",
       "      <td>intercept</td>\n",
       "      <td>1.364295</td>\n",
       "    </tr>\n",
       "  </tbody>\n",
       "</table>\n",
       "</div>"
      ],
      "text/plain": [
       "      Coefs               Names  Odds coef\n",
       "0  1.789402                Bill   5.985874\n",
       "1  0.882918    Number_of_People   2.417946\n",
       "2  0.697742     Arrived_in_code   2.009211\n",
       "3 -0.431436  Time_of_visit_code   0.649576\n",
       "4  0.310638           intercept   1.364295"
      ]
     },
     "execution_count": 116,
     "metadata": {},
     "output_type": "execute_result"
    }
   ],
   "source": [
    "coef['Odds coef'] = np.exp(coef['Coefs'])\n",
    "coef\n",
    "# Имеем Log odds (0) coef и Odds (1) coef\n",
    "# Чем выше коэффициент, тем круче логистическая кривая\n",
    "# Предикторы, обладающие большим влиянием имеют более высокие коэффициенты\n",
    "# i.e. a small change in that predictor will have a big change in the outcome\n",
    "\n",
    "# Negative coef: Increase in predictor lead to the decrease of probability of smth\n",
    "\n",
    "# Here almost all of the coefs have a positive relationships with the predictive probability (mornong = 2)\n",
    "# При увеличении счета на 1 стандартное отклонение, логарифм шанса увеличивается, predicted log odds increse by 1.7 (+) \n",
    "\n",
    "# При увеличении счета на 1 стандартное отклонение, ptedicted odds increase in 5.98 times (multiply) (во столько раз выше)\n",
    "\n",
    "# Intercept more positive, more moving to the left"
   ]
  },
  {
   "cell_type": "markdown",
   "id": "ee84e213",
   "metadata": {},
   "source": [
    "__Логистическая функция (сигмоида)__"
   ]
  },
  {
   "cell_type": "markdown",
   "id": "cc5ddc71",
   "metadata": {},
   "source": [
    "$$\n",
    "p = \\frac{1} {1 + {e^-}^y}\n",
    "$$"
   ]
  },
  {
   "cell_type": "markdown",
   "id": "3dfdaf21",
   "metadata": {},
   "source": [
    "$$\n",
    "p = \\frac {1}{1 + {e^{(\\beta_0 + \\beta_1 x)}}}\n",
    "$$"
   ]
  },
  {
   "cell_type": "markdown",
   "id": "95d1f958",
   "metadata": {},
   "source": [
    "__Уравнение логистической регрессии__"
   ]
  },
  {
   "cell_type": "markdown",
   "id": "409449f7",
   "metadata": {},
   "source": [
    "$$\n",
    "y = ln(Odds) = ln(\\frac{p}{1 - p}) = \\beta_0 + \\beta_1 \\cdot x_1 + ... + = \\beta_k \\cdot x_k \n",
    "$$"
   ]
  },
  {
   "cell_type": "markdown",
   "id": "49c5ba74",
   "metadata": {},
   "source": [
    "__Порог дифференциации для predicted probability__ (threshold)"
   ]
  },
  {
   "cell_type": "markdown",
   "id": "4ed09896",
   "metadata": {},
   "source": [
    "Обычно 0.5"
   ]
  },
  {
   "cell_type": "code",
   "execution_count": 117,
   "id": "208766c3",
   "metadata": {},
   "outputs": [],
   "source": [
    "X_7 = df2[['Bill', 'Number_of_People', 'Arrived_in_code', 'Time_of_visit_code']]\n",
    "X_7_scaled = z_score_scaler.transform(X_7)"
   ]
  },
  {
   "cell_type": "code",
   "execution_count": 118,
   "id": "60729ddb",
   "metadata": {},
   "outputs": [],
   "source": [
    "y_pred_prob = Log_reg_model.predict_proba(X_7_scaled)\n",
    "y_pred_prob = y_pred_prob[:,1] # probability for the cat_1"
   ]
  },
  {
   "cell_type": "code",
   "execution_count": 119,
   "id": "79e9ecda",
   "metadata": {},
   "outputs": [],
   "source": [
    "thresh = 0.7 # harder to be classified as class 1"
   ]
  },
  {
   "cell_type": "code",
   "execution_count": 120,
   "id": "58a92d24",
   "metadata": {},
   "outputs": [
    {
     "data": {
      "text/plain": [
       "array([False, False, False, False, False, False, False, False, False,\n",
       "       False, False, False, False, False, False, False,  True, False,\n",
       "       False, False, False, False, False,  True, False, False, False,\n",
       "       False,  True, False,  True, False,  True, False,  True, False,\n",
       "        True,  True,  True,  True,  True,  True,  True,  True])"
      ]
     },
     "execution_count": 120,
     "metadata": {},
     "output_type": "execute_result"
    }
   ],
   "source": [
    "y_pred_prob_thresh = y_pred_prob > thresh\n",
    "y_pred_prob_thresh\n",
    "# True is higher than the threshold"
   ]
  },
  {
   "cell_type": "code",
   "execution_count": 121,
   "id": "3d898393",
   "metadata": {},
   "outputs": [
    {
     "data": {
      "text/plain": [
       "array([0, 0, 0, 0, 0, 0, 0, 0, 0, 0, 0, 0, 0, 0, 0, 0, 1, 0, 0, 0, 0, 0,\n",
       "       0, 1, 0, 0, 0, 0, 1, 0, 1, 0, 1, 0, 1, 0, 1, 1, 1, 1, 1, 1, 1, 1])"
      ]
     },
     "execution_count": 121,
     "metadata": {},
     "output_type": "execute_result"
    }
   ],
   "source": [
    "y_pred_prob_thresh = (y_pred_prob > thresh) * 1\n",
    "y_pred_prob_thresh"
   ]
  },
  {
   "cell_type": "code",
   "execution_count": 136,
   "id": "17e69a57",
   "metadata": {},
   "outputs": [
    {
     "name": "stdout",
     "output_type": "stream",
     "text": [
      "[0 1] [30 14]\n"
     ]
    }
   ],
   "source": [
    "unique, counts = np.unique(y_pred_prob_thresh, return_counts = True)\n",
    "print(unique, counts)"
   ]
  },
  {
   "cell_type": "code",
   "execution_count": 123,
   "id": "ad55dbe4",
   "metadata": {},
   "outputs": [],
   "source": [
    "thresh2 = 0.1"
   ]
  },
  {
   "cell_type": "code",
   "execution_count": 130,
   "id": "3ac0db25",
   "metadata": {
    "scrolled": true
   },
   "outputs": [
    {
     "data": {
      "text/plain": [
       "array([0, 0, 1, 1, 0, 1, 1, 1, 1, 0, 0, 1, 1, 0, 1, 1, 1, 1, 1, 0, 1, 1,\n",
       "       1, 1, 1, 0, 1, 0, 1, 1, 1, 1, 1, 1, 1, 1, 1, 1, 1, 1, 1, 1, 1, 1])"
      ]
     },
     "execution_count": 130,
     "metadata": {},
     "output_type": "execute_result"
    }
   ],
   "source": [
    "y_pred_prob_thresh2 = (y_pred_prob > thresh2) * 1\n",
    "y_pred_prob_thresh2"
   ]
  },
  {
   "cell_type": "code",
   "execution_count": 135,
   "id": "dd25b6bb",
   "metadata": {},
   "outputs": [
    {
     "name": "stdout",
     "output_type": "stream",
     "text": [
      "[0 1] [ 9 35]\n"
     ]
    }
   ],
   "source": [
    "unique, counts = np.unique(y_pred_prob_thresh2, return_counts = True)\n",
    "print(unique, counts)"
   ]
  },
  {
   "cell_type": "markdown",
   "id": "e86ceff9",
   "metadata": {},
   "source": [
    "__Regularization__"
   ]
  },
  {
   "cell_type": "code",
   "execution_count": 140,
   "id": "683e8e17",
   "metadata": {},
   "outputs": [
    {
     "name": "stdout",
     "output_type": "stream",
     "text": [
      "[[ 0.13555978 -0.2419348   0.93868992 -0.49294109]]\n",
      "[-4.70723737]\n"
     ]
    }
   ],
   "source": [
    "Logit = LogisticRegression()\n",
    "Logit.fit(X_train, y_train)\n",
    "\n",
    "print(Logit.coef_)\n",
    "print(Logit.intercept_) \n",
    "#ближе к нулевым значениям"
   ]
  },
  {
   "cell_type": "code",
   "execution_count": 141,
   "id": "5d80f107",
   "metadata": {},
   "outputs": [
    {
     "name": "stdout",
     "output_type": "stream",
     "text": [
      "[[  3.68457519 -33.30200595  89.6784245   -5.14818024]]\n",
      "[-90.6631031]\n"
     ]
    }
   ],
   "source": [
    "Logit2 = LogisticRegression(penalty = 'none')\n",
    "Logit2.fit(X_train, y_train)\n",
    "\n",
    "print(Logit2.coef_)\n",
    "print(Logit2.intercept_)"
   ]
  },
  {
   "cell_type": "code",
   "execution_count": 142,
   "id": "db1c9202",
   "metadata": {},
   "outputs": [
    {
     "name": "stdout",
     "output_type": "stream",
     "text": [
      "[[ 0.13555978 -0.2419348   0.93868992 -0.49294109]]\n",
      "[-4.70723737]\n"
     ]
    }
   ],
   "source": [
    "Logit3 = LogisticRegression(penalty = 'l2')\n",
    "Logit3.fit(X_train, y_train)\n",
    "\n",
    "print(Logit3.coef_)\n",
    "print(Logit3.intercept_)"
   ]
  },
  {
   "cell_type": "markdown",
   "id": "d16ca548",
   "metadata": {},
   "source": [
    "__Метрика качества__"
   ]
  },
  {
   "cell_type": "code",
   "execution_count": 144,
   "id": "b6f7b872",
   "metadata": {},
   "outputs": [],
   "source": [
    "from sklearn.metrics import accuracy_score, f1_score,\\\n",
    "recall_score, confusion_matrix, plot_confusion_matrix, plot_roc_curve"
   ]
  },
  {
   "cell_type": "markdown",
   "id": "986be338",
   "metadata": {},
   "source": [
    "####  accuracy_score - доля правильных ответов алгоритма\n",
    "\n",
    "$$\n",
    "accuracy = \\frac{TP + TN}{TP + TN + FP + FN}\n",
    "$$"
   ]
  },
  {
   "cell_type": "code",
   "execution_count": 146,
   "id": "2641414f",
   "metadata": {},
   "outputs": [
    {
     "name": "stdout",
     "output_type": "stream",
     "text": [
      "Accuracy : 0.8888888888888888\n"
     ]
    }
   ],
   "source": [
    "accuracy_score(y_valid, y_pred)\n",
    "print('Accuracy :', accuracy_score(y_valid, y_pred))"
   ]
  },
  {
   "cell_type": "markdown",
   "id": "d2bac6fe",
   "metadata": {},
   "source": [
    "__F метрика учитывает FP и FN__"
   ]
  },
  {
   "cell_type": "markdown",
   "id": "3f410bd1",
   "metadata": {},
   "source": [
    "$$\n",
    "F1 = 2 \\cdot \\frac{precision \\cdot recall} {precision + recall}\n",
    "$$"
   ]
  },
  {
   "cell_type": "code",
   "execution_count": 147,
   "id": "4a370813",
   "metadata": {
    "scrolled": true
   },
   "outputs": [
    {
     "name": "stdout",
     "output_type": "stream",
     "text": [
      "F1_score:  0.8\n"
     ]
    }
   ],
   "source": [
    "print('F1_score: ', f1_score(y_valid, y_pred))"
   ]
  },
  {
   "cell_type": "markdown",
   "id": "cacfa449",
   "metadata": {},
   "source": [
    "__recall показывает, какую долю объектов положительного класса из всех объектов положительного класса нашел алгоритм__"
   ]
  },
  {
   "cell_type": "markdown",
   "id": "0b639972",
   "metadata": {},
   "source": [
    "$$\n",
    "recall = \\frac{TP}{TP + FN}\n",
    "$$"
   ]
  },
  {
   "cell_type": "code",
   "execution_count": 148,
   "id": "d23e8517",
   "metadata": {},
   "outputs": [
    {
     "name": "stdout",
     "output_type": "stream",
     "text": [
      "Recall:  1.0\n"
     ]
    }
   ],
   "source": [
    "print('Recall: ', recall_score(y_valid, y_pred))"
   ]
  },
  {
   "cell_type": "markdown",
   "id": "3c13c4e2",
   "metadata": {},
   "source": [
    "__Precision - доля объектов, названных классификатором положительными и при этом действительно являющиеся положительными__"
   ]
  },
  {
   "cell_type": "markdown",
   "id": "37b8ec47",
   "metadata": {},
   "source": [
    "$$\n",
    "precision = \\frac{TP}{TP + FP}\n",
    "$$"
   ]
  },
  {
   "cell_type": "code",
   "execution_count": 150,
   "id": "809cf376",
   "metadata": {},
   "outputs": [
    {
     "name": "stdout",
     "output_type": "stream",
     "text": [
      "Precision:  0.6666666666666666\n"
     ]
    }
   ],
   "source": [
    "print('Precision: ', precision_score(y_valid, y_pred))"
   ]
  },
  {
   "cell_type": "markdown",
   "id": "f5588822",
   "metadata": {},
   "source": [
    "### Metrics on train data"
   ]
  },
  {
   "cell_type": "code",
   "execution_count": 151,
   "id": "3dc89915",
   "metadata": {},
   "outputs": [
    {
     "name": "stdout",
     "output_type": "stream",
     "text": [
      "Accuracy : 0.9142857142857143\n",
      "F1_score:  0.9090909090909091\n",
      "Recall:  0.8823529411764706\n",
      "Precision:  0.9375\n"
     ]
    }
   ],
   "source": [
    "print('Accuracy :', accuracy_score(y_train, Log_reg_model.predict(X_train_scaled)))\n",
    "print('F1_score: ', f1_score(y_train, Log_reg_model.predict(X_train_scaled)))\n",
    "print('Recall: ', recall_score(y_train, Log_reg_model.predict(X_train_scaled)))\n",
    "print('Precision: ', precision_score(y_train, Log_reg_model.predict(X_train_scaled)))"
   ]
  },
  {
   "cell_type": "code",
   "execution_count": 152,
   "id": "9078ded2",
   "metadata": {},
   "outputs": [
    {
     "data": {
      "text/plain": [
       "array([[6, 1],\n",
       "       [0, 2]], dtype=int64)"
      ]
     },
     "execution_count": 152,
     "metadata": {},
     "output_type": "execute_result"
    }
   ],
   "source": [
    "confusion_matrix(y_valid, y_pred)"
   ]
  },
  {
   "cell_type": "code",
   "execution_count": 153,
   "id": "95539418",
   "metadata": {},
   "outputs": [
    {
     "name": "stderr",
     "output_type": "stream",
     "text": [
      "C:\\Users\\Inga\\anaconda33\\lib\\site-packages\\sklearn\\utils\\deprecation.py:87: FutureWarning: Function plot_confusion_matrix is deprecated; Function `plot_confusion_matrix` is deprecated in 1.0 and will be removed in 1.2. Use one of the class methods: ConfusionMatrixDisplay.from_predictions or ConfusionMatrixDisplay.from_estimator.\n",
      "  warnings.warn(msg, category=FutureWarning)\n"
     ]
    },
    {
     "data": {
      "text/plain": [
       "<sklearn.metrics._plot.confusion_matrix.ConfusionMatrixDisplay at 0x1bb1fa2cdc0>"
      ]
     },
     "execution_count": 153,
     "metadata": {},
     "output_type": "execute_result"
    },
    {
     "data": {
      "image/png": "[encoded data removed]",
      "text/plain": [
       "<Figure size 1000x700 with 2 Axes>"
      ]
     },
     "metadata": {},
     "output_type": "display_data"
    }
   ],
   "source": [
    "plot_confusion_matrix(Log_reg_model, X_valid_scaled, y_valid)"
   ]
  },
  {
   "cell_type": "markdown",
   "id": "274f04b2",
   "metadata": {},
   "source": [
    "### Roc curve"
   ]
  },
  {
   "cell_type": "markdown",
   "id": "84c08a02",
   "metadata": {},
   "source": [
    "__Взаимосвязь между чувствительностью модели (TPR - true positive rate) и ее специфичностью (FPR - false positive rate)__"
   ]
  },
  {
   "cell_type": "markdown",
   "id": "a45eb23e",
   "metadata": {},
   "source": [
    "$$\n",
    "TPR = \\frac {TP} {TP + FN}\n",
    "$$"
   ]
  },
  {
   "cell_type": "markdown",
   "id": "3712f2de",
   "metadata": {},
   "source": [
    "$$\n",
    "FPR = \\frac {FP} {FP + TN}\n",
    "$$"
   ]
  },
  {
   "cell_type": "markdown",
   "id": "e5e0fb60",
   "metadata": {},
   "source": [
    "Сравнивается как меняется чувствительность по отношению к ложноположительным долям на разных порогах отсечения."
   ]
  },
  {
   "cell_type": "code",
   "execution_count": 177,
   "id": "8c5bda69",
   "metadata": {
    "scrolled": true
   },
   "outputs": [
    {
     "name": "stderr",
     "output_type": "stream",
     "text": [
      "C:\\Users\\Inga\\anaconda33\\lib\\site-packages\\sklearn\\utils\\deprecation.py:87: FutureWarning: Function plot_roc_curve is deprecated; Function :func:`plot_roc_curve` is deprecated in 1.0 and will be removed in 1.2. Use one of the class methods: :meth:`sklearn.metric.RocCurveDisplay.from_predictions` or :meth:`sklearn.metric.RocCurveDisplay.from_estimator`.\n",
      "  warnings.warn(msg, category=FutureWarning)\n",
      "C:\\Users\\Inga\\anaconda33\\lib\\site-packages\\sklearn\\base.py:443: UserWarning: X has feature names, but LogisticRegression was fitted without feature names\n",
      "  warnings.warn(\n"
     ]
    },
    {
     "data": {
      "text/plain": [
       "<sklearn.metrics._plot.roc_curve.RocCurveDisplay at 0x1cecf886250>"
      ]
     },
     "execution_count": 177,
     "metadata": {},
     "output_type": "execute_result"
    },
    {
     "data": {
      "image/png": "[encoded data removed]",
      "text/plain": [
       "<Figure size 1000x700 with 1 Axes>"
      ]
     },
     "metadata": {},
     "output_type": "display_data"
    }
   ],
   "source": [
    "plot_roc_curve(Log_reg_model, X_valid, y_valid)\n",
    "# area under curve"
   ]
  },
  {
   "cell_type": "code",
   "execution_count": 176,
   "id": "dfc6e38f",
   "metadata": {},
   "outputs": [
    {
     "name": "stderr",
     "output_type": "stream",
     "text": [
      "C:\\Users\\Inga\\anaconda33\\lib\\site-packages\\sklearn\\utils\\deprecation.py:87: FutureWarning: Function plot_roc_curve is deprecated; Function :func:`plot_roc_curve` is deprecated in 1.0 and will be removed in 1.2. Use one of the class methods: :meth:`sklearn.metric.RocCurveDisplay.from_predictions` or :meth:`sklearn.metric.RocCurveDisplay.from_estimator`.\n",
      "  warnings.warn(msg, category=FutureWarning)\n",
      "C:\\Users\\Inga\\anaconda33\\lib\\site-packages\\sklearn\\base.py:443: UserWarning: X has feature names, but LogisticRegression was fitted without feature names\n",
      "  warnings.warn(\n"
     ]
    },
    {
     "data": {
      "text/plain": [
       "<sklearn.metrics._plot.roc_curve.RocCurveDisplay at 0x1ced004b9d0>"
      ]
     },
     "execution_count": 176,
     "metadata": {},
     "output_type": "execute_result"
    },
    {
     "data": {
      "image/png": "[encoded data removed]",
      "text/plain": [
       "<Figure size 1000x700 with 1 Axes>"
      ]
     },
     "metadata": {},
     "output_type": "display_data"
    }
   ],
   "source": [
    "plot_roc_curve(Log_reg_model, X_train, y_train)"
   ]
  },
  {
   "cell_type": "markdown",
   "id": "ebe2d44b",
   "metadata": {},
   "source": [
    "__Проверим работу модели на новых данных__"
   ]
  },
  {
   "cell_type": "code",
   "execution_count": 154,
   "id": "4939571e",
   "metadata": {},
   "outputs": [],
   "source": [
    "df_new = pd.read_csv('C:/Users/Inga/Market_test/Логистическая регрессия/tips_extended_new.csv')"
   ]
  },
  {
   "cell_type": "code",
   "execution_count": 155,
   "id": "a2bc0ab6",
   "metadata": {},
   "outputs": [
    {
     "name": "stdout",
     "output_type": "stream",
     "text": [
      "<class 'pandas.core.frame.DataFrame'>\n",
      "RangeIndex: 10 entries, 0 to 9\n",
      "Data columns (total 5 columns):\n",
      " #   Column            Non-Null Count  Dtype \n",
      "---  ------            --------------  ----- \n",
      " 0   Bill              10 non-null     int64 \n",
      " 1   Number_of_People  10 non-null     int64 \n",
      " 2   Arrived_in        10 non-null     object\n",
      " 3   Time_of_visit     10 non-null     object\n",
      " 4   Tips              10 non-null     int64 \n",
      "dtypes: int64(3), object(2)\n",
      "memory usage: 528.0+ bytes\n"
     ]
    }
   ],
   "source": [
    "df_new.info()"
   ]
  },
  {
   "cell_type": "code",
   "execution_count": 156,
   "id": "705d6921",
   "metadata": {},
   "outputs": [],
   "source": [
    "df_new['Arrived_in_1'] = df_new['Arrived_in'].astype('category')\n",
    "df_new['Arrived_in_code'] = df_new['Arrived_in_1'].cat.codes\n",
    "\n",
    "df_new['Time_of_visit_1'] = df_new['Time_of_visit'].astype('category')\n",
    "df_new['Time_of_visit_code'] = df_new['Time_of_visit_1'].cat.codes"
   ]
  },
  {
   "cell_type": "code",
   "execution_count": 157,
   "id": "d8035ed6",
   "metadata": {},
   "outputs": [
    {
     "name": "stdout",
     "output_type": "stream",
     "text": [
      "<class 'pandas.core.frame.DataFrame'>\n",
      "RangeIndex: 10 entries, 0 to 9\n",
      "Data columns (total 9 columns):\n",
      " #   Column              Non-Null Count  Dtype   \n",
      "---  ------              --------------  -----   \n",
      " 0   Bill                10 non-null     int64   \n",
      " 1   Number_of_People    10 non-null     int64   \n",
      " 2   Arrived_in          10 non-null     object  \n",
      " 3   Time_of_visit       10 non-null     object  \n",
      " 4   Tips                10 non-null     int64   \n",
      " 5   Arrived_in_1        10 non-null     category\n",
      " 6   Arrived_in_code     10 non-null     int8    \n",
      " 7   Time_of_visit_1     10 non-null     category\n",
      " 8   Time_of_visit_code  10 non-null     int8    \n",
      "dtypes: category(2), int64(3), int8(2), object(2)\n",
      "memory usage: 824.0+ bytes\n"
     ]
    }
   ],
   "source": [
    "df_new.info()\n"
   ]
  },
  {
   "cell_type": "code",
   "execution_count": 158,
   "id": "f2bdf7ba",
   "metadata": {},
   "outputs": [
    {
     "data": {
      "text/html": [
       "<div>\n",
       "<style scoped>\n",
       "    .dataframe tbody tr th:only-of-type {\n",
       "        vertical-align: middle;\n",
       "    }\n",
       "\n",
       "    .dataframe tbody tr th {\n",
       "        vertical-align: top;\n",
       "    }\n",
       "\n",
       "    .dataframe thead th {\n",
       "        text-align: right;\n",
       "    }\n",
       "</style>\n",
       "<table border=\"1\" class=\"dataframe\">\n",
       "  <thead>\n",
       "    <tr style=\"text-align: right;\">\n",
       "      <th></th>\n",
       "      <th>Bill</th>\n",
       "      <th>Number_of_People</th>\n",
       "      <th>Arrived_in_code</th>\n",
       "      <th>Time_of_visit_code</th>\n",
       "    </tr>\n",
       "  </thead>\n",
       "  <tbody>\n",
       "    <tr>\n",
       "      <th>0</th>\n",
       "      <td>6</td>\n",
       "      <td>1</td>\n",
       "      <td>0</td>\n",
       "      <td>0</td>\n",
       "    </tr>\n",
       "    <tr>\n",
       "      <th>1</th>\n",
       "      <td>25</td>\n",
       "      <td>4</td>\n",
       "      <td>1</td>\n",
       "      <td>1</td>\n",
       "    </tr>\n",
       "  </tbody>\n",
       "</table>\n",
       "</div>"
      ],
      "text/plain": [
       "   Bill  Number_of_People  Arrived_in_code  Time_of_visit_code\n",
       "0     6                 1                0                   0\n",
       "1    25                 4                1                   1"
      ]
     },
     "execution_count": 158,
     "metadata": {},
     "output_type": "execute_result"
    }
   ],
   "source": [
    "X_new = df_new[['Bill', 'Number_of_People', 'Arrived_in_code', 'Time_of_visit_code']]\n",
    "X_new[:2]"
   ]
  },
  {
   "cell_type": "code",
   "execution_count": 159,
   "id": "72fcf05c",
   "metadata": {},
   "outputs": [],
   "source": [
    "X_new_scaled = z_score_scaler.transform(X_new)"
   ]
  },
  {
   "cell_type": "code",
   "execution_count": 160,
   "id": "1ec44408",
   "metadata": {
    "scrolled": true
   },
   "outputs": [],
   "source": [
    "y_pred_new = Log_reg_model.predict(X_new_scaled)"
   ]
  },
  {
   "cell_type": "code",
   "execution_count": 161,
   "id": "857c3776",
   "metadata": {},
   "outputs": [
    {
     "name": "stdout",
     "output_type": "stream",
     "text": [
      "Accuracy : 0.8\n",
      "F1_score:  0.6666666666666666\n",
      "Recall:  0.5\n",
      "Precision:  1.0\n"
     ]
    }
   ],
   "source": [
    "print('Accuracy :', accuracy_score(df_new['Tips'], y_pred_new))\n",
    "print('F1_score: ', f1_score(df_new['Tips'], y_pred_new))\n",
    "print('Recall: ', recall_score(df_new['Tips'], y_pred_new))\n",
    "print('Precision: ', precision_score(df_new['Tips'], y_pred_new))"
   ]
  },
  {
   "cell_type": "code",
   "execution_count": 162,
   "id": "6c3b5e84",
   "metadata": {},
   "outputs": [
    {
     "name": "stderr",
     "output_type": "stream",
     "text": [
      "C:\\Users\\Inga\\anaconda33\\lib\\site-packages\\sklearn\\utils\\deprecation.py:87: FutureWarning: Function plot_confusion_matrix is deprecated; Function `plot_confusion_matrix` is deprecated in 1.0 and will be removed in 1.2. Use one of the class methods: ConfusionMatrixDisplay.from_predictions or ConfusionMatrixDisplay.from_estimator.\n",
      "  warnings.warn(msg, category=FutureWarning)\n"
     ]
    },
    {
     "data": {
      "text/plain": [
       "<sklearn.metrics._plot.confusion_matrix.ConfusionMatrixDisplay at 0x1bb1fcf02e0>"
      ]
     },
     "execution_count": 162,
     "metadata": {},
     "output_type": "execute_result"
    },
    {
     "data": {
      "image/png": "[encoded data removed]",
      "text/plain": [
       "<Figure size 1000x700 with 2 Axes>"
      ]
     },
     "metadata": {},
     "output_type": "display_data"
    }
   ],
   "source": [
    "plot_confusion_matrix(Log_reg_model, X_new_scaled, df_new['Tips']) #confusion matrix"
   ]
  },
  {
   "cell_type": "code",
   "execution_count": null,
   "id": "75dbf4c4",
   "metadata": {},
   "outputs": [],
   "source": []
  }
 ],
 "metadata": {
  "kernelspec": {
   "display_name": "Python 3 (ipykernel)",
   "language": "python",
   "name": "python3"
  },
  "language_info": {
   "codemirror_mode": {
    "name": "ipython",
    "version": 3
   },
   "file_extension": ".py",
   "mimetype": "text/x-python",
   "name": "python",
   "nbconvert_exporter": "python",
   "pygments_lexer": "ipython3",
   "version": "3.9.13"
  }
 },
 "nbformat": 4,
 "nbformat_minor": 5
}
